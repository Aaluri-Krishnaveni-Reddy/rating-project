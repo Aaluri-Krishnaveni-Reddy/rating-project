{
 "cells": [
  {
   "cell_type": "markdown",
   "metadata": {},
   "source": [
    "# Products Rating Prediction Project"
   ]
  },
  {
   "cell_type": "code",
   "execution_count": null,
   "metadata": {},
   "outputs": [],
   "source": []
  },
  {
   "cell_type": "markdown",
   "metadata": {},
   "source": [
    "## Importing important libraries"
   ]
  },
  {
   "cell_type": "code",
   "execution_count": 1,
   "metadata": {},
   "outputs": [],
   "source": [
    "import pandas as pd\n",
    "import numpy as np\n",
    "import matplotlib.pyplot as plt\n",
    "import seaborn as sns\n",
    "from wordcloud import WordCloud\n",
    "import warnings\n",
    "warnings.filterwarnings('ignore')"
   ]
  },
  {
   "cell_type": "code",
   "execution_count": 2,
   "metadata": {},
   "outputs": [],
   "source": [
    "from sklearn.model_selection import train_test_split\n",
    "from sklearn.linear_model import LogisticRegression\n",
    "from sklearn.tree import DecisionTreeClassifier\n",
    "from sklearn.ensemble import RandomForestClassifier\n",
    "from sklearn.svm import SVC\n",
    "from sklearn.ensemble import AdaBoostClassifier\n",
    "from sklearn.ensemble import GradientBoostingClassifier\n",
    "from sklearn.neighbors import KNeighborsClassifier\n",
    "from sklearn.metrics import accuracy_score\n",
    "from sklearn.metrics import confusion_matrix,classification_report\n",
    "from sklearn.model_selection import cross_val_score\n",
    "from sklearn.model_selection import GridSearchCV\n",
    "from sklearn.metrics import roc_auc_score\n",
    "from sklearn.metrics import roc_curve"
   ]
  },
  {
   "cell_type": "markdown",
   "metadata": {},
   "source": [
    "## The Data file "
   ]
  },
  {
   "cell_type": "code",
   "execution_count": 3,
   "metadata": {},
   "outputs": [],
   "source": [
    "df=pd.read_csv('scrape_data.csv')"
   ]
  },
  {
   "cell_type": "code",
   "execution_count": 4,
   "metadata": {},
   "outputs": [
    {
     "data": {
      "text/html": [
       "<div>\n",
       "<style scoped>\n",
       "    .dataframe tbody tr th:only-of-type {\n",
       "        vertical-align: middle;\n",
       "    }\n",
       "\n",
       "    .dataframe tbody tr th {\n",
       "        vertical-align: top;\n",
       "    }\n",
       "\n",
       "    .dataframe thead th {\n",
       "        text-align: right;\n",
       "    }\n",
       "</style>\n",
       "<table border=\"1\" class=\"dataframe\">\n",
       "  <thead>\n",
       "    <tr style=\"text-align: right;\">\n",
       "      <th></th>\n",
       "      <th>Unnamed: 0</th>\n",
       "      <th>rating</th>\n",
       "      <th>review</th>\n",
       "    </tr>\n",
       "  </thead>\n",
       "  <tbody>\n",
       "    <tr>\n",
       "      <th>0</th>\n",
       "      <td>0</td>\n",
       "      <td>3</td>\n",
       "      <td>check the detail description, the CPU speed is...</td>\n",
       "    </tr>\n",
       "    <tr>\n",
       "      <th>1</th>\n",
       "      <td>1</td>\n",
       "      <td>1</td>\n",
       "      <td>The laptop is not working properly. The issues...</td>\n",
       "    </tr>\n",
       "    <tr>\n",
       "      <th>2</th>\n",
       "      <td>2</td>\n",
       "      <td>4</td>\n",
       "      <td>This laptop is indeed stylish, slim and good l...</td>\n",
       "    </tr>\n",
       "    <tr>\n",
       "      <th>3</th>\n",
       "      <td>3</td>\n",
       "      <td>5</td>\n",
       "      <td>After so many research on internet I brought t...</td>\n",
       "    </tr>\n",
       "    <tr>\n",
       "      <th>4</th>\n",
       "      <td>4</td>\n",
       "      <td>3</td>\n",
       "      <td>Over all good performance for basic use for bu...</td>\n",
       "    </tr>\n",
       "    <tr>\n",
       "      <th>...</th>\n",
       "      <td>...</td>\n",
       "      <td>...</td>\n",
       "      <td>...</td>\n",
       "    </tr>\n",
       "    <tr>\n",
       "      <th>23531</th>\n",
       "      <td>1175</td>\n",
       "      <td>3</td>\n",
       "      <td>The tv looks great and have amazing features. ...</td>\n",
       "    </tr>\n",
       "    <tr>\n",
       "      <th>23532</th>\n",
       "      <td>1176</td>\n",
       "      <td>3</td>\n",
       "      <td>The TV reached me in good condition and delive...</td>\n",
       "    </tr>\n",
       "    <tr>\n",
       "      <th>23533</th>\n",
       "      <td>1177</td>\n",
       "      <td>3</td>\n",
       "      <td>honest comment...\\n1) Pictures are dull as com...</td>\n",
       "    </tr>\n",
       "    <tr>\n",
       "      <th>23534</th>\n",
       "      <td>1178</td>\n",
       "      <td>3</td>\n",
       "      <td>this is the best tv i ever had,very good price...</td>\n",
       "    </tr>\n",
       "    <tr>\n",
       "      <th>23535</th>\n",
       "      <td>1179</td>\n",
       "      <td>3</td>\n",
       "      <td>Feature rich on paper but not smart enough as ...</td>\n",
       "    </tr>\n",
       "  </tbody>\n",
       "</table>\n",
       "<p>23536 rows × 3 columns</p>\n",
       "</div>"
      ],
      "text/plain": [
       "       Unnamed: 0  rating                                             review\n",
       "0               0       3  check the detail description, the CPU speed is...\n",
       "1               1       1  The laptop is not working properly. The issues...\n",
       "2               2       4  This laptop is indeed stylish, slim and good l...\n",
       "3               3       5  After so many research on internet I brought t...\n",
       "4               4       3  Over all good performance for basic use for bu...\n",
       "...           ...     ...                                                ...\n",
       "23531        1175       3  The tv looks great and have amazing features. ...\n",
       "23532        1176       3  The TV reached me in good condition and delive...\n",
       "23533        1177       3  honest comment...\\n1) Pictures are dull as com...\n",
       "23534        1178       3  this is the best tv i ever had,very good price...\n",
       "23535        1179       3  Feature rich on paper but not smart enough as ...\n",
       "\n",
       "[23536 rows x 3 columns]"
      ]
     },
     "execution_count": 4,
     "metadata": {},
     "output_type": "execute_result"
    }
   ],
   "source": [
    "df"
   ]
  },
  {
   "cell_type": "code",
   "execution_count": 5,
   "metadata": {},
   "outputs": [],
   "source": [
    "df=df.drop('Unnamed: 0',axis=1)"
   ]
  },
  {
   "cell_type": "code",
   "execution_count": 6,
   "metadata": {},
   "outputs": [
    {
     "data": {
      "text/plain": [
       "5    6264\n",
       "1    4649\n",
       "3    4448\n",
       "2    4097\n",
       "4    4078\n",
       "Name: rating, dtype: int64"
      ]
     },
     "execution_count": 6,
     "metadata": {},
     "output_type": "execute_result"
    }
   ],
   "source": [
    "df['rating'].value_counts()"
   ]
  },
  {
   "cell_type": "code",
   "execution_count": 7,
   "metadata": {},
   "outputs": [
    {
     "data": {
      "text/plain": [
       "rating     0\n",
       "review    38\n",
       "dtype: int64"
      ]
     },
     "execution_count": 7,
     "metadata": {},
     "output_type": "execute_result"
    }
   ],
   "source": [
    "df.isnull().sum()"
   ]
  },
  {
   "cell_type": "code",
   "execution_count": 8,
   "metadata": {},
   "outputs": [],
   "source": [
    "df=df.dropna()"
   ]
  },
  {
   "cell_type": "code",
   "execution_count": 9,
   "metadata": {},
   "outputs": [
    {
     "data": {
      "text/plain": [
       "5    6233\n",
       "1    4647\n",
       "3    4446\n",
       "2    4096\n",
       "4    4076\n",
       "Name: rating, dtype: int64"
      ]
     },
     "execution_count": 9,
     "metadata": {},
     "output_type": "execute_result"
    }
   ],
   "source": [
    "df['rating'].value_counts()"
   ]
  },
  {
   "cell_type": "code",
   "execution_count": 10,
   "metadata": {},
   "outputs": [
    {
     "data": {
      "text/plain": [
       "(23498, 2)"
      ]
     },
     "execution_count": 10,
     "metadata": {},
     "output_type": "execute_result"
    }
   ],
   "source": [
    "df.shape"
   ]
  },
  {
   "cell_type": "code",
   "execution_count": 11,
   "metadata": {},
   "outputs": [
    {
     "data": {
      "text/plain": [
       "0        check the detail description, the cpu speed is...\n",
       "1        the laptop is not working properly. the issues...\n",
       "2        this laptop is indeed stylish, slim and good l...\n",
       "3        after so many research on internet i brought t...\n",
       "4        over all good performance for basic use for bu...\n",
       "                               ...                        \n",
       "23531    the tv looks great and have amazing features. ...\n",
       "23532    the tv reached me in good condition and delive...\n",
       "23533    honest comment...\\n1) pictures are dull as com...\n",
       "23534    this is the best tv i ever had,very good price...\n",
       "23535    feature rich on paper but not smart enough as ...\n",
       "Name: review, Length: 23498, dtype: object"
      ]
     },
     "execution_count": 11,
     "metadata": {},
     "output_type": "execute_result"
    }
   ],
   "source": [
    "df['review']=df['review'].str.lower()\n",
    "df['review']"
   ]
  },
  {
   "cell_type": "code",
   "execution_count": 12,
   "metadata": {},
   "outputs": [
    {
     "data": {
      "text/html": [
       "<div>\n",
       "<style scoped>\n",
       "    .dataframe tbody tr th:only-of-type {\n",
       "        vertical-align: middle;\n",
       "    }\n",
       "\n",
       "    .dataframe tbody tr th {\n",
       "        vertical-align: top;\n",
       "    }\n",
       "\n",
       "    .dataframe thead th {\n",
       "        text-align: right;\n",
       "    }\n",
       "</style>\n",
       "<table border=\"1\" class=\"dataframe\">\n",
       "  <thead>\n",
       "    <tr style=\"text-align: right;\">\n",
       "      <th></th>\n",
       "      <th>rating</th>\n",
       "      <th>review</th>\n",
       "      <th>length</th>\n",
       "    </tr>\n",
       "  </thead>\n",
       "  <tbody>\n",
       "    <tr>\n",
       "      <th>0</th>\n",
       "      <td>3</td>\n",
       "      <td>check the detail description, the cpu speed is...</td>\n",
       "      <td>243</td>\n",
       "    </tr>\n",
       "    <tr>\n",
       "      <th>1</th>\n",
       "      <td>1</td>\n",
       "      <td>the laptop is not working properly. the issues...</td>\n",
       "      <td>307</td>\n",
       "    </tr>\n",
       "    <tr>\n",
       "      <th>2</th>\n",
       "      <td>4</td>\n",
       "      <td>this laptop is indeed stylish, slim and good l...</td>\n",
       "      <td>609</td>\n",
       "    </tr>\n",
       "    <tr>\n",
       "      <th>3</th>\n",
       "      <td>5</td>\n",
       "      <td>after so many research on internet i brought t...</td>\n",
       "      <td>467</td>\n",
       "    </tr>\n",
       "    <tr>\n",
       "      <th>4</th>\n",
       "      <td>3</td>\n",
       "      <td>over all good performance for basic use for bu...</td>\n",
       "      <td>333</td>\n",
       "    </tr>\n",
       "  </tbody>\n",
       "</table>\n",
       "</div>"
      ],
      "text/plain": [
       "   rating                                             review  length\n",
       "0       3  check the detail description, the cpu speed is...     243\n",
       "1       1  the laptop is not working properly. the issues...     307\n",
       "2       4  this laptop is indeed stylish, slim and good l...     609\n",
       "3       5  after so many research on internet i brought t...     467\n",
       "4       3  over all good performance for basic use for bu...     333"
      ]
     },
     "execution_count": 12,
     "metadata": {},
     "output_type": "execute_result"
    }
   ],
   "source": [
    "df['length']=df.review.str.len()\n",
    "df.head()"
   ]
  },
  {
   "cell_type": "code",
   "execution_count": 13,
   "metadata": {},
   "outputs": [
    {
     "name": "stdout",
     "output_type": "stream",
     "text": [
      "<class 'pandas.core.frame.DataFrame'>\n",
      "Int64Index: 23498 entries, 0 to 23535\n",
      "Data columns (total 3 columns):\n",
      " #   Column  Non-Null Count  Dtype \n",
      "---  ------  --------------  ----- \n",
      " 0   rating  23498 non-null  int64 \n",
      " 1   review  23498 non-null  object\n",
      " 2   length  23498 non-null  int64 \n",
      "dtypes: int64(2), object(1)\n",
      "memory usage: 734.3+ KB\n"
     ]
    }
   ],
   "source": [
    "df.info()"
   ]
  },
  {
   "cell_type": "code",
   "execution_count": 14,
   "metadata": {},
   "outputs": [],
   "source": [
    "df['review']=df['review'].str.replace(r'^.+@[^\\.].*\\.[a-z]{2,}$', 'emailaddress')\n",
    "\n",
    "df['review']=df['review'].str.replace(r'^http\\://[a-zA-Z0-9\\-\\.]+\\.[a-zA-Z]{2,3}(/\\S*)?$', 'webaddress')\n",
    "\n",
    "df['review']=df['review'].str.replace(r'£|\\$', 'dollers')\n",
    "\n",
    "df['review']=df['review'].str.replace(r'^\\(?[\\d]{3}\\)?[\\s-]?[\\d]{3}[\\s-]?[\\d]{4}$', 'phonenumber')\n",
    "\n",
    "df['review']=df['review'].str.replace(r'\\d+(\\.\\d+)?', 'numbr')"
   ]
  },
  {
   "cell_type": "code",
   "execution_count": 15,
   "metadata": {},
   "outputs": [],
   "source": [
    "#remove punctuation\n",
    "df['review']=df['review'].str.replace(r'[^\\w\\d\\s]', ' ')\n",
    "\n",
    "#replace whitespace between terms with a single space\n",
    "df['review']=df['review'].str.replace(r'\\s+', ' ')\n",
    "\n",
    "#Remove leading and trailing whitespace\n",
    "df['review']=df['review'].str.replace(r'^\\s+|\\s+?$', '')"
   ]
  },
  {
   "cell_type": "code",
   "execution_count": 16,
   "metadata": {},
   "outputs": [
    {
     "data": {
      "text/html": [
       "<div>\n",
       "<style scoped>\n",
       "    .dataframe tbody tr th:only-of-type {\n",
       "        vertical-align: middle;\n",
       "    }\n",
       "\n",
       "    .dataframe tbody tr th {\n",
       "        vertical-align: top;\n",
       "    }\n",
       "\n",
       "    .dataframe thead th {\n",
       "        text-align: right;\n",
       "    }\n",
       "</style>\n",
       "<table border=\"1\" class=\"dataframe\">\n",
       "  <thead>\n",
       "    <tr style=\"text-align: right;\">\n",
       "      <th></th>\n",
       "      <th>rating</th>\n",
       "      <th>review</th>\n",
       "      <th>length</th>\n",
       "    </tr>\n",
       "  </thead>\n",
       "  <tbody>\n",
       "    <tr>\n",
       "      <th>0</th>\n",
       "      <td>3</td>\n",
       "      <td>check the detail description the cpu speed is ...</td>\n",
       "      <td>243</td>\n",
       "    </tr>\n",
       "    <tr>\n",
       "      <th>1</th>\n",
       "      <td>1</td>\n",
       "      <td>the laptop is not working properly the issues ...</td>\n",
       "      <td>307</td>\n",
       "    </tr>\n",
       "    <tr>\n",
       "      <th>2</th>\n",
       "      <td>4</td>\n",
       "      <td>this laptop is indeed stylish slim and good lo...</td>\n",
       "      <td>609</td>\n",
       "    </tr>\n",
       "    <tr>\n",
       "      <th>3</th>\n",
       "      <td>5</td>\n",
       "      <td>after so many research on internet i brought t...</td>\n",
       "      <td>467</td>\n",
       "    </tr>\n",
       "    <tr>\n",
       "      <th>4</th>\n",
       "      <td>3</td>\n",
       "      <td>over all good performance for basic use for bu...</td>\n",
       "      <td>333</td>\n",
       "    </tr>\n",
       "  </tbody>\n",
       "</table>\n",
       "</div>"
      ],
      "text/plain": [
       "   rating                                             review  length\n",
       "0       3  check the detail description the cpu speed is ...     243\n",
       "1       1  the laptop is not working properly the issues ...     307\n",
       "2       4  this laptop is indeed stylish slim and good lo...     609\n",
       "3       5  after so many research on internet i brought t...     467\n",
       "4       3  over all good performance for basic use for bu...     333"
      ]
     },
     "execution_count": 16,
     "metadata": {},
     "output_type": "execute_result"
    }
   ],
   "source": [
    "df.head()"
   ]
  },
  {
   "cell_type": "code",
   "execution_count": 17,
   "metadata": {},
   "outputs": [],
   "source": [
    "import string\n",
    "import nltk\n",
    "from nltk.corpus import stopwords"
   ]
  },
  {
   "cell_type": "code",
   "execution_count": 18,
   "metadata": {},
   "outputs": [],
   "source": [
    "#removing stopwords\n",
    "stop_words = stopwords.words('english')+['u', 'ur', '4', '2', 'im', 'dont', 'doin', 'ure','numbr','ai','ml','iam','fullaa','ok','lol','rs','mac','vms','os','pls','asus','via']\n",
    "\n",
    "df['review']=df['review'].apply(lambda x: ' '.join(term for term in x.split() if term not in stop_words))"
   ]
  },
  {
   "cell_type": "code",
   "execution_count": 19,
   "metadata": {},
   "outputs": [],
   "source": [
    "# romoving pactuation\n",
    "punct=string.punctuation\n",
    "\n",
    "df['review']=df['review'].apply(lambda x: ' '.join(term for term in x.split() if term not in punct))"
   ]
  },
  {
   "cell_type": "code",
   "execution_count": 20,
   "metadata": {},
   "outputs": [],
   "source": [
    "#checking the length of text after cleaning\n",
    "df['clean_length'] = df.review.str.len()"
   ]
  },
  {
   "cell_type": "code",
   "execution_count": 21,
   "metadata": {},
   "outputs": [
    {
     "name": "stdout",
     "output_type": "stream",
     "text": [
      "original Review length 8879636\n",
      "clean Review length 5812448\n"
     ]
    }
   ],
   "source": [
    "print('original Review length', df.length.sum())\n",
    "print('clean Review length', df.clean_length.sum())"
   ]
  },
  {
   "cell_type": "code",
   "execution_count": 22,
   "metadata": {
    "scrolled": false
   },
   "outputs": [
    {
     "data": {
      "text/html": [
       "<div>\n",
       "<style scoped>\n",
       "    .dataframe tbody tr th:only-of-type {\n",
       "        vertical-align: middle;\n",
       "    }\n",
       "\n",
       "    .dataframe tbody tr th {\n",
       "        vertical-align: top;\n",
       "    }\n",
       "\n",
       "    .dataframe thead th {\n",
       "        text-align: right;\n",
       "    }\n",
       "</style>\n",
       "<table border=\"1\" class=\"dataframe\">\n",
       "  <thead>\n",
       "    <tr style=\"text-align: right;\">\n",
       "      <th></th>\n",
       "      <th>rating</th>\n",
       "      <th>review</th>\n",
       "      <th>length</th>\n",
       "      <th>clean_length</th>\n",
       "    </tr>\n",
       "  </thead>\n",
       "  <tbody>\n",
       "    <tr>\n",
       "      <th>0</th>\n",
       "      <td>3</td>\n",
       "      <td>check detail description cpu speed ghz slow la...</td>\n",
       "      <td>243</td>\n",
       "      <td>125</td>\n",
       "    </tr>\n",
       "    <tr>\n",
       "      <th>1</th>\n",
       "      <td>1</td>\n",
       "      <td>laptop working properly issues following caps ...</td>\n",
       "      <td>307</td>\n",
       "      <td>200</td>\n",
       "    </tr>\n",
       "    <tr>\n",
       "      <th>2</th>\n",
       "      <td>4</td>\n",
       "      <td>laptop indeed stylish slim good looking averag...</td>\n",
       "      <td>609</td>\n",
       "      <td>441</td>\n",
       "    </tr>\n",
       "    <tr>\n",
       "      <th>3</th>\n",
       "      <td>5</td>\n",
       "      <td>many research internet brought laptop finally ...</td>\n",
       "      <td>467</td>\n",
       "      <td>278</td>\n",
       "    </tr>\n",
       "    <tr>\n",
       "      <th>4</th>\n",
       "      <td>3</td>\n",
       "      <td>good performance basic use business online cla...</td>\n",
       "      <td>333</td>\n",
       "      <td>243</td>\n",
       "    </tr>\n",
       "    <tr>\n",
       "      <th>...</th>\n",
       "      <td>...</td>\n",
       "      <td>...</td>\n",
       "      <td>...</td>\n",
       "      <td>...</td>\n",
       "    </tr>\n",
       "    <tr>\n",
       "      <th>23531</th>\n",
       "      <td>3</td>\n",
       "      <td>tv looks great amazing features also get lots ...</td>\n",
       "      <td>311</td>\n",
       "      <td>190</td>\n",
       "    </tr>\n",
       "    <tr>\n",
       "      <th>23532</th>\n",
       "      <td>3</td>\n",
       "      <td>tv reached good condition delivery done well g...</td>\n",
       "      <td>343</td>\n",
       "      <td>205</td>\n",
       "    </tr>\n",
       "    <tr>\n",
       "      <th>23533</th>\n",
       "      <td>3</td>\n",
       "      <td>honest comment pictures dull compared big bran...</td>\n",
       "      <td>352</td>\n",
       "      <td>221</td>\n",
       "    </tr>\n",
       "    <tr>\n",
       "      <th>23534</th>\n",
       "      <td>3</td>\n",
       "      <td>best tv ever good price range detailed hd clea...</td>\n",
       "      <td>130</td>\n",
       "      <td>93</td>\n",
       "    </tr>\n",
       "    <tr>\n",
       "      <th>23535</th>\n",
       "      <td>3</td>\n",
       "      <td>feature rich paper smart enough tv pros patchw...</td>\n",
       "      <td>509</td>\n",
       "      <td>384</td>\n",
       "    </tr>\n",
       "  </tbody>\n",
       "</table>\n",
       "<p>23498 rows × 4 columns</p>\n",
       "</div>"
      ],
      "text/plain": [
       "       rating                                             review  length  \\\n",
       "0           3  check detail description cpu speed ghz slow la...     243   \n",
       "1           1  laptop working properly issues following caps ...     307   \n",
       "2           4  laptop indeed stylish slim good looking averag...     609   \n",
       "3           5  many research internet brought laptop finally ...     467   \n",
       "4           3  good performance basic use business online cla...     333   \n",
       "...       ...                                                ...     ...   \n",
       "23531       3  tv looks great amazing features also get lots ...     311   \n",
       "23532       3  tv reached good condition delivery done well g...     343   \n",
       "23533       3  honest comment pictures dull compared big bran...     352   \n",
       "23534       3  best tv ever good price range detailed hd clea...     130   \n",
       "23535       3  feature rich paper smart enough tv pros patchw...     509   \n",
       "\n",
       "       clean_length  \n",
       "0               125  \n",
       "1               200  \n",
       "2               441  \n",
       "3               278  \n",
       "4               243  \n",
       "...             ...  \n",
       "23531           190  \n",
       "23532           205  \n",
       "23533           221  \n",
       "23534            93  \n",
       "23535           384  \n",
       "\n",
       "[23498 rows x 4 columns]"
      ]
     },
     "execution_count": 22,
     "metadata": {},
     "output_type": "execute_result"
    }
   ],
   "source": [
    "df"
   ]
  },
  {
   "cell_type": "code",
   "execution_count": 23,
   "metadata": {},
   "outputs": [
    {
     "data": {
      "text/plain": [
       "5    6233\n",
       "1    4647\n",
       "3    4446\n",
       "2    4096\n",
       "4    4076\n",
       "Name: rating, dtype: int64"
      ]
     },
     "execution_count": 23,
     "metadata": {},
     "output_type": "execute_result"
    }
   ],
   "source": [
    "#chceking the value_counts of ratings\n",
    "df['rating'].value_counts()"
   ]
  },
  {
   "cell_type": "code",
   "execution_count": 24,
   "metadata": {},
   "outputs": [
    {
     "data": {
      "text/plain": [
       "<AxesSubplot:xlabel='rating', ylabel='count'>"
      ]
     },
     "execution_count": 24,
     "metadata": {},
     "output_type": "execute_result"
    },
    {
     "data": {
      "image/png": "[encoded data removed]",
      "text/plain": [
       "<Figure size 864x432 with 1 Axes>"
      ]
     },
     "metadata": {
      "needs_background": "light"
     },
     "output_type": "display_data"
    }
   ],
   "source": [
    "#ploting countplot\n",
    "plt.figure(figsize=(12,6))\n",
    "sns.countplot(df['rating'])"
   ]
  },
  {
   "cell_type": "markdown",
   "metadata": {},
   "source": [
    "here we clearly observe that 5 rating data is more than all other ratings after 5 we can see 1 rating reviews are more"
   ]
  },
  {
   "cell_type": "code",
   "execution_count": 25,
   "metadata": {},
   "outputs": [
    {
     "data": {
      "text/plain": [
       "<AxesSubplot:xlabel='clean_length', ylabel='Count'>"
      ]
     },
     "execution_count": 25,
     "metadata": {},
     "output_type": "execute_result"
    },
    {
     "data": {
      "image/png": "[encoded data removed]",
      "text/plain": [
       "<Figure size 720x864 with 1 Axes>"
      ]
     },
     "metadata": {
      "needs_background": "light"
     },
     "output_type": "display_data"
    }
   ],
   "source": [
    "plt.figure(figsize=(10,12))\n",
    "sns.histplot(df['clean_length'])"
   ]
  },
  {
   "cell_type": "markdown",
   "metadata": {},
   "source": [
    "we can see the data was right skewed "
   ]
  },
  {
   "cell_type": "code",
   "execution_count": 26,
   "metadata": {
    "scrolled": false
   },
   "outputs": [
    {
     "data": {
      "image/png": "[encoded data removed]",
      "text/plain": [
       "<Figure size 576x432 with 1 Axes>"
      ]
     },
     "metadata": {
      "needs_background": "light"
     },
     "output_type": "display_data"
    },
    {
     "data": {
      "image/png": "[encoded data removed]",
      "text/plain": [
       "<Figure size 576x432 with 1 Axes>"
      ]
     },
     "metadata": {
      "needs_background": "light"
     },
     "output_type": "display_data"
    },
    {
     "data": {
      "image/png": "[encoded data removed]",
      "text/plain": [
       "<Figure size 576x432 with 1 Axes>"
      ]
     },
     "metadata": {
      "needs_background": "light"
     },
     "output_type": "display_data"
    },
    {
     "data": {
      "image/png": "[encoded data removed]",
      "text/plain": [
       "<Figure size 576x432 with 1 Axes>"
      ]
     },
     "metadata": {
      "needs_background": "light"
     },
     "output_type": "display_data"
    },
    {
     "data": {
      "image/png": "[encoded data removed]",
      "text/plain": [
       "<Figure size 576x432 with 1 Axes>"
      ]
     },
     "metadata": {
      "needs_background": "light"
     },
     "output_type": "display_data"
    }
   ],
   "source": [
    "\n",
    "for i in range(1,6):\n",
    "    plt.figure(figsize=(8,6))\n",
    "    \n",
    "    sns.distplot(df['rating']==i)"
   ]
  },
  {
   "cell_type": "code",
   "execution_count": 27,
   "metadata": {},
   "outputs": [
    {
     "data": {
      "text/plain": [
       "<seaborn.axisgrid.FacetGrid at 0x2d3462a2520>"
      ]
     },
     "execution_count": 27,
     "metadata": {},
     "output_type": "execute_result"
    },
    {
     "data": {
      "image/png": "[encoded data removed]",
      "text/plain": [
       "<Figure size 360x360 with 1 Axes>"
      ]
     },
     "metadata": {
      "needs_background": "light"
     },
     "output_type": "display_data"
    }
   ],
   "source": [
    "sns.displot(df['rating'],kind=\"ecdf\")"
   ]
  },
  {
   "cell_type": "code",
   "execution_count": 28,
   "metadata": {},
   "outputs": [
    {
     "data": {
      "text/plain": [
       "<AxesSubplot:xlabel='clean_length', ylabel='Density'>"
      ]
     },
     "execution_count": 28,
     "metadata": {},
     "output_type": "execute_result"
    },
    {
     "data": {
      "image/png": "[encoded data removed]",
      "text/plain": [
       "<Figure size 864x720 with 1 Axes>"
      ]
     },
     "metadata": {
      "needs_background": "light"
     },
     "output_type": "display_data"
    }
   ],
   "source": [
    "plt.figure(figsize=(12,10))\n",
    "sns.distplot(df['length'])\n",
    "sns.distplot(df['clean_length'],color='r')"
   ]
  },
  {
   "cell_type": "markdown",
   "metadata": {},
   "source": [
    "here blue is original length and red is cleaned length of review column, it was giving so much difference after cleaning "
   ]
  },
  {
   "cell_type": "code",
   "execution_count": 29,
   "metadata": {},
   "outputs": [
    {
     "data": {
      "image/png": "[encoded data removed]",
      "text/plain": [
       "<Figure size 720x720 with 2 Axes>"
      ]
     },
     "metadata": {
      "needs_background": "light"
     },
     "output_type": "display_data"
    }
   ],
   "source": [
    "\n",
    "f,ax = plt.subplots(1,2,figsize=(10,10))\n",
    "\n",
    "sns.distplot(df[df['rating']==1]['length'],bins=20,ax=ax[0],label='Rating 1 distribution',color='g')\n",
    "ax[0].set_xlabel('Rating 1 distribution')\n",
    "ax[0].legend()\n",
    "\n",
    "sns.distplot(df[df['rating']==2]['length'],bins=20,ax=ax[1],label='Rating 2 distribution',color='y')\n",
    "ax[1].set_xlabel('Rating 2 distribution')\n",
    "ax[1].legend()\n",
    "\n",
    "plt.show()"
   ]
  },
  {
   "cell_type": "code",
   "execution_count": 30,
   "metadata": {},
   "outputs": [
    {
     "data": {
      "image/png": "[encoded data removed]",
      "text/plain": [
       "<Figure size 720x720 with 2 Axes>"
      ]
     },
     "metadata": {
      "needs_background": "light"
     },
     "output_type": "display_data"
    }
   ],
   "source": [
    "\n",
    "f,ax = plt.subplots(1,2,figsize=(10,10))\n",
    "\n",
    "sns.distplot(df[df['rating']==2]['length'],bins=20,ax=ax[0],label='Rating 2 distribution',color='b')\n",
    "ax[0].set_xlabel('Rating 2 distribution')\n",
    "ax[0].legend()\n",
    "\n",
    "sns.distplot(df[df['rating']==3]['length'],bins=20,ax=ax[1],label='Rating 3 distribution',color='r')\n",
    "ax[1].set_xlabel('Rating 3 distribution')\n",
    "ax[1].legend()\n",
    "\n",
    "plt.show()"
   ]
  },
  {
   "cell_type": "code",
   "execution_count": 31,
   "metadata": {},
   "outputs": [
    {
     "data": {
      "image/png": "[encoded data removed]",
      "text/plain": [
       "<Figure size 720x720 with 2 Axes>"
      ]
     },
     "metadata": {
      "needs_background": "light"
     },
     "output_type": "display_data"
    }
   ],
   "source": [
    "\n",
    "f,ax = plt.subplots(1,2,figsize=(10,10))\n",
    "\n",
    "sns.distplot(df[df['rating']==3]['length'],bins=20,ax=ax[0],label='Rating 3 distribution',color='y')\n",
    "ax[0].set_xlabel('Rating 3 distribution')\n",
    "ax[0].legend()\n",
    "\n",
    "sns.distplot(df[df['rating']==4]['length'],bins=20,ax=ax[1],label='Rating 4 distribution',color='b')\n",
    "ax[1].set_xlabel('Rating 4 distribution')\n",
    "ax[1].legend()\n",
    "\n",
    "plt.show()"
   ]
  },
  {
   "cell_type": "code",
   "execution_count": 32,
   "metadata": {},
   "outputs": [
    {
     "data": {
      "image/png": "[encoded data removed]",
      "text/plain": [
       "<Figure size 720x720 with 2 Axes>"
      ]
     },
     "metadata": {
      "needs_background": "light"
     },
     "output_type": "display_data"
    }
   ],
   "source": [
    "\n",
    "f,ax = plt.subplots(1,2,figsize=(10,10))\n",
    "\n",
    "sns.distplot(df[df['rating']==4]['length'],bins=20,ax=ax[0],label='Rating 4 distribution',color='r')\n",
    "ax[0].set_xlabel('Rating 4 distribution')\n",
    "ax[0].legend()\n",
    "\n",
    "sns.distplot(df[df['rating']==5]['length'],bins=20,ax=ax[1],label='Rating 5 distribution',color='y')\n",
    "ax[1].set_xlabel('Rating 5 distribution')\n",
    "ax[1].legend()\n",
    "\n",
    "plt.show()"
   ]
  },
  {
   "cell_type": "code",
   "execution_count": 33,
   "metadata": {},
   "outputs": [
    {
     "data": {
      "image/png": "[encoded data removed]",
      "text/plain": [
       "<Figure size 576x576 with 1 Axes>"
      ]
     },
     "metadata": {
      "needs_background": "light"
     },
     "output_type": "display_data"
    }
   ],
   "source": [
    "wordcloud = WordCloud(width = 800, height = 800, background_color = 'black', stopwords = stop_words, max_words = 1000\n",
    "                      , min_font_size = 20).generate(str(df['review']))\n",
    "#plot the word cloud\n",
    "fig = plt.figure(figsize = (8,8), facecolor = None)\n",
    "plt.imshow(wordcloud)\n",
    "plt.axis('off')\n",
    "plt.show()"
   ]
  },
  {
   "cell_type": "code",
   "execution_count": 34,
   "metadata": {},
   "outputs": [
    {
     "data": {
      "text/html": [
       "<div>\n",
       "<style scoped>\n",
       "    .dataframe tbody tr th:only-of-type {\n",
       "        vertical-align: middle;\n",
       "    }\n",
       "\n",
       "    .dataframe tbody tr th {\n",
       "        vertical-align: top;\n",
       "    }\n",
       "\n",
       "    .dataframe thead th {\n",
       "        text-align: right;\n",
       "    }\n",
       "</style>\n",
       "<table border=\"1\" class=\"dataframe\">\n",
       "  <thead>\n",
       "    <tr style=\"text-align: right;\">\n",
       "      <th></th>\n",
       "      <th>rating</th>\n",
       "      <th>review</th>\n",
       "      <th>length</th>\n",
       "      <th>clean_length</th>\n",
       "    </tr>\n",
       "  </thead>\n",
       "  <tbody>\n",
       "    <tr>\n",
       "      <th>0</th>\n",
       "      <td>3</td>\n",
       "      <td>check detail description cpu speed ghz slow la...</td>\n",
       "      <td>243</td>\n",
       "      <td>125</td>\n",
       "    </tr>\n",
       "    <tr>\n",
       "      <th>1</th>\n",
       "      <td>1</td>\n",
       "      <td>laptop working properly issues following caps ...</td>\n",
       "      <td>307</td>\n",
       "      <td>200</td>\n",
       "    </tr>\n",
       "    <tr>\n",
       "      <th>2</th>\n",
       "      <td>4</td>\n",
       "      <td>laptop indeed stylish slim good looking averag...</td>\n",
       "      <td>609</td>\n",
       "      <td>441</td>\n",
       "    </tr>\n",
       "    <tr>\n",
       "      <th>3</th>\n",
       "      <td>5</td>\n",
       "      <td>many research internet brought laptop finally ...</td>\n",
       "      <td>467</td>\n",
       "      <td>278</td>\n",
       "    </tr>\n",
       "    <tr>\n",
       "      <th>4</th>\n",
       "      <td>3</td>\n",
       "      <td>good performance basic use business online cla...</td>\n",
       "      <td>333</td>\n",
       "      <td>243</td>\n",
       "    </tr>\n",
       "    <tr>\n",
       "      <th>...</th>\n",
       "      <td>...</td>\n",
       "      <td>...</td>\n",
       "      <td>...</td>\n",
       "      <td>...</td>\n",
       "    </tr>\n",
       "    <tr>\n",
       "      <th>23531</th>\n",
       "      <td>3</td>\n",
       "      <td>tv looks great amazing features also get lots ...</td>\n",
       "      <td>311</td>\n",
       "      <td>190</td>\n",
       "    </tr>\n",
       "    <tr>\n",
       "      <th>23532</th>\n",
       "      <td>3</td>\n",
       "      <td>tv reached good condition delivery done well g...</td>\n",
       "      <td>343</td>\n",
       "      <td>205</td>\n",
       "    </tr>\n",
       "    <tr>\n",
       "      <th>23533</th>\n",
       "      <td>3</td>\n",
       "      <td>honest comment pictures dull compared big bran...</td>\n",
       "      <td>352</td>\n",
       "      <td>221</td>\n",
       "    </tr>\n",
       "    <tr>\n",
       "      <th>23534</th>\n",
       "      <td>3</td>\n",
       "      <td>best tv ever good price range detailed hd clea...</td>\n",
       "      <td>130</td>\n",
       "      <td>93</td>\n",
       "    </tr>\n",
       "    <tr>\n",
       "      <th>23535</th>\n",
       "      <td>3</td>\n",
       "      <td>feature rich paper smart enough tv pros patchw...</td>\n",
       "      <td>509</td>\n",
       "      <td>384</td>\n",
       "    </tr>\n",
       "  </tbody>\n",
       "</table>\n",
       "<p>23498 rows × 4 columns</p>\n",
       "</div>"
      ],
      "text/plain": [
       "       rating                                             review  length  \\\n",
       "0           3  check detail description cpu speed ghz slow la...     243   \n",
       "1           1  laptop working properly issues following caps ...     307   \n",
       "2           4  laptop indeed stylish slim good looking averag...     609   \n",
       "3           5  many research internet brought laptop finally ...     467   \n",
       "4           3  good performance basic use business online cla...     333   \n",
       "...       ...                                                ...     ...   \n",
       "23531       3  tv looks great amazing features also get lots ...     311   \n",
       "23532       3  tv reached good condition delivery done well g...     343   \n",
       "23533       3  honest comment pictures dull compared big bran...     352   \n",
       "23534       3  best tv ever good price range detailed hd clea...     130   \n",
       "23535       3  feature rich paper smart enough tv pros patchw...     509   \n",
       "\n",
       "       clean_length  \n",
       "0               125  \n",
       "1               200  \n",
       "2               441  \n",
       "3               278  \n",
       "4               243  \n",
       "...             ...  \n",
       "23531           190  \n",
       "23532           205  \n",
       "23533           221  \n",
       "23534            93  \n",
       "23535           384  \n",
       "\n",
       "[23498 rows x 4 columns]"
      ]
     },
     "execution_count": 34,
     "metadata": {},
     "output_type": "execute_result"
    }
   ],
   "source": [
    "df"
   ]
  },
  {
   "cell_type": "markdown",
   "metadata": {},
   "source": [
    "#### Spliting the data"
   ]
  },
  {
   "cell_type": "code",
   "execution_count": 35,
   "metadata": {},
   "outputs": [],
   "source": [
    "x=df.drop(['rating'],axis=1)\n",
    "y=df['rating']"
   ]
  },
  {
   "cell_type": "code",
   "execution_count": 36,
   "metadata": {},
   "outputs": [
    {
     "data": {
      "text/plain": [
       "(23498, 3)"
      ]
     },
     "execution_count": 36,
     "metadata": {},
     "output_type": "execute_result"
    }
   ],
   "source": [
    "x.shape"
   ]
  },
  {
   "cell_type": "markdown",
   "metadata": {},
   "source": [
    "#### Handling the imbalce in data"
   ]
  },
  {
   "cell_type": "code",
   "execution_count": 37,
   "metadata": {},
   "outputs": [],
   "source": [
    "from imblearn.under_sampling import RandomUnderSampler\n",
    "us=RandomUnderSampler()\n",
    "x_res,y_res=us.fit_resample(x,y)"
   ]
  },
  {
   "cell_type": "code",
   "execution_count": 38,
   "metadata": {},
   "outputs": [
    {
     "data": {
      "text/plain": [
       "<AxesSubplot:>"
      ]
     },
     "execution_count": 38,
     "metadata": {},
     "output_type": "execute_result"
    },
    {
     "data": {
      "image/png": "[encoded data removed]",
      "text/plain": [
       "<Figure size 432x288 with 1 Axes>"
      ]
     },
     "metadata": {
      "needs_background": "light"
     },
     "output_type": "display_data"
    }
   ],
   "source": [
    "y_res.hist(grid=True,color='olive')"
   ]
  },
  {
   "cell_type": "code",
   "execution_count": 39,
   "metadata": {},
   "outputs": [
    {
     "data": {
      "text/html": [
       "<div>\n",
       "<style scoped>\n",
       "    .dataframe tbody tr th:only-of-type {\n",
       "        vertical-align: middle;\n",
       "    }\n",
       "\n",
       "    .dataframe tbody tr th {\n",
       "        vertical-align: top;\n",
       "    }\n",
       "\n",
       "    .dataframe thead th {\n",
       "        text-align: right;\n",
       "    }\n",
       "</style>\n",
       "<table border=\"1\" class=\"dataframe\">\n",
       "  <thead>\n",
       "    <tr style=\"text-align: right;\">\n",
       "      <th></th>\n",
       "      <th>review</th>\n",
       "      <th>length</th>\n",
       "      <th>clean_length</th>\n",
       "    </tr>\n",
       "  </thead>\n",
       "  <tbody>\n",
       "    <tr>\n",
       "      <th>0</th>\n",
       "      <td>nice product value mone big bazaar ke liye hi ...</td>\n",
       "      <td>156</td>\n",
       "      <td>119</td>\n",
       "    </tr>\n",
       "    <tr>\n",
       "      <th>1</th>\n",
       "      <td>product overheating unbelievable great company...</td>\n",
       "      <td>391</td>\n",
       "      <td>249</td>\n",
       "    </tr>\n",
       "    <tr>\n",
       "      <th>2</th>\n",
       "      <td></td>\n",
       "      <td>1</td>\n",
       "      <td>0</td>\n",
       "    </tr>\n",
       "    <tr>\n",
       "      <th>3</th>\n",
       "      <td>brought feb still using yrs usage wifi signal ...</td>\n",
       "      <td>280</td>\n",
       "      <td>146</td>\n",
       "    </tr>\n",
       "    <tr>\n",
       "      <th>4</th>\n",
       "      <td>waste money bad quality camera focus image pro...</td>\n",
       "      <td>511</td>\n",
       "      <td>393</td>\n",
       "    </tr>\n",
       "    <tr>\n",
       "      <th>...</th>\n",
       "      <td>...</td>\n",
       "      <td>...</td>\n",
       "      <td>...</td>\n",
       "    </tr>\n",
       "    <tr>\n",
       "      <th>20375</th>\n",
       "      <td>get connected pppoe matter customer care respo...</td>\n",
       "      <td>128</td>\n",
       "      <td>71</td>\n",
       "    </tr>\n",
       "    <tr>\n",
       "      <th>20376</th>\n",
       "      <td>good product found good price makes feel last ...</td>\n",
       "      <td>147</td>\n",
       "      <td>86</td>\n",
       "    </tr>\n",
       "    <tr>\n",
       "      <th>20377</th>\n",
       "      <td>received damaged product showing error code de...</td>\n",
       "      <td>163</td>\n",
       "      <td>124</td>\n",
       "    </tr>\n",
       "    <tr>\n",
       "      <th>20378</th>\n",
       "      <td>bought two wanted simple laser printer wifi co...</td>\n",
       "      <td>555</td>\n",
       "      <td>362</td>\n",
       "    </tr>\n",
       "    <tr>\n",
       "      <th>20379</th>\n",
       "      <td>first foremost gonna tell build quality buying...</td>\n",
       "      <td>1678</td>\n",
       "      <td>1043</td>\n",
       "    </tr>\n",
       "  </tbody>\n",
       "</table>\n",
       "<p>20380 rows × 3 columns</p>\n",
       "</div>"
      ],
      "text/plain": [
       "                                                  review  length  clean_length\n",
       "0      nice product value mone big bazaar ke liye hi ...     156           119\n",
       "1      product overheating unbelievable great company...     391           249\n",
       "2                                                              1             0\n",
       "3      brought feb still using yrs usage wifi signal ...     280           146\n",
       "4      waste money bad quality camera focus image pro...     511           393\n",
       "...                                                  ...     ...           ...\n",
       "20375  get connected pppoe matter customer care respo...     128            71\n",
       "20376  good product found good price makes feel last ...     147            86\n",
       "20377  received damaged product showing error code de...     163           124\n",
       "20378  bought two wanted simple laser printer wifi co...     555           362\n",
       "20379  first foremost gonna tell build quality buying...    1678          1043\n",
       "\n",
       "[20380 rows x 3 columns]"
      ]
     },
     "execution_count": 39,
     "metadata": {},
     "output_type": "execute_result"
    }
   ],
   "source": [
    "x_res"
   ]
  },
  {
   "cell_type": "markdown",
   "metadata": {},
   "source": [
    "### Vectorizing the data"
   ]
  },
  {
   "cell_type": "code",
   "execution_count": 40,
   "metadata": {},
   "outputs": [
    {
     "data": {
      "text/plain": [
       "{'nice': 6869,\n",
       " 'product': 8262,\n",
       " 'value': 11335,\n",
       " 'mone': 6620,\n",
       " 'big': 1036,\n",
       " 'bazaar': 901,\n",
       " 'ke': 5618,\n",
       " 'liye': 6001,\n",
       " 'hi': 4842,\n",
       " 'apki': 472,\n",
       " 'monthly': 6646,\n",
       " 'income': 5186,\n",
       " 'tax': 10493,\n",
       " 'return': 8980,\n",
       " 'link': 5960,\n",
       " 'continue': 2243,\n",
       " 'watching': 11618,\n",
       " 'playlist': 7927,\n",
       " 'bhalo': 1026,\n",
       " 'kore': 5700,\n",
       " 'overheating': 7514,\n",
       " 'unbelievable': 11073,\n",
       " 'great': 4545,\n",
       " 'company': 2020,\n",
       " 'production': 8264,\n",
       " 'devices': 2794,\n",
       " 'cost': 2320,\n",
       " 'matter': 6294,\n",
       " 'quality': 8452,\n",
       " 'matters': 6296,\n",
       " 'builtin': 1388,\n",
       " 'alex': 274,\n",
       " 'working': 11839,\n",
       " 'average': 734,\n",
       " 'camera': 1493,\n",
       " 'one': 7332,\n",
       " 'plus': 7959,\n",
       " 'numbrt': 7154,\n",
       " 'device': 2793,\n",
       " 'since': 9675,\n",
       " 'far': 3822,\n",
       " 'single': 9683,\n",
       " 'problem': 8230,\n",
       " 'face': 3767,\n",
       " 'upgraded': 11223,\n",
       " 'seems': 9382,\n",
       " 'worst': 11863,\n",
       " 'decision': 2611,\n",
       " 'feeling': 3880,\n",
       " 'brought': 1338,\n",
       " 'feb': 3868,\n",
       " 'still': 10110,\n",
       " 'using': 11289,\n",
       " 'yrs': 11994,\n",
       " 'usage': 11266,\n",
       " 'wifi': 11745,\n",
       " 'signal': 9641,\n",
       " 'strength': 10159,\n",
       " 'issue': 5484,\n",
       " 'faced': 3769,\n",
       " 'good': 4470,\n",
       " 'money': 6623,\n",
       " 'found': 4157,\n",
       " 'technical': 10517,\n",
       " 'errors': 3537,\n",
       " 'till': 10733,\n",
       " 'suggest': 10273,\n",
       " 'worth': 11868,\n",
       " 'buying': 1437,\n",
       " 'range': 8529,\n",
       " 'waste': 11605,\n",
       " 'bad': 805,\n",
       " 'focus': 4081,\n",
       " 'image': 5107,\n",
       " 'processing': 8246,\n",
       " 'max': 6298,\n",
       " 'phone': 7812,\n",
       " 'like': 5940,\n",
       " 'ordinary': 7425,\n",
       " 'chinese': 1764,\n",
       " 'numbrrd': 7138,\n",
       " 'grade': 4514,\n",
       " 'people': 7739,\n",
       " 'stay': 10085,\n",
       " 'away': 756,\n",
       " 'thinking': 10640,\n",
       " 'samsung': 9206,\n",
       " 'voice': 11495,\n",
       " 'reception': 8628,\n",
       " 'also': 321,\n",
       " 'poor': 8005,\n",
       " 'low': 6103,\n",
       " 'volume': 11509,\n",
       " 'speakers': 9925,\n",
       " 'well': 11677,\n",
       " 'lcd': 5823,\n",
       " 'display': 2976,\n",
       " 'though': 10660,\n",
       " 'brand': 1282,\n",
       " 'claims': 1830,\n",
       " 'hd': 4743,\n",
       " 'infinity': 5241,\n",
       " 'marketing': 6265,\n",
       " 'gimmicks': 4405,\n",
       " 'lags': 5750,\n",
       " 'even': 3574,\n",
       " 'numbrgb': 7033,\n",
       " 'ram': 8522,\n",
       " 'hangs': 4680,\n",
       " 'quite': 8484,\n",
       " 'lot': 6082,\n",
       " 'time': 10738,\n",
       " 'overall': 7498,\n",
       " 'numbrk': 7067,\n",
       " 'choose': 1780,\n",
       " 'better': 1011,\n",
       " 'phones': 7814,\n",
       " 'long': 6041,\n",
       " 'delay': 2670,\n",
       " 'got': 4496,\n",
       " 'talking': 10457,\n",
       " 'sound': 9892,\n",
       " 'quaility': 8443,\n",
       " 'broken': 1333,\n",
       " 'wire': 11765,\n",
       " 'main': 6185,\n",
       " 'speaker': 9923,\n",
       " 'sou': 9890,\n",
       " 'judge': 5575,\n",
       " 'sure': 10347,\n",
       " 'right': 9026,\n",
       " 'fault': 3840,\n",
       " 'delivery': 2699,\n",
       " 'men': 6370,\n",
       " 'cause': 1610,\n",
       " 'fount': 4159,\n",
       " 'check': 1734,\n",
       " 'comopnents': 2013,\n",
       " 'okey': 7306,\n",
       " 'directly': 2892,\n",
       " 'shipped': 9561,\n",
       " 'without': 11788,\n",
       " 'review': 8994,\n",
       " 'three': 10672,\n",
       " 'months': 6647,\n",
       " 'use': 11272,\n",
       " 'reducing': 8695,\n",
       " 'stars': 10062,\n",
       " 'initially': 5266,\n",
       " 'gave': 4331,\n",
       " 'five': 4001,\n",
       " 'star': 10056,\n",
       " 'reasons': 8608,\n",
       " 'giving': 4411,\n",
       " 'priced': 8184,\n",
       " 'actual': 114,\n",
       " 'price': 8183,\n",
       " 'occassionally': 7245,\n",
       " 'back': 781,\n",
       " 'panel': 7602,\n",
       " 'heats': 4788,\n",
       " 'design': 2747,\n",
       " 'especially': 3547,\n",
       " 'space': 9905,\n",
       " 'flashlight': 4018,\n",
       " 'unutilized': 11205,\n",
       " 'look': 6052,\n",
       " 'premium': 8150,\n",
       " 'much': 6713,\n",
       " 'cheaper': 1726,\n",
       " 'mobile': 6585,\n",
       " 'whole': 11724,\n",
       " 'body': 1182,\n",
       " 'including': 5184,\n",
       " 'screen': 9317,\n",
       " 'sensitive': 9430,\n",
       " 'scratches': 9309,\n",
       " 'cover': 2356,\n",
       " 'case': 1579,\n",
       " 'guard': 4595,\n",
       " 'immediately': 5120,\n",
       " 'otherwise': 7462,\n",
       " 'give': 4408,\n",
       " 'dirty': 2895,\n",
       " 'full': 4243,\n",
       " 'scrates': 9314,\n",
       " 'week': 11660,\n",
       " 'ip': 5430,\n",
       " 'rating': 8547,\n",
       " 'forget': 4131,\n",
       " 'water': 11620,\n",
       " 'proofing': 8314,\n",
       " 'trace': 10858,\n",
       " 'resistance': 8909,\n",
       " 'prevent': 8177,\n",
       " 'humidity': 5012,\n",
       " 'sweating': 10387,\n",
       " 'refresh': 8718,\n",
       " 'rate': 8543,\n",
       " 'comparison': 2028,\n",
       " 'available': 722,\n",
       " 'following': 4098,\n",
       " 'almost': 306,\n",
       " '__________________________________': 1,\n",
       " 'first': 3985,\n",
       " 'glance': 4417,\n",
       " 'looks': 6059,\n",
       " 'bit': 1062,\n",
       " 'bulky': 1396,\n",
       " 'etc': 3563,\n",
       " 'satisfactory': 9236,\n",
       " 'non': 6915,\n",
       " 'however': 4975,\n",
       " 'improvement': 5157,\n",
       " 'tried': 10936,\n",
       " 'critical': 2419,\n",
       " 'feedback': 3875,\n",
       " 'easy': 3292,\n",
       " 'writing': 11896,\n",
       " 'sothat': 9889,\n",
       " 'india': 5214,\n",
       " 'take': 10447,\n",
       " 'battery': 892,\n",
       " 'mha': 6430,\n",
       " 'draining': 3129,\n",
       " 'fast': 3832,\n",
       " 'backup': 799,\n",
       " 'slightly': 9741,\n",
       " 'user': 11283,\n",
       " 'interface': 5375,\n",
       " 'needs': 6817,\n",
       " 'tremendous': 10922,\n",
       " 'screenshot': 9322,\n",
       " 'easily': 3289,\n",
       " 'need': 6813,\n",
       " 'learn': 5840,\n",
       " 'fine': 3958,\n",
       " 'motor': 6668,\n",
       " 'coordination': 2287,\n",
       " 'fingers': 3964,\n",
       " 'power': 8071,\n",
       " 'button': 1430,\n",
       " 'microsecond': 6448,\n",
       " 'precision': 8121,\n",
       " 'days': 2566,\n",
       " 'discovered': 2946,\n",
       " 'taking': 10452,\n",
       " 'swapping': 10381,\n",
       " 'method': 6411,\n",
       " 'find': 3953,\n",
       " 'setting': 9488,\n",
       " 'section': 9364,\n",
       " 'automatic': 711,\n",
       " 'redial': 8685,\n",
       " 'searching': 9351,\n",
       " 'basic': 863,\n",
       " 'operation': 7380,\n",
       " 'call': 1472,\n",
       " 'waiting': 11542,\n",
       " 'either': 3355,\n",
       " 'missing': 6548,\n",
       " 'difficult': 2858,\n",
       " 'access': 48,\n",
       " 'ui': 11055,\n",
       " 'intelligent': 5350,\n",
       " 'intuitive': 5407,\n",
       " 'recording': 8669,\n",
       " 'permission': 7773,\n",
       " 'starts': 10069,\n",
       " 'dolby': 3060,\n",
       " 'effect': 3333,\n",
       " 'excellent': 3624,\n",
       " 'external': 3740,\n",
       " 'inbuilt': 5174,\n",
       " 'hv': 5026,\n",
       " 'buy': 1433,\n",
       " 'headphone': 4765,\n",
       " 'experiencing': 3690,\n",
       " 'software': 9830,\n",
       " 'impressive': 5152,\n",
       " 'work': 11831,\n",
       " 'cheapest': 1727,\n",
       " 'outlook': 7481,\n",
       " 'read': 8570,\n",
       " 'somewhere': 9861,\n",
       " 'numbrd': 7003,\n",
       " 'prism': 8218,\n",
       " 'glastic': 4422,\n",
       " 'discovery': 2948,\n",
       " 'new': 6854,\n",
       " 'material': 6287,\n",
       " 'glass': 4421,\n",
       " 'plastic': 7906,\n",
       " 'transparent': 10894,\n",
       " 'shining': 9557,\n",
       " 'reality': 8588,\n",
       " 'cheap': 1725,\n",
       " 'looking': 6056,\n",
       " 'smooth': 9783,\n",
       " 'slippery': 9746,\n",
       " 'prone': 8310,\n",
       " 'neither': 6834,\n",
       " 'resistant': 8910,\n",
       " 'sometimes': 9858,\n",
       " 'generates': 4356,\n",
       " 'heat': 4783,\n",
       " 'segment': 9387,\n",
       " 'provide': 8351,\n",
       " 'metallic': 6405,\n",
       " 'appearance': 488,\n",
       " 'transfer': 10882,\n",
       " 'chini': 1766,\n",
       " 'speed': 9951,\n",
       " 'scope': 9300,\n",
       " 'overpriced': 7530,\n",
       " 'highlight': 4859,\n",
       " 'bag': 815,\n",
       " 'sling': 9744,\n",
       " 'sleek': 9725,\n",
       " 'nature': 6788,\n",
       " 'decent': 2602,\n",
       " 'amount': 370,\n",
       " 'foam': 4078,\n",
       " 'sturdy': 10212,\n",
       " 'zipper': 12017,\n",
       " 'house': 4968,\n",
       " 'lenses': 5879,\n",
       " 'another': 417,\n",
       " 'top': 10816,\n",
       " 'compartment': 2031,\n",
       " 'houses': 4970,\n",
       " 'smaller': 9768,\n",
       " 'items': 5497,\n",
       " 'portable': 8026,\n",
       " 'wires': 11769,\n",
       " 'anything': 454,\n",
       " 'else': 3387,\n",
       " 'size': 9706,\n",
       " 'aim': 244,\n",
       " 'digi': 2863,\n",
       " 'plan': 7900,\n",
       " 'carry': 1564,\n",
       " 'photo': 7817,\n",
       " 'gear': 4341,\n",
       " 'ammunition': 362,\n",
       " 'may': 6306,\n",
       " 'meet': 6346,\n",
       " 'requirement': 8886,\n",
       " 'limited': 5951,\n",
       " 'storage': 10129,\n",
       " 'upgrade': 11221,\n",
       " 'additional': 134,\n",
       " 'larger': 5782,\n",
       " 'oneplus': 7336,\n",
       " 'pro': 8225,\n",
       " 'maclaren': 6155,\n",
       " 'hyped': 5045,\n",
       " 'hasselblad': 4722,\n",
       " 'cameras': 1495,\n",
       " 'picture': 7847,\n",
       " 'attached': 654,\n",
       " 'captured': 1538,\n",
       " 'pic': 7837,\n",
       " 'struggling': 10189,\n",
       " 'depth': 2733,\n",
       " 'bokeh': 1188,\n",
       " 'numbrmp': 7105,\n",
       " 'middle': 6457,\n",
       " 'finger': 3961,\n",
       " 'done': 3072,\n",
       " 'huge': 5002,\n",
       " 'disappointment': 2910,\n",
       " 'guys': 4620,\n",
       " 'please': 7936,\n",
       " 'font': 4106,\n",
       " 'valuable': 11332,\n",
       " 'go': 4449,\n",
       " 'mi': 6433,\n",
       " 'ultra': 11060,\n",
       " 'monitor': 6630,\n",
       " 'simply': 9668,\n",
       " 'turn': 11001,\n",
       " 'normal': 6927,\n",
       " 'resolution': 8913,\n",
       " 'numbrmins': 7094,\n",
       " 'goes': 4459,\n",
       " 'warm': 11576,\n",
       " 'white': 11713,\n",
       " 'resquested': 8942,\n",
       " 'replacement': 8850,\n",
       " 'satisfied': 9240,\n",
       " 'seller': 9404,\n",
       " 'snapdragon': 9799,\n",
       " 'processor': 8247,\n",
       " 'thing': 10635,\n",
       " 'second': 9357,\n",
       " 'front': 4217,\n",
       " 'mnumbr': 6570,\n",
       " 'rather': 8546,\n",
       " 'sold': 9834,\n",
       " 'old': 7315,\n",
       " 'outer': 7473,\n",
       " 'performance': 7754,\n",
       " 'gaming': 4309,\n",
       " 'photography': 7825,\n",
       " 'simple': 9664,\n",
       " 'watta': 11627,\n",
       " 'montser': 6649,\n",
       " 'loving': 6102,\n",
       " 'numbrw': 7173,\n",
       " 'charging': 1707,\n",
       " 'hang': 4673,\n",
       " 'heavy': 4795,\n",
       " 'multitasking': 6730,\n",
       " 'recommend': 8652,\n",
       " 'incredible': 5202,\n",
       " 'lasting': 5791,\n",
       " 'workable': 11832,\n",
       " 'get': 4379,\n",
       " 'years': 11962,\n",
       " 'east': 3291,\n",
       " 'west': 11686,\n",
       " 'best': 1003,\n",
       " 'expect': 3673,\n",
       " 'real': 8581,\n",
       " 'fact': 3779,\n",
       " 'day': 2563,\n",
       " 'say': 9259,\n",
       " 'resonably': 8921,\n",
       " 'smart': 9770,\n",
       " 'watches': 11616,\n",
       " 'market': 6263,\n",
       " 'connectivity': 2169,\n",
       " 'app': 478,\n",
       " 'issues': 5485,\n",
       " 'health': 4773,\n",
       " 'reading': 8575,\n",
       " 'correct': 2304,\n",
       " 'percentage': 7743,\n",
       " 'last': 5788,\n",
       " 'packeging': 7565,\n",
       " 'til': 10730,\n",
       " 'something': 9855,\n",
       " 'wrong': 11904,\n",
       " 'many': 6247,\n",
       " 'users': 11285,\n",
       " 'facing': 3777,\n",
       " 'unable': 11066,\n",
       " 'connect': 2162,\n",
       " 'wi': 11730,\n",
       " 'fi': 3903,\n",
       " 'meanest': 6322,\n",
       " 'monster': 6642,\n",
       " 'ever': 3581,\n",
       " 'hahahaha': 4643,\n",
       " 'performing': 7761,\n",
       " 'poorly': 8008,\n",
       " 'within': 11786,\n",
       " 'min': 6482,\n",
       " 'unboxing': 11078,\n",
       " 'eight': 3351,\n",
       " 'yr': 11993,\n",
       " 'lenovo': 5876,\n",
       " 'works': 11846,\n",
       " 'charm': 1711,\n",
       " 'trying': 10981,\n",
       " 'connecting': 2164,\n",
       " 'password': 7664,\n",
       " 'says': 9262,\n",
       " 'incorrect': 5196,\n",
       " 'every': 3587,\n",
       " 'troubleshooting': 10960,\n",
       " 'step': 10099,\n",
       " 'suggested': 10275,\n",
       " 'tech': 10511,\n",
       " 'support': 10332,\n",
       " 'connection': 2166,\n",
       " 'reconnect': 8660,\n",
       " 'update': 11214,\n",
       " 'latest': 5801,\n",
       " 'version': 11397,\n",
       " 'reset': 8901,\n",
       " 'settings': 9490,\n",
       " 'network': 6846,\n",
       " 'factory': 3782,\n",
       " 'data': 2557,\n",
       " 'applied': 496,\n",
       " 'result': 8961,\n",
       " 'irritating': 5459,\n",
       " 'mess': 6393,\n",
       " 'feature': 3862,\n",
       " 'surprise': 10358,\n",
       " 'run': 9153,\n",
       " 'solutions': 9843,\n",
       " 'instead': 5326,\n",
       " 'replacing': 8852,\n",
       " 'told': 10790,\n",
       " 'hardware': 4706,\n",
       " 'fixed': 4004,\n",
       " 'service': 9475,\n",
       " 'centre': 1647,\n",
       " 'center': 1642,\n",
       " 'opened': 7368,\n",
       " 'used': 11276,\n",
       " 'hour': 4966,\n",
       " 'year': 11961,\n",
       " 'ordered': 7421,\n",
       " 'flipkart': 4047,\n",
       " 'getting': 4383,\n",
       " 'drained': 3128,\n",
       " 'next': 6861,\n",
       " 'replaced': 8849,\n",
       " 'questions': 8468,\n",
       " 'asked': 594,\n",
       " 'dissappointed': 2992,\n",
       " 'amazon': 346,\n",
       " 'way': 11634,\n",
       " 'handling': 4665,\n",
       " 'spend': 9960,\n",
       " 'hard': 4696,\n",
       " 'earned': 3265,\n",
       " 'unfortunately': 11115,\n",
       " 'turns': 11006,\n",
       " 'faulty': 3842,\n",
       " 'never': 6851,\n",
       " 'ending': 3433,\n",
       " 'process': 8241,\n",
       " 'care': 1548,\n",
       " 'searched': 9349,\n",
       " 'printer': 8202,\n",
       " 'scanner': 9274,\n",
       " 'home': 4916,\n",
       " 'purpose': 8404,\n",
       " 'various': 11359,\n",
       " 'products': 8268,\n",
       " 'intjet': 5400,\n",
       " 'inktank': 5278,\n",
       " 'laser': 5784,\n",
       " 'personal': 7783,\n",
       " 'experience': 3687,\n",
       " 'ink': 5274,\n",
       " 'jet': 5541,\n",
       " 'printers': 8203,\n",
       " 'cartridge': 1576,\n",
       " 'high': 4855,\n",
       " 'regularly': 8749,\n",
       " 'dried': 3146,\n",
       " 'confused': 2149,\n",
       " 'black': 1075,\n",
       " 'colour': 1958,\n",
       " 'going': 4463,\n",
       " 'reviews': 9000,\n",
       " 'online': 7346,\n",
       " 'pushes': 8413,\n",
       " 'requirememt': 8885,\n",
       " 'printing': 8204,\n",
       " 'initial': 5262,\n",
       " 'higher': 4857,\n",
       " 'competitors': 2055,\n",
       " 'maintainance': 6190,\n",
       " 'less': 5880,\n",
       " 'said': 9189,\n",
       " 'finally': 3950,\n",
       " 'want': 11564,\n",
       " 'photos': 7829,\n",
       " 'prinitng': 8198,\n",
       " 'lesser': 5882,\n",
       " 'inkjet': 5275,\n",
       " 'edit': 3316,\n",
       " 'happy': 4693,\n",
       " 'scanning': 9276,\n",
       " 'option': 7409,\n",
       " 'moreover': 6656,\n",
       " 'installl': 5317,\n",
       " 'urself': 11261,\n",
       " 'add': 128,\n",
       " 'newbies': 6856,\n",
       " 'install': 5310,\n",
       " 'demo': 2709,\n",
       " 'provided': 8352,\n",
       " 'thanks': 10597,\n",
       " 'making': 6204,\n",
       " 'usefull': 11278,\n",
       " 'enjoy': 3459,\n",
       " 'amazing': 345,\n",
       " 'watch': 11612,\n",
       " 'comprised': 2087,\n",
       " 'exciting': 3642,\n",
       " 'features': 3864,\n",
       " 'built': 1387,\n",
       " 'totally': 10832,\n",
       " 'fantastic': 3819,\n",
       " 'impressions': 5151,\n",
       " 'touch': 10837,\n",
       " 'response': 8935,\n",
       " 'sponumbr': 9989,\n",
       " 'pretty': 8175,\n",
       " 'accurate': 74,\n",
       " 'results': 8964,\n",
       " 'probably': 8226,\n",
       " 'feels': 3882,\n",
       " 'heart': 4779,\n",
       " 'minimalist': 6493,\n",
       " 'job': 5555,\n",
       " 'expected': 3676,\n",
       " 'fitbit': 3993,\n",
       " 'versa': 11392,\n",
       " 'versanumbr': 11393,\n",
       " 'play': 7918,\n",
       " 'around': 556,\n",
       " 'notifications': 6957,\n",
       " 'yet': 11972,\n",
       " 'cons': 2185,\n",
       " 'faces': 3770,\n",
       " 'playing': 7926,\n",
       " 'music': 6735,\n",
       " 'control': 2257,\n",
       " 'responsive': 8940,\n",
       " 'would': 11877,\n",
       " 'dear': 2587,\n",
       " 'friends': 4205,\n",
       " 'order': 7419,\n",
       " 'booked': 1200,\n",
       " 'numbrth': 7157,\n",
       " 'received': 8620,\n",
       " 'yesterday': 11971,\n",
       " 'presently': 8163,\n",
       " 'based': 860,\n",
       " 'planning': 7904,\n",
       " 'browser': 1342,\n",
       " 'htmlnumbr': 4991,\n",
       " 'video': 11433,\n",
       " 'laptop': 5777,\n",
       " 'blinking': 1120,\n",
       " 'continuously': 2249,\n",
       " 'help': 4817,\n",
       " 'highly': 4863,\n",
       " 'disappointed': 2908,\n",
       " 'print': 8200,\n",
       " 'security': 9369,\n",
       " 'satisfaction': 9235,\n",
       " 'inch': 5176,\n",
       " 'cheated': 1729,\n",
       " 'trusting': 10975,\n",
       " 'name': 6768,\n",
       " 'options': 7412,\n",
       " 'redmi': 8689,\n",
       " 'poco': 7973,\n",
       " 'level': 5894,\n",
       " 'noise': 6906,\n",
       " 'cancellation': 1509,\n",
       " 'negative': 6820,\n",
       " 'pathetic': 7675,\n",
       " 'really': 8594,\n",
       " 'calling': 1477,\n",
       " 'think': 10638,\n",
       " 'useless': 11282,\n",
       " 'bought': 1247,\n",
       " 'customers': 2490,\n",
       " 'logitech': 6033,\n",
       " 'description': 2739,\n",
       " 'stearo': 10096,\n",
       " 'headset': 4770,\n",
       " 'local': 6015,\n",
       " 'headest': 4761,\n",
       " 'badly': 811,\n",
       " 'function': 4253,\n",
       " 'soft': 9827,\n",
       " 'coushning': 2353,\n",
       " 'layer': 5816,\n",
       " 'cushion': 2479,\n",
       " 'know': 5683,\n",
       " 'wear': 11643,\n",
       " 'hr': 4981,\n",
       " 'ears': 3281,\n",
       " 'irritated': 5457,\n",
       " 'fill': 3931,\n",
       " 'pain': 7581,\n",
       " 'ear': 3248,\n",
       " 'apart': 465,\n",
       " 'ignore': 5093,\n",
       " 'cushioning': 2481,\n",
       " 'okay': 7302,\n",
       " 'expections': 3679,\n",
       " 'comfortness': 1983,\n",
       " 'described': 2738,\n",
       " 'feture': 3895,\n",
       " 'promote': 8305,\n",
       " 'false': 3808,\n",
       " 'specifications': 9939,\n",
       " 'manual': 6239,\n",
       " 'month': 6645,\n",
       " 'brilliant': 1316,\n",
       " 'owned': 7546,\n",
       " 'dell': 2702,\n",
       " 'monitors': 6633,\n",
       " 'perfect': 7745,\n",
       " 'usual': 11297,\n",
       " 'disappoint': 2907,\n",
       " 'vertical': 11399,\n",
       " 'addition': 133,\n",
       " 'primary': 8193,\n",
       " 'secondary': 9358,\n",
       " 'dells': 2704,\n",
       " 'mostly': 6659,\n",
       " 'books': 1205,\n",
       " 'browse': 1340,\n",
       " 'stock': 10116,\n",
       " 'gtx': 4590,\n",
       " 'fully': 4250,\n",
       " 'capable': 1530,\n",
       " 'maximum': 6302,\n",
       " 'leverage': 5897,\n",
       " 'setup': 9495,\n",
       " 'god': 4453,\n",
       " 'send': 9414,\n",
       " 'browsing': 1343,\n",
       " 'see': 9372,\n",
       " 'entire': 3487,\n",
       " 'page': 7578,\n",
       " 'scrolling': 9330,\n",
       " 'landscape': 5765,\n",
       " 'portrait': 8031,\n",
       " 'standard': 10048,\n",
       " 'everyone': 3592,\n",
       " 'serious': 9464,\n",
       " 'business': 1419,\n",
       " 'pc': 7699,\n",
       " 'wake': 11543,\n",
       " 'router': 9114,\n",
       " 'problems': 8233,\n",
       " 'flawlessly': 4027,\n",
       " 'pros': 8329,\n",
       " 'come': 1974,\n",
       " 'packaging': 7563,\n",
       " 'isp': 5479,\n",
       " 'gives': 4410,\n",
       " 'mbps': 6313,\n",
       " 'android': 392,\n",
       " 'taken': 10449,\n",
       " 'snumbr': 9808,\n",
       " 'test': 10574,\n",
       " 'netgear': 6841,\n",
       " 'anumbr': 443,\n",
       " 'adapter': 123,\n",
       " 'future': 4276,\n",
       " 'proffing': 8278,\n",
       " 'wpanumbr': 11883,\n",
       " 'ac': 33,\n",
       " 'gigabit': 4400,\n",
       " 'port': 8024,\n",
       " 'usb': 11268,\n",
       " 'multimedia': 6723,\n",
       " 'server': 9472,\n",
       " 'dual': 3188,\n",
       " 'band': 835,\n",
       " 'bar': 848,\n",
       " 'apartment': 466,\n",
       " 'groud': 4567,\n",
       " 'floor': 4055,\n",
       " 'ghz': 4392,\n",
       " 'tp': 10853,\n",
       " 'tether': 10580,\n",
       " 'cloud': 1900,\n",
       " 'connected': 2163,\n",
       " 'spot': 9993,\n",
       " 'change': 1684,\n",
       " 'potato': 8057,\n",
       " 'wished': 11777,\n",
       " 'numbrrs': 7139,\n",
       " 'sad': 9177,\n",
       " 'numbrmbps': 7085,\n",
       " 'wpa': 11882,\n",
       " 'firmware': 3984,\n",
       " 'march': 6254,\n",
       " 'budget': 1365,\n",
       " 'routers': 9115,\n",
       " 'released': 8772,\n",
       " 'ago': 236,\n",
       " 'wavenumbr': 11631,\n",
       " 'multi': 6721,\n",
       " 'mu': 6711,\n",
       " 'mimo': 6481,\n",
       " 'delivered': 2695,\n",
       " 'couple': 2347,\n",
       " 'late': 5797,\n",
       " 'worked': 11836,\n",
       " 'sudden': 10257,\n",
       " 'gone': 4466,\n",
       " 'hp': 4977,\n",
       " 'saying': 9261,\n",
       " 'must': 6739,\n",
       " 'physically': 7834,\n",
       " 'damaged': 2531,\n",
       " 'constant': 2205,\n",
       " 'follow': 4096,\n",
       " 'ups': 11238,\n",
       " 'cant': 1525,\n",
       " 'anymore': 450,\n",
       " 'rt': 9128,\n",
       " 'acnumbru': 95,\n",
       " 'vnumbr': 11490,\n",
       " 'biggest': 1039,\n",
       " 'aimesh': 246,\n",
       " 'supported': 10333,\n",
       " 'date': 2558,\n",
       " 'numbrsqft': 7147,\n",
       " 'currently': 2470,\n",
       " 'two': 11029,\n",
       " 'axnumbr': 768,\n",
       " 'units': 11135,\n",
       " 'unit': 11133,\n",
       " 'system': 10426,\n",
       " 'choice': 1777,\n",
       " 'eliminate': 3380,\n",
       " 'small': 9767,\n",
       " 'dead': 2579,\n",
       " 'spots': 9995,\n",
       " 'household': 4969,\n",
       " 'third': 10645,\n",
       " 'fifth': 3915,\n",
       " 'wise': 11773,\n",
       " 'spending': 9961,\n",
       " 'sum': 10286,\n",
       " 'acnumbr': 94,\n",
       " 'powerful': 8076,\n",
       " 'solve': 9844,\n",
       " 'bedroom': 944,\n",
       " 'garage': 4318,\n",
       " 'terrace': 10569,\n",
       " 'impractical': 5146,\n",
       " 'hassle': 4723,\n",
       " 'lineup': 5958,\n",
       " 'already': 318,\n",
       " 'double': 3087,\n",
       " 'perfectly': 7747,\n",
       " 'whether': 11706,\n",
       " 'specs': 9943,\n",
       " 'set': 9483,\n",
       " 'coverage': 2357,\n",
       " 'competitive': 2053,\n",
       " 'pricing': 8188,\n",
       " 'cpu': 2366,\n",
       " 'predecessor': 8125,\n",
       " 'makes': 6201,\n",
       " 'essentially': 3553,\n",
       " 'recommendation': 8654,\n",
       " 'standalone': 10047,\n",
       " 'mesh': 6390,\n",
       " 'remember': 8794,\n",
       " 'recommends': 8658,\n",
       " 'together': 10784,\n",
       " 'wirelessly': 11768,\n",
       " 'ethernet': 3564,\n",
       " 'backhaul': 790,\n",
       " 'harmony': 4714,\n",
       " 'definitely': 2652,\n",
       " 'existing': 3658,\n",
       " 'final': 3947,\n",
       " 'note': 6939,\n",
       " 'serviced': 9477,\n",
       " 'complains': 2062,\n",
       " 'opening': 7369,\n",
       " 'box': 1259,\n",
       " 'required': 8883,\n",
       " 'attachments': 658,\n",
       " 'stand': 10046,\n",
       " 'cable': 1454,\n",
       " 'hdmi': 4748,\n",
       " 'vga': 11408,\n",
       " 'running': 9157,\n",
       " 'cables': 1456,\n",
       " 'plug': 7952,\n",
       " 'stuff': 10202,\n",
       " 'pedestal': 7718,\n",
       " 'stable': 10031,\n",
       " 'heating': 4786,\n",
       " 'programmer': 8288,\n",
       " 'open': 7367,\n",
       " 'visual': 11472,\n",
       " 'studio': 10199,\n",
       " 'ides': 5081,\n",
       " 'viewing': 11445,\n",
       " 'excel': 3623,\n",
       " 'sheets': 9545,\n",
       " 'slight': 9739,\n",
       " 'yellow': 11963,\n",
       " 'glare': 4418,\n",
       " 'visible': 11463,\n",
       " 'put': 8415,\n",
       " 'pictures': 7848,\n",
       " 'takes': 10450,\n",
       " 'application': 494,\n",
       " 'wait': 11540,\n",
       " 'mins': 6502,\n",
       " 'mrp': 6697,\n",
       " 'beware': 1015,\n",
       " 'producing': 8261,\n",
       " 'sim': 9658,\n",
       " 'half': 4648,\n",
       " 'icare': 5060,\n",
       " 'services': 9478,\n",
       " 'customer': 2489,\n",
       " 'several': 9499,\n",
       " 'times': 10745,\n",
       " 'repair': 8832,\n",
       " 'shop': 9578,\n",
       " 'apple': 492,\n",
       " 'arrived': 568,\n",
       " 'actually': 116,\n",
       " 'slow': 9752,\n",
       " 'continues': 2245,\n",
       " 'alexa': 275,\n",
       " 'boat': 1179,\n",
       " 'wave': 11629,\n",
       " 'try': 10978,\n",
       " 'officials': 7282,\n",
       " 'concern': 2104,\n",
       " 'bring': 1319,\n",
       " 'smartwatch': 9775,\n",
       " 'thid': 10631,\n",
       " 'awesome': 758,\n",
       " 'tracking': 10863,\n",
       " 'exercises': 3652,\n",
       " 'keeping': 5624,\n",
       " 'fitness': 3995,\n",
       " 'pair': 7588,\n",
       " 'steps': 10101,\n",
       " 'took': 10808,\n",
       " 'complaining': 2061,\n",
       " 'seriously': 9465,\n",
       " 'bothered': 1236,\n",
       " 'anyway': 457,\n",
       " 'lasts': 5794,\n",
       " 'hrs': 4985,\n",
       " 'default': 2630,\n",
       " 'mode': 6593,\n",
       " 'fairly': 3798,\n",
       " 'walk': 11548,\n",
       " 'cycling': 2516,\n",
       " 'beside': 1000,\n",
       " 'played': 7922,\n",
       " 'apps': 517,\n",
       " 'pairing': 7590,\n",
       " 'unpairing': 11163,\n",
       " 'lasted': 5790,\n",
       " 'guess': 4598,\n",
       " 'uses': 11286,\n",
       " 'purchased': 8392,\n",
       " 'blood': 1137,\n",
       " 'pressure': 8171,\n",
       " 'frequently': 4198,\n",
       " 'near': 6798,\n",
       " 'inspite': 5305,\n",
       " 'adjusting': 155,\n",
       " 'safty': 9186,\n",
       " 'today': 10782,\n",
       " 'tested': 10576,\n",
       " 'brass': 1289,\n",
       " 'clear': 1858,\n",
       " 'bluetooth': 1152,\n",
       " 'loved': 6096,\n",
       " 'advantage': 175,\n",
       " 'family': 3812,\n",
       " 'lagging': 5744,\n",
       " 'disadvantage': 2900,\n",
       " 'conclusion': 2112,\n",
       " 'headphones': 4766,\n",
       " 'thumping': 10700,\n",
       " 'bass': 867,\n",
       " 'vocals': 11494,\n",
       " 'along': 311,\n",
       " 'build': 1385,\n",
       " 'eye': 3751,\n",
       " 'catching': 1597,\n",
       " 'texture': 10584,\n",
       " 'mic': 6436,\n",
       " 'conferencing': 2127,\n",
       " 'calls': 1480,\n",
       " 'karaoke': 5607,\n",
       " 'makers': 6200,\n",
       " 'forgot': 4134,\n",
       " 'ergonomics': 3530,\n",
       " 'cups': 2463,\n",
       " 'causing': 1613,\n",
       " 'neck': 6808,\n",
       " 'region': 8736,\n",
       " 'hence': 4826,\n",
       " 'returned': 8982,\n",
       " 'hope': 4940,\n",
       " 'concentrates': 2102,\n",
       " 'launching': 5811,\n",
       " 'seen': 9383,\n",
       " 'track': 10860,\n",
       " 'pad': 7573,\n",
       " 'brightness': 1315,\n",
       " 'mentioned': 6376,\n",
       " 'backlit': 793,\n",
       " 'keyboard': 5632,\n",
       " 'made': 6162,\n",
       " ...}"
      ]
     },
     "execution_count": 40,
     "metadata": {},
     "output_type": "execute_result"
    }
   ],
   "source": [
    "from sklearn.feature_extraction.text import TfidfVectorizer\n",
    "\n",
    "tfidf = TfidfVectorizer()\n",
    "tfidf_matrix = tfidf.fit_transform(x_res.review).todense()\n",
    "vocab = tfidf.vocabulary_\n",
    "vocab"
   ]
  },
  {
   "cell_type": "code",
   "execution_count": 51,
   "metadata": {},
   "outputs": [],
   "source": [
    "word2vec = np.random.randn(len(vocab),100)"
   ]
  },
  {
   "cell_type": "code",
   "execution_count": 52,
   "metadata": {},
   "outputs": [
    {
     "data": {
      "text/html": [
       "<div>\n",
       "<style scoped>\n",
       "    .dataframe tbody tr th:only-of-type {\n",
       "        vertical-align: middle;\n",
       "    }\n",
       "\n",
       "    .dataframe tbody tr th {\n",
       "        vertical-align: top;\n",
       "    }\n",
       "\n",
       "    .dataframe thead th {\n",
       "        text-align: right;\n",
       "    }\n",
       "</style>\n",
       "<table border=\"1\" class=\"dataframe\">\n",
       "  <thead>\n",
       "    <tr style=\"text-align: right;\">\n",
       "      <th></th>\n",
       "      <th>review</th>\n",
       "      <th>length</th>\n",
       "      <th>clean_length</th>\n",
       "      <th>sent2vec</th>\n",
       "    </tr>\n",
       "  </thead>\n",
       "  <tbody>\n",
       "    <tr>\n",
       "      <th>0</th>\n",
       "      <td>nice product value mone big bazaar ke liye hi ...</td>\n",
       "      <td>156</td>\n",
       "      <td>119</td>\n",
       "      <td>[-1.005216013555299, -1.6665543371275666, -0.3...</td>\n",
       "    </tr>\n",
       "    <tr>\n",
       "      <th>1</th>\n",
       "      <td>product overheating unbelievable great company...</td>\n",
       "      <td>391</td>\n",
       "      <td>249</td>\n",
       "      <td>[-0.9078550963617485, 0.07513116288362673, 0.5...</td>\n",
       "    </tr>\n",
       "    <tr>\n",
       "      <th>2</th>\n",
       "      <td></td>\n",
       "      <td>1</td>\n",
       "      <td>0</td>\n",
       "      <td>[0.0, 0.0, 0.0, 0.0, 0.0, 0.0, 0.0, 0.0, 0.0, ...</td>\n",
       "    </tr>\n",
       "    <tr>\n",
       "      <th>3</th>\n",
       "      <td>brought feb still using yrs usage wifi signal ...</td>\n",
       "      <td>280</td>\n",
       "      <td>146</td>\n",
       "      <td>[-1.5118645753284123, -0.3563106832226926, -1....</td>\n",
       "    </tr>\n",
       "    <tr>\n",
       "      <th>4</th>\n",
       "      <td>waste money bad quality camera focus image pro...</td>\n",
       "      <td>511</td>\n",
       "      <td>393</td>\n",
       "      <td>[-0.688175535819303, 0.4757622537739718, -1.11...</td>\n",
       "    </tr>\n",
       "    <tr>\n",
       "      <th>...</th>\n",
       "      <td>...</td>\n",
       "      <td>...</td>\n",
       "      <td>...</td>\n",
       "      <td>...</td>\n",
       "    </tr>\n",
       "    <tr>\n",
       "      <th>20375</th>\n",
       "      <td>get connected pppoe matter customer care respo...</td>\n",
       "      <td>128</td>\n",
       "      <td>71</td>\n",
       "      <td>[-0.27398959324267347, -0.4753585464755889, -0...</td>\n",
       "    </tr>\n",
       "    <tr>\n",
       "      <th>20376</th>\n",
       "      <td>good product found good price makes feel last ...</td>\n",
       "      <td>147</td>\n",
       "      <td>86</td>\n",
       "      <td>[-1.5151148424972798, -0.8320263378765508, -0....</td>\n",
       "    </tr>\n",
       "    <tr>\n",
       "      <th>20377</th>\n",
       "      <td>received damaged product showing error code de...</td>\n",
       "      <td>163</td>\n",
       "      <td>124</td>\n",
       "      <td>[0.8591361664401075, 0.9408374027724968, -0.54...</td>\n",
       "    </tr>\n",
       "    <tr>\n",
       "      <th>20378</th>\n",
       "      <td>bought two wanted simple laser printer wifi co...</td>\n",
       "      <td>555</td>\n",
       "      <td>362</td>\n",
       "      <td>[-1.7484471326629876, -0.263120233733769, 0.03...</td>\n",
       "    </tr>\n",
       "    <tr>\n",
       "      <th>20379</th>\n",
       "      <td>first foremost gonna tell build quality buying...</td>\n",
       "      <td>1678</td>\n",
       "      <td>1043</td>\n",
       "      <td>[0.5844598432222754, -0.13595383693608937, -1....</td>\n",
       "    </tr>\n",
       "  </tbody>\n",
       "</table>\n",
       "<p>20380 rows × 4 columns</p>\n",
       "</div>"
      ],
      "text/plain": [
       "                                                  review  length  \\\n",
       "0      nice product value mone big bazaar ke liye hi ...     156   \n",
       "1      product overheating unbelievable great company...     391   \n",
       "2                                                              1   \n",
       "3      brought feb still using yrs usage wifi signal ...     280   \n",
       "4      waste money bad quality camera focus image pro...     511   \n",
       "...                                                  ...     ...   \n",
       "20375  get connected pppoe matter customer care respo...     128   \n",
       "20376  good product found good price makes feel last ...     147   \n",
       "20377  received damaged product showing error code de...     163   \n",
       "20378  bought two wanted simple laser printer wifi co...     555   \n",
       "20379  first foremost gonna tell build quality buying...    1678   \n",
       "\n",
       "       clean_length                                           sent2vec  \n",
       "0               119  [-1.005216013555299, -1.6665543371275666, -0.3...  \n",
       "1               249  [-0.9078550963617485, 0.07513116288362673, 0.5...  \n",
       "2                 0  [0.0, 0.0, 0.0, 0.0, 0.0, 0.0, 0.0, 0.0, 0.0, ...  \n",
       "3               146  [-1.5118645753284123, -0.3563106832226926, -1....  \n",
       "4               393  [-0.688175535819303, 0.4757622537739718, -1.11...  \n",
       "...             ...                                                ...  \n",
       "20375            71  [-0.27398959324267347, -0.4753585464755889, -0...  \n",
       "20376            86  [-1.5151148424972798, -0.8320263378765508, -0....  \n",
       "20377           124  [0.8591361664401075, 0.9408374027724968, -0.54...  \n",
       "20378           362  [-1.7484471326629876, -0.263120233733769, 0.03...  \n",
       "20379          1043  [0.5844598432222754, -0.13595383693608937, -1....  \n",
       "\n",
       "[20380 rows x 4 columns]"
      ]
     },
     "execution_count": 52,
     "metadata": {},
     "output_type": "execute_result"
    }
   ],
   "source": [
    "sent2vec_matrix = np.dot(tfidf_matrix, word2vec) # word2vec here contains vectors in the same order as in vocab\n",
    "x_res[\"sent2vec\"] = sent2vec_matrix.tolist()\n",
    "x_res"
   ]
  },
  {
   "cell_type": "code",
   "execution_count": 67,
   "metadata": {},
   "outputs": [
    {
     "data": {
      "text/plain": [
       "100"
      ]
     },
     "execution_count": 67,
     "metadata": {},
     "output_type": "execute_result"
    }
   ],
   "source": [
    "len(x_res['sent2vec'][30])"
   ]
  },
  {
   "cell_type": "code",
   "execution_count": null,
   "metadata": {},
   "outputs": [],
   "source": []
  },
  {
   "cell_type": "markdown",
   "metadata": {},
   "source": [
    "### train_test_split"
   ]
  },
  {
   "cell_type": "code",
   "execution_count": 68,
   "metadata": {},
   "outputs": [],
   "source": [
    "x_train,x_test,y_train,y_test=train_test_split(x_res['sent2vec'],y_res,test_size=0.30,random_state=50)"
   ]
  },
  {
   "cell_type": "code",
   "execution_count": 69,
   "metadata": {},
   "outputs": [
    {
     "data": {
      "text/plain": [
       "(14266,)"
      ]
     },
     "execution_count": 69,
     "metadata": {},
     "output_type": "execute_result"
    }
   ],
   "source": [
    "x_train.shape"
   ]
  },
  {
   "cell_type": "code",
   "execution_count": 70,
   "metadata": {},
   "outputs": [
    {
     "data": {
      "text/plain": [
       "(6114,)"
      ]
     },
     "execution_count": 70,
     "metadata": {},
     "output_type": "execute_result"
    }
   ],
   "source": [
    "x_test.shape"
   ]
  },
  {
   "cell_type": "code",
   "execution_count": 71,
   "metadata": {},
   "outputs": [
    {
     "data": {
      "text/plain": [
       "(14266,)"
      ]
     },
     "execution_count": 71,
     "metadata": {},
     "output_type": "execute_result"
    }
   ],
   "source": [
    "y_train.shape"
   ]
  },
  {
   "cell_type": "code",
   "execution_count": 72,
   "metadata": {},
   "outputs": [
    {
     "data": {
      "text/plain": [
       "(6114,)"
      ]
     },
     "execution_count": 72,
     "metadata": {},
     "output_type": "execute_result"
    }
   ],
   "source": [
    "y_test.shape"
   ]
  },
  {
   "cell_type": "markdown",
   "metadata": {},
   "source": [
    "### applying machine algorithms"
   ]
  },
  {
   "cell_type": "code",
   "execution_count": 73,
   "metadata": {},
   "outputs": [],
   "source": [
    "models=[LogisticRegression(),DecisionTreeClassifier(),\n",
    "       RandomForestClassifier(),SVC(),AdaBoostClassifier(),\n",
    "       GradientBoostingClassifier(),KNeighborsClassifier() ]"
   ]
  },
  {
   "cell_type": "code",
   "execution_count": 74,
   "metadata": {},
   "outputs": [
    {
     "name": "stdout",
     "output_type": "stream",
     "text": [
      "model name: LogisticRegression()\n"
     ]
    },
    {
     "ename": "ValueError",
     "evalue": "setting an array element with a sequence.",
     "output_type": "error",
     "traceback": [
      "\u001b[1;31m---------------------------------------------------------------------------\u001b[0m",
      "\u001b[1;31mTypeError\u001b[0m                                 Traceback (most recent call last)",
      "\u001b[1;31mTypeError\u001b[0m: float() argument must be a string or a number, not 'list'",
      "\nThe above exception was the direct cause of the following exception:\n",
      "\u001b[1;31mValueError\u001b[0m                                Traceback (most recent call last)",
      "\u001b[1;32m<ipython-input-74-b8f11190eb4c>\u001b[0m in \u001b[0;36m<module>\u001b[1;34m\u001b[0m\n\u001b[0;32m      1\u001b[0m \u001b[1;32mfor\u001b[0m \u001b[0mm\u001b[0m \u001b[1;32min\u001b[0m \u001b[0mmodels\u001b[0m\u001b[1;33m:\u001b[0m\u001b[1;33m\u001b[0m\u001b[1;33m\u001b[0m\u001b[0m\n\u001b[0;32m      2\u001b[0m     \u001b[0mprint\u001b[0m\u001b[1;33m(\u001b[0m\u001b[1;34m'model name:'\u001b[0m\u001b[1;33m,\u001b[0m\u001b[0mm\u001b[0m\u001b[1;33m)\u001b[0m\u001b[1;33m\u001b[0m\u001b[1;33m\u001b[0m\u001b[0m\n\u001b[1;32m----> 3\u001b[1;33m     \u001b[0mm\u001b[0m\u001b[1;33m.\u001b[0m\u001b[0mfit\u001b[0m\u001b[1;33m(\u001b[0m\u001b[0mx_train\u001b[0m\u001b[1;33m,\u001b[0m\u001b[0my_train\u001b[0m\u001b[1;33m)\u001b[0m\u001b[1;33m\u001b[0m\u001b[1;33m\u001b[0m\u001b[0m\n\u001b[0m\u001b[0;32m      4\u001b[0m     \u001b[0mpred\u001b[0m\u001b[1;33m=\u001b[0m\u001b[0mm\u001b[0m\u001b[1;33m.\u001b[0m\u001b[0mpredict\u001b[0m\u001b[1;33m(\u001b[0m\u001b[0mx_test\u001b[0m\u001b[1;33m)\u001b[0m\u001b[1;33m\u001b[0m\u001b[1;33m\u001b[0m\u001b[0m\n\u001b[0;32m      5\u001b[0m     \u001b[0mprint\u001b[0m\u001b[1;33m(\u001b[0m\u001b[1;34m\"accuracy score:\"\u001b[0m\u001b[1;33m,\u001b[0m\u001b[0maccuracy_score\u001b[0m\u001b[1;33m(\u001b[0m\u001b[0my_test\u001b[0m\u001b[1;33m,\u001b[0m\u001b[0mpred\u001b[0m\u001b[1;33m)\u001b[0m\u001b[1;33m)\u001b[0m\u001b[1;33m\u001b[0m\u001b[1;33m\u001b[0m\u001b[0m\n",
      "\u001b[1;32m~\\AppData\\Roaming\\Python\\Python38\\site-packages\\sklearn\\linear_model\\_logistic.py\u001b[0m in \u001b[0;36mfit\u001b[1;34m(self, X, y, sample_weight)\u001b[0m\n\u001b[0;32m   1342\u001b[0m             \u001b[0m_dtype\u001b[0m \u001b[1;33m=\u001b[0m \u001b[1;33m[\u001b[0m\u001b[0mnp\u001b[0m\u001b[1;33m.\u001b[0m\u001b[0mfloat64\u001b[0m\u001b[1;33m,\u001b[0m \u001b[0mnp\u001b[0m\u001b[1;33m.\u001b[0m\u001b[0mfloat32\u001b[0m\u001b[1;33m]\u001b[0m\u001b[1;33m\u001b[0m\u001b[1;33m\u001b[0m\u001b[0m\n\u001b[0;32m   1343\u001b[0m \u001b[1;33m\u001b[0m\u001b[0m\n\u001b[1;32m-> 1344\u001b[1;33m         X, y = self._validate_data(X, y, accept_sparse='csr', dtype=_dtype,\n\u001b[0m\u001b[0;32m   1345\u001b[0m                                    \u001b[0morder\u001b[0m\u001b[1;33m=\u001b[0m\u001b[1;34m\"C\"\u001b[0m\u001b[1;33m,\u001b[0m\u001b[1;33m\u001b[0m\u001b[1;33m\u001b[0m\u001b[0m\n\u001b[0;32m   1346\u001b[0m                                    accept_large_sparse=solver != 'liblinear')\n",
      "\u001b[1;32m~\\AppData\\Roaming\\Python\\Python38\\site-packages\\sklearn\\base.py\u001b[0m in \u001b[0;36m_validate_data\u001b[1;34m(self, X, y, reset, validate_separately, **check_params)\u001b[0m\n\u001b[0;32m    431\u001b[0m                 \u001b[0my\u001b[0m \u001b[1;33m=\u001b[0m \u001b[0mcheck_array\u001b[0m\u001b[1;33m(\u001b[0m\u001b[0my\u001b[0m\u001b[1;33m,\u001b[0m \u001b[1;33m**\u001b[0m\u001b[0mcheck_y_params\u001b[0m\u001b[1;33m)\u001b[0m\u001b[1;33m\u001b[0m\u001b[1;33m\u001b[0m\u001b[0m\n\u001b[0;32m    432\u001b[0m             \u001b[1;32melse\u001b[0m\u001b[1;33m:\u001b[0m\u001b[1;33m\u001b[0m\u001b[1;33m\u001b[0m\u001b[0m\n\u001b[1;32m--> 433\u001b[1;33m                 \u001b[0mX\u001b[0m\u001b[1;33m,\u001b[0m \u001b[0my\u001b[0m \u001b[1;33m=\u001b[0m \u001b[0mcheck_X_y\u001b[0m\u001b[1;33m(\u001b[0m\u001b[0mX\u001b[0m\u001b[1;33m,\u001b[0m \u001b[0my\u001b[0m\u001b[1;33m,\u001b[0m \u001b[1;33m**\u001b[0m\u001b[0mcheck_params\u001b[0m\u001b[1;33m)\u001b[0m\u001b[1;33m\u001b[0m\u001b[1;33m\u001b[0m\u001b[0m\n\u001b[0m\u001b[0;32m    434\u001b[0m             \u001b[0mout\u001b[0m \u001b[1;33m=\u001b[0m \u001b[0mX\u001b[0m\u001b[1;33m,\u001b[0m \u001b[0my\u001b[0m\u001b[1;33m\u001b[0m\u001b[1;33m\u001b[0m\u001b[0m\n\u001b[0;32m    435\u001b[0m \u001b[1;33m\u001b[0m\u001b[0m\n",
      "\u001b[1;32m~\\AppData\\Roaming\\Python\\Python38\\site-packages\\sklearn\\utils\\validation.py\u001b[0m in \u001b[0;36minner_f\u001b[1;34m(*args, **kwargs)\u001b[0m\n\u001b[0;32m     61\u001b[0m             \u001b[0mextra_args\u001b[0m \u001b[1;33m=\u001b[0m \u001b[0mlen\u001b[0m\u001b[1;33m(\u001b[0m\u001b[0margs\u001b[0m\u001b[1;33m)\u001b[0m \u001b[1;33m-\u001b[0m \u001b[0mlen\u001b[0m\u001b[1;33m(\u001b[0m\u001b[0mall_args\u001b[0m\u001b[1;33m)\u001b[0m\u001b[1;33m\u001b[0m\u001b[1;33m\u001b[0m\u001b[0m\n\u001b[0;32m     62\u001b[0m             \u001b[1;32mif\u001b[0m \u001b[0mextra_args\u001b[0m \u001b[1;33m<=\u001b[0m \u001b[1;36m0\u001b[0m\u001b[1;33m:\u001b[0m\u001b[1;33m\u001b[0m\u001b[1;33m\u001b[0m\u001b[0m\n\u001b[1;32m---> 63\u001b[1;33m                 \u001b[1;32mreturn\u001b[0m \u001b[0mf\u001b[0m\u001b[1;33m(\u001b[0m\u001b[1;33m*\u001b[0m\u001b[0margs\u001b[0m\u001b[1;33m,\u001b[0m \u001b[1;33m**\u001b[0m\u001b[0mkwargs\u001b[0m\u001b[1;33m)\u001b[0m\u001b[1;33m\u001b[0m\u001b[1;33m\u001b[0m\u001b[0m\n\u001b[0m\u001b[0;32m     64\u001b[0m \u001b[1;33m\u001b[0m\u001b[0m\n\u001b[0;32m     65\u001b[0m             \u001b[1;31m# extra_args > 0\u001b[0m\u001b[1;33m\u001b[0m\u001b[1;33m\u001b[0m\u001b[1;33m\u001b[0m\u001b[0m\n",
      "\u001b[1;32m~\\AppData\\Roaming\\Python\\Python38\\site-packages\\sklearn\\utils\\validation.py\u001b[0m in \u001b[0;36mcheck_X_y\u001b[1;34m(X, y, accept_sparse, accept_large_sparse, dtype, order, copy, force_all_finite, ensure_2d, allow_nd, multi_output, ensure_min_samples, ensure_min_features, y_numeric, estimator)\u001b[0m\n\u001b[0;32m    869\u001b[0m         \u001b[1;32mraise\u001b[0m \u001b[0mValueError\u001b[0m\u001b[1;33m(\u001b[0m\u001b[1;34m\"y cannot be None\"\u001b[0m\u001b[1;33m)\u001b[0m\u001b[1;33m\u001b[0m\u001b[1;33m\u001b[0m\u001b[0m\n\u001b[0;32m    870\u001b[0m \u001b[1;33m\u001b[0m\u001b[0m\n\u001b[1;32m--> 871\u001b[1;33m     X = check_array(X, accept_sparse=accept_sparse,\n\u001b[0m\u001b[0;32m    872\u001b[0m                     \u001b[0maccept_large_sparse\u001b[0m\u001b[1;33m=\u001b[0m\u001b[0maccept_large_sparse\u001b[0m\u001b[1;33m,\u001b[0m\u001b[1;33m\u001b[0m\u001b[1;33m\u001b[0m\u001b[0m\n\u001b[0;32m    873\u001b[0m                     \u001b[0mdtype\u001b[0m\u001b[1;33m=\u001b[0m\u001b[0mdtype\u001b[0m\u001b[1;33m,\u001b[0m \u001b[0morder\u001b[0m\u001b[1;33m=\u001b[0m\u001b[0morder\u001b[0m\u001b[1;33m,\u001b[0m \u001b[0mcopy\u001b[0m\u001b[1;33m=\u001b[0m\u001b[0mcopy\u001b[0m\u001b[1;33m,\u001b[0m\u001b[1;33m\u001b[0m\u001b[1;33m\u001b[0m\u001b[0m\n",
      "\u001b[1;32m~\\AppData\\Roaming\\Python\\Python38\\site-packages\\sklearn\\utils\\validation.py\u001b[0m in \u001b[0;36minner_f\u001b[1;34m(*args, **kwargs)\u001b[0m\n\u001b[0;32m     61\u001b[0m             \u001b[0mextra_args\u001b[0m \u001b[1;33m=\u001b[0m \u001b[0mlen\u001b[0m\u001b[1;33m(\u001b[0m\u001b[0margs\u001b[0m\u001b[1;33m)\u001b[0m \u001b[1;33m-\u001b[0m \u001b[0mlen\u001b[0m\u001b[1;33m(\u001b[0m\u001b[0mall_args\u001b[0m\u001b[1;33m)\u001b[0m\u001b[1;33m\u001b[0m\u001b[1;33m\u001b[0m\u001b[0m\n\u001b[0;32m     62\u001b[0m             \u001b[1;32mif\u001b[0m \u001b[0mextra_args\u001b[0m \u001b[1;33m<=\u001b[0m \u001b[1;36m0\u001b[0m\u001b[1;33m:\u001b[0m\u001b[1;33m\u001b[0m\u001b[1;33m\u001b[0m\u001b[0m\n\u001b[1;32m---> 63\u001b[1;33m                 \u001b[1;32mreturn\u001b[0m \u001b[0mf\u001b[0m\u001b[1;33m(\u001b[0m\u001b[1;33m*\u001b[0m\u001b[0margs\u001b[0m\u001b[1;33m,\u001b[0m \u001b[1;33m**\u001b[0m\u001b[0mkwargs\u001b[0m\u001b[1;33m)\u001b[0m\u001b[1;33m\u001b[0m\u001b[1;33m\u001b[0m\u001b[0m\n\u001b[0m\u001b[0;32m     64\u001b[0m \u001b[1;33m\u001b[0m\u001b[0m\n\u001b[0;32m     65\u001b[0m             \u001b[1;31m# extra_args > 0\u001b[0m\u001b[1;33m\u001b[0m\u001b[1;33m\u001b[0m\u001b[1;33m\u001b[0m\u001b[0m\n",
      "\u001b[1;32m~\\AppData\\Roaming\\Python\\Python38\\site-packages\\sklearn\\utils\\validation.py\u001b[0m in \u001b[0;36mcheck_array\u001b[1;34m(array, accept_sparse, accept_large_sparse, dtype, order, copy, force_all_finite, ensure_2d, allow_nd, ensure_min_samples, ensure_min_features, estimator)\u001b[0m\n\u001b[0;32m    671\u001b[0m                     \u001b[0marray\u001b[0m \u001b[1;33m=\u001b[0m \u001b[0marray\u001b[0m\u001b[1;33m.\u001b[0m\u001b[0mastype\u001b[0m\u001b[1;33m(\u001b[0m\u001b[0mdtype\u001b[0m\u001b[1;33m,\u001b[0m \u001b[0mcasting\u001b[0m\u001b[1;33m=\u001b[0m\u001b[1;34m\"unsafe\"\u001b[0m\u001b[1;33m,\u001b[0m \u001b[0mcopy\u001b[0m\u001b[1;33m=\u001b[0m\u001b[1;32mFalse\u001b[0m\u001b[1;33m)\u001b[0m\u001b[1;33m\u001b[0m\u001b[1;33m\u001b[0m\u001b[0m\n\u001b[0;32m    672\u001b[0m                 \u001b[1;32melse\u001b[0m\u001b[1;33m:\u001b[0m\u001b[1;33m\u001b[0m\u001b[1;33m\u001b[0m\u001b[0m\n\u001b[1;32m--> 673\u001b[1;33m                     \u001b[0marray\u001b[0m \u001b[1;33m=\u001b[0m \u001b[0mnp\u001b[0m\u001b[1;33m.\u001b[0m\u001b[0masarray\u001b[0m\u001b[1;33m(\u001b[0m\u001b[0marray\u001b[0m\u001b[1;33m,\u001b[0m \u001b[0morder\u001b[0m\u001b[1;33m=\u001b[0m\u001b[0morder\u001b[0m\u001b[1;33m,\u001b[0m \u001b[0mdtype\u001b[0m\u001b[1;33m=\u001b[0m\u001b[0mdtype\u001b[0m\u001b[1;33m)\u001b[0m\u001b[1;33m\u001b[0m\u001b[1;33m\u001b[0m\u001b[0m\n\u001b[0m\u001b[0;32m    674\u001b[0m             \u001b[1;32mexcept\u001b[0m \u001b[0mComplexWarning\u001b[0m \u001b[1;32mas\u001b[0m \u001b[0mcomplex_warning\u001b[0m\u001b[1;33m:\u001b[0m\u001b[1;33m\u001b[0m\u001b[1;33m\u001b[0m\u001b[0m\n\u001b[0;32m    675\u001b[0m                 raise ValueError(\"Complex data not supported\\n\"\n",
      "\u001b[1;32mC:\\ProgramData\\Anaconda3\\lib\\site-packages\\numpy\\core\\_asarray.py\u001b[0m in \u001b[0;36masarray\u001b[1;34m(a, dtype, order)\u001b[0m\n\u001b[0;32m     81\u001b[0m \u001b[1;33m\u001b[0m\u001b[0m\n\u001b[0;32m     82\u001b[0m     \"\"\"\n\u001b[1;32m---> 83\u001b[1;33m     \u001b[1;32mreturn\u001b[0m \u001b[0marray\u001b[0m\u001b[1;33m(\u001b[0m\u001b[0ma\u001b[0m\u001b[1;33m,\u001b[0m \u001b[0mdtype\u001b[0m\u001b[1;33m,\u001b[0m \u001b[0mcopy\u001b[0m\u001b[1;33m=\u001b[0m\u001b[1;32mFalse\u001b[0m\u001b[1;33m,\u001b[0m \u001b[0morder\u001b[0m\u001b[1;33m=\u001b[0m\u001b[0morder\u001b[0m\u001b[1;33m)\u001b[0m\u001b[1;33m\u001b[0m\u001b[1;33m\u001b[0m\u001b[0m\n\u001b[0m\u001b[0;32m     84\u001b[0m \u001b[1;33m\u001b[0m\u001b[0m\n\u001b[0;32m     85\u001b[0m \u001b[1;33m\u001b[0m\u001b[0m\n",
      "\u001b[1;32mC:\\ProgramData\\Anaconda3\\lib\\site-packages\\pandas\\core\\series.py\u001b[0m in \u001b[0;36m__array__\u001b[1;34m(self, dtype)\u001b[0m\n\u001b[0;32m    795\u001b[0m               dtype='datetime64[ns]')\n\u001b[0;32m    796\u001b[0m         \"\"\"\n\u001b[1;32m--> 797\u001b[1;33m         \u001b[1;32mreturn\u001b[0m \u001b[0mnp\u001b[0m\u001b[1;33m.\u001b[0m\u001b[0masarray\u001b[0m\u001b[1;33m(\u001b[0m\u001b[0mself\u001b[0m\u001b[1;33m.\u001b[0m\u001b[0marray\u001b[0m\u001b[1;33m,\u001b[0m \u001b[0mdtype\u001b[0m\u001b[1;33m)\u001b[0m\u001b[1;33m\u001b[0m\u001b[1;33m\u001b[0m\u001b[0m\n\u001b[0m\u001b[0;32m    798\u001b[0m \u001b[1;33m\u001b[0m\u001b[0m\n\u001b[0;32m    799\u001b[0m     \u001b[1;31m# ----------------------------------------------------------------------\u001b[0m\u001b[1;33m\u001b[0m\u001b[1;33m\u001b[0m\u001b[1;33m\u001b[0m\u001b[0m\n",
      "\u001b[1;32mC:\\ProgramData\\Anaconda3\\lib\\site-packages\\numpy\\core\\_asarray.py\u001b[0m in \u001b[0;36masarray\u001b[1;34m(a, dtype, order)\u001b[0m\n\u001b[0;32m     81\u001b[0m \u001b[1;33m\u001b[0m\u001b[0m\n\u001b[0;32m     82\u001b[0m     \"\"\"\n\u001b[1;32m---> 83\u001b[1;33m     \u001b[1;32mreturn\u001b[0m \u001b[0marray\u001b[0m\u001b[1;33m(\u001b[0m\u001b[0ma\u001b[0m\u001b[1;33m,\u001b[0m \u001b[0mdtype\u001b[0m\u001b[1;33m,\u001b[0m \u001b[0mcopy\u001b[0m\u001b[1;33m=\u001b[0m\u001b[1;32mFalse\u001b[0m\u001b[1;33m,\u001b[0m \u001b[0morder\u001b[0m\u001b[1;33m=\u001b[0m\u001b[0morder\u001b[0m\u001b[1;33m)\u001b[0m\u001b[1;33m\u001b[0m\u001b[1;33m\u001b[0m\u001b[0m\n\u001b[0m\u001b[0;32m     84\u001b[0m \u001b[1;33m\u001b[0m\u001b[0m\n\u001b[0;32m     85\u001b[0m \u001b[1;33m\u001b[0m\u001b[0m\n",
      "\u001b[1;32mC:\\ProgramData\\Anaconda3\\lib\\site-packages\\pandas\\core\\arrays\\numpy_.py\u001b[0m in \u001b[0;36m__array__\u001b[1;34m(self, dtype)\u001b[0m\n\u001b[0;32m    209\u001b[0m \u001b[1;33m\u001b[0m\u001b[0m\n\u001b[0;32m    210\u001b[0m     \u001b[1;32mdef\u001b[0m \u001b[0m__array__\u001b[0m\u001b[1;33m(\u001b[0m\u001b[0mself\u001b[0m\u001b[1;33m,\u001b[0m \u001b[0mdtype\u001b[0m\u001b[1;33m=\u001b[0m\u001b[1;32mNone\u001b[0m\u001b[1;33m)\u001b[0m \u001b[1;33m->\u001b[0m \u001b[0mnp\u001b[0m\u001b[1;33m.\u001b[0m\u001b[0mndarray\u001b[0m\u001b[1;33m:\u001b[0m\u001b[1;33m\u001b[0m\u001b[1;33m\u001b[0m\u001b[0m\n\u001b[1;32m--> 211\u001b[1;33m         \u001b[1;32mreturn\u001b[0m \u001b[0mnp\u001b[0m\u001b[1;33m.\u001b[0m\u001b[0masarray\u001b[0m\u001b[1;33m(\u001b[0m\u001b[0mself\u001b[0m\u001b[1;33m.\u001b[0m\u001b[0m_ndarray\u001b[0m\u001b[1;33m,\u001b[0m \u001b[0mdtype\u001b[0m\u001b[1;33m=\u001b[0m\u001b[0mdtype\u001b[0m\u001b[1;33m)\u001b[0m\u001b[1;33m\u001b[0m\u001b[1;33m\u001b[0m\u001b[0m\n\u001b[0m\u001b[0;32m    212\u001b[0m \u001b[1;33m\u001b[0m\u001b[0m\n\u001b[0;32m    213\u001b[0m     \u001b[0m_HANDLED_TYPES\u001b[0m \u001b[1;33m=\u001b[0m \u001b[1;33m(\u001b[0m\u001b[0mnp\u001b[0m\u001b[1;33m.\u001b[0m\u001b[0mndarray\u001b[0m\u001b[1;33m,\u001b[0m \u001b[0mnumbers\u001b[0m\u001b[1;33m.\u001b[0m\u001b[0mNumber\u001b[0m\u001b[1;33m)\u001b[0m\u001b[1;33m\u001b[0m\u001b[1;33m\u001b[0m\u001b[0m\n",
      "\u001b[1;32mC:\\ProgramData\\Anaconda3\\lib\\site-packages\\numpy\\core\\_asarray.py\u001b[0m in \u001b[0;36masarray\u001b[1;34m(a, dtype, order)\u001b[0m\n\u001b[0;32m     81\u001b[0m \u001b[1;33m\u001b[0m\u001b[0m\n\u001b[0;32m     82\u001b[0m     \"\"\"\n\u001b[1;32m---> 83\u001b[1;33m     \u001b[1;32mreturn\u001b[0m \u001b[0marray\u001b[0m\u001b[1;33m(\u001b[0m\u001b[0ma\u001b[0m\u001b[1;33m,\u001b[0m \u001b[0mdtype\u001b[0m\u001b[1;33m,\u001b[0m \u001b[0mcopy\u001b[0m\u001b[1;33m=\u001b[0m\u001b[1;32mFalse\u001b[0m\u001b[1;33m,\u001b[0m \u001b[0morder\u001b[0m\u001b[1;33m=\u001b[0m\u001b[0morder\u001b[0m\u001b[1;33m)\u001b[0m\u001b[1;33m\u001b[0m\u001b[1;33m\u001b[0m\u001b[0m\n\u001b[0m\u001b[0;32m     84\u001b[0m \u001b[1;33m\u001b[0m\u001b[0m\n\u001b[0;32m     85\u001b[0m \u001b[1;33m\u001b[0m\u001b[0m\n",
      "\u001b[1;31mValueError\u001b[0m: setting an array element with a sequence."
     ]
    }
   ],
   "source": [
    "for m in models:\n",
    "    print('model name:',m)\n",
    "    m.fit(x_train,y_train)\n",
    "    pred=m.predict(x_test)\n",
    "    print(\"accuracy score:\",accuracy_score(y_test,pred))\n",
    "    print(\"confusion matrix:\",confusion_matrix(y_test,pred))\n",
    "    print(\"classification report:\",classification_report(y_test,pred))\n",
    "    print(\"roc_auc_score:\",roc_auc_score(y_test,m.predict(x_test)))\n",
    "    print()\n",
    "    print(\"Cross validation score:\")\n",
    "    scr=cross_val_score(m,x,y,cv=5)\n",
    "    print('score',scr.mean())\n",
    "    print('------------------------------------------------------------------------------')"
   ]
  },
  {
   "cell_type": "code",
   "execution_count": null,
   "metadata": {},
   "outputs": [],
   "source": []
  },
  {
   "cell_type": "code",
   "execution_count": null,
   "metadata": {},
   "outputs": [],
   "source": []
  },
  {
   "cell_type": "code",
   "execution_count": null,
   "metadata": {},
   "outputs": [],
   "source": []
  },
  {
   "cell_type": "code",
   "execution_count": null,
   "metadata": {},
   "outputs": [],
   "source": []
  },
  {
   "cell_type": "code",
   "execution_count": null,
   "metadata": {},
   "outputs": [],
   "source": []
  },
  {
   "cell_type": "code",
   "execution_count": null,
   "metadata": {},
   "outputs": [],
   "source": []
  },
  {
   "cell_type": "code",
   "execution_count": null,
   "metadata": {},
   "outputs": [],
   "source": []
  },
  {
   "cell_type": "code",
   "execution_count": null,
   "metadata": {},
   "outputs": [],
   "source": []
  }
 ],
 "metadata": {
  "kernelspec": {
   "display_name": "Python 3",
   "language": "python",
   "name": "python3"
  },
  "language_info": {
   "codemirror_mode": {
    "name": "ipython",
    "version": 3
   },
   "file_extension": ".py",
   "mimetype": "text/x-python",
   "name": "python",
   "nbconvert_exporter": "python",
   "pygments_lexer": "ipython3",
   "version": "3.8.5"
  }
 },
 "nbformat": 4,
 "nbformat_minor": 4
}
