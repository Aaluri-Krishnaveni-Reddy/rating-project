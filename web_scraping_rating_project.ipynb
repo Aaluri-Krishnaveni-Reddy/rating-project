{
 "cells": [
  {
   "cell_type": "code",
   "execution_count": 1,
   "metadata": {},
   "outputs": [],
   "source": [
    "import pandas as pd\n",
    "import selenium\n",
    "from selenium import webdriver\n",
    "from selenium.common.exceptions import NoSuchElementException\n",
    "import time"
   ]
  },
  {
   "cell_type": "code",
   "execution_count": 2,
   "metadata": {},
   "outputs": [],
   "source": [
    "driver=webdriver.Chrome(r'C:\\Users\\home\\chromedriver.exe')"
   ]
  },
  {
   "cell_type": "code",
   "execution_count": 3,
   "metadata": {},
   "outputs": [],
   "source": [
    "driver.get('https://www.amazon.in/')"
   ]
  },
  {
   "cell_type": "code",
   "execution_count": 4,
   "metadata": {},
   "outputs": [],
   "source": [
    "url=[]\n",
    "\n",
    "key=[\"laptops\" , \"Smart Phones\" , \"Headphones\" , \"Smart watches\" ,\n",
    "      \"Professional Cameras\" ,\"Printers\" ,\"Monitors\" ,\"Home theater\" ,\"Routers\"]\n",
    "for k in key:\n",
    "    #findind by id to search bar \n",
    "    search=driver.find_elements_by_id('twotabsearchtextbox')[0]\n",
    "    \n",
    "    search.clear()\n",
    "    \n",
    "    #sending keys to search\n",
    "    search.send_keys(k)\n",
    "    \n",
    "    #finding search button\n",
    "    search_button=driver.find_elements_by_id('nav-search-submit-button')[0]\n",
    "    #clicking search button\n",
    "    search_button.click()\n",
    "    \n",
    "    start=0\n",
    "    end=10\n",
    "    \n",
    "    \n",
    "    for page in range(start,end):#for loop for scrapping 10 page\n",
    "        p_url=driver.find_elements_by_xpath('//a[@class=\"a-link-normal a-text-normal\"]') #xpath of product url\n",
    "    \n",
    "        for i in p_url:\n",
    "            url.append(i.get_attribute('href')) # appending url in product url\n",
    "        \n",
    "        nxt_button=driver.find_elements_by_xpath(\"//div[@class='a-section a-spacing-none a-padding-base']/div/ul/li[3]/a\") #scraping the list of buttons from the page\n",
    "        try:\n",
    "            driver.get(nxt_button[1].get_attribute('href'))#getting the link from the list for next page\n",
    "        except:\n",
    "            driver.get(nxt_button[0].get_attribute('href'))"
   ]
  },
  {
   "cell_type": "code",
   "execution_count": 5,
   "metadata": {
    "scrolled": true
   },
   "outputs": [
    {
     "data": {
      "text/plain": [
       "2054"
      ]
     },
     "execution_count": 5,
     "metadata": {},
     "output_type": "execute_result"
    }
   ],
   "source": [
    "len(url)"
   ]
  },
  {
   "cell_type": "code",
   "execution_count": 11,
   "metadata": {},
   "outputs": [],
   "source": [
    "rating=[]\n",
    "full_review=[]\n",
    "\n",
    "\n",
    "for u in url:\n",
    "    driver.get(u)\n",
    "    time.sleep(3)\n",
    "    \n",
    "    try: \n",
    "        all_reviews=driver.find_element_by_xpath('//a[@class=\"a-link-emphasis a-text-bold\"]')\n",
    "        all_reviews.click()\n",
    "    except NoSuchElementException:\n",
    "        continue\n",
    "        \n",
    "    time.sleep(2)\n",
    "    \n",
    "    #scraping rate\n",
    "    rate=driver.find_elements_by_xpath('//div[@class=\"a-section celwidget\"]/div[2]/a[1]')\n",
    "    for i in rate:\n",
    "        rating.append(i.get_attribute('title'))\n",
    "    \n",
    "    #scraping review \n",
    "    review=driver.find_elements_by_xpath('//span[@class=\"a-size-base review-text review-text-content\"]')\n",
    "    for j in review:\n",
    "        full_review.append(j.text)\n",
    "   "
   ]
  },
  {
   "cell_type": "code",
   "execution_count": 12,
   "metadata": {},
   "outputs": [
    {
     "data": {
      "text/plain": [
       "15532"
      ]
     },
     "execution_count": 12,
     "metadata": {},
     "output_type": "execute_result"
    }
   ],
   "source": [
    "len(rating)"
   ]
  },
  {
   "cell_type": "code",
   "execution_count": 17,
   "metadata": {},
   "outputs": [],
   "source": [
    "data=pd.DataFrame({'rating':rating[:15532],'review':full_review[:15532]})\n"
   ]
  },
  {
   "cell_type": "code",
   "execution_count": 18,
   "metadata": {},
   "outputs": [
    {
     "data": {
      "text/html": [
       "<div>\n",
       "<style scoped>\n",
       "    .dataframe tbody tr th:only-of-type {\n",
       "        vertical-align: middle;\n",
       "    }\n",
       "\n",
       "    .dataframe tbody tr th {\n",
       "        vertical-align: top;\n",
       "    }\n",
       "\n",
       "    .dataframe thead th {\n",
       "        text-align: right;\n",
       "    }\n",
       "</style>\n",
       "<table border=\"1\" class=\"dataframe\">\n",
       "  <thead>\n",
       "    <tr style=\"text-align: right;\">\n",
       "      <th></th>\n",
       "      <th>rating</th>\n",
       "      <th>review</th>\n",
       "    </tr>\n",
       "  </thead>\n",
       "  <tbody>\n",
       "    <tr>\n",
       "      <th>0</th>\n",
       "      <td>3.0 out of 5 stars</td>\n",
       "      <td>check the detail description, the CPU speed is...</td>\n",
       "    </tr>\n",
       "    <tr>\n",
       "      <th>1</th>\n",
       "      <td>1.0 out of 5 stars</td>\n",
       "      <td>The laptop is not working properly. The issues...</td>\n",
       "    </tr>\n",
       "    <tr>\n",
       "      <th>2</th>\n",
       "      <td>4.0 out of 5 stars</td>\n",
       "      <td>This laptop is indeed stylish, slim and good l...</td>\n",
       "    </tr>\n",
       "    <tr>\n",
       "      <th>3</th>\n",
       "      <td>5.0 out of 5 stars</td>\n",
       "      <td>After so many research on internet I brought t...</td>\n",
       "    </tr>\n",
       "    <tr>\n",
       "      <th>4</th>\n",
       "      <td>3.0 out of 5 stars</td>\n",
       "      <td>Over all good performance for basic use for bu...</td>\n",
       "    </tr>\n",
       "    <tr>\n",
       "      <th>...</th>\n",
       "      <td>...</td>\n",
       "      <td>...</td>\n",
       "    </tr>\n",
       "    <tr>\n",
       "      <th>15527</th>\n",
       "      <td>5.0 out of 5 stars</td>\n",
       "      <td>I needed 3 UPS for 3 wifi routers, so I have b...</td>\n",
       "    </tr>\n",
       "    <tr>\n",
       "      <th>15528</th>\n",
       "      <td>1.0 out of 5 stars</td>\n",
       "      <td>Finally I got a UPS that is compatible with my...</td>\n",
       "    </tr>\n",
       "    <tr>\n",
       "      <th>15529</th>\n",
       "      <td>5.0 out of 5 stars</td>\n",
       "      <td>Waste of money, feel cheated as doesn't give e...</td>\n",
       "    </tr>\n",
       "    <tr>\n",
       "      <th>15530</th>\n",
       "      <td>5.0 out of 5 stars</td>\n",
       "      <td>Stopped working after two months. When contact...</td>\n",
       "    </tr>\n",
       "    <tr>\n",
       "      <th>15531</th>\n",
       "      <td>5.0 out of 5 stars</td>\n",
       "      <td>Product is fine for 2.5GHZ alone as 5GHZ band ...</td>\n",
       "    </tr>\n",
       "  </tbody>\n",
       "</table>\n",
       "<p>15532 rows × 2 columns</p>\n",
       "</div>"
      ],
      "text/plain": [
       "                   rating                                             review\n",
       "0      3.0 out of 5 stars  check the detail description, the CPU speed is...\n",
       "1      1.0 out of 5 stars  The laptop is not working properly. The issues...\n",
       "2      4.0 out of 5 stars  This laptop is indeed stylish, slim and good l...\n",
       "3      5.0 out of 5 stars  After so many research on internet I brought t...\n",
       "4      3.0 out of 5 stars  Over all good performance for basic use for bu...\n",
       "...                   ...                                                ...\n",
       "15527  5.0 out of 5 stars  I needed 3 UPS for 3 wifi routers, so I have b...\n",
       "15528  1.0 out of 5 stars  Finally I got a UPS that is compatible with my...\n",
       "15529  5.0 out of 5 stars  Waste of money, feel cheated as doesn't give e...\n",
       "15530  5.0 out of 5 stars  Stopped working after two months. When contact...\n",
       "15531  5.0 out of 5 stars  Product is fine for 2.5GHZ alone as 5GHZ band ...\n",
       "\n",
       "[15532 rows x 2 columns]"
      ]
     },
     "execution_count": 18,
     "metadata": {},
     "output_type": "execute_result"
    }
   ],
   "source": [
    "data"
   ]
  },
  {
   "cell_type": "code",
   "execution_count": 20,
   "metadata": {},
   "outputs": [],
   "source": [
    "data.to_csv('data.csv')"
   ]
  },
  {
   "cell_type": "code",
   "execution_count": 21,
   "metadata": {},
   "outputs": [
    {
     "data": {
      "text/html": [
       "<div>\n",
       "<style scoped>\n",
       "    .dataframe tbody tr th:only-of-type {\n",
       "        vertical-align: middle;\n",
       "    }\n",
       "\n",
       "    .dataframe tbody tr th {\n",
       "        vertical-align: top;\n",
       "    }\n",
       "\n",
       "    .dataframe thead th {\n",
       "        text-align: right;\n",
       "    }\n",
       "</style>\n",
       "<table border=\"1\" class=\"dataframe\">\n",
       "  <thead>\n",
       "    <tr style=\"text-align: right;\">\n",
       "      <th></th>\n",
       "      <th>rating</th>\n",
       "      <th>review</th>\n",
       "    </tr>\n",
       "  </thead>\n",
       "  <tbody>\n",
       "    <tr>\n",
       "      <th>0</th>\n",
       "      <td>3.0 out of 5 stars</td>\n",
       "      <td>check the detail description, the CPU speed is...</td>\n",
       "    </tr>\n",
       "    <tr>\n",
       "      <th>1</th>\n",
       "      <td>1.0 out of 5 stars</td>\n",
       "      <td>The laptop is not working properly. The issues...</td>\n",
       "    </tr>\n",
       "    <tr>\n",
       "      <th>2</th>\n",
       "      <td>4.0 out of 5 stars</td>\n",
       "      <td>This laptop is indeed stylish, slim and good l...</td>\n",
       "    </tr>\n",
       "    <tr>\n",
       "      <th>3</th>\n",
       "      <td>5.0 out of 5 stars</td>\n",
       "      <td>After so many research on internet I brought t...</td>\n",
       "    </tr>\n",
       "    <tr>\n",
       "      <th>4</th>\n",
       "      <td>3.0 out of 5 stars</td>\n",
       "      <td>Over all good performance for basic use for bu...</td>\n",
       "    </tr>\n",
       "    <tr>\n",
       "      <th>...</th>\n",
       "      <td>...</td>\n",
       "      <td>...</td>\n",
       "    </tr>\n",
       "    <tr>\n",
       "      <th>15527</th>\n",
       "      <td>5.0 out of 5 stars</td>\n",
       "      <td>I needed 3 UPS for 3 wifi routers, so I have b...</td>\n",
       "    </tr>\n",
       "    <tr>\n",
       "      <th>15528</th>\n",
       "      <td>1.0 out of 5 stars</td>\n",
       "      <td>Finally I got a UPS that is compatible with my...</td>\n",
       "    </tr>\n",
       "    <tr>\n",
       "      <th>15529</th>\n",
       "      <td>5.0 out of 5 stars</td>\n",
       "      <td>Waste of money, feel cheated as doesn't give e...</td>\n",
       "    </tr>\n",
       "    <tr>\n",
       "      <th>15530</th>\n",
       "      <td>5.0 out of 5 stars</td>\n",
       "      <td>Stopped working after two months. When contact...</td>\n",
       "    </tr>\n",
       "    <tr>\n",
       "      <th>15531</th>\n",
       "      <td>5.0 out of 5 stars</td>\n",
       "      <td>Product is fine for 2.5GHZ alone as 5GHZ band ...</td>\n",
       "    </tr>\n",
       "  </tbody>\n",
       "</table>\n",
       "<p>15532 rows × 2 columns</p>\n",
       "</div>"
      ],
      "text/plain": [
       "                   rating                                             review\n",
       "0      3.0 out of 5 stars  check the detail description, the CPU speed is...\n",
       "1      1.0 out of 5 stars  The laptop is not working properly. The issues...\n",
       "2      4.0 out of 5 stars  This laptop is indeed stylish, slim and good l...\n",
       "3      5.0 out of 5 stars  After so many research on internet I brought t...\n",
       "4      3.0 out of 5 stars  Over all good performance for basic use for bu...\n",
       "...                   ...                                                ...\n",
       "15527  5.0 out of 5 stars  I needed 3 UPS for 3 wifi routers, so I have b...\n",
       "15528  1.0 out of 5 stars  Finally I got a UPS that is compatible with my...\n",
       "15529  5.0 out of 5 stars  Waste of money, feel cheated as doesn't give e...\n",
       "15530  5.0 out of 5 stars  Stopped working after two months. When contact...\n",
       "15531  5.0 out of 5 stars  Product is fine for 2.5GHZ alone as 5GHZ band ...\n",
       "\n",
       "[15532 rows x 2 columns]"
      ]
     },
     "execution_count": 21,
     "metadata": {},
     "output_type": "execute_result"
    }
   ],
   "source": [
    "data"
   ]
  },
  {
   "cell_type": "markdown",
   "metadata": {},
   "source": [
    "### scraping rating and reviews of mobile from flipkart"
   ]
  },
  {
   "cell_type": "code",
   "execution_count": 5,
   "metadata": {},
   "outputs": [],
   "source": [
    "from tqdm import tqdm"
   ]
  },
  {
   "cell_type": "code",
   "execution_count": 43,
   "metadata": {},
   "outputs": [],
   "source": [
    "driver.get('https://www.flipkart.com/poco-m3-power-black-64-gb/product-reviews/itmb49cc10841be2?pid=MOBFZTCUTAYPJHHR&lid=LSTMOBFZTCUTAYPJHHR2ZVC1N&aid=overall&certifiedBuyer=false&sortOrder=NEGATIVE_FIRST&page=183')"
   ]
  },
  {
   "cell_type": "code",
   "execution_count": 44,
   "metadata": {},
   "outputs": [
    {
     "name": "stderr",
     "output_type": "stream",
     "text": [
      "100%|████████████████████████████████████████████████████████████████████████████████| 200/200 [07:58<00:00,  2.39s/it]\n"
     ]
    }
   ],
   "source": [
    "#scraping url from multiple pages\n",
    "urls=[] \n",
    "for j in tqdm(range(0,200)):\n",
    "    time.sleep(2)\n",
    "    try:\n",
    "        for i in driver.find_elements_by_xpath(\"//a[@class='ge-49M _2Kfbh8']\"):\n",
    "            urls.append(i.get_attribute('href'))\n",
    "    except NoSuchElementException:\n",
    "        pass\n",
    "    \n",
    "    #clicking on next button\n",
    "    try:\n",
    "        driver.find_element_by_xpath(\"//a[@class='_1LKTO3'][2]\").click()\n",
    "    except:\n",
    "        driver.find_element_by_xpath(\"//a[@class='_1LKTO3']\").click()\n"
   ]
  },
  {
   "cell_type": "code",
   "execution_count": 45,
   "metadata": {},
   "outputs": [
    {
     "data": {
      "text/plain": [
       "['https://www.flipkart.com/poco-m3-power-black-64-gb/product-reviews/itmb49cc10841be2?pid=MOBFZTCUTAYPJHHR&lid=LSTMOBFZTCUTAYPJHHR2ZVC1N&aid=overall&certifiedBuyer=false&sortOrder=NEGATIVE_FIRST&page=183',\n",
       " 'https://www.flipkart.com/poco-m3-power-black-64-gb/product-reviews/itmb49cc10841be2?pid=MOBFZTCUTAYPJHHR&lid=LSTMOBFZTCUTAYPJHHR2ZVC1N&aid=overall&certifiedBuyer=false&sortOrder=NEGATIVE_FIRST&page=184',\n",
       " 'https://www.flipkart.com/poco-m3-power-black-64-gb/product-reviews/itmb49cc10841be2?pid=MOBFZTCUTAYPJHHR&lid=LSTMOBFZTCUTAYPJHHR2ZVC1N&aid=overall&certifiedBuyer=false&sortOrder=NEGATIVE_FIRST&page=185',\n",
       " 'https://www.flipkart.com/poco-m3-power-black-64-gb/product-reviews/itmb49cc10841be2?pid=MOBFZTCUTAYPJHHR&lid=LSTMOBFZTCUTAYPJHHR2ZVC1N&aid=overall&certifiedBuyer=false&sortOrder=NEGATIVE_FIRST&page=185',\n",
       " 'https://www.flipkart.com/poco-m3-power-black-64-gb/product-reviews/itmb49cc10841be2?pid=MOBFZTCUTAYPJHHR&lid=LSTMOBFZTCUTAYPJHHR2ZVC1N&aid=overall&certifiedBuyer=false&sortOrder=NEGATIVE_FIRST&page=186',\n",
       " 'https://www.flipkart.com/poco-m3-power-black-64-gb/product-reviews/itmb49cc10841be2?pid=MOBFZTCUTAYPJHHR&lid=LSTMOBFZTCUTAYPJHHR2ZVC1N&aid=overall&certifiedBuyer=false&sortOrder=NEGATIVE_FIRST&page=187',\n",
       " 'https://www.flipkart.com/poco-m3-power-black-64-gb/product-reviews/itmb49cc10841be2?pid=MOBFZTCUTAYPJHHR&lid=LSTMOBFZTCUTAYPJHHR2ZVC1N&aid=overall&certifiedBuyer=false&sortOrder=NEGATIVE_FIRST&page=188',\n",
       " 'https://www.flipkart.com/poco-m3-power-black-64-gb/product-reviews/itmb49cc10841be2?pid=MOBFZTCUTAYPJHHR&lid=LSTMOBFZTCUTAYPJHHR2ZVC1N&aid=overall&certifiedBuyer=false&sortOrder=NEGATIVE_FIRST&page=189',\n",
       " 'https://www.flipkart.com/poco-m3-power-black-64-gb/product-reviews/itmb49cc10841be2?pid=MOBFZTCUTAYPJHHR&lid=LSTMOBFZTCUTAYPJHHR2ZVC1N&aid=overall&certifiedBuyer=false&sortOrder=NEGATIVE_FIRST&page=190',\n",
       " 'https://www.flipkart.com/poco-m3-power-black-64-gb/product-reviews/itmb49cc10841be2?pid=MOBFZTCUTAYPJHHR&lid=LSTMOBFZTCUTAYPJHHR2ZVC1N&aid=overall&certifiedBuyer=false&sortOrder=NEGATIVE_FIRST&page=191',\n",
       " 'https://www.flipkart.com/poco-m3-power-black-64-gb/product-reviews/itmb49cc10841be2?pid=MOBFZTCUTAYPJHHR&lid=LSTMOBFZTCUTAYPJHHR2ZVC1N&aid=overall&certifiedBuyer=false&sortOrder=NEGATIVE_FIRST&page=192',\n",
       " 'https://www.flipkart.com/poco-m3-power-black-64-gb/product-reviews/itmb49cc10841be2?pid=MOBFZTCUTAYPJHHR&lid=LSTMOBFZTCUTAYPJHHR2ZVC1N&aid=overall&certifiedBuyer=false&sortOrder=NEGATIVE_FIRST&page=193',\n",
       " 'https://www.flipkart.com/poco-m3-power-black-64-gb/product-reviews/itmb49cc10841be2?pid=MOBFZTCUTAYPJHHR&lid=LSTMOBFZTCUTAYPJHHR2ZVC1N&aid=overall&certifiedBuyer=false&sortOrder=NEGATIVE_FIRST&page=194',\n",
       " 'https://www.flipkart.com/poco-m3-power-black-64-gb/product-reviews/itmb49cc10841be2?pid=MOBFZTCUTAYPJHHR&lid=LSTMOBFZTCUTAYPJHHR2ZVC1N&aid=overall&certifiedBuyer=false&sortOrder=NEGATIVE_FIRST&page=195',\n",
       " 'https://www.flipkart.com/poco-m3-power-black-64-gb/product-reviews/itmb49cc10841be2?pid=MOBFZTCUTAYPJHHR&lid=LSTMOBFZTCUTAYPJHHR2ZVC1N&aid=overall&certifiedBuyer=false&sortOrder=NEGATIVE_FIRST&page=196',\n",
       " 'https://www.flipkart.com/poco-m3-power-black-64-gb/product-reviews/itmb49cc10841be2?pid=MOBFZTCUTAYPJHHR&lid=LSTMOBFZTCUTAYPJHHR2ZVC1N&aid=overall&certifiedBuyer=false&sortOrder=NEGATIVE_FIRST&page=197',\n",
       " 'https://www.flipkart.com/poco-m3-power-black-64-gb/product-reviews/itmb49cc10841be2?pid=MOBFZTCUTAYPJHHR&lid=LSTMOBFZTCUTAYPJHHR2ZVC1N&aid=overall&certifiedBuyer=false&sortOrder=NEGATIVE_FIRST&page=198',\n",
       " 'https://www.flipkart.com/poco-m3-power-black-64-gb/product-reviews/itmb49cc10841be2?pid=MOBFZTCUTAYPJHHR&lid=LSTMOBFZTCUTAYPJHHR2ZVC1N&aid=overall&certifiedBuyer=false&sortOrder=NEGATIVE_FIRST&page=199',\n",
       " 'https://www.flipkart.com/poco-m3-power-black-64-gb/product-reviews/itmb49cc10841be2?pid=MOBFZTCUTAYPJHHR&lid=LSTMOBFZTCUTAYPJHHR2ZVC1N&aid=overall&certifiedBuyer=false&sortOrder=NEGATIVE_FIRST&page=200',\n",
       " 'https://www.flipkart.com/poco-m3-power-black-64-gb/product-reviews/itmb49cc10841be2?pid=MOBFZTCUTAYPJHHR&lid=LSTMOBFZTCUTAYPJHHR2ZVC1N&aid=overall&certifiedBuyer=false&sortOrder=NEGATIVE_FIRST&page=201',\n",
       " 'https://www.flipkart.com/poco-m3-power-black-64-gb/product-reviews/itmb49cc10841be2?pid=MOBFZTCUTAYPJHHR&lid=LSTMOBFZTCUTAYPJHHR2ZVC1N&aid=overall&certifiedBuyer=false&sortOrder=NEGATIVE_FIRST&page=202',\n",
       " 'https://www.flipkart.com/poco-m3-power-black-64-gb/product-reviews/itmb49cc10841be2?pid=MOBFZTCUTAYPJHHR&lid=LSTMOBFZTCUTAYPJHHR2ZVC1N&aid=overall&certifiedBuyer=false&sortOrder=NEGATIVE_FIRST&page=203',\n",
       " 'https://www.flipkart.com/poco-m3-power-black-64-gb/product-reviews/itmb49cc10841be2?pid=MOBFZTCUTAYPJHHR&lid=LSTMOBFZTCUTAYPJHHR2ZVC1N&aid=overall&certifiedBuyer=false&sortOrder=NEGATIVE_FIRST&page=204',\n",
       " 'https://www.flipkart.com/poco-m3-power-black-64-gb/product-reviews/itmb49cc10841be2?pid=MOBFZTCUTAYPJHHR&lid=LSTMOBFZTCUTAYPJHHR2ZVC1N&aid=overall&certifiedBuyer=false&sortOrder=NEGATIVE_FIRST&page=205',\n",
       " 'https://www.flipkart.com/poco-m3-power-black-64-gb/product-reviews/itmb49cc10841be2?pid=MOBFZTCUTAYPJHHR&lid=LSTMOBFZTCUTAYPJHHR2ZVC1N&aid=overall&certifiedBuyer=false&sortOrder=NEGATIVE_FIRST&page=206',\n",
       " 'https://www.flipkart.com/poco-m3-power-black-64-gb/product-reviews/itmb49cc10841be2?pid=MOBFZTCUTAYPJHHR&lid=LSTMOBFZTCUTAYPJHHR2ZVC1N&aid=overall&certifiedBuyer=false&sortOrder=NEGATIVE_FIRST&page=207',\n",
       " 'https://www.flipkart.com/poco-m3-power-black-64-gb/product-reviews/itmb49cc10841be2?pid=MOBFZTCUTAYPJHHR&lid=LSTMOBFZTCUTAYPJHHR2ZVC1N&aid=overall&certifiedBuyer=false&sortOrder=NEGATIVE_FIRST&page=208',\n",
       " 'https://www.flipkart.com/poco-m3-power-black-64-gb/product-reviews/itmb49cc10841be2?pid=MOBFZTCUTAYPJHHR&lid=LSTMOBFZTCUTAYPJHHR2ZVC1N&aid=overall&certifiedBuyer=false&sortOrder=NEGATIVE_FIRST&page=209',\n",
       " 'https://www.flipkart.com/poco-m3-power-black-64-gb/product-reviews/itmb49cc10841be2?pid=MOBFZTCUTAYPJHHR&lid=LSTMOBFZTCUTAYPJHHR2ZVC1N&aid=overall&certifiedBuyer=false&sortOrder=NEGATIVE_FIRST&page=210',\n",
       " 'https://www.flipkart.com/poco-m3-power-black-64-gb/product-reviews/itmb49cc10841be2?pid=MOBFZTCUTAYPJHHR&lid=LSTMOBFZTCUTAYPJHHR2ZVC1N&aid=overall&certifiedBuyer=false&sortOrder=NEGATIVE_FIRST&page=211',\n",
       " 'https://www.flipkart.com/poco-m3-power-black-64-gb/product-reviews/itmb49cc10841be2?pid=MOBFZTCUTAYPJHHR&lid=LSTMOBFZTCUTAYPJHHR2ZVC1N&aid=overall&certifiedBuyer=false&sortOrder=NEGATIVE_FIRST&page=211',\n",
       " 'https://www.flipkart.com/poco-m3-power-black-64-gb/product-reviews/itmb49cc10841be2?pid=MOBFZTCUTAYPJHHR&lid=LSTMOBFZTCUTAYPJHHR2ZVC1N&aid=overall&certifiedBuyer=false&sortOrder=NEGATIVE_FIRST&page=212',\n",
       " 'https://www.flipkart.com/poco-m3-power-black-64-gb/product-reviews/itmb49cc10841be2?pid=MOBFZTCUTAYPJHHR&lid=LSTMOBFZTCUTAYPJHHR2ZVC1N&aid=overall&certifiedBuyer=false&sortOrder=NEGATIVE_FIRST&page=213',\n",
       " 'https://www.flipkart.com/poco-m3-power-black-64-gb/product-reviews/itmb49cc10841be2?pid=MOBFZTCUTAYPJHHR&lid=LSTMOBFZTCUTAYPJHHR2ZVC1N&aid=overall&certifiedBuyer=false&sortOrder=NEGATIVE_FIRST&page=214',\n",
       " 'https://www.flipkart.com/poco-m3-power-black-64-gb/product-reviews/itmb49cc10841be2?pid=MOBFZTCUTAYPJHHR&lid=LSTMOBFZTCUTAYPJHHR2ZVC1N&aid=overall&certifiedBuyer=false&sortOrder=NEGATIVE_FIRST&page=215',\n",
       " 'https://www.flipkart.com/poco-m3-power-black-64-gb/product-reviews/itmb49cc10841be2?pid=MOBFZTCUTAYPJHHR&lid=LSTMOBFZTCUTAYPJHHR2ZVC1N&aid=overall&certifiedBuyer=false&sortOrder=NEGATIVE_FIRST&page=216',\n",
       " 'https://www.flipkart.com/poco-m3-power-black-64-gb/product-reviews/itmb49cc10841be2?pid=MOBFZTCUTAYPJHHR&lid=LSTMOBFZTCUTAYPJHHR2ZVC1N&aid=overall&certifiedBuyer=false&sortOrder=NEGATIVE_FIRST&page=217',\n",
       " 'https://www.flipkart.com/poco-m3-power-black-64-gb/product-reviews/itmb49cc10841be2?pid=MOBFZTCUTAYPJHHR&lid=LSTMOBFZTCUTAYPJHHR2ZVC1N&aid=overall&certifiedBuyer=false&sortOrder=NEGATIVE_FIRST&page=218',\n",
       " 'https://www.flipkart.com/poco-m3-power-black-64-gb/product-reviews/itmb49cc10841be2?pid=MOBFZTCUTAYPJHHR&lid=LSTMOBFZTCUTAYPJHHR2ZVC1N&aid=overall&certifiedBuyer=false&sortOrder=NEGATIVE_FIRST&page=219',\n",
       " 'https://www.flipkart.com/poco-m3-power-black-64-gb/product-reviews/itmb49cc10841be2?pid=MOBFZTCUTAYPJHHR&lid=LSTMOBFZTCUTAYPJHHR2ZVC1N&aid=overall&certifiedBuyer=false&sortOrder=NEGATIVE_FIRST&page=220',\n",
       " 'https://www.flipkart.com/poco-m3-power-black-64-gb/product-reviews/itmb49cc10841be2?pid=MOBFZTCUTAYPJHHR&lid=LSTMOBFZTCUTAYPJHHR2ZVC1N&aid=overall&certifiedBuyer=false&sortOrder=NEGATIVE_FIRST&page=221',\n",
       " 'https://www.flipkart.com/poco-m3-power-black-64-gb/product-reviews/itmb49cc10841be2?pid=MOBFZTCUTAYPJHHR&lid=LSTMOBFZTCUTAYPJHHR2ZVC1N&aid=overall&certifiedBuyer=false&sortOrder=NEGATIVE_FIRST&page=221',\n",
       " 'https://www.flipkart.com/poco-m3-power-black-64-gb/product-reviews/itmb49cc10841be2?pid=MOBFZTCUTAYPJHHR&lid=LSTMOBFZTCUTAYPJHHR2ZVC1N&aid=overall&certifiedBuyer=false&sortOrder=NEGATIVE_FIRST&page=222',\n",
       " 'https://www.flipkart.com/poco-m3-power-black-64-gb/product-reviews/itmb49cc10841be2?pid=MOBFZTCUTAYPJHHR&lid=LSTMOBFZTCUTAYPJHHR2ZVC1N&aid=overall&certifiedBuyer=false&sortOrder=NEGATIVE_FIRST&page=222',\n",
       " 'https://www.flipkart.com/poco-m3-power-black-64-gb/product-reviews/itmb49cc10841be2?pid=MOBFZTCUTAYPJHHR&lid=LSTMOBFZTCUTAYPJHHR2ZVC1N&aid=overall&certifiedBuyer=false&sortOrder=NEGATIVE_FIRST&page=223',\n",
       " 'https://www.flipkart.com/poco-m3-power-black-64-gb/product-reviews/itmb49cc10841be2?pid=MOBFZTCUTAYPJHHR&lid=LSTMOBFZTCUTAYPJHHR2ZVC1N&aid=overall&certifiedBuyer=false&sortOrder=NEGATIVE_FIRST&page=224',\n",
       " 'https://www.flipkart.com/poco-m3-power-black-64-gb/product-reviews/itmb49cc10841be2?pid=MOBFZTCUTAYPJHHR&lid=LSTMOBFZTCUTAYPJHHR2ZVC1N&aid=overall&certifiedBuyer=false&sortOrder=NEGATIVE_FIRST&page=225',\n",
       " 'https://www.flipkart.com/poco-m3-power-black-64-gb/product-reviews/itmb49cc10841be2?pid=MOBFZTCUTAYPJHHR&lid=LSTMOBFZTCUTAYPJHHR2ZVC1N&aid=overall&certifiedBuyer=false&sortOrder=NEGATIVE_FIRST&page=226',\n",
       " 'https://www.flipkart.com/poco-m3-power-black-64-gb/product-reviews/itmb49cc10841be2?pid=MOBFZTCUTAYPJHHR&lid=LSTMOBFZTCUTAYPJHHR2ZVC1N&aid=overall&certifiedBuyer=false&sortOrder=NEGATIVE_FIRST&page=227',\n",
       " 'https://www.flipkart.com/poco-m3-power-black-64-gb/product-reviews/itmb49cc10841be2?pid=MOBFZTCUTAYPJHHR&lid=LSTMOBFZTCUTAYPJHHR2ZVC1N&aid=overall&certifiedBuyer=false&sortOrder=NEGATIVE_FIRST&page=228',\n",
       " 'https://www.flipkart.com/poco-m3-power-black-64-gb/product-reviews/itmb49cc10841be2?pid=MOBFZTCUTAYPJHHR&lid=LSTMOBFZTCUTAYPJHHR2ZVC1N&aid=overall&certifiedBuyer=false&sortOrder=NEGATIVE_FIRST&page=229',\n",
       " 'https://www.flipkart.com/poco-m3-power-black-64-gb/product-reviews/itmb49cc10841be2?pid=MOBFZTCUTAYPJHHR&lid=LSTMOBFZTCUTAYPJHHR2ZVC1N&aid=overall&certifiedBuyer=false&sortOrder=NEGATIVE_FIRST&page=230',\n",
       " 'https://www.flipkart.com/poco-m3-power-black-64-gb/product-reviews/itmb49cc10841be2?pid=MOBFZTCUTAYPJHHR&lid=LSTMOBFZTCUTAYPJHHR2ZVC1N&aid=overall&certifiedBuyer=false&sortOrder=NEGATIVE_FIRST&page=231',\n",
       " 'https://www.flipkart.com/poco-m3-power-black-64-gb/product-reviews/itmb49cc10841be2?pid=MOBFZTCUTAYPJHHR&lid=LSTMOBFZTCUTAYPJHHR2ZVC1N&aid=overall&certifiedBuyer=false&sortOrder=NEGATIVE_FIRST&page=231',\n",
       " 'https://www.flipkart.com/poco-m3-power-black-64-gb/product-reviews/itmb49cc10841be2?pid=MOBFZTCUTAYPJHHR&lid=LSTMOBFZTCUTAYPJHHR2ZVC1N&aid=overall&certifiedBuyer=false&sortOrder=NEGATIVE_FIRST&page=232',\n",
       " 'https://www.flipkart.com/poco-m3-power-black-64-gb/product-reviews/itmb49cc10841be2?pid=MOBFZTCUTAYPJHHR&lid=LSTMOBFZTCUTAYPJHHR2ZVC1N&aid=overall&certifiedBuyer=false&sortOrder=NEGATIVE_FIRST&page=233',\n",
       " 'https://www.flipkart.com/poco-m3-power-black-64-gb/product-reviews/itmb49cc10841be2?pid=MOBFZTCUTAYPJHHR&lid=LSTMOBFZTCUTAYPJHHR2ZVC1N&aid=overall&certifiedBuyer=false&sortOrder=NEGATIVE_FIRST&page=234',\n",
       " 'https://www.flipkart.com/poco-m3-power-black-64-gb/product-reviews/itmb49cc10841be2?pid=MOBFZTCUTAYPJHHR&lid=LSTMOBFZTCUTAYPJHHR2ZVC1N&aid=overall&certifiedBuyer=false&sortOrder=NEGATIVE_FIRST&page=235',\n",
       " 'https://www.flipkart.com/poco-m3-power-black-64-gb/product-reviews/itmb49cc10841be2?pid=MOBFZTCUTAYPJHHR&lid=LSTMOBFZTCUTAYPJHHR2ZVC1N&aid=overall&certifiedBuyer=false&sortOrder=NEGATIVE_FIRST&page=235',\n",
       " 'https://www.flipkart.com/poco-m3-power-black-64-gb/product-reviews/itmb49cc10841be2?pid=MOBFZTCUTAYPJHHR&lid=LSTMOBFZTCUTAYPJHHR2ZVC1N&aid=overall&certifiedBuyer=false&sortOrder=NEGATIVE_FIRST&page=236',\n",
       " 'https://www.flipkart.com/poco-m3-power-black-64-gb/product-reviews/itmb49cc10841be2?pid=MOBFZTCUTAYPJHHR&lid=LSTMOBFZTCUTAYPJHHR2ZVC1N&aid=overall&certifiedBuyer=false&sortOrder=NEGATIVE_FIRST&page=237',\n",
       " 'https://www.flipkart.com/poco-m3-power-black-64-gb/product-reviews/itmb49cc10841be2?pid=MOBFZTCUTAYPJHHR&lid=LSTMOBFZTCUTAYPJHHR2ZVC1N&aid=overall&certifiedBuyer=false&sortOrder=NEGATIVE_FIRST&page=238',\n",
       " 'https://www.flipkart.com/poco-m3-power-black-64-gb/product-reviews/itmb49cc10841be2?pid=MOBFZTCUTAYPJHHR&lid=LSTMOBFZTCUTAYPJHHR2ZVC1N&aid=overall&certifiedBuyer=false&sortOrder=NEGATIVE_FIRST&page=237',\n",
       " 'https://www.flipkart.com/poco-m3-power-black-64-gb/product-reviews/itmb49cc10841be2?pid=MOBFZTCUTAYPJHHR&lid=LSTMOBFZTCUTAYPJHHR2ZVC1N&aid=overall&certifiedBuyer=false&sortOrder=NEGATIVE_FIRST&page=238',\n",
       " 'https://www.flipkart.com/poco-m3-power-black-64-gb/product-reviews/itmb49cc10841be2?pid=MOBFZTCUTAYPJHHR&lid=LSTMOBFZTCUTAYPJHHR2ZVC1N&aid=overall&certifiedBuyer=false&sortOrder=NEGATIVE_FIRST&page=239',\n",
       " 'https://www.flipkart.com/poco-m3-power-black-64-gb/product-reviews/itmb49cc10841be2?pid=MOBFZTCUTAYPJHHR&lid=LSTMOBFZTCUTAYPJHHR2ZVC1N&aid=overall&certifiedBuyer=false&sortOrder=NEGATIVE_FIRST&page=239',\n",
       " 'https://www.flipkart.com/poco-m3-power-black-64-gb/product-reviews/itmb49cc10841be2?pid=MOBFZTCUTAYPJHHR&lid=LSTMOBFZTCUTAYPJHHR2ZVC1N&aid=overall&certifiedBuyer=false&sortOrder=NEGATIVE_FIRST&page=240',\n",
       " 'https://www.flipkart.com/poco-m3-power-black-64-gb/product-reviews/itmb49cc10841be2?pid=MOBFZTCUTAYPJHHR&lid=LSTMOBFZTCUTAYPJHHR2ZVC1N&aid=overall&certifiedBuyer=false&sortOrder=NEGATIVE_FIRST&page=241',\n",
       " 'https://www.flipkart.com/poco-m3-power-black-64-gb/product-reviews/itmb49cc10841be2?pid=MOBFZTCUTAYPJHHR&lid=LSTMOBFZTCUTAYPJHHR2ZVC1N&aid=overall&certifiedBuyer=false&sortOrder=NEGATIVE_FIRST&page=242',\n",
       " 'https://www.flipkart.com/poco-m3-power-black-64-gb/product-reviews/itmb49cc10841be2?pid=MOBFZTCUTAYPJHHR&lid=LSTMOBFZTCUTAYPJHHR2ZVC1N&aid=overall&certifiedBuyer=false&sortOrder=NEGATIVE_FIRST&page=243',\n",
       " 'https://www.flipkart.com/poco-m3-power-black-64-gb/product-reviews/itmb49cc10841be2?pid=MOBFZTCUTAYPJHHR&lid=LSTMOBFZTCUTAYPJHHR2ZVC1N&aid=overall&certifiedBuyer=false&sortOrder=NEGATIVE_FIRST&page=243',\n",
       " 'https://www.flipkart.com/poco-m3-power-black-64-gb/product-reviews/itmb49cc10841be2?pid=MOBFZTCUTAYPJHHR&lid=LSTMOBFZTCUTAYPJHHR2ZVC1N&aid=overall&certifiedBuyer=false&sortOrder=NEGATIVE_FIRST&page=244',\n",
       " 'https://www.flipkart.com/poco-m3-power-black-64-gb/product-reviews/itmb49cc10841be2?pid=MOBFZTCUTAYPJHHR&lid=LSTMOBFZTCUTAYPJHHR2ZVC1N&aid=overall&certifiedBuyer=false&sortOrder=NEGATIVE_FIRST&page=245',\n",
       " 'https://www.flipkart.com/poco-m3-power-black-64-gb/product-reviews/itmb49cc10841be2?pid=MOBFZTCUTAYPJHHR&lid=LSTMOBFZTCUTAYPJHHR2ZVC1N&aid=overall&certifiedBuyer=false&sortOrder=NEGATIVE_FIRST&page=246',\n",
       " 'https://www.flipkart.com/poco-m3-power-black-64-gb/product-reviews/itmb49cc10841be2?pid=MOBFZTCUTAYPJHHR&lid=LSTMOBFZTCUTAYPJHHR2ZVC1N&aid=overall&certifiedBuyer=false&sortOrder=NEGATIVE_FIRST&page=247',\n",
       " 'https://www.flipkart.com/poco-m3-power-black-64-gb/product-reviews/itmb49cc10841be2?pid=MOBFZTCUTAYPJHHR&lid=LSTMOBFZTCUTAYPJHHR2ZVC1N&aid=overall&certifiedBuyer=false&sortOrder=NEGATIVE_FIRST&page=248',\n",
       " 'https://www.flipkart.com/poco-m3-power-black-64-gb/product-reviews/itmb49cc10841be2?pid=MOBFZTCUTAYPJHHR&lid=LSTMOBFZTCUTAYPJHHR2ZVC1N&aid=overall&certifiedBuyer=false&sortOrder=NEGATIVE_FIRST&page=249',\n",
       " 'https://www.flipkart.com/poco-m3-power-black-64-gb/product-reviews/itmb49cc10841be2?pid=MOBFZTCUTAYPJHHR&lid=LSTMOBFZTCUTAYPJHHR2ZVC1N&aid=overall&certifiedBuyer=false&sortOrder=NEGATIVE_FIRST&page=250',\n",
       " 'https://www.flipkart.com/poco-m3-power-black-64-gb/product-reviews/itmb49cc10841be2?pid=MOBFZTCUTAYPJHHR&lid=LSTMOBFZTCUTAYPJHHR2ZVC1N&aid=overall&certifiedBuyer=false&sortOrder=NEGATIVE_FIRST&page=251',\n",
       " 'https://www.flipkart.com/poco-m3-power-black-64-gb/product-reviews/itmb49cc10841be2?pid=MOBFZTCUTAYPJHHR&lid=LSTMOBFZTCUTAYPJHHR2ZVC1N&aid=overall&certifiedBuyer=false&sortOrder=NEGATIVE_FIRST&page=251',\n",
       " 'https://www.flipkart.com/poco-m3-power-black-64-gb/product-reviews/itmb49cc10841be2?pid=MOBFZTCUTAYPJHHR&lid=LSTMOBFZTCUTAYPJHHR2ZVC1N&aid=overall&certifiedBuyer=false&sortOrder=NEGATIVE_FIRST&page=252',\n",
       " 'https://www.flipkart.com/poco-m3-power-black-64-gb/product-reviews/itmb49cc10841be2?pid=MOBFZTCUTAYPJHHR&lid=LSTMOBFZTCUTAYPJHHR2ZVC1N&aid=overall&certifiedBuyer=false&sortOrder=NEGATIVE_FIRST&page=253',\n",
       " 'https://www.flipkart.com/poco-m3-power-black-64-gb/product-reviews/itmb49cc10841be2?pid=MOBFZTCUTAYPJHHR&lid=LSTMOBFZTCUTAYPJHHR2ZVC1N&aid=overall&certifiedBuyer=false&sortOrder=NEGATIVE_FIRST&page=254',\n",
       " 'https://www.flipkart.com/poco-m3-power-black-64-gb/product-reviews/itmb49cc10841be2?pid=MOBFZTCUTAYPJHHR&lid=LSTMOBFZTCUTAYPJHHR2ZVC1N&aid=overall&certifiedBuyer=false&sortOrder=NEGATIVE_FIRST&page=255',\n",
       " 'https://www.flipkart.com/poco-m3-power-black-64-gb/product-reviews/itmb49cc10841be2?pid=MOBFZTCUTAYPJHHR&lid=LSTMOBFZTCUTAYPJHHR2ZVC1N&aid=overall&certifiedBuyer=false&sortOrder=NEGATIVE_FIRST&page=256',\n",
       " 'https://www.flipkart.com/poco-m3-power-black-64-gb/product-reviews/itmb49cc10841be2?pid=MOBFZTCUTAYPJHHR&lid=LSTMOBFZTCUTAYPJHHR2ZVC1N&aid=overall&certifiedBuyer=false&sortOrder=NEGATIVE_FIRST&page=256',\n",
       " 'https://www.flipkart.com/poco-m3-power-black-64-gb/product-reviews/itmb49cc10841be2?pid=MOBFZTCUTAYPJHHR&lid=LSTMOBFZTCUTAYPJHHR2ZVC1N&aid=overall&certifiedBuyer=false&sortOrder=NEGATIVE_FIRST&page=257',\n",
       " 'https://www.flipkart.com/poco-m3-power-black-64-gb/product-reviews/itmb49cc10841be2?pid=MOBFZTCUTAYPJHHR&lid=LSTMOBFZTCUTAYPJHHR2ZVC1N&aid=overall&certifiedBuyer=false&sortOrder=NEGATIVE_FIRST&page=258',\n",
       " 'https://www.flipkart.com/poco-m3-power-black-64-gb/product-reviews/itmb49cc10841be2?pid=MOBFZTCUTAYPJHHR&lid=LSTMOBFZTCUTAYPJHHR2ZVC1N&aid=overall&certifiedBuyer=false&sortOrder=NEGATIVE_FIRST&page=259',\n",
       " 'https://www.flipkart.com/poco-m3-power-black-64-gb/product-reviews/itmb49cc10841be2?pid=MOBFZTCUTAYPJHHR&lid=LSTMOBFZTCUTAYPJHHR2ZVC1N&aid=overall&certifiedBuyer=false&sortOrder=NEGATIVE_FIRST&page=260',\n",
       " 'https://www.flipkart.com/poco-m3-power-black-64-gb/product-reviews/itmb49cc10841be2?pid=MOBFZTCUTAYPJHHR&lid=LSTMOBFZTCUTAYPJHHR2ZVC1N&aid=overall&certifiedBuyer=false&sortOrder=NEGATIVE_FIRST&page=260',\n",
       " 'https://www.flipkart.com/poco-m3-power-black-64-gb/product-reviews/itmb49cc10841be2?pid=MOBFZTCUTAYPJHHR&lid=LSTMOBFZTCUTAYPJHHR2ZVC1N&aid=overall&certifiedBuyer=false&sortOrder=NEGATIVE_FIRST&page=261',\n",
       " 'https://www.flipkart.com/poco-m3-power-black-64-gb/product-reviews/itmb49cc10841be2?pid=MOBFZTCUTAYPJHHR&lid=LSTMOBFZTCUTAYPJHHR2ZVC1N&aid=overall&certifiedBuyer=false&sortOrder=NEGATIVE_FIRST&page=262',\n",
       " 'https://www.flipkart.com/poco-m3-power-black-64-gb/product-reviews/itmb49cc10841be2?pid=MOBFZTCUTAYPJHHR&lid=LSTMOBFZTCUTAYPJHHR2ZVC1N&aid=overall&certifiedBuyer=false&sortOrder=NEGATIVE_FIRST&page=263',\n",
       " 'https://www.flipkart.com/poco-m3-power-black-64-gb/product-reviews/itmb49cc10841be2?pid=MOBFZTCUTAYPJHHR&lid=LSTMOBFZTCUTAYPJHHR2ZVC1N&aid=overall&certifiedBuyer=false&sortOrder=NEGATIVE_FIRST&page=264',\n",
       " 'https://www.flipkart.com/poco-m3-power-black-64-gb/product-reviews/itmb49cc10841be2?pid=MOBFZTCUTAYPJHHR&lid=LSTMOBFZTCUTAYPJHHR2ZVC1N&aid=overall&certifiedBuyer=false&sortOrder=NEGATIVE_FIRST&page=265',\n",
       " 'https://www.flipkart.com/poco-m3-power-black-64-gb/product-reviews/itmb49cc10841be2?pid=MOBFZTCUTAYPJHHR&lid=LSTMOBFZTCUTAYPJHHR2ZVC1N&aid=overall&certifiedBuyer=false&sortOrder=NEGATIVE_FIRST&page=266',\n",
       " 'https://www.flipkart.com/poco-m3-power-black-64-gb/product-reviews/itmb49cc10841be2?pid=MOBFZTCUTAYPJHHR&lid=LSTMOBFZTCUTAYPJHHR2ZVC1N&aid=overall&certifiedBuyer=false&sortOrder=NEGATIVE_FIRST&page=267',\n",
       " 'https://www.flipkart.com/poco-m3-power-black-64-gb/product-reviews/itmb49cc10841be2?pid=MOBFZTCUTAYPJHHR&lid=LSTMOBFZTCUTAYPJHHR2ZVC1N&aid=overall&certifiedBuyer=false&sortOrder=NEGATIVE_FIRST&page=268',\n",
       " 'https://www.flipkart.com/poco-m3-power-black-64-gb/product-reviews/itmb49cc10841be2?pid=MOBFZTCUTAYPJHHR&lid=LSTMOBFZTCUTAYPJHHR2ZVC1N&aid=overall&certifiedBuyer=false&sortOrder=NEGATIVE_FIRST&page=269',\n",
       " 'https://www.flipkart.com/poco-m3-power-black-64-gb/product-reviews/itmb49cc10841be2?pid=MOBFZTCUTAYPJHHR&lid=LSTMOBFZTCUTAYPJHHR2ZVC1N&aid=overall&certifiedBuyer=false&sortOrder=NEGATIVE_FIRST&page=269',\n",
       " 'https://www.flipkart.com/poco-m3-power-black-64-gb/product-reviews/itmb49cc10841be2?pid=MOBFZTCUTAYPJHHR&lid=LSTMOBFZTCUTAYPJHHR2ZVC1N&aid=overall&certifiedBuyer=false&sortOrder=NEGATIVE_FIRST&page=270',\n",
       " 'https://www.flipkart.com/poco-m3-power-black-64-gb/product-reviews/itmb49cc10841be2?pid=MOBFZTCUTAYPJHHR&lid=LSTMOBFZTCUTAYPJHHR2ZVC1N&aid=overall&certifiedBuyer=false&sortOrder=NEGATIVE_FIRST&page=270',\n",
       " 'https://www.flipkart.com/poco-m3-power-black-64-gb/product-reviews/itmb49cc10841be2?pid=MOBFZTCUTAYPJHHR&lid=LSTMOBFZTCUTAYPJHHR2ZVC1N&aid=overall&certifiedBuyer=false&sortOrder=NEGATIVE_FIRST&page=271',\n",
       " 'https://www.flipkart.com/poco-m3-power-black-64-gb/product-reviews/itmb49cc10841be2?pid=MOBFZTCUTAYPJHHR&lid=LSTMOBFZTCUTAYPJHHR2ZVC1N&aid=overall&certifiedBuyer=false&sortOrder=NEGATIVE_FIRST&page=272',\n",
       " 'https://www.flipkart.com/poco-m3-power-black-64-gb/product-reviews/itmb49cc10841be2?pid=MOBFZTCUTAYPJHHR&lid=LSTMOBFZTCUTAYPJHHR2ZVC1N&aid=overall&certifiedBuyer=false&sortOrder=NEGATIVE_FIRST&page=273',\n",
       " 'https://www.flipkart.com/poco-m3-power-black-64-gb/product-reviews/itmb49cc10841be2?pid=MOBFZTCUTAYPJHHR&lid=LSTMOBFZTCUTAYPJHHR2ZVC1N&aid=overall&certifiedBuyer=false&sortOrder=NEGATIVE_FIRST&page=274',\n",
       " 'https://www.flipkart.com/poco-m3-power-black-64-gb/product-reviews/itmb49cc10841be2?pid=MOBFZTCUTAYPJHHR&lid=LSTMOBFZTCUTAYPJHHR2ZVC1N&aid=overall&certifiedBuyer=false&sortOrder=NEGATIVE_FIRST&page=275',\n",
       " 'https://www.flipkart.com/poco-m3-power-black-64-gb/product-reviews/itmb49cc10841be2?pid=MOBFZTCUTAYPJHHR&lid=LSTMOBFZTCUTAYPJHHR2ZVC1N&aid=overall&certifiedBuyer=false&sortOrder=NEGATIVE_FIRST&page=276',\n",
       " 'https://www.flipkart.com/poco-m3-power-black-64-gb/product-reviews/itmb49cc10841be2?pid=MOBFZTCUTAYPJHHR&lid=LSTMOBFZTCUTAYPJHHR2ZVC1N&aid=overall&certifiedBuyer=false&sortOrder=NEGATIVE_FIRST&page=277',\n",
       " 'https://www.flipkart.com/poco-m3-power-black-64-gb/product-reviews/itmb49cc10841be2?pid=MOBFZTCUTAYPJHHR&lid=LSTMOBFZTCUTAYPJHHR2ZVC1N&aid=overall&certifiedBuyer=false&sortOrder=NEGATIVE_FIRST&page=277',\n",
       " 'https://www.flipkart.com/poco-m3-power-black-64-gb/product-reviews/itmb49cc10841be2?pid=MOBFZTCUTAYPJHHR&lid=LSTMOBFZTCUTAYPJHHR2ZVC1N&aid=overall&certifiedBuyer=false&sortOrder=NEGATIVE_FIRST&page=278',\n",
       " 'https://www.flipkart.com/poco-m3-power-black-64-gb/product-reviews/itmb49cc10841be2?pid=MOBFZTCUTAYPJHHR&lid=LSTMOBFZTCUTAYPJHHR2ZVC1N&aid=overall&certifiedBuyer=false&sortOrder=NEGATIVE_FIRST&page=279',\n",
       " 'https://www.flipkart.com/poco-m3-power-black-64-gb/product-reviews/itmb49cc10841be2?pid=MOBFZTCUTAYPJHHR&lid=LSTMOBFZTCUTAYPJHHR2ZVC1N&aid=overall&certifiedBuyer=false&sortOrder=NEGATIVE_FIRST&page=280',\n",
       " 'https://www.flipkart.com/poco-m3-power-black-64-gb/product-reviews/itmb49cc10841be2?pid=MOBFZTCUTAYPJHHR&lid=LSTMOBFZTCUTAYPJHHR2ZVC1N&aid=overall&certifiedBuyer=false&sortOrder=NEGATIVE_FIRST&page=281',\n",
       " 'https://www.flipkart.com/poco-m3-power-black-64-gb/product-reviews/itmb49cc10841be2?pid=MOBFZTCUTAYPJHHR&lid=LSTMOBFZTCUTAYPJHHR2ZVC1N&aid=overall&certifiedBuyer=false&sortOrder=NEGATIVE_FIRST&page=281',\n",
       " 'https://www.flipkart.com/poco-m3-power-black-64-gb/product-reviews/itmb49cc10841be2?pid=MOBFZTCUTAYPJHHR&lid=LSTMOBFZTCUTAYPJHHR2ZVC1N&aid=overall&certifiedBuyer=false&sortOrder=NEGATIVE_FIRST&page=282',\n",
       " 'https://www.flipkart.com/poco-m3-power-black-64-gb/product-reviews/itmb49cc10841be2?pid=MOBFZTCUTAYPJHHR&lid=LSTMOBFZTCUTAYPJHHR2ZVC1N&aid=overall&certifiedBuyer=false&sortOrder=NEGATIVE_FIRST&page=283',\n",
       " 'https://www.flipkart.com/poco-m3-power-black-64-gb/product-reviews/itmb49cc10841be2?pid=MOBFZTCUTAYPJHHR&lid=LSTMOBFZTCUTAYPJHHR2ZVC1N&aid=overall&certifiedBuyer=false&sortOrder=NEGATIVE_FIRST&page=283',\n",
       " 'https://www.flipkart.com/poco-m3-power-black-64-gb/product-reviews/itmb49cc10841be2?pid=MOBFZTCUTAYPJHHR&lid=LSTMOBFZTCUTAYPJHHR2ZVC1N&aid=overall&certifiedBuyer=false&sortOrder=NEGATIVE_FIRST&page=284',\n",
       " 'https://www.flipkart.com/poco-m3-power-black-64-gb/product-reviews/itmb49cc10841be2?pid=MOBFZTCUTAYPJHHR&lid=LSTMOBFZTCUTAYPJHHR2ZVC1N&aid=overall&certifiedBuyer=false&sortOrder=NEGATIVE_FIRST&page=285',\n",
       " 'https://www.flipkart.com/poco-m3-power-black-64-gb/product-reviews/itmb49cc10841be2?pid=MOBFZTCUTAYPJHHR&lid=LSTMOBFZTCUTAYPJHHR2ZVC1N&aid=overall&certifiedBuyer=false&sortOrder=NEGATIVE_FIRST&page=286',\n",
       " 'https://www.flipkart.com/poco-m3-power-black-64-gb/product-reviews/itmb49cc10841be2?pid=MOBFZTCUTAYPJHHR&lid=LSTMOBFZTCUTAYPJHHR2ZVC1N&aid=overall&certifiedBuyer=false&sortOrder=NEGATIVE_FIRST&page=287',\n",
       " 'https://www.flipkart.com/poco-m3-power-black-64-gb/product-reviews/itmb49cc10841be2?pid=MOBFZTCUTAYPJHHR&lid=LSTMOBFZTCUTAYPJHHR2ZVC1N&aid=overall&certifiedBuyer=false&sortOrder=NEGATIVE_FIRST&page=288',\n",
       " 'https://www.flipkart.com/poco-m3-power-black-64-gb/product-reviews/itmb49cc10841be2?pid=MOBFZTCUTAYPJHHR&lid=LSTMOBFZTCUTAYPJHHR2ZVC1N&aid=overall&certifiedBuyer=false&sortOrder=NEGATIVE_FIRST&page=289',\n",
       " 'https://www.flipkart.com/poco-m3-power-black-64-gb/product-reviews/itmb49cc10841be2?pid=MOBFZTCUTAYPJHHR&lid=LSTMOBFZTCUTAYPJHHR2ZVC1N&aid=overall&certifiedBuyer=false&sortOrder=NEGATIVE_FIRST&page=290',\n",
       " 'https://www.flipkart.com/poco-m3-power-black-64-gb/product-reviews/itmb49cc10841be2?pid=MOBFZTCUTAYPJHHR&lid=LSTMOBFZTCUTAYPJHHR2ZVC1N&aid=overall&certifiedBuyer=false&sortOrder=NEGATIVE_FIRST&page=291',\n",
       " 'https://www.flipkart.com/poco-m3-power-black-64-gb/product-reviews/itmb49cc10841be2?pid=MOBFZTCUTAYPJHHR&lid=LSTMOBFZTCUTAYPJHHR2ZVC1N&aid=overall&certifiedBuyer=false&sortOrder=NEGATIVE_FIRST&page=292',\n",
       " 'https://www.flipkart.com/poco-m3-power-black-64-gb/product-reviews/itmb49cc10841be2?pid=MOBFZTCUTAYPJHHR&lid=LSTMOBFZTCUTAYPJHHR2ZVC1N&aid=overall&certifiedBuyer=false&sortOrder=NEGATIVE_FIRST&page=293',\n",
       " 'https://www.flipkart.com/poco-m3-power-black-64-gb/product-reviews/itmb49cc10841be2?pid=MOBFZTCUTAYPJHHR&lid=LSTMOBFZTCUTAYPJHHR2ZVC1N&aid=overall&certifiedBuyer=false&sortOrder=NEGATIVE_FIRST&page=294',\n",
       " 'https://www.flipkart.com/poco-m3-power-black-64-gb/product-reviews/itmb49cc10841be2?pid=MOBFZTCUTAYPJHHR&lid=LSTMOBFZTCUTAYPJHHR2ZVC1N&aid=overall&certifiedBuyer=false&sortOrder=NEGATIVE_FIRST&page=295',\n",
       " 'https://www.flipkart.com/poco-m3-power-black-64-gb/product-reviews/itmb49cc10841be2?pid=MOBFZTCUTAYPJHHR&lid=LSTMOBFZTCUTAYPJHHR2ZVC1N&aid=overall&certifiedBuyer=false&sortOrder=NEGATIVE_FIRST&page=296',\n",
       " 'https://www.flipkart.com/poco-m3-power-black-64-gb/product-reviews/itmb49cc10841be2?pid=MOBFZTCUTAYPJHHR&lid=LSTMOBFZTCUTAYPJHHR2ZVC1N&aid=overall&certifiedBuyer=false&sortOrder=NEGATIVE_FIRST&page=296',\n",
       " 'https://www.flipkart.com/poco-m3-power-black-64-gb/product-reviews/itmb49cc10841be2?pid=MOBFZTCUTAYPJHHR&lid=LSTMOBFZTCUTAYPJHHR2ZVC1N&aid=overall&certifiedBuyer=false&sortOrder=NEGATIVE_FIRST&page=297',\n",
       " 'https://www.flipkart.com/poco-m3-power-black-64-gb/product-reviews/itmb49cc10841be2?pid=MOBFZTCUTAYPJHHR&lid=LSTMOBFZTCUTAYPJHHR2ZVC1N&aid=overall&certifiedBuyer=false&sortOrder=NEGATIVE_FIRST&page=298',\n",
       " 'https://www.flipkart.com/poco-m3-power-black-64-gb/product-reviews/itmb49cc10841be2?pid=MOBFZTCUTAYPJHHR&lid=LSTMOBFZTCUTAYPJHHR2ZVC1N&aid=overall&certifiedBuyer=false&sortOrder=NEGATIVE_FIRST&page=299',\n",
       " 'https://www.flipkart.com/poco-m3-power-black-64-gb/product-reviews/itmb49cc10841be2?pid=MOBFZTCUTAYPJHHR&lid=LSTMOBFZTCUTAYPJHHR2ZVC1N&aid=overall&certifiedBuyer=false&sortOrder=NEGATIVE_FIRST&page=300',\n",
       " 'https://www.flipkart.com/poco-m3-power-black-64-gb/product-reviews/itmb49cc10841be2?pid=MOBFZTCUTAYPJHHR&lid=LSTMOBFZTCUTAYPJHHR2ZVC1N&aid=overall&certifiedBuyer=false&sortOrder=NEGATIVE_FIRST&page=301',\n",
       " 'https://www.flipkart.com/poco-m3-power-black-64-gb/product-reviews/itmb49cc10841be2?pid=MOBFZTCUTAYPJHHR&lid=LSTMOBFZTCUTAYPJHHR2ZVC1N&aid=overall&certifiedBuyer=false&sortOrder=NEGATIVE_FIRST&page=302',\n",
       " 'https://www.flipkart.com/poco-m3-power-black-64-gb/product-reviews/itmb49cc10841be2?pid=MOBFZTCUTAYPJHHR&lid=LSTMOBFZTCUTAYPJHHR2ZVC1N&aid=overall&certifiedBuyer=false&sortOrder=NEGATIVE_FIRST&page=303',\n",
       " 'https://www.flipkart.com/poco-m3-power-black-64-gb/product-reviews/itmb49cc10841be2?pid=MOBFZTCUTAYPJHHR&lid=LSTMOBFZTCUTAYPJHHR2ZVC1N&aid=overall&certifiedBuyer=false&sortOrder=NEGATIVE_FIRST&page=304',\n",
       " 'https://www.flipkart.com/poco-m3-power-black-64-gb/product-reviews/itmb49cc10841be2?pid=MOBFZTCUTAYPJHHR&lid=LSTMOBFZTCUTAYPJHHR2ZVC1N&aid=overall&certifiedBuyer=false&sortOrder=NEGATIVE_FIRST&page=305',\n",
       " 'https://www.flipkart.com/poco-m3-power-black-64-gb/product-reviews/itmb49cc10841be2?pid=MOBFZTCUTAYPJHHR&lid=LSTMOBFZTCUTAYPJHHR2ZVC1N&aid=overall&certifiedBuyer=false&sortOrder=NEGATIVE_FIRST&page=306',\n",
       " 'https://www.flipkart.com/poco-m3-power-black-64-gb/product-reviews/itmb49cc10841be2?pid=MOBFZTCUTAYPJHHR&lid=LSTMOBFZTCUTAYPJHHR2ZVC1N&aid=overall&certifiedBuyer=false&sortOrder=NEGATIVE_FIRST&page=307',\n",
       " 'https://www.flipkart.com/poco-m3-power-black-64-gb/product-reviews/itmb49cc10841be2?pid=MOBFZTCUTAYPJHHR&lid=LSTMOBFZTCUTAYPJHHR2ZVC1N&aid=overall&certifiedBuyer=false&sortOrder=NEGATIVE_FIRST&page=308',\n",
       " 'https://www.flipkart.com/poco-m3-power-black-64-gb/product-reviews/itmb49cc10841be2?pid=MOBFZTCUTAYPJHHR&lid=LSTMOBFZTCUTAYPJHHR2ZVC1N&aid=overall&certifiedBuyer=false&sortOrder=NEGATIVE_FIRST&page=309',\n",
       " 'https://www.flipkart.com/poco-m3-power-black-64-gb/product-reviews/itmb49cc10841be2?pid=MOBFZTCUTAYPJHHR&lid=LSTMOBFZTCUTAYPJHHR2ZVC1N&aid=overall&certifiedBuyer=false&sortOrder=NEGATIVE_FIRST&page=309',\n",
       " 'https://www.flipkart.com/poco-m3-power-black-64-gb/product-reviews/itmb49cc10841be2?pid=MOBFZTCUTAYPJHHR&lid=LSTMOBFZTCUTAYPJHHR2ZVC1N&aid=overall&certifiedBuyer=false&sortOrder=NEGATIVE_FIRST&page=310',\n",
       " 'https://www.flipkart.com/poco-m3-power-black-64-gb/product-reviews/itmb49cc10841be2?pid=MOBFZTCUTAYPJHHR&lid=LSTMOBFZTCUTAYPJHHR2ZVC1N&aid=overall&certifiedBuyer=false&sortOrder=NEGATIVE_FIRST&page=311',\n",
       " 'https://www.flipkart.com/poco-m3-power-black-64-gb/product-reviews/itmb49cc10841be2?pid=MOBFZTCUTAYPJHHR&lid=LSTMOBFZTCUTAYPJHHR2ZVC1N&aid=overall&certifiedBuyer=false&sortOrder=NEGATIVE_FIRST&page=312',\n",
       " 'https://www.flipkart.com/poco-m3-power-black-64-gb/product-reviews/itmb49cc10841be2?pid=MOBFZTCUTAYPJHHR&lid=LSTMOBFZTCUTAYPJHHR2ZVC1N&aid=overall&certifiedBuyer=false&sortOrder=NEGATIVE_FIRST&page=313',\n",
       " 'https://www.flipkart.com/poco-m3-power-black-64-gb/product-reviews/itmb49cc10841be2?pid=MOBFZTCUTAYPJHHR&lid=LSTMOBFZTCUTAYPJHHR2ZVC1N&aid=overall&certifiedBuyer=false&sortOrder=NEGATIVE_FIRST&page=313',\n",
       " 'https://www.flipkart.com/poco-m3-power-black-64-gb/product-reviews/itmb49cc10841be2?pid=MOBFZTCUTAYPJHHR&lid=LSTMOBFZTCUTAYPJHHR2ZVC1N&aid=overall&certifiedBuyer=false&sortOrder=NEGATIVE_FIRST&page=314',\n",
       " 'https://www.flipkart.com/poco-m3-power-black-64-gb/product-reviews/itmb49cc10841be2?pid=MOBFZTCUTAYPJHHR&lid=LSTMOBFZTCUTAYPJHHR2ZVC1N&aid=overall&certifiedBuyer=false&sortOrder=NEGATIVE_FIRST&page=315',\n",
       " 'https://www.flipkart.com/poco-m3-power-black-64-gb/product-reviews/itmb49cc10841be2?pid=MOBFZTCUTAYPJHHR&lid=LSTMOBFZTCUTAYPJHHR2ZVC1N&aid=overall&certifiedBuyer=false&sortOrder=NEGATIVE_FIRST&page=316',\n",
       " 'https://www.flipkart.com/poco-m3-power-black-64-gb/product-reviews/itmb49cc10841be2?pid=MOBFZTCUTAYPJHHR&lid=LSTMOBFZTCUTAYPJHHR2ZVC1N&aid=overall&certifiedBuyer=false&sortOrder=NEGATIVE_FIRST&page=317',\n",
       " 'https://www.flipkart.com/poco-m3-power-black-64-gb/product-reviews/itmb49cc10841be2?pid=MOBFZTCUTAYPJHHR&lid=LSTMOBFZTCUTAYPJHHR2ZVC1N&aid=overall&certifiedBuyer=false&sortOrder=NEGATIVE_FIRST&page=318',\n",
       " 'https://www.flipkart.com/poco-m3-power-black-64-gb/product-reviews/itmb49cc10841be2?pid=MOBFZTCUTAYPJHHR&lid=LSTMOBFZTCUTAYPJHHR2ZVC1N&aid=overall&certifiedBuyer=false&sortOrder=NEGATIVE_FIRST&page=319',\n",
       " 'https://www.flipkart.com/poco-m3-power-black-64-gb/product-reviews/itmb49cc10841be2?pid=MOBFZTCUTAYPJHHR&lid=LSTMOBFZTCUTAYPJHHR2ZVC1N&aid=overall&certifiedBuyer=false&sortOrder=NEGATIVE_FIRST&page=320',\n",
       " 'https://www.flipkart.com/poco-m3-power-black-64-gb/product-reviews/itmb49cc10841be2?pid=MOBFZTCUTAYPJHHR&lid=LSTMOBFZTCUTAYPJHHR2ZVC1N&aid=overall&certifiedBuyer=false&sortOrder=NEGATIVE_FIRST&page=321',\n",
       " 'https://www.flipkart.com/poco-m3-power-black-64-gb/product-reviews/itmb49cc10841be2?pid=MOBFZTCUTAYPJHHR&lid=LSTMOBFZTCUTAYPJHHR2ZVC1N&aid=overall&certifiedBuyer=false&sortOrder=NEGATIVE_FIRST&page=322',\n",
       " 'https://www.flipkart.com/poco-m3-power-black-64-gb/product-reviews/itmb49cc10841be2?pid=MOBFZTCUTAYPJHHR&lid=LSTMOBFZTCUTAYPJHHR2ZVC1N&aid=overall&certifiedBuyer=false&sortOrder=NEGATIVE_FIRST&page=323',\n",
       " 'https://www.flipkart.com/poco-m3-power-black-64-gb/product-reviews/itmb49cc10841be2?pid=MOBFZTCUTAYPJHHR&lid=LSTMOBFZTCUTAYPJHHR2ZVC1N&aid=overall&certifiedBuyer=false&sortOrder=NEGATIVE_FIRST&page=324',\n",
       " 'https://www.flipkart.com/poco-m3-power-black-64-gb/product-reviews/itmb49cc10841be2?pid=MOBFZTCUTAYPJHHR&lid=LSTMOBFZTCUTAYPJHHR2ZVC1N&aid=overall&certifiedBuyer=false&sortOrder=NEGATIVE_FIRST&page=325',\n",
       " 'https://www.flipkart.com/poco-m3-power-black-64-gb/product-reviews/itmb49cc10841be2?pid=MOBFZTCUTAYPJHHR&lid=LSTMOBFZTCUTAYPJHHR2ZVC1N&aid=overall&certifiedBuyer=false&sortOrder=NEGATIVE_FIRST&page=326',\n",
       " 'https://www.flipkart.com/poco-m3-power-black-64-gb/product-reviews/itmb49cc10841be2?pid=MOBFZTCUTAYPJHHR&lid=LSTMOBFZTCUTAYPJHHR2ZVC1N&aid=overall&certifiedBuyer=false&sortOrder=NEGATIVE_FIRST&page=327',\n",
       " 'https://www.flipkart.com/poco-m3-power-black-64-gb/product-reviews/itmb49cc10841be2?pid=MOBFZTCUTAYPJHHR&lid=LSTMOBFZTCUTAYPJHHR2ZVC1N&aid=overall&certifiedBuyer=false&sortOrder=NEGATIVE_FIRST&page=328',\n",
       " 'https://www.flipkart.com/poco-m3-power-black-64-gb/product-reviews/itmb49cc10841be2?pid=MOBFZTCUTAYPJHHR&lid=LSTMOBFZTCUTAYPJHHR2ZVC1N&aid=overall&certifiedBuyer=false&sortOrder=NEGATIVE_FIRST&page=329',\n",
       " 'https://www.flipkart.com/poco-m3-power-black-64-gb/product-reviews/itmb49cc10841be2?pid=MOBFZTCUTAYPJHHR&lid=LSTMOBFZTCUTAYPJHHR2ZVC1N&aid=overall&certifiedBuyer=false&sortOrder=NEGATIVE_FIRST&page=330',\n",
       " 'https://www.flipkart.com/poco-m3-power-black-64-gb/product-reviews/itmb49cc10841be2?pid=MOBFZTCUTAYPJHHR&lid=LSTMOBFZTCUTAYPJHHR2ZVC1N&aid=overall&certifiedBuyer=false&sortOrder=NEGATIVE_FIRST&page=330',\n",
       " 'https://www.flipkart.com/poco-m3-power-black-64-gb/product-reviews/itmb49cc10841be2?pid=MOBFZTCUTAYPJHHR&lid=LSTMOBFZTCUTAYPJHHR2ZVC1N&aid=overall&certifiedBuyer=false&sortOrder=NEGATIVE_FIRST&page=331',\n",
       " 'https://www.flipkart.com/poco-m3-power-black-64-gb/product-reviews/itmb49cc10841be2?pid=MOBFZTCUTAYPJHHR&lid=LSTMOBFZTCUTAYPJHHR2ZVC1N&aid=overall&certifiedBuyer=false&sortOrder=NEGATIVE_FIRST&page=332',\n",
       " 'https://www.flipkart.com/poco-m3-power-black-64-gb/product-reviews/itmb49cc10841be2?pid=MOBFZTCUTAYPJHHR&lid=LSTMOBFZTCUTAYPJHHR2ZVC1N&aid=overall&certifiedBuyer=false&sortOrder=NEGATIVE_FIRST&page=333',\n",
       " 'https://www.flipkart.com/poco-m3-power-black-64-gb/product-reviews/itmb49cc10841be2?pid=MOBFZTCUTAYPJHHR&lid=LSTMOBFZTCUTAYPJHHR2ZVC1N&aid=overall&certifiedBuyer=false&sortOrder=NEGATIVE_FIRST&page=334',\n",
       " 'https://www.flipkart.com/poco-m3-power-black-64-gb/product-reviews/itmb49cc10841be2?pid=MOBFZTCUTAYPJHHR&lid=LSTMOBFZTCUTAYPJHHR2ZVC1N&aid=overall&certifiedBuyer=false&sortOrder=NEGATIVE_FIRST&page=335',\n",
       " 'https://www.flipkart.com/poco-m3-power-black-64-gb/product-reviews/itmb49cc10841be2?pid=MOBFZTCUTAYPJHHR&lid=LSTMOBFZTCUTAYPJHHR2ZVC1N&aid=overall&certifiedBuyer=false&sortOrder=NEGATIVE_FIRST&page=336',\n",
       " 'https://www.flipkart.com/poco-m3-power-black-64-gb/product-reviews/itmb49cc10841be2?pid=MOBFZTCUTAYPJHHR&lid=LSTMOBFZTCUTAYPJHHR2ZVC1N&aid=overall&certifiedBuyer=false&sortOrder=NEGATIVE_FIRST&page=337',\n",
       " 'https://www.flipkart.com/poco-m3-power-black-64-gb/product-reviews/itmb49cc10841be2?pid=MOBFZTCUTAYPJHHR&lid=LSTMOBFZTCUTAYPJHHR2ZVC1N&aid=overall&certifiedBuyer=false&sortOrder=NEGATIVE_FIRST&page=337',\n",
       " 'https://www.flipkart.com/poco-m3-power-black-64-gb/product-reviews/itmb49cc10841be2?pid=MOBFZTCUTAYPJHHR&lid=LSTMOBFZTCUTAYPJHHR2ZVC1N&aid=overall&certifiedBuyer=false&sortOrder=NEGATIVE_FIRST&page=338',\n",
       " 'https://www.flipkart.com/poco-m3-power-black-64-gb/product-reviews/itmb49cc10841be2?pid=MOBFZTCUTAYPJHHR&lid=LSTMOBFZTCUTAYPJHHR2ZVC1N&aid=overall&certifiedBuyer=false&sortOrder=NEGATIVE_FIRST&page=339',\n",
       " 'https://www.flipkart.com/poco-m3-power-black-64-gb/product-reviews/itmb49cc10841be2?pid=MOBFZTCUTAYPJHHR&lid=LSTMOBFZTCUTAYPJHHR2ZVC1N&aid=overall&certifiedBuyer=false&sortOrder=NEGATIVE_FIRST&page=340',\n",
       " 'https://www.flipkart.com/poco-m3-power-black-64-gb/product-reviews/itmb49cc10841be2?pid=MOBFZTCUTAYPJHHR&lid=LSTMOBFZTCUTAYPJHHR2ZVC1N&aid=overall&certifiedBuyer=false&sortOrder=NEGATIVE_FIRST&page=341',\n",
       " 'https://www.flipkart.com/poco-m3-power-black-64-gb/product-reviews/itmb49cc10841be2?pid=MOBFZTCUTAYPJHHR&lid=LSTMOBFZTCUTAYPJHHR2ZVC1N&aid=overall&certifiedBuyer=false&sortOrder=NEGATIVE_FIRST&page=342',\n",
       " 'https://www.flipkart.com/poco-m3-power-black-64-gb/product-reviews/itmb49cc10841be2?pid=MOBFZTCUTAYPJHHR&lid=LSTMOBFZTCUTAYPJHHR2ZVC1N&aid=overall&certifiedBuyer=false&sortOrder=NEGATIVE_FIRST&page=343',\n",
       " 'https://www.flipkart.com/poco-m3-power-black-64-gb/product-reviews/itmb49cc10841be2?pid=MOBFZTCUTAYPJHHR&lid=LSTMOBFZTCUTAYPJHHR2ZVC1N&aid=overall&certifiedBuyer=false&sortOrder=NEGATIVE_FIRST&page=344',\n",
       " 'https://www.flipkart.com/poco-m3-power-black-64-gb/product-reviews/itmb49cc10841be2?pid=MOBFZTCUTAYPJHHR&lid=LSTMOBFZTCUTAYPJHHR2ZVC1N&aid=overall&certifiedBuyer=false&sortOrder=NEGATIVE_FIRST&page=345',\n",
       " 'https://www.flipkart.com/poco-m3-power-black-64-gb/product-reviews/itmb49cc10841be2?pid=MOBFZTCUTAYPJHHR&lid=LSTMOBFZTCUTAYPJHHR2ZVC1N&aid=overall&certifiedBuyer=false&sortOrder=NEGATIVE_FIRST&page=346',\n",
       " 'https://www.flipkart.com/poco-m3-power-black-64-gb/product-reviews/itmb49cc10841be2?pid=MOBFZTCUTAYPJHHR&lid=LSTMOBFZTCUTAYPJHHR2ZVC1N&aid=overall&certifiedBuyer=false&sortOrder=NEGATIVE_FIRST&page=347',\n",
       " 'https://www.flipkart.com/poco-m3-power-black-64-gb/product-reviews/itmb49cc10841be2?pid=MOBFZTCUTAYPJHHR&lid=LSTMOBFZTCUTAYPJHHR2ZVC1N&aid=overall&certifiedBuyer=false&sortOrder=NEGATIVE_FIRST&page=348',\n",
       " 'https://www.flipkart.com/poco-m3-power-black-64-gb/product-reviews/itmb49cc10841be2?pid=MOBFZTCUTAYPJHHR&lid=LSTMOBFZTCUTAYPJHHR2ZVC1N&aid=overall&certifiedBuyer=false&sortOrder=NEGATIVE_FIRST&page=349',\n",
       " 'https://www.flipkart.com/poco-m3-power-black-64-gb/product-reviews/itmb49cc10841be2?pid=MOBFZTCUTAYPJHHR&lid=LSTMOBFZTCUTAYPJHHR2ZVC1N&aid=overall&certifiedBuyer=false&sortOrder=NEGATIVE_FIRST&page=350',\n",
       " 'https://www.flipkart.com/poco-m3-power-black-64-gb/product-reviews/itmb49cc10841be2?pid=MOBFZTCUTAYPJHHR&lid=LSTMOBFZTCUTAYPJHHR2ZVC1N&aid=overall&certifiedBuyer=false&sortOrder=NEGATIVE_FIRST&page=351',\n",
       " 'https://www.flipkart.com/poco-m3-power-black-64-gb/product-reviews/itmb49cc10841be2?pid=MOBFZTCUTAYPJHHR&lid=LSTMOBFZTCUTAYPJHHR2ZVC1N&aid=overall&certifiedBuyer=false&sortOrder=NEGATIVE_FIRST&page=352',\n",
       " 'https://www.flipkart.com/poco-m3-power-black-64-gb/product-reviews/itmb49cc10841be2?pid=MOBFZTCUTAYPJHHR&lid=LSTMOBFZTCUTAYPJHHR2ZVC1N&aid=overall&certifiedBuyer=false&sortOrder=NEGATIVE_FIRST&page=353',\n",
       " 'https://www.flipkart.com/poco-m3-power-black-64-gb/product-reviews/itmb49cc10841be2?pid=MOBFZTCUTAYPJHHR&lid=LSTMOBFZTCUTAYPJHHR2ZVC1N&aid=overall&certifiedBuyer=false&sortOrder=NEGATIVE_FIRST&page=354',\n",
       " 'https://www.flipkart.com/poco-m3-power-black-64-gb/product-reviews/itmb49cc10841be2?pid=MOBFZTCUTAYPJHHR&lid=LSTMOBFZTCUTAYPJHHR2ZVC1N&aid=overall&certifiedBuyer=false&sortOrder=NEGATIVE_FIRST&page=355',\n",
       " 'https://www.flipkart.com/poco-m3-power-black-64-gb/product-reviews/itmb49cc10841be2?pid=MOBFZTCUTAYPJHHR&lid=LSTMOBFZTCUTAYPJHHR2ZVC1N&aid=overall&certifiedBuyer=false&sortOrder=NEGATIVE_FIRST&page=356',\n",
       " 'https://www.flipkart.com/poco-m3-power-black-64-gb/product-reviews/itmb49cc10841be2?pid=MOBFZTCUTAYPJHHR&lid=LSTMOBFZTCUTAYPJHHR2ZVC1N&aid=overall&certifiedBuyer=false&sortOrder=NEGATIVE_FIRST&page=357',\n",
       " 'https://www.flipkart.com/poco-m3-power-black-64-gb/product-reviews/itmb49cc10841be2?pid=MOBFZTCUTAYPJHHR&lid=LSTMOBFZTCUTAYPJHHR2ZVC1N&aid=overall&certifiedBuyer=false&sortOrder=NEGATIVE_FIRST&page=358',\n",
       " 'https://www.flipkart.com/poco-m3-power-black-64-gb/product-reviews/itmb49cc10841be2?pid=MOBFZTCUTAYPJHHR&lid=LSTMOBFZTCUTAYPJHHR2ZVC1N&aid=overall&certifiedBuyer=false&sortOrder=NEGATIVE_FIRST&page=359']"
      ]
     },
     "execution_count": 45,
     "metadata": {},
     "output_type": "execute_result"
    }
   ],
   "source": [
    "urls"
   ]
  },
  {
   "cell_type": "code",
   "execution_count": 46,
   "metadata": {},
   "outputs": [],
   "source": [
    "url = []\n",
    "for i in urls:\n",
    "    if i not in url:\n",
    "        url.append(i)"
   ]
  },
  {
   "cell_type": "code",
   "execution_count": 47,
   "metadata": {},
   "outputs": [
    {
     "data": {
      "text/plain": [
       "177"
      ]
     },
     "execution_count": 47,
     "metadata": {},
     "output_type": "execute_result"
    }
   ],
   "source": [
    "len(url)"
   ]
  },
  {
   "cell_type": "code",
   "execution_count": 48,
   "metadata": {},
   "outputs": [
    {
     "data": {
      "text/plain": [
       "'3'"
      ]
     },
     "execution_count": 48,
     "metadata": {},
     "output_type": "execute_result"
    }
   ],
   "source": [
    "driver.find_element_by_xpath('//div[@class=\"_3LWZlK _1BLPMq\"]').text"
   ]
  },
  {
   "cell_type": "code",
   "execution_count": 49,
   "metadata": {},
   "outputs": [
    {
     "name": "stderr",
     "output_type": "stream",
     "text": [
      "100%|████████████████████████████████████████████████████████████████████████████████| 177/177 [05:25<00:00,  1.84s/it]\n"
     ]
    }
   ],
   "source": [
    "rating=[]\n",
    "full_review=[]\n",
    "for i in tqdm(url):\n",
    "    \n",
    "    driver.get(i)\n",
    "    \n",
    "    #scraping rate\n",
    "    rate= driver.find_elements_by_xpath('//div[@class=\"col _2wzgFH K0kLPL\"]/div[1]/div')\n",
    "    \n",
    "    for r in rate:\n",
    "        rating.append(r.text)\n",
    "    \n",
    "    #scraping review\n",
    "    review=driver.find_elements_by_xpath('//div[@class=\"t-ZTKy\"]')\n",
    "    for i in review:\n",
    "        full_review.append(i.text)\n",
    "        "
   ]
  },
  {
   "cell_type": "code",
   "execution_count": 51,
   "metadata": {},
   "outputs": [
    {
     "data": {
      "text/plain": [
       "1736"
      ]
     },
     "execution_count": 51,
     "metadata": {},
     "output_type": "execute_result"
    }
   ],
   "source": [
    "len(rating)"
   ]
  },
  {
   "cell_type": "code",
   "execution_count": 52,
   "metadata": {},
   "outputs": [
    {
     "data": {
      "text/plain": [
       "1736"
      ]
     },
     "execution_count": 52,
     "metadata": {},
     "output_type": "execute_result"
    }
   ],
   "source": [
    "len(full_review)"
   ]
  },
  {
   "cell_type": "code",
   "execution_count": 72,
   "metadata": {},
   "outputs": [],
   "source": [
    "df=pd.DataFrame({\"rating\":rating,\"review\":full_review})"
   ]
  },
  {
   "cell_type": "code",
   "execution_count": 73,
   "metadata": {},
   "outputs": [
    {
     "data": {
      "text/plain": [
       "3    1021\n",
       "2     715\n",
       "Name: rating, dtype: int64"
      ]
     },
     "execution_count": 73,
     "metadata": {},
     "output_type": "execute_result"
    }
   ],
   "source": [
    "df[\"rating\"].value_counts()"
   ]
  },
  {
   "cell_type": "code",
   "execution_count": 94,
   "metadata": {},
   "outputs": [
    {
     "data": {
      "text/html": [
       "<div>\n",
       "<style scoped>\n",
       "    .dataframe tbody tr th:only-of-type {\n",
       "        vertical-align: middle;\n",
       "    }\n",
       "\n",
       "    .dataframe tbody tr th {\n",
       "        vertical-align: top;\n",
       "    }\n",
       "\n",
       "    .dataframe thead th {\n",
       "        text-align: right;\n",
       "    }\n",
       "</style>\n",
       "<table border=\"1\" class=\"dataframe\">\n",
       "  <thead>\n",
       "    <tr style=\"text-align: right;\">\n",
       "      <th></th>\n",
       "      <th>rating</th>\n",
       "      <th>review</th>\n",
       "    </tr>\n",
       "  </thead>\n",
       "  <tbody>\n",
       "    <tr>\n",
       "      <th>0</th>\n",
       "      <td>3.0 out of 5 stars</td>\n",
       "      <td>check the detail description, the CPU speed is...</td>\n",
       "    </tr>\n",
       "    <tr>\n",
       "      <th>1</th>\n",
       "      <td>1.0 out of 5 stars</td>\n",
       "      <td>The laptop is not working properly. The issues...</td>\n",
       "    </tr>\n",
       "    <tr>\n",
       "      <th>2</th>\n",
       "      <td>4.0 out of 5 stars</td>\n",
       "      <td>This laptop is indeed stylish, slim and good l...</td>\n",
       "    </tr>\n",
       "    <tr>\n",
       "      <th>3</th>\n",
       "      <td>5.0 out of 5 stars</td>\n",
       "      <td>After so many research on internet I brought t...</td>\n",
       "    </tr>\n",
       "    <tr>\n",
       "      <th>4</th>\n",
       "      <td>3.0 out of 5 stars</td>\n",
       "      <td>Over all good performance for basic use for bu...</td>\n",
       "    </tr>\n",
       "    <tr>\n",
       "      <th>...</th>\n",
       "      <td>...</td>\n",
       "      <td>...</td>\n",
       "    </tr>\n",
       "    <tr>\n",
       "      <th>15527</th>\n",
       "      <td>5.0 out of 5 stars</td>\n",
       "      <td>I needed 3 UPS for 3 wifi routers, so I have b...</td>\n",
       "    </tr>\n",
       "    <tr>\n",
       "      <th>15528</th>\n",
       "      <td>1.0 out of 5 stars</td>\n",
       "      <td>Finally I got a UPS that is compatible with my...</td>\n",
       "    </tr>\n",
       "    <tr>\n",
       "      <th>15529</th>\n",
       "      <td>5.0 out of 5 stars</td>\n",
       "      <td>Waste of money, feel cheated as doesn't give e...</td>\n",
       "    </tr>\n",
       "    <tr>\n",
       "      <th>15530</th>\n",
       "      <td>5.0 out of 5 stars</td>\n",
       "      <td>Stopped working after two months. When contact...</td>\n",
       "    </tr>\n",
       "    <tr>\n",
       "      <th>15531</th>\n",
       "      <td>5.0 out of 5 stars</td>\n",
       "      <td>Product is fine for 2.5GHZ alone as 5GHZ band ...</td>\n",
       "    </tr>\n",
       "  </tbody>\n",
       "</table>\n",
       "<p>15532 rows × 2 columns</p>\n",
       "</div>"
      ],
      "text/plain": [
       "                   rating                                             review\n",
       "0      3.0 out of 5 stars  check the detail description, the CPU speed is...\n",
       "1      1.0 out of 5 stars  The laptop is not working properly. The issues...\n",
       "2      4.0 out of 5 stars  This laptop is indeed stylish, slim and good l...\n",
       "3      5.0 out of 5 stars  After so many research on internet I brought t...\n",
       "4      3.0 out of 5 stars  Over all good performance for basic use for bu...\n",
       "...                   ...                                                ...\n",
       "15527  5.0 out of 5 stars  I needed 3 UPS for 3 wifi routers, so I have b...\n",
       "15528  1.0 out of 5 stars  Finally I got a UPS that is compatible with my...\n",
       "15529  5.0 out of 5 stars  Waste of money, feel cheated as doesn't give e...\n",
       "15530  5.0 out of 5 stars  Stopped working after two months. When contact...\n",
       "15531  5.0 out of 5 stars  Product is fine for 2.5GHZ alone as 5GHZ band ...\n",
       "\n",
       "[15532 rows x 2 columns]"
      ]
     },
     "execution_count": 94,
     "metadata": {},
     "output_type": "execute_result"
    }
   ],
   "source": [
    "df1=pd.read_csv('data.csv')\n",
    "df1=df1.drop(\"Unnamed: 0\",axis=1)\n",
    "df1"
   ]
  },
  {
   "cell_type": "code",
   "execution_count": 269,
   "metadata": {},
   "outputs": [],
   "source": [
    "df_new=pd.concat([df1,df])"
   ]
  },
  {
   "cell_type": "code",
   "execution_count": 96,
   "metadata": {},
   "outputs": [
    {
     "data": {
      "text/html": [
       "<div>\n",
       "<style scoped>\n",
       "    .dataframe tbody tr th:only-of-type {\n",
       "        vertical-align: middle;\n",
       "    }\n",
       "\n",
       "    .dataframe tbody tr th {\n",
       "        vertical-align: top;\n",
       "    }\n",
       "\n",
       "    .dataframe thead th {\n",
       "        text-align: right;\n",
       "    }\n",
       "</style>\n",
       "<table border=\"1\" class=\"dataframe\">\n",
       "  <thead>\n",
       "    <tr style=\"text-align: right;\">\n",
       "      <th></th>\n",
       "      <th>rating</th>\n",
       "      <th>review</th>\n",
       "    </tr>\n",
       "  </thead>\n",
       "  <tbody>\n",
       "    <tr>\n",
       "      <th>0</th>\n",
       "      <td>3.0 out of 5 stars</td>\n",
       "      <td>check the detail description, the CPU speed is...</td>\n",
       "    </tr>\n",
       "    <tr>\n",
       "      <th>1</th>\n",
       "      <td>1.0 out of 5 stars</td>\n",
       "      <td>The laptop is not working properly. The issues...</td>\n",
       "    </tr>\n",
       "    <tr>\n",
       "      <th>2</th>\n",
       "      <td>4.0 out of 5 stars</td>\n",
       "      <td>This laptop is indeed stylish, slim and good l...</td>\n",
       "    </tr>\n",
       "    <tr>\n",
       "      <th>3</th>\n",
       "      <td>5.0 out of 5 stars</td>\n",
       "      <td>After so many research on internet I brought t...</td>\n",
       "    </tr>\n",
       "    <tr>\n",
       "      <th>4</th>\n",
       "      <td>3.0 out of 5 stars</td>\n",
       "      <td>Over all good performance for basic use for bu...</td>\n",
       "    </tr>\n",
       "    <tr>\n",
       "      <th>...</th>\n",
       "      <td>...</td>\n",
       "      <td>...</td>\n",
       "    </tr>\n",
       "    <tr>\n",
       "      <th>1731</th>\n",
       "      <td>3</td>\n",
       "      <td>Nice</td>\n",
       "    </tr>\n",
       "    <tr>\n",
       "      <th>1732</th>\n",
       "      <td>3</td>\n",
       "      <td>Camera is very poor....</td>\n",
       "    </tr>\n",
       "    <tr>\n",
       "      <th>1733</th>\n",
       "      <td>3</td>\n",
       "      <td>Average starting level smart phone with some g...</td>\n",
       "    </tr>\n",
       "    <tr>\n",
       "      <th>1734</th>\n",
       "      <td>3</td>\n",
       "      <td>Rear camera is average but front is awful, per...</td>\n",
       "    </tr>\n",
       "    <tr>\n",
       "      <th>1735</th>\n",
       "      <td>3</td>\n",
       "      <td>Low budget mobile, Rendomly use device..\\nBatt...</td>\n",
       "    </tr>\n",
       "  </tbody>\n",
       "</table>\n",
       "<p>17268 rows × 2 columns</p>\n",
       "</div>"
      ],
      "text/plain": [
       "                  rating                                             review\n",
       "0     3.0 out of 5 stars  check the detail description, the CPU speed is...\n",
       "1     1.0 out of 5 stars  The laptop is not working properly. The issues...\n",
       "2     4.0 out of 5 stars  This laptop is indeed stylish, slim and good l...\n",
       "3     5.0 out of 5 stars  After so many research on internet I brought t...\n",
       "4     3.0 out of 5 stars  Over all good performance for basic use for bu...\n",
       "...                  ...                                                ...\n",
       "1731                   3                                               Nice\n",
       "1732                   3                            Camera is very poor....\n",
       "1733                   3  Average starting level smart phone with some g...\n",
       "1734                   3  Rear camera is average but front is awful, per...\n",
       "1735                   3  Low budget mobile, Rendomly use device..\\nBatt...\n",
       "\n",
       "[17268 rows x 2 columns]"
      ]
     },
     "execution_count": 96,
     "metadata": {},
     "output_type": "execute_result"
    }
   ],
   "source": [
    "df_new"
   ]
  },
  {
   "cell_type": "code",
   "execution_count": 97,
   "metadata": {},
   "outputs": [
    {
     "data": {
      "text/plain": [
       "5.0 out of 5 stars    6263\n",
       "1.0 out of 5 stars    4649\n",
       "4.0 out of 5 stars    2455\n",
       "3.0 out of 5 stars    1352\n",
       "3                     1021\n",
       "2.0 out of 5 stars     813\n",
       "2                      715\n",
       "Name: rating, dtype: int64"
      ]
     },
     "execution_count": 97,
     "metadata": {},
     "output_type": "execute_result"
    }
   ],
   "source": [
    "df_new['rating'].value_counts()"
   ]
  },
  {
   "cell_type": "code",
   "execution_count": 98,
   "metadata": {},
   "outputs": [],
   "source": [
    "df_new['rating']=df_new['rating'].map({\"1.0 out of 5 stars\":1,\"2.0 out of 5 stars\":2,\"3.0 out of 5 stars\":3,\n",
    "                                      \"4.0 out of 5 stars\":4,\"5.0 out of 5 stars\":5,\"3\":3,\"2\":2})"
   ]
  },
  {
   "cell_type": "code",
   "execution_count": 99,
   "metadata": {},
   "outputs": [
    {
     "data": {
      "text/plain": [
       "rating     0\n",
       "review    38\n",
       "dtype: int64"
      ]
     },
     "execution_count": 99,
     "metadata": {},
     "output_type": "execute_result"
    }
   ],
   "source": [
    "df_new.isnull().sum()"
   ]
  },
  {
   "cell_type": "code",
   "execution_count": 100,
   "metadata": {},
   "outputs": [],
   "source": [
    "df_new=df_new.dropna()"
   ]
  },
  {
   "cell_type": "code",
   "execution_count": 104,
   "metadata": {},
   "outputs": [
    {
     "data": {
      "text/plain": [
       "5    6232\n",
       "1    4647\n",
       "4    2453\n",
       "3    2371\n",
       "2    1527\n",
       "Name: rating, dtype: int64"
      ]
     },
     "execution_count": 104,
     "metadata": {},
     "output_type": "execute_result"
    }
   ],
   "source": [
    "df_new['rating'].value_counts()"
   ]
  },
  {
   "cell_type": "markdown",
   "metadata": {},
   "source": [
    "### scraping data rated as 3 stars and 4 starts from flipkart"
   ]
  },
  {
   "cell_type": "code",
   "execution_count": 155,
   "metadata": {},
   "outputs": [],
   "source": [
    "driver.get('https://www.flipkart.com/poco-m3-power-black-64-gb/product-reviews/itmb49cc10841be2?pid=MOBFZTCUTAYPJHHR&lid=LSTMOBFZTCUTAYPJHHR2ZVC1N&aid=overall&certifiedBuyer=false&sortOrder=NEGATIVE_FIRST&page=360')"
   ]
  },
  {
   "cell_type": "code",
   "execution_count": 156,
   "metadata": {},
   "outputs": [
    {
     "name": "stderr",
     "output_type": "stream",
     "text": [
      "100%|████████████████████████████████████████████████████████████████████████████████| 250/250 [10:08<00:00,  2.43s/it]\n"
     ]
    }
   ],
   "source": [
    "#scraping url from multiple pages\n",
    "urls=[] \n",
    "for j in tqdm(range(0,250)):\n",
    "    time.sleep(2)\n",
    "    try:\n",
    "        for i in driver.find_elements_by_xpath(\"//a[@class='ge-49M _2Kfbh8']\"):\n",
    "            urls.append(i.get_attribute('href'))\n",
    "    except NoSuchElementException:\n",
    "        pass\n",
    "    \n",
    "    #clicking on next button\n",
    "    try:\n",
    "        driver.find_element_by_xpath(\"//a[@class='_1LKTO3'][2]\").click()\n",
    "    except:\n",
    "        driver.find_element_by_xpath(\"//a[@class='_1LKTO3']\").click()\n"
   ]
  },
  {
   "cell_type": "code",
   "execution_count": 157,
   "metadata": {},
   "outputs": [],
   "source": [
    "url = []\n",
    "for i in urls:\n",
    "    if i not in url:\n",
    "        url.append(i)"
   ]
  },
  {
   "cell_type": "code",
   "execution_count": 158,
   "metadata": {},
   "outputs": [
    {
     "data": {
      "text/plain": [
       "['https://www.flipkart.com/poco-m3-power-black-64-gb/product-reviews/itmb49cc10841be2?pid=MOBFZTCUTAYPJHHR&lid=LSTMOBFZTCUTAYPJHHR2ZVC1N&aid=overall&certifiedBuyer=false&sortOrder=NEGATIVE_FIRST&page=360',\n",
       " 'https://www.flipkart.com/poco-m3-power-black-64-gb/product-reviews/itmb49cc10841be2?pid=MOBFZTCUTAYPJHHR&lid=LSTMOBFZTCUTAYPJHHR2ZVC1N&aid=overall&certifiedBuyer=false&sortOrder=NEGATIVE_FIRST&page=361',\n",
       " 'https://www.flipkart.com/poco-m3-power-black-64-gb/product-reviews/itmb49cc10841be2?pid=MOBFZTCUTAYPJHHR&lid=LSTMOBFZTCUTAYPJHHR2ZVC1N&aid=overall&certifiedBuyer=false&sortOrder=NEGATIVE_FIRST&page=362',\n",
       " 'https://www.flipkart.com/poco-m3-power-black-64-gb/product-reviews/itmb49cc10841be2?pid=MOBFZTCUTAYPJHHR&lid=LSTMOBFZTCUTAYPJHHR2ZVC1N&aid=overall&certifiedBuyer=false&sortOrder=NEGATIVE_FIRST&page=363',\n",
       " 'https://www.flipkart.com/poco-m3-power-black-64-gb/product-reviews/itmb49cc10841be2?pid=MOBFZTCUTAYPJHHR&lid=LSTMOBFZTCUTAYPJHHR2ZVC1N&aid=overall&certifiedBuyer=false&sortOrder=NEGATIVE_FIRST&page=364',\n",
       " 'https://www.flipkart.com/poco-m3-power-black-64-gb/product-reviews/itmb49cc10841be2?pid=MOBFZTCUTAYPJHHR&lid=LSTMOBFZTCUTAYPJHHR2ZVC1N&aid=overall&certifiedBuyer=false&sortOrder=NEGATIVE_FIRST&page=365',\n",
       " 'https://www.flipkart.com/poco-m3-power-black-64-gb/product-reviews/itmb49cc10841be2?pid=MOBFZTCUTAYPJHHR&lid=LSTMOBFZTCUTAYPJHHR2ZVC1N&aid=overall&certifiedBuyer=false&sortOrder=NEGATIVE_FIRST&page=366',\n",
       " 'https://www.flipkart.com/poco-m3-power-black-64-gb/product-reviews/itmb49cc10841be2?pid=MOBFZTCUTAYPJHHR&lid=LSTMOBFZTCUTAYPJHHR2ZVC1N&aid=overall&certifiedBuyer=false&sortOrder=NEGATIVE_FIRST&page=367',\n",
       " 'https://www.flipkart.com/poco-m3-power-black-64-gb/product-reviews/itmb49cc10841be2?pid=MOBFZTCUTAYPJHHR&lid=LSTMOBFZTCUTAYPJHHR2ZVC1N&aid=overall&certifiedBuyer=false&sortOrder=NEGATIVE_FIRST&page=368',\n",
       " 'https://www.flipkart.com/poco-m3-power-black-64-gb/product-reviews/itmb49cc10841be2?pid=MOBFZTCUTAYPJHHR&lid=LSTMOBFZTCUTAYPJHHR2ZVC1N&aid=overall&certifiedBuyer=false&sortOrder=NEGATIVE_FIRST&page=369',\n",
       " 'https://www.flipkart.com/poco-m3-power-black-64-gb/product-reviews/itmb49cc10841be2?pid=MOBFZTCUTAYPJHHR&lid=LSTMOBFZTCUTAYPJHHR2ZVC1N&aid=overall&certifiedBuyer=false&sortOrder=NEGATIVE_FIRST&page=370',\n",
       " 'https://www.flipkart.com/poco-m3-power-black-64-gb/product-reviews/itmb49cc10841be2?pid=MOBFZTCUTAYPJHHR&lid=LSTMOBFZTCUTAYPJHHR2ZVC1N&aid=overall&certifiedBuyer=false&sortOrder=NEGATIVE_FIRST&page=371',\n",
       " 'https://www.flipkart.com/poco-m3-power-black-64-gb/product-reviews/itmb49cc10841be2?pid=MOBFZTCUTAYPJHHR&lid=LSTMOBFZTCUTAYPJHHR2ZVC1N&aid=overall&certifiedBuyer=false&sortOrder=NEGATIVE_FIRST&page=372',\n",
       " 'https://www.flipkart.com/poco-m3-power-black-64-gb/product-reviews/itmb49cc10841be2?pid=MOBFZTCUTAYPJHHR&lid=LSTMOBFZTCUTAYPJHHR2ZVC1N&aid=overall&certifiedBuyer=false&sortOrder=NEGATIVE_FIRST&page=373',\n",
       " 'https://www.flipkart.com/poco-m3-power-black-64-gb/product-reviews/itmb49cc10841be2?pid=MOBFZTCUTAYPJHHR&lid=LSTMOBFZTCUTAYPJHHR2ZVC1N&aid=overall&certifiedBuyer=false&sortOrder=NEGATIVE_FIRST&page=374',\n",
       " 'https://www.flipkart.com/poco-m3-power-black-64-gb/product-reviews/itmb49cc10841be2?pid=MOBFZTCUTAYPJHHR&lid=LSTMOBFZTCUTAYPJHHR2ZVC1N&aid=overall&certifiedBuyer=false&sortOrder=NEGATIVE_FIRST&page=375',\n",
       " 'https://www.flipkart.com/poco-m3-power-black-64-gb/product-reviews/itmb49cc10841be2?pid=MOBFZTCUTAYPJHHR&lid=LSTMOBFZTCUTAYPJHHR2ZVC1N&aid=overall&certifiedBuyer=false&sortOrder=NEGATIVE_FIRST&page=376',\n",
       " 'https://www.flipkart.com/poco-m3-power-black-64-gb/product-reviews/itmb49cc10841be2?pid=MOBFZTCUTAYPJHHR&lid=LSTMOBFZTCUTAYPJHHR2ZVC1N&aid=overall&certifiedBuyer=false&sortOrder=NEGATIVE_FIRST&page=377',\n",
       " 'https://www.flipkart.com/poco-m3-power-black-64-gb/product-reviews/itmb49cc10841be2?pid=MOBFZTCUTAYPJHHR&lid=LSTMOBFZTCUTAYPJHHR2ZVC1N&aid=overall&certifiedBuyer=false&sortOrder=NEGATIVE_FIRST&page=378',\n",
       " 'https://www.flipkart.com/poco-m3-power-black-64-gb/product-reviews/itmb49cc10841be2?pid=MOBFZTCUTAYPJHHR&lid=LSTMOBFZTCUTAYPJHHR2ZVC1N&aid=overall&certifiedBuyer=false&sortOrder=NEGATIVE_FIRST&page=379',\n",
       " 'https://www.flipkart.com/poco-m3-power-black-64-gb/product-reviews/itmb49cc10841be2?pid=MOBFZTCUTAYPJHHR&lid=LSTMOBFZTCUTAYPJHHR2ZVC1N&aid=overall&certifiedBuyer=false&sortOrder=NEGATIVE_FIRST&page=380',\n",
       " 'https://www.flipkart.com/poco-m3-power-black-64-gb/product-reviews/itmb49cc10841be2?pid=MOBFZTCUTAYPJHHR&lid=LSTMOBFZTCUTAYPJHHR2ZVC1N&aid=overall&certifiedBuyer=false&sortOrder=NEGATIVE_FIRST&page=381',\n",
       " 'https://www.flipkart.com/poco-m3-power-black-64-gb/product-reviews/itmb49cc10841be2?pid=MOBFZTCUTAYPJHHR&lid=LSTMOBFZTCUTAYPJHHR2ZVC1N&aid=overall&certifiedBuyer=false&sortOrder=NEGATIVE_FIRST&page=382',\n",
       " 'https://www.flipkart.com/poco-m3-power-black-64-gb/product-reviews/itmb49cc10841be2?pid=MOBFZTCUTAYPJHHR&lid=LSTMOBFZTCUTAYPJHHR2ZVC1N&aid=overall&certifiedBuyer=false&sortOrder=NEGATIVE_FIRST&page=383',\n",
       " 'https://www.flipkart.com/poco-m3-power-black-64-gb/product-reviews/itmb49cc10841be2?pid=MOBFZTCUTAYPJHHR&lid=LSTMOBFZTCUTAYPJHHR2ZVC1N&aid=overall&certifiedBuyer=false&sortOrder=NEGATIVE_FIRST&page=384',\n",
       " 'https://www.flipkart.com/poco-m3-power-black-64-gb/product-reviews/itmb49cc10841be2?pid=MOBFZTCUTAYPJHHR&lid=LSTMOBFZTCUTAYPJHHR2ZVC1N&aid=overall&certifiedBuyer=false&sortOrder=NEGATIVE_FIRST&page=385',\n",
       " 'https://www.flipkart.com/poco-m3-power-black-64-gb/product-reviews/itmb49cc10841be2?pid=MOBFZTCUTAYPJHHR&lid=LSTMOBFZTCUTAYPJHHR2ZVC1N&aid=overall&certifiedBuyer=false&sortOrder=NEGATIVE_FIRST&page=386',\n",
       " 'https://www.flipkart.com/poco-m3-power-black-64-gb/product-reviews/itmb49cc10841be2?pid=MOBFZTCUTAYPJHHR&lid=LSTMOBFZTCUTAYPJHHR2ZVC1N&aid=overall&certifiedBuyer=false&sortOrder=NEGATIVE_FIRST&page=387',\n",
       " 'https://www.flipkart.com/poco-m3-power-black-64-gb/product-reviews/itmb49cc10841be2?pid=MOBFZTCUTAYPJHHR&lid=LSTMOBFZTCUTAYPJHHR2ZVC1N&aid=overall&certifiedBuyer=false&sortOrder=NEGATIVE_FIRST&page=388',\n",
       " 'https://www.flipkart.com/poco-m3-power-black-64-gb/product-reviews/itmb49cc10841be2?pid=MOBFZTCUTAYPJHHR&lid=LSTMOBFZTCUTAYPJHHR2ZVC1N&aid=overall&certifiedBuyer=false&sortOrder=NEGATIVE_FIRST&page=389',\n",
       " 'https://www.flipkart.com/poco-m3-power-black-64-gb/product-reviews/itmb49cc10841be2?pid=MOBFZTCUTAYPJHHR&lid=LSTMOBFZTCUTAYPJHHR2ZVC1N&aid=overall&certifiedBuyer=false&sortOrder=NEGATIVE_FIRST&page=390',\n",
       " 'https://www.flipkart.com/poco-m3-power-black-64-gb/product-reviews/itmb49cc10841be2?pid=MOBFZTCUTAYPJHHR&lid=LSTMOBFZTCUTAYPJHHR2ZVC1N&aid=overall&certifiedBuyer=false&sortOrder=NEGATIVE_FIRST&page=391',\n",
       " 'https://www.flipkart.com/poco-m3-power-black-64-gb/product-reviews/itmb49cc10841be2?pid=MOBFZTCUTAYPJHHR&lid=LSTMOBFZTCUTAYPJHHR2ZVC1N&aid=overall&certifiedBuyer=false&sortOrder=NEGATIVE_FIRST&page=392',\n",
       " 'https://www.flipkart.com/poco-m3-power-black-64-gb/product-reviews/itmb49cc10841be2?pid=MOBFZTCUTAYPJHHR&lid=LSTMOBFZTCUTAYPJHHR2ZVC1N&aid=overall&certifiedBuyer=false&sortOrder=NEGATIVE_FIRST&page=393',\n",
       " 'https://www.flipkart.com/poco-m3-power-black-64-gb/product-reviews/itmb49cc10841be2?pid=MOBFZTCUTAYPJHHR&lid=LSTMOBFZTCUTAYPJHHR2ZVC1N&aid=overall&certifiedBuyer=false&sortOrder=NEGATIVE_FIRST&page=394',\n",
       " 'https://www.flipkart.com/poco-m3-power-black-64-gb/product-reviews/itmb49cc10841be2?pid=MOBFZTCUTAYPJHHR&lid=LSTMOBFZTCUTAYPJHHR2ZVC1N&aid=overall&certifiedBuyer=false&sortOrder=NEGATIVE_FIRST&page=395',\n",
       " 'https://www.flipkart.com/poco-m3-power-black-64-gb/product-reviews/itmb49cc10841be2?pid=MOBFZTCUTAYPJHHR&lid=LSTMOBFZTCUTAYPJHHR2ZVC1N&aid=overall&certifiedBuyer=false&sortOrder=NEGATIVE_FIRST&page=396',\n",
       " 'https://www.flipkart.com/poco-m3-power-black-64-gb/product-reviews/itmb49cc10841be2?pid=MOBFZTCUTAYPJHHR&lid=LSTMOBFZTCUTAYPJHHR2ZVC1N&aid=overall&certifiedBuyer=false&sortOrder=NEGATIVE_FIRST&page=397',\n",
       " 'https://www.flipkart.com/poco-m3-power-black-64-gb/product-reviews/itmb49cc10841be2?pid=MOBFZTCUTAYPJHHR&lid=LSTMOBFZTCUTAYPJHHR2ZVC1N&aid=overall&certifiedBuyer=false&sortOrder=NEGATIVE_FIRST&page=398',\n",
       " 'https://www.flipkart.com/poco-m3-power-black-64-gb/product-reviews/itmb49cc10841be2?pid=MOBFZTCUTAYPJHHR&lid=LSTMOBFZTCUTAYPJHHR2ZVC1N&aid=overall&certifiedBuyer=false&sortOrder=NEGATIVE_FIRST&page=399',\n",
       " 'https://www.flipkart.com/poco-m3-power-black-64-gb/product-reviews/itmb49cc10841be2?pid=MOBFZTCUTAYPJHHR&lid=LSTMOBFZTCUTAYPJHHR2ZVC1N&aid=overall&certifiedBuyer=false&sortOrder=NEGATIVE_FIRST&page=400',\n",
       " 'https://www.flipkart.com/poco-m3-power-black-64-gb/product-reviews/itmb49cc10841be2?pid=MOBFZTCUTAYPJHHR&lid=LSTMOBFZTCUTAYPJHHR2ZVC1N&aid=overall&certifiedBuyer=false&sortOrder=NEGATIVE_FIRST&page=401',\n",
       " 'https://www.flipkart.com/poco-m3-power-black-64-gb/product-reviews/itmb49cc10841be2?pid=MOBFZTCUTAYPJHHR&lid=LSTMOBFZTCUTAYPJHHR2ZVC1N&aid=overall&certifiedBuyer=false&sortOrder=NEGATIVE_FIRST&page=402',\n",
       " 'https://www.flipkart.com/poco-m3-power-black-64-gb/product-reviews/itmb49cc10841be2?pid=MOBFZTCUTAYPJHHR&lid=LSTMOBFZTCUTAYPJHHR2ZVC1N&aid=overall&certifiedBuyer=false&sortOrder=NEGATIVE_FIRST&page=403',\n",
       " 'https://www.flipkart.com/poco-m3-power-black-64-gb/product-reviews/itmb49cc10841be2?pid=MOBFZTCUTAYPJHHR&lid=LSTMOBFZTCUTAYPJHHR2ZVC1N&aid=overall&certifiedBuyer=false&sortOrder=NEGATIVE_FIRST&page=404',\n",
       " 'https://www.flipkart.com/poco-m3-power-black-64-gb/product-reviews/itmb49cc10841be2?pid=MOBFZTCUTAYPJHHR&lid=LSTMOBFZTCUTAYPJHHR2ZVC1N&aid=overall&certifiedBuyer=false&sortOrder=NEGATIVE_FIRST&page=405',\n",
       " 'https://www.flipkart.com/poco-m3-power-black-64-gb/product-reviews/itmb49cc10841be2?pid=MOBFZTCUTAYPJHHR&lid=LSTMOBFZTCUTAYPJHHR2ZVC1N&aid=overall&certifiedBuyer=false&sortOrder=NEGATIVE_FIRST&page=406',\n",
       " 'https://www.flipkart.com/poco-m3-power-black-64-gb/product-reviews/itmb49cc10841be2?pid=MOBFZTCUTAYPJHHR&lid=LSTMOBFZTCUTAYPJHHR2ZVC1N&aid=overall&certifiedBuyer=false&sortOrder=NEGATIVE_FIRST&page=407',\n",
       " 'https://www.flipkart.com/poco-m3-power-black-64-gb/product-reviews/itmb49cc10841be2?pid=MOBFZTCUTAYPJHHR&lid=LSTMOBFZTCUTAYPJHHR2ZVC1N&aid=overall&certifiedBuyer=false&sortOrder=NEGATIVE_FIRST&page=408',\n",
       " 'https://www.flipkart.com/poco-m3-power-black-64-gb/product-reviews/itmb49cc10841be2?pid=MOBFZTCUTAYPJHHR&lid=LSTMOBFZTCUTAYPJHHR2ZVC1N&aid=overall&certifiedBuyer=false&sortOrder=NEGATIVE_FIRST&page=409',\n",
       " 'https://www.flipkart.com/poco-m3-power-black-64-gb/product-reviews/itmb49cc10841be2?pid=MOBFZTCUTAYPJHHR&lid=LSTMOBFZTCUTAYPJHHR2ZVC1N&aid=overall&certifiedBuyer=false&sortOrder=NEGATIVE_FIRST&page=410',\n",
       " 'https://www.flipkart.com/poco-m3-power-black-64-gb/product-reviews/itmb49cc10841be2?pid=MOBFZTCUTAYPJHHR&lid=LSTMOBFZTCUTAYPJHHR2ZVC1N&aid=overall&certifiedBuyer=false&sortOrder=NEGATIVE_FIRST&page=411',\n",
       " 'https://www.flipkart.com/poco-m3-power-black-64-gb/product-reviews/itmb49cc10841be2?pid=MOBFZTCUTAYPJHHR&lid=LSTMOBFZTCUTAYPJHHR2ZVC1N&aid=overall&certifiedBuyer=false&sortOrder=NEGATIVE_FIRST&page=412',\n",
       " 'https://www.flipkart.com/poco-m3-power-black-64-gb/product-reviews/itmb49cc10841be2?pid=MOBFZTCUTAYPJHHR&lid=LSTMOBFZTCUTAYPJHHR2ZVC1N&aid=overall&certifiedBuyer=false&sortOrder=NEGATIVE_FIRST&page=413',\n",
       " 'https://www.flipkart.com/poco-m3-power-black-64-gb/product-reviews/itmb49cc10841be2?pid=MOBFZTCUTAYPJHHR&lid=LSTMOBFZTCUTAYPJHHR2ZVC1N&aid=overall&certifiedBuyer=false&sortOrder=NEGATIVE_FIRST&page=414',\n",
       " 'https://www.flipkart.com/poco-m3-power-black-64-gb/product-reviews/itmb49cc10841be2?pid=MOBFZTCUTAYPJHHR&lid=LSTMOBFZTCUTAYPJHHR2ZVC1N&aid=overall&certifiedBuyer=false&sortOrder=NEGATIVE_FIRST&page=415',\n",
       " 'https://www.flipkart.com/poco-m3-power-black-64-gb/product-reviews/itmb49cc10841be2?pid=MOBFZTCUTAYPJHHR&lid=LSTMOBFZTCUTAYPJHHR2ZVC1N&aid=overall&certifiedBuyer=false&sortOrder=NEGATIVE_FIRST&page=416',\n",
       " 'https://www.flipkart.com/poco-m3-power-black-64-gb/product-reviews/itmb49cc10841be2?pid=MOBFZTCUTAYPJHHR&lid=LSTMOBFZTCUTAYPJHHR2ZVC1N&aid=overall&certifiedBuyer=false&sortOrder=NEGATIVE_FIRST&page=417',\n",
       " 'https://www.flipkart.com/poco-m3-power-black-64-gb/product-reviews/itmb49cc10841be2?pid=MOBFZTCUTAYPJHHR&lid=LSTMOBFZTCUTAYPJHHR2ZVC1N&aid=overall&certifiedBuyer=false&sortOrder=NEGATIVE_FIRST&page=418',\n",
       " 'https://www.flipkart.com/poco-m3-power-black-64-gb/product-reviews/itmb49cc10841be2?pid=MOBFZTCUTAYPJHHR&lid=LSTMOBFZTCUTAYPJHHR2ZVC1N&aid=overall&certifiedBuyer=false&sortOrder=NEGATIVE_FIRST&page=419',\n",
       " 'https://www.flipkart.com/poco-m3-power-black-64-gb/product-reviews/itmb49cc10841be2?pid=MOBFZTCUTAYPJHHR&lid=LSTMOBFZTCUTAYPJHHR2ZVC1N&aid=overall&certifiedBuyer=false&sortOrder=NEGATIVE_FIRST&page=420',\n",
       " 'https://www.flipkart.com/poco-m3-power-black-64-gb/product-reviews/itmb49cc10841be2?pid=MOBFZTCUTAYPJHHR&lid=LSTMOBFZTCUTAYPJHHR2ZVC1N&aid=overall&certifiedBuyer=false&sortOrder=NEGATIVE_FIRST&page=421',\n",
       " 'https://www.flipkart.com/poco-m3-power-black-64-gb/product-reviews/itmb49cc10841be2?pid=MOBFZTCUTAYPJHHR&lid=LSTMOBFZTCUTAYPJHHR2ZVC1N&aid=overall&certifiedBuyer=false&sortOrder=NEGATIVE_FIRST&page=422',\n",
       " 'https://www.flipkart.com/poco-m3-power-black-64-gb/product-reviews/itmb49cc10841be2?pid=MOBFZTCUTAYPJHHR&lid=LSTMOBFZTCUTAYPJHHR2ZVC1N&aid=overall&certifiedBuyer=false&sortOrder=NEGATIVE_FIRST&page=423',\n",
       " 'https://www.flipkart.com/poco-m3-power-black-64-gb/product-reviews/itmb49cc10841be2?pid=MOBFZTCUTAYPJHHR&lid=LSTMOBFZTCUTAYPJHHR2ZVC1N&aid=overall&certifiedBuyer=false&sortOrder=NEGATIVE_FIRST&page=424',\n",
       " 'https://www.flipkart.com/poco-m3-power-black-64-gb/product-reviews/itmb49cc10841be2?pid=MOBFZTCUTAYPJHHR&lid=LSTMOBFZTCUTAYPJHHR2ZVC1N&aid=overall&certifiedBuyer=false&sortOrder=NEGATIVE_FIRST&page=425',\n",
       " 'https://www.flipkart.com/poco-m3-power-black-64-gb/product-reviews/itmb49cc10841be2?pid=MOBFZTCUTAYPJHHR&lid=LSTMOBFZTCUTAYPJHHR2ZVC1N&aid=overall&certifiedBuyer=false&sortOrder=NEGATIVE_FIRST&page=426',\n",
       " 'https://www.flipkart.com/poco-m3-power-black-64-gb/product-reviews/itmb49cc10841be2?pid=MOBFZTCUTAYPJHHR&lid=LSTMOBFZTCUTAYPJHHR2ZVC1N&aid=overall&certifiedBuyer=false&sortOrder=NEGATIVE_FIRST&page=427',\n",
       " 'https://www.flipkart.com/poco-m3-power-black-64-gb/product-reviews/itmb49cc10841be2?pid=MOBFZTCUTAYPJHHR&lid=LSTMOBFZTCUTAYPJHHR2ZVC1N&aid=overall&certifiedBuyer=false&sortOrder=NEGATIVE_FIRST&page=428',\n",
       " 'https://www.flipkart.com/poco-m3-power-black-64-gb/product-reviews/itmb49cc10841be2?pid=MOBFZTCUTAYPJHHR&lid=LSTMOBFZTCUTAYPJHHR2ZVC1N&aid=overall&certifiedBuyer=false&sortOrder=NEGATIVE_FIRST&page=429',\n",
       " 'https://www.flipkart.com/poco-m3-power-black-64-gb/product-reviews/itmb49cc10841be2?pid=MOBFZTCUTAYPJHHR&lid=LSTMOBFZTCUTAYPJHHR2ZVC1N&aid=overall&certifiedBuyer=false&sortOrder=NEGATIVE_FIRST&page=430',\n",
       " 'https://www.flipkart.com/poco-m3-power-black-64-gb/product-reviews/itmb49cc10841be2?pid=MOBFZTCUTAYPJHHR&lid=LSTMOBFZTCUTAYPJHHR2ZVC1N&aid=overall&certifiedBuyer=false&sortOrder=NEGATIVE_FIRST&page=431',\n",
       " 'https://www.flipkart.com/poco-m3-power-black-64-gb/product-reviews/itmb49cc10841be2?pid=MOBFZTCUTAYPJHHR&lid=LSTMOBFZTCUTAYPJHHR2ZVC1N&aid=overall&certifiedBuyer=false&sortOrder=NEGATIVE_FIRST&page=432',\n",
       " 'https://www.flipkart.com/poco-m3-power-black-64-gb/product-reviews/itmb49cc10841be2?pid=MOBFZTCUTAYPJHHR&lid=LSTMOBFZTCUTAYPJHHR2ZVC1N&aid=overall&certifiedBuyer=false&sortOrder=NEGATIVE_FIRST&page=433',\n",
       " 'https://www.flipkart.com/poco-m3-power-black-64-gb/product-reviews/itmb49cc10841be2?pid=MOBFZTCUTAYPJHHR&lid=LSTMOBFZTCUTAYPJHHR2ZVC1N&aid=overall&certifiedBuyer=false&sortOrder=NEGATIVE_FIRST&page=434',\n",
       " 'https://www.flipkart.com/poco-m3-power-black-64-gb/product-reviews/itmb49cc10841be2?pid=MOBFZTCUTAYPJHHR&lid=LSTMOBFZTCUTAYPJHHR2ZVC1N&aid=overall&certifiedBuyer=false&sortOrder=NEGATIVE_FIRST&page=435',\n",
       " 'https://www.flipkart.com/poco-m3-power-black-64-gb/product-reviews/itmb49cc10841be2?pid=MOBFZTCUTAYPJHHR&lid=LSTMOBFZTCUTAYPJHHR2ZVC1N&aid=overall&certifiedBuyer=false&sortOrder=NEGATIVE_FIRST&page=436',\n",
       " 'https://www.flipkart.com/poco-m3-power-black-64-gb/product-reviews/itmb49cc10841be2?pid=MOBFZTCUTAYPJHHR&lid=LSTMOBFZTCUTAYPJHHR2ZVC1N&aid=overall&certifiedBuyer=false&sortOrder=NEGATIVE_FIRST&page=437',\n",
       " 'https://www.flipkart.com/poco-m3-power-black-64-gb/product-reviews/itmb49cc10841be2?pid=MOBFZTCUTAYPJHHR&lid=LSTMOBFZTCUTAYPJHHR2ZVC1N&aid=overall&certifiedBuyer=false&sortOrder=NEGATIVE_FIRST&page=438',\n",
       " 'https://www.flipkart.com/poco-m3-power-black-64-gb/product-reviews/itmb49cc10841be2?pid=MOBFZTCUTAYPJHHR&lid=LSTMOBFZTCUTAYPJHHR2ZVC1N&aid=overall&certifiedBuyer=false&sortOrder=NEGATIVE_FIRST&page=439',\n",
       " 'https://www.flipkart.com/poco-m3-power-black-64-gb/product-reviews/itmb49cc10841be2?pid=MOBFZTCUTAYPJHHR&lid=LSTMOBFZTCUTAYPJHHR2ZVC1N&aid=overall&certifiedBuyer=false&sortOrder=NEGATIVE_FIRST&page=440',\n",
       " 'https://www.flipkart.com/poco-m3-power-black-64-gb/product-reviews/itmb49cc10841be2?pid=MOBFZTCUTAYPJHHR&lid=LSTMOBFZTCUTAYPJHHR2ZVC1N&aid=overall&certifiedBuyer=false&sortOrder=NEGATIVE_FIRST&page=441',\n",
       " 'https://www.flipkart.com/poco-m3-power-black-64-gb/product-reviews/itmb49cc10841be2?pid=MOBFZTCUTAYPJHHR&lid=LSTMOBFZTCUTAYPJHHR2ZVC1N&aid=overall&certifiedBuyer=false&sortOrder=NEGATIVE_FIRST&page=442',\n",
       " 'https://www.flipkart.com/poco-m3-power-black-64-gb/product-reviews/itmb49cc10841be2?pid=MOBFZTCUTAYPJHHR&lid=LSTMOBFZTCUTAYPJHHR2ZVC1N&aid=overall&certifiedBuyer=false&sortOrder=NEGATIVE_FIRST&page=443',\n",
       " 'https://www.flipkart.com/poco-m3-power-black-64-gb/product-reviews/itmb49cc10841be2?pid=MOBFZTCUTAYPJHHR&lid=LSTMOBFZTCUTAYPJHHR2ZVC1N&aid=overall&certifiedBuyer=false&sortOrder=NEGATIVE_FIRST&page=444',\n",
       " 'https://www.flipkart.com/poco-m3-power-black-64-gb/product-reviews/itmb49cc10841be2?pid=MOBFZTCUTAYPJHHR&lid=LSTMOBFZTCUTAYPJHHR2ZVC1N&aid=overall&certifiedBuyer=false&sortOrder=NEGATIVE_FIRST&page=445',\n",
       " 'https://www.flipkart.com/poco-m3-power-black-64-gb/product-reviews/itmb49cc10841be2?pid=MOBFZTCUTAYPJHHR&lid=LSTMOBFZTCUTAYPJHHR2ZVC1N&aid=overall&certifiedBuyer=false&sortOrder=NEGATIVE_FIRST&page=446',\n",
       " 'https://www.flipkart.com/poco-m3-power-black-64-gb/product-reviews/itmb49cc10841be2?pid=MOBFZTCUTAYPJHHR&lid=LSTMOBFZTCUTAYPJHHR2ZVC1N&aid=overall&certifiedBuyer=false&sortOrder=NEGATIVE_FIRST&page=447',\n",
       " 'https://www.flipkart.com/poco-m3-power-black-64-gb/product-reviews/itmb49cc10841be2?pid=MOBFZTCUTAYPJHHR&lid=LSTMOBFZTCUTAYPJHHR2ZVC1N&aid=overall&certifiedBuyer=false&sortOrder=NEGATIVE_FIRST&page=448',\n",
       " 'https://www.flipkart.com/poco-m3-power-black-64-gb/product-reviews/itmb49cc10841be2?pid=MOBFZTCUTAYPJHHR&lid=LSTMOBFZTCUTAYPJHHR2ZVC1N&aid=overall&certifiedBuyer=false&sortOrder=NEGATIVE_FIRST&page=449',\n",
       " 'https://www.flipkart.com/poco-m3-power-black-64-gb/product-reviews/itmb49cc10841be2?pid=MOBFZTCUTAYPJHHR&lid=LSTMOBFZTCUTAYPJHHR2ZVC1N&aid=overall&certifiedBuyer=false&sortOrder=NEGATIVE_FIRST&page=450',\n",
       " 'https://www.flipkart.com/poco-m3-power-black-64-gb/product-reviews/itmb49cc10841be2?pid=MOBFZTCUTAYPJHHR&lid=LSTMOBFZTCUTAYPJHHR2ZVC1N&aid=overall&certifiedBuyer=false&sortOrder=NEGATIVE_FIRST&page=451',\n",
       " 'https://www.flipkart.com/poco-m3-power-black-64-gb/product-reviews/itmb49cc10841be2?pid=MOBFZTCUTAYPJHHR&lid=LSTMOBFZTCUTAYPJHHR2ZVC1N&aid=overall&certifiedBuyer=false&sortOrder=NEGATIVE_FIRST&page=452',\n",
       " 'https://www.flipkart.com/poco-m3-power-black-64-gb/product-reviews/itmb49cc10841be2?pid=MOBFZTCUTAYPJHHR&lid=LSTMOBFZTCUTAYPJHHR2ZVC1N&aid=overall&certifiedBuyer=false&sortOrder=NEGATIVE_FIRST&page=453',\n",
       " 'https://www.flipkart.com/poco-m3-power-black-64-gb/product-reviews/itmb49cc10841be2?pid=MOBFZTCUTAYPJHHR&lid=LSTMOBFZTCUTAYPJHHR2ZVC1N&aid=overall&certifiedBuyer=false&sortOrder=NEGATIVE_FIRST&page=454',\n",
       " 'https://www.flipkart.com/poco-m3-power-black-64-gb/product-reviews/itmb49cc10841be2?pid=MOBFZTCUTAYPJHHR&lid=LSTMOBFZTCUTAYPJHHR2ZVC1N&aid=overall&certifiedBuyer=false&sortOrder=NEGATIVE_FIRST&page=455',\n",
       " 'https://www.flipkart.com/poco-m3-power-black-64-gb/product-reviews/itmb49cc10841be2?pid=MOBFZTCUTAYPJHHR&lid=LSTMOBFZTCUTAYPJHHR2ZVC1N&aid=overall&certifiedBuyer=false&sortOrder=NEGATIVE_FIRST&page=456',\n",
       " 'https://www.flipkart.com/poco-m3-power-black-64-gb/product-reviews/itmb49cc10841be2?pid=MOBFZTCUTAYPJHHR&lid=LSTMOBFZTCUTAYPJHHR2ZVC1N&aid=overall&certifiedBuyer=false&sortOrder=NEGATIVE_FIRST&page=457',\n",
       " 'https://www.flipkart.com/poco-m3-power-black-64-gb/product-reviews/itmb49cc10841be2?pid=MOBFZTCUTAYPJHHR&lid=LSTMOBFZTCUTAYPJHHR2ZVC1N&aid=overall&certifiedBuyer=false&sortOrder=NEGATIVE_FIRST&page=458',\n",
       " 'https://www.flipkart.com/poco-m3-power-black-64-gb/product-reviews/itmb49cc10841be2?pid=MOBFZTCUTAYPJHHR&lid=LSTMOBFZTCUTAYPJHHR2ZVC1N&aid=overall&certifiedBuyer=false&sortOrder=NEGATIVE_FIRST&page=459',\n",
       " 'https://www.flipkart.com/poco-m3-power-black-64-gb/product-reviews/itmb49cc10841be2?pid=MOBFZTCUTAYPJHHR&lid=LSTMOBFZTCUTAYPJHHR2ZVC1N&aid=overall&certifiedBuyer=false&sortOrder=NEGATIVE_FIRST&page=460',\n",
       " 'https://www.flipkart.com/poco-m3-power-black-64-gb/product-reviews/itmb49cc10841be2?pid=MOBFZTCUTAYPJHHR&lid=LSTMOBFZTCUTAYPJHHR2ZVC1N&aid=overall&certifiedBuyer=false&sortOrder=NEGATIVE_FIRST&page=461',\n",
       " 'https://www.flipkart.com/poco-m3-power-black-64-gb/product-reviews/itmb49cc10841be2?pid=MOBFZTCUTAYPJHHR&lid=LSTMOBFZTCUTAYPJHHR2ZVC1N&aid=overall&certifiedBuyer=false&sortOrder=NEGATIVE_FIRST&page=462',\n",
       " 'https://www.flipkart.com/poco-m3-power-black-64-gb/product-reviews/itmb49cc10841be2?pid=MOBFZTCUTAYPJHHR&lid=LSTMOBFZTCUTAYPJHHR2ZVC1N&aid=overall&certifiedBuyer=false&sortOrder=NEGATIVE_FIRST&page=463',\n",
       " 'https://www.flipkart.com/poco-m3-power-black-64-gb/product-reviews/itmb49cc10841be2?pid=MOBFZTCUTAYPJHHR&lid=LSTMOBFZTCUTAYPJHHR2ZVC1N&aid=overall&certifiedBuyer=false&sortOrder=NEGATIVE_FIRST&page=464',\n",
       " 'https://www.flipkart.com/poco-m3-power-black-64-gb/product-reviews/itmb49cc10841be2?pid=MOBFZTCUTAYPJHHR&lid=LSTMOBFZTCUTAYPJHHR2ZVC1N&aid=overall&certifiedBuyer=false&sortOrder=NEGATIVE_FIRST&page=465',\n",
       " 'https://www.flipkart.com/poco-m3-power-black-64-gb/product-reviews/itmb49cc10841be2?pid=MOBFZTCUTAYPJHHR&lid=LSTMOBFZTCUTAYPJHHR2ZVC1N&aid=overall&certifiedBuyer=false&sortOrder=NEGATIVE_FIRST&page=466',\n",
       " 'https://www.flipkart.com/poco-m3-power-black-64-gb/product-reviews/itmb49cc10841be2?pid=MOBFZTCUTAYPJHHR&lid=LSTMOBFZTCUTAYPJHHR2ZVC1N&aid=overall&certifiedBuyer=false&sortOrder=NEGATIVE_FIRST&page=467',\n",
       " 'https://www.flipkart.com/poco-m3-power-black-64-gb/product-reviews/itmb49cc10841be2?pid=MOBFZTCUTAYPJHHR&lid=LSTMOBFZTCUTAYPJHHR2ZVC1N&aid=overall&certifiedBuyer=false&sortOrder=NEGATIVE_FIRST&page=468',\n",
       " 'https://www.flipkart.com/poco-m3-power-black-64-gb/product-reviews/itmb49cc10841be2?pid=MOBFZTCUTAYPJHHR&lid=LSTMOBFZTCUTAYPJHHR2ZVC1N&aid=overall&certifiedBuyer=false&sortOrder=NEGATIVE_FIRST&page=469',\n",
       " 'https://www.flipkart.com/poco-m3-power-black-64-gb/product-reviews/itmb49cc10841be2?pid=MOBFZTCUTAYPJHHR&lid=LSTMOBFZTCUTAYPJHHR2ZVC1N&aid=overall&certifiedBuyer=false&sortOrder=NEGATIVE_FIRST&page=470',\n",
       " 'https://www.flipkart.com/poco-m3-power-black-64-gb/product-reviews/itmb49cc10841be2?pid=MOBFZTCUTAYPJHHR&lid=LSTMOBFZTCUTAYPJHHR2ZVC1N&aid=overall&certifiedBuyer=false&sortOrder=NEGATIVE_FIRST&page=471',\n",
       " 'https://www.flipkart.com/poco-m3-power-black-64-gb/product-reviews/itmb49cc10841be2?pid=MOBFZTCUTAYPJHHR&lid=LSTMOBFZTCUTAYPJHHR2ZVC1N&aid=overall&certifiedBuyer=false&sortOrder=NEGATIVE_FIRST&page=472',\n",
       " 'https://www.flipkart.com/poco-m3-power-black-64-gb/product-reviews/itmb49cc10841be2?pid=MOBFZTCUTAYPJHHR&lid=LSTMOBFZTCUTAYPJHHR2ZVC1N&aid=overall&certifiedBuyer=false&sortOrder=NEGATIVE_FIRST&page=473',\n",
       " 'https://www.flipkart.com/poco-m3-power-black-64-gb/product-reviews/itmb49cc10841be2?pid=MOBFZTCUTAYPJHHR&lid=LSTMOBFZTCUTAYPJHHR2ZVC1N&aid=overall&certifiedBuyer=false&sortOrder=NEGATIVE_FIRST&page=474',\n",
       " 'https://www.flipkart.com/poco-m3-power-black-64-gb/product-reviews/itmb49cc10841be2?pid=MOBFZTCUTAYPJHHR&lid=LSTMOBFZTCUTAYPJHHR2ZVC1N&aid=overall&certifiedBuyer=false&sortOrder=NEGATIVE_FIRST&page=475',\n",
       " 'https://www.flipkart.com/poco-m3-power-black-64-gb/product-reviews/itmb49cc10841be2?pid=MOBFZTCUTAYPJHHR&lid=LSTMOBFZTCUTAYPJHHR2ZVC1N&aid=overall&certifiedBuyer=false&sortOrder=NEGATIVE_FIRST&page=476',\n",
       " 'https://www.flipkart.com/poco-m3-power-black-64-gb/product-reviews/itmb49cc10841be2?pid=MOBFZTCUTAYPJHHR&lid=LSTMOBFZTCUTAYPJHHR2ZVC1N&aid=overall&certifiedBuyer=false&sortOrder=NEGATIVE_FIRST&page=477',\n",
       " 'https://www.flipkart.com/poco-m3-power-black-64-gb/product-reviews/itmb49cc10841be2?pid=MOBFZTCUTAYPJHHR&lid=LSTMOBFZTCUTAYPJHHR2ZVC1N&aid=overall&certifiedBuyer=false&sortOrder=NEGATIVE_FIRST&page=478',\n",
       " 'https://www.flipkart.com/poco-m3-power-black-64-gb/product-reviews/itmb49cc10841be2?pid=MOBFZTCUTAYPJHHR&lid=LSTMOBFZTCUTAYPJHHR2ZVC1N&aid=overall&certifiedBuyer=false&sortOrder=NEGATIVE_FIRST&page=479',\n",
       " 'https://www.flipkart.com/poco-m3-power-black-64-gb/product-reviews/itmb49cc10841be2?pid=MOBFZTCUTAYPJHHR&lid=LSTMOBFZTCUTAYPJHHR2ZVC1N&aid=overall&certifiedBuyer=false&sortOrder=NEGATIVE_FIRST&page=480',\n",
       " 'https://www.flipkart.com/poco-m3-power-black-64-gb/product-reviews/itmb49cc10841be2?pid=MOBFZTCUTAYPJHHR&lid=LSTMOBFZTCUTAYPJHHR2ZVC1N&aid=overall&certifiedBuyer=false&sortOrder=NEGATIVE_FIRST&page=481',\n",
       " 'https://www.flipkart.com/poco-m3-power-black-64-gb/product-reviews/itmb49cc10841be2?pid=MOBFZTCUTAYPJHHR&lid=LSTMOBFZTCUTAYPJHHR2ZVC1N&aid=overall&certifiedBuyer=false&sortOrder=NEGATIVE_FIRST&page=482',\n",
       " 'https://www.flipkart.com/poco-m3-power-black-64-gb/product-reviews/itmb49cc10841be2?pid=MOBFZTCUTAYPJHHR&lid=LSTMOBFZTCUTAYPJHHR2ZVC1N&aid=overall&certifiedBuyer=false&sortOrder=NEGATIVE_FIRST&page=483',\n",
       " 'https://www.flipkart.com/poco-m3-power-black-64-gb/product-reviews/itmb49cc10841be2?pid=MOBFZTCUTAYPJHHR&lid=LSTMOBFZTCUTAYPJHHR2ZVC1N&aid=overall&certifiedBuyer=false&sortOrder=NEGATIVE_FIRST&page=484',\n",
       " 'https://www.flipkart.com/poco-m3-power-black-64-gb/product-reviews/itmb49cc10841be2?pid=MOBFZTCUTAYPJHHR&lid=LSTMOBFZTCUTAYPJHHR2ZVC1N&aid=overall&certifiedBuyer=false&sortOrder=NEGATIVE_FIRST&page=485',\n",
       " 'https://www.flipkart.com/poco-m3-power-black-64-gb/product-reviews/itmb49cc10841be2?pid=MOBFZTCUTAYPJHHR&lid=LSTMOBFZTCUTAYPJHHR2ZVC1N&aid=overall&certifiedBuyer=false&sortOrder=NEGATIVE_FIRST&page=486',\n",
       " 'https://www.flipkart.com/poco-m3-power-black-64-gb/product-reviews/itmb49cc10841be2?pid=MOBFZTCUTAYPJHHR&lid=LSTMOBFZTCUTAYPJHHR2ZVC1N&aid=overall&certifiedBuyer=false&sortOrder=NEGATIVE_FIRST&page=487',\n",
       " 'https://www.flipkart.com/poco-m3-power-black-64-gb/product-reviews/itmb49cc10841be2?pid=MOBFZTCUTAYPJHHR&lid=LSTMOBFZTCUTAYPJHHR2ZVC1N&aid=overall&certifiedBuyer=false&sortOrder=NEGATIVE_FIRST&page=488',\n",
       " 'https://www.flipkart.com/poco-m3-power-black-64-gb/product-reviews/itmb49cc10841be2?pid=MOBFZTCUTAYPJHHR&lid=LSTMOBFZTCUTAYPJHHR2ZVC1N&aid=overall&certifiedBuyer=false&sortOrder=NEGATIVE_FIRST&page=489',\n",
       " 'https://www.flipkart.com/poco-m3-power-black-64-gb/product-reviews/itmb49cc10841be2?pid=MOBFZTCUTAYPJHHR&lid=LSTMOBFZTCUTAYPJHHR2ZVC1N&aid=overall&certifiedBuyer=false&sortOrder=NEGATIVE_FIRST&page=490',\n",
       " 'https://www.flipkart.com/poco-m3-power-black-64-gb/product-reviews/itmb49cc10841be2?pid=MOBFZTCUTAYPJHHR&lid=LSTMOBFZTCUTAYPJHHR2ZVC1N&aid=overall&certifiedBuyer=false&sortOrder=NEGATIVE_FIRST&page=491',\n",
       " 'https://www.flipkart.com/poco-m3-power-black-64-gb/product-reviews/itmb49cc10841be2?pid=MOBFZTCUTAYPJHHR&lid=LSTMOBFZTCUTAYPJHHR2ZVC1N&aid=overall&certifiedBuyer=false&sortOrder=NEGATIVE_FIRST&page=492',\n",
       " 'https://www.flipkart.com/poco-m3-power-black-64-gb/product-reviews/itmb49cc10841be2?pid=MOBFZTCUTAYPJHHR&lid=LSTMOBFZTCUTAYPJHHR2ZVC1N&aid=overall&certifiedBuyer=false&sortOrder=NEGATIVE_FIRST&page=493',\n",
       " 'https://www.flipkart.com/poco-m3-power-black-64-gb/product-reviews/itmb49cc10841be2?pid=MOBFZTCUTAYPJHHR&lid=LSTMOBFZTCUTAYPJHHR2ZVC1N&aid=overall&certifiedBuyer=false&sortOrder=NEGATIVE_FIRST&page=494',\n",
       " 'https://www.flipkart.com/poco-m3-power-black-64-gb/product-reviews/itmb49cc10841be2?pid=MOBFZTCUTAYPJHHR&lid=LSTMOBFZTCUTAYPJHHR2ZVC1N&aid=overall&certifiedBuyer=false&sortOrder=NEGATIVE_FIRST&page=495',\n",
       " 'https://www.flipkart.com/poco-m3-power-black-64-gb/product-reviews/itmb49cc10841be2?pid=MOBFZTCUTAYPJHHR&lid=LSTMOBFZTCUTAYPJHHR2ZVC1N&aid=overall&certifiedBuyer=false&sortOrder=NEGATIVE_FIRST&page=496',\n",
       " 'https://www.flipkart.com/poco-m3-power-black-64-gb/product-reviews/itmb49cc10841be2?pid=MOBFZTCUTAYPJHHR&lid=LSTMOBFZTCUTAYPJHHR2ZVC1N&aid=overall&certifiedBuyer=false&sortOrder=NEGATIVE_FIRST&page=497',\n",
       " 'https://www.flipkart.com/poco-m3-power-black-64-gb/product-reviews/itmb49cc10841be2?pid=MOBFZTCUTAYPJHHR&lid=LSTMOBFZTCUTAYPJHHR2ZVC1N&aid=overall&certifiedBuyer=false&sortOrder=NEGATIVE_FIRST&page=498',\n",
       " 'https://www.flipkart.com/poco-m3-power-black-64-gb/product-reviews/itmb49cc10841be2?pid=MOBFZTCUTAYPJHHR&lid=LSTMOBFZTCUTAYPJHHR2ZVC1N&aid=overall&certifiedBuyer=false&sortOrder=NEGATIVE_FIRST&page=499',\n",
       " 'https://www.flipkart.com/poco-m3-power-black-64-gb/product-reviews/itmb49cc10841be2?pid=MOBFZTCUTAYPJHHR&lid=LSTMOBFZTCUTAYPJHHR2ZVC1N&aid=overall&certifiedBuyer=false&sortOrder=NEGATIVE_FIRST&page=500',\n",
       " 'https://www.flipkart.com/poco-m3-power-black-64-gb/product-reviews/itmb49cc10841be2?pid=MOBFZTCUTAYPJHHR&lid=LSTMOBFZTCUTAYPJHHR2ZVC1N&aid=overall&certifiedBuyer=false&sortOrder=NEGATIVE_FIRST&page=501',\n",
       " 'https://www.flipkart.com/poco-m3-power-black-64-gb/product-reviews/itmb49cc10841be2?pid=MOBFZTCUTAYPJHHR&lid=LSTMOBFZTCUTAYPJHHR2ZVC1N&aid=overall&certifiedBuyer=false&sortOrder=NEGATIVE_FIRST&page=502',\n",
       " 'https://www.flipkart.com/poco-m3-power-black-64-gb/product-reviews/itmb49cc10841be2?pid=MOBFZTCUTAYPJHHR&lid=LSTMOBFZTCUTAYPJHHR2ZVC1N&aid=overall&certifiedBuyer=false&sortOrder=NEGATIVE_FIRST&page=503',\n",
       " 'https://www.flipkart.com/poco-m3-power-black-64-gb/product-reviews/itmb49cc10841be2?pid=MOBFZTCUTAYPJHHR&lid=LSTMOBFZTCUTAYPJHHR2ZVC1N&aid=overall&certifiedBuyer=false&sortOrder=NEGATIVE_FIRST&page=504',\n",
       " 'https://www.flipkart.com/poco-m3-power-black-64-gb/product-reviews/itmb49cc10841be2?pid=MOBFZTCUTAYPJHHR&lid=LSTMOBFZTCUTAYPJHHR2ZVC1N&aid=overall&certifiedBuyer=false&sortOrder=NEGATIVE_FIRST&page=505',\n",
       " 'https://www.flipkart.com/poco-m3-power-black-64-gb/product-reviews/itmb49cc10841be2?pid=MOBFZTCUTAYPJHHR&lid=LSTMOBFZTCUTAYPJHHR2ZVC1N&aid=overall&certifiedBuyer=false&sortOrder=NEGATIVE_FIRST&page=506',\n",
       " 'https://www.flipkart.com/poco-m3-power-black-64-gb/product-reviews/itmb49cc10841be2?pid=MOBFZTCUTAYPJHHR&lid=LSTMOBFZTCUTAYPJHHR2ZVC1N&aid=overall&certifiedBuyer=false&sortOrder=NEGATIVE_FIRST&page=507',\n",
       " 'https://www.flipkart.com/poco-m3-power-black-64-gb/product-reviews/itmb49cc10841be2?pid=MOBFZTCUTAYPJHHR&lid=LSTMOBFZTCUTAYPJHHR2ZVC1N&aid=overall&certifiedBuyer=false&sortOrder=NEGATIVE_FIRST&page=508',\n",
       " 'https://www.flipkart.com/poco-m3-power-black-64-gb/product-reviews/itmb49cc10841be2?pid=MOBFZTCUTAYPJHHR&lid=LSTMOBFZTCUTAYPJHHR2ZVC1N&aid=overall&certifiedBuyer=false&sortOrder=NEGATIVE_FIRST&page=509',\n",
       " 'https://www.flipkart.com/poco-m3-power-black-64-gb/product-reviews/itmb49cc10841be2?pid=MOBFZTCUTAYPJHHR&lid=LSTMOBFZTCUTAYPJHHR2ZVC1N&aid=overall&certifiedBuyer=false&sortOrder=NEGATIVE_FIRST&page=510',\n",
       " 'https://www.flipkart.com/poco-m3-power-black-64-gb/product-reviews/itmb49cc10841be2?pid=MOBFZTCUTAYPJHHR&lid=LSTMOBFZTCUTAYPJHHR2ZVC1N&aid=overall&certifiedBuyer=false&sortOrder=NEGATIVE_FIRST&page=511',\n",
       " 'https://www.flipkart.com/poco-m3-power-black-64-gb/product-reviews/itmb49cc10841be2?pid=MOBFZTCUTAYPJHHR&lid=LSTMOBFZTCUTAYPJHHR2ZVC1N&aid=overall&certifiedBuyer=false&sortOrder=NEGATIVE_FIRST&page=512',\n",
       " 'https://www.flipkart.com/poco-m3-power-black-64-gb/product-reviews/itmb49cc10841be2?pid=MOBFZTCUTAYPJHHR&lid=LSTMOBFZTCUTAYPJHHR2ZVC1N&aid=overall&certifiedBuyer=false&sortOrder=NEGATIVE_FIRST&page=513',\n",
       " 'https://www.flipkart.com/poco-m3-power-black-64-gb/product-reviews/itmb49cc10841be2?pid=MOBFZTCUTAYPJHHR&lid=LSTMOBFZTCUTAYPJHHR2ZVC1N&aid=overall&certifiedBuyer=false&sortOrder=NEGATIVE_FIRST&page=514',\n",
       " 'https://www.flipkart.com/poco-m3-power-black-64-gb/product-reviews/itmb49cc10841be2?pid=MOBFZTCUTAYPJHHR&lid=LSTMOBFZTCUTAYPJHHR2ZVC1N&aid=overall&certifiedBuyer=false&sortOrder=NEGATIVE_FIRST&page=515',\n",
       " 'https://www.flipkart.com/poco-m3-power-black-64-gb/product-reviews/itmb49cc10841be2?pid=MOBFZTCUTAYPJHHR&lid=LSTMOBFZTCUTAYPJHHR2ZVC1N&aid=overall&certifiedBuyer=false&sortOrder=NEGATIVE_FIRST&page=516',\n",
       " 'https://www.flipkart.com/poco-m3-power-black-64-gb/product-reviews/itmb49cc10841be2?pid=MOBFZTCUTAYPJHHR&lid=LSTMOBFZTCUTAYPJHHR2ZVC1N&aid=overall&certifiedBuyer=false&sortOrder=NEGATIVE_FIRST&page=517',\n",
       " 'https://www.flipkart.com/poco-m3-power-black-64-gb/product-reviews/itmb49cc10841be2?pid=MOBFZTCUTAYPJHHR&lid=LSTMOBFZTCUTAYPJHHR2ZVC1N&aid=overall&certifiedBuyer=false&sortOrder=NEGATIVE_FIRST&page=518',\n",
       " 'https://www.flipkart.com/poco-m3-power-black-64-gb/product-reviews/itmb49cc10841be2?pid=MOBFZTCUTAYPJHHR&lid=LSTMOBFZTCUTAYPJHHR2ZVC1N&aid=overall&certifiedBuyer=false&sortOrder=NEGATIVE_FIRST&page=519',\n",
       " 'https://www.flipkart.com/poco-m3-power-black-64-gb/product-reviews/itmb49cc10841be2?pid=MOBFZTCUTAYPJHHR&lid=LSTMOBFZTCUTAYPJHHR2ZVC1N&aid=overall&certifiedBuyer=false&sortOrder=NEGATIVE_FIRST&page=520',\n",
       " 'https://www.flipkart.com/poco-m3-power-black-64-gb/product-reviews/itmb49cc10841be2?pid=MOBFZTCUTAYPJHHR&lid=LSTMOBFZTCUTAYPJHHR2ZVC1N&aid=overall&certifiedBuyer=false&sortOrder=NEGATIVE_FIRST&page=521',\n",
       " 'https://www.flipkart.com/poco-m3-power-black-64-gb/product-reviews/itmb49cc10841be2?pid=MOBFZTCUTAYPJHHR&lid=LSTMOBFZTCUTAYPJHHR2ZVC1N&aid=overall&certifiedBuyer=false&sortOrder=NEGATIVE_FIRST&page=522',\n",
       " 'https://www.flipkart.com/poco-m3-power-black-64-gb/product-reviews/itmb49cc10841be2?pid=MOBFZTCUTAYPJHHR&lid=LSTMOBFZTCUTAYPJHHR2ZVC1N&aid=overall&certifiedBuyer=false&sortOrder=NEGATIVE_FIRST&page=523',\n",
       " 'https://www.flipkart.com/poco-m3-power-black-64-gb/product-reviews/itmb49cc10841be2?pid=MOBFZTCUTAYPJHHR&lid=LSTMOBFZTCUTAYPJHHR2ZVC1N&aid=overall&certifiedBuyer=false&sortOrder=NEGATIVE_FIRST&page=524',\n",
       " 'https://www.flipkart.com/poco-m3-power-black-64-gb/product-reviews/itmb49cc10841be2?pid=MOBFZTCUTAYPJHHR&lid=LSTMOBFZTCUTAYPJHHR2ZVC1N&aid=overall&certifiedBuyer=false&sortOrder=NEGATIVE_FIRST&page=525',\n",
       " 'https://www.flipkart.com/poco-m3-power-black-64-gb/product-reviews/itmb49cc10841be2?pid=MOBFZTCUTAYPJHHR&lid=LSTMOBFZTCUTAYPJHHR2ZVC1N&aid=overall&certifiedBuyer=false&sortOrder=NEGATIVE_FIRST&page=526',\n",
       " 'https://www.flipkart.com/poco-m3-power-black-64-gb/product-reviews/itmb49cc10841be2?pid=MOBFZTCUTAYPJHHR&lid=LSTMOBFZTCUTAYPJHHR2ZVC1N&aid=overall&certifiedBuyer=false&sortOrder=NEGATIVE_FIRST&page=527',\n",
       " 'https://www.flipkart.com/poco-m3-power-black-64-gb/product-reviews/itmb49cc10841be2?pid=MOBFZTCUTAYPJHHR&lid=LSTMOBFZTCUTAYPJHHR2ZVC1N&aid=overall&certifiedBuyer=false&sortOrder=NEGATIVE_FIRST&page=528',\n",
       " 'https://www.flipkart.com/poco-m3-power-black-64-gb/product-reviews/itmb49cc10841be2?pid=MOBFZTCUTAYPJHHR&lid=LSTMOBFZTCUTAYPJHHR2ZVC1N&aid=overall&certifiedBuyer=false&sortOrder=NEGATIVE_FIRST&page=529',\n",
       " 'https://www.flipkart.com/poco-m3-power-black-64-gb/product-reviews/itmb49cc10841be2?pid=MOBFZTCUTAYPJHHR&lid=LSTMOBFZTCUTAYPJHHR2ZVC1N&aid=overall&certifiedBuyer=false&sortOrder=NEGATIVE_FIRST&page=530',\n",
       " 'https://www.flipkart.com/poco-m3-power-black-64-gb/product-reviews/itmb49cc10841be2?pid=MOBFZTCUTAYPJHHR&lid=LSTMOBFZTCUTAYPJHHR2ZVC1N&aid=overall&certifiedBuyer=false&sortOrder=NEGATIVE_FIRST&page=531',\n",
       " 'https://www.flipkart.com/poco-m3-power-black-64-gb/product-reviews/itmb49cc10841be2?pid=MOBFZTCUTAYPJHHR&lid=LSTMOBFZTCUTAYPJHHR2ZVC1N&aid=overall&certifiedBuyer=false&sortOrder=NEGATIVE_FIRST&page=532',\n",
       " 'https://www.flipkart.com/poco-m3-power-black-64-gb/product-reviews/itmb49cc10841be2?pid=MOBFZTCUTAYPJHHR&lid=LSTMOBFZTCUTAYPJHHR2ZVC1N&aid=overall&certifiedBuyer=false&sortOrder=NEGATIVE_FIRST&page=533',\n",
       " 'https://www.flipkart.com/poco-m3-power-black-64-gb/product-reviews/itmb49cc10841be2?pid=MOBFZTCUTAYPJHHR&lid=LSTMOBFZTCUTAYPJHHR2ZVC1N&aid=overall&certifiedBuyer=false&sortOrder=NEGATIVE_FIRST&page=534',\n",
       " 'https://www.flipkart.com/poco-m3-power-black-64-gb/product-reviews/itmb49cc10841be2?pid=MOBFZTCUTAYPJHHR&lid=LSTMOBFZTCUTAYPJHHR2ZVC1N&aid=overall&certifiedBuyer=false&sortOrder=NEGATIVE_FIRST&page=535',\n",
       " 'https://www.flipkart.com/poco-m3-power-black-64-gb/product-reviews/itmb49cc10841be2?pid=MOBFZTCUTAYPJHHR&lid=LSTMOBFZTCUTAYPJHHR2ZVC1N&aid=overall&certifiedBuyer=false&sortOrder=NEGATIVE_FIRST&page=536',\n",
       " 'https://www.flipkart.com/poco-m3-power-black-64-gb/product-reviews/itmb49cc10841be2?pid=MOBFZTCUTAYPJHHR&lid=LSTMOBFZTCUTAYPJHHR2ZVC1N&aid=overall&certifiedBuyer=false&sortOrder=NEGATIVE_FIRST&page=537',\n",
       " 'https://www.flipkart.com/poco-m3-power-black-64-gb/product-reviews/itmb49cc10841be2?pid=MOBFZTCUTAYPJHHR&lid=LSTMOBFZTCUTAYPJHHR2ZVC1N&aid=overall&certifiedBuyer=false&sortOrder=NEGATIVE_FIRST&page=538',\n",
       " 'https://www.flipkart.com/poco-m3-power-black-64-gb/product-reviews/itmb49cc10841be2?pid=MOBFZTCUTAYPJHHR&lid=LSTMOBFZTCUTAYPJHHR2ZVC1N&aid=overall&certifiedBuyer=false&sortOrder=NEGATIVE_FIRST&page=539',\n",
       " 'https://www.flipkart.com/poco-m3-power-black-64-gb/product-reviews/itmb49cc10841be2?pid=MOBFZTCUTAYPJHHR&lid=LSTMOBFZTCUTAYPJHHR2ZVC1N&aid=overall&certifiedBuyer=false&sortOrder=NEGATIVE_FIRST&page=540',\n",
       " 'https://www.flipkart.com/poco-m3-power-black-64-gb/product-reviews/itmb49cc10841be2?pid=MOBFZTCUTAYPJHHR&lid=LSTMOBFZTCUTAYPJHHR2ZVC1N&aid=overall&certifiedBuyer=false&sortOrder=NEGATIVE_FIRST&page=541',\n",
       " 'https://www.flipkart.com/poco-m3-power-black-64-gb/product-reviews/itmb49cc10841be2?pid=MOBFZTCUTAYPJHHR&lid=LSTMOBFZTCUTAYPJHHR2ZVC1N&aid=overall&certifiedBuyer=false&sortOrder=NEGATIVE_FIRST&page=542',\n",
       " 'https://www.flipkart.com/poco-m3-power-black-64-gb/product-reviews/itmb49cc10841be2?pid=MOBFZTCUTAYPJHHR&lid=LSTMOBFZTCUTAYPJHHR2ZVC1N&aid=overall&certifiedBuyer=false&sortOrder=NEGATIVE_FIRST&page=543',\n",
       " 'https://www.flipkart.com/poco-m3-power-black-64-gb/product-reviews/itmb49cc10841be2?pid=MOBFZTCUTAYPJHHR&lid=LSTMOBFZTCUTAYPJHHR2ZVC1N&aid=overall&certifiedBuyer=false&sortOrder=NEGATIVE_FIRST&page=544',\n",
       " 'https://www.flipkart.com/poco-m3-power-black-64-gb/product-reviews/itmb49cc10841be2?pid=MOBFZTCUTAYPJHHR&lid=LSTMOBFZTCUTAYPJHHR2ZVC1N&aid=overall&certifiedBuyer=false&sortOrder=NEGATIVE_FIRST&page=545',\n",
       " 'https://www.flipkart.com/poco-m3-power-black-64-gb/product-reviews/itmb49cc10841be2?pid=MOBFZTCUTAYPJHHR&lid=LSTMOBFZTCUTAYPJHHR2ZVC1N&aid=overall&certifiedBuyer=false&sortOrder=NEGATIVE_FIRST&page=546',\n",
       " 'https://www.flipkart.com/poco-m3-power-black-64-gb/product-reviews/itmb49cc10841be2?pid=MOBFZTCUTAYPJHHR&lid=LSTMOBFZTCUTAYPJHHR2ZVC1N&aid=overall&certifiedBuyer=false&sortOrder=NEGATIVE_FIRST&page=547',\n",
       " 'https://www.flipkart.com/poco-m3-power-black-64-gb/product-reviews/itmb49cc10841be2?pid=MOBFZTCUTAYPJHHR&lid=LSTMOBFZTCUTAYPJHHR2ZVC1N&aid=overall&certifiedBuyer=false&sortOrder=NEGATIVE_FIRST&page=548',\n",
       " 'https://www.flipkart.com/poco-m3-power-black-64-gb/product-reviews/itmb49cc10841be2?pid=MOBFZTCUTAYPJHHR&lid=LSTMOBFZTCUTAYPJHHR2ZVC1N&aid=overall&certifiedBuyer=false&sortOrder=NEGATIVE_FIRST&page=549',\n",
       " 'https://www.flipkart.com/poco-m3-power-black-64-gb/product-reviews/itmb49cc10841be2?pid=MOBFZTCUTAYPJHHR&lid=LSTMOBFZTCUTAYPJHHR2ZVC1N&aid=overall&certifiedBuyer=false&sortOrder=NEGATIVE_FIRST&page=550',\n",
       " 'https://www.flipkart.com/poco-m3-power-black-64-gb/product-reviews/itmb49cc10841be2?pid=MOBFZTCUTAYPJHHR&lid=LSTMOBFZTCUTAYPJHHR2ZVC1N&aid=overall&certifiedBuyer=false&sortOrder=NEGATIVE_FIRST&page=551',\n",
       " 'https://www.flipkart.com/poco-m3-power-black-64-gb/product-reviews/itmb49cc10841be2?pid=MOBFZTCUTAYPJHHR&lid=LSTMOBFZTCUTAYPJHHR2ZVC1N&aid=overall&certifiedBuyer=false&sortOrder=NEGATIVE_FIRST&page=552',\n",
       " 'https://www.flipkart.com/poco-m3-power-black-64-gb/product-reviews/itmb49cc10841be2?pid=MOBFZTCUTAYPJHHR&lid=LSTMOBFZTCUTAYPJHHR2ZVC1N&aid=overall&certifiedBuyer=false&sortOrder=NEGATIVE_FIRST&page=553',\n",
       " 'https://www.flipkart.com/poco-m3-power-black-64-gb/product-reviews/itmb49cc10841be2?pid=MOBFZTCUTAYPJHHR&lid=LSTMOBFZTCUTAYPJHHR2ZVC1N&aid=overall&certifiedBuyer=false&sortOrder=NEGATIVE_FIRST&page=554',\n",
       " 'https://www.flipkart.com/poco-m3-power-black-64-gb/product-reviews/itmb49cc10841be2?pid=MOBFZTCUTAYPJHHR&lid=LSTMOBFZTCUTAYPJHHR2ZVC1N&aid=overall&certifiedBuyer=false&sortOrder=NEGATIVE_FIRST&page=555',\n",
       " 'https://www.flipkart.com/poco-m3-power-black-64-gb/product-reviews/itmb49cc10841be2?pid=MOBFZTCUTAYPJHHR&lid=LSTMOBFZTCUTAYPJHHR2ZVC1N&aid=overall&certifiedBuyer=false&sortOrder=NEGATIVE_FIRST&page=556',\n",
       " 'https://www.flipkart.com/poco-m3-power-black-64-gb/product-reviews/itmb49cc10841be2?pid=MOBFZTCUTAYPJHHR&lid=LSTMOBFZTCUTAYPJHHR2ZVC1N&aid=overall&certifiedBuyer=false&sortOrder=NEGATIVE_FIRST&page=557',\n",
       " 'https://www.flipkart.com/poco-m3-power-black-64-gb/product-reviews/itmb49cc10841be2?pid=MOBFZTCUTAYPJHHR&lid=LSTMOBFZTCUTAYPJHHR2ZVC1N&aid=overall&certifiedBuyer=false&sortOrder=NEGATIVE_FIRST&page=558',\n",
       " 'https://www.flipkart.com/poco-m3-power-black-64-gb/product-reviews/itmb49cc10841be2?pid=MOBFZTCUTAYPJHHR&lid=LSTMOBFZTCUTAYPJHHR2ZVC1N&aid=overall&certifiedBuyer=false&sortOrder=NEGATIVE_FIRST&page=559',\n",
       " 'https://www.flipkart.com/poco-m3-power-black-64-gb/product-reviews/itmb49cc10841be2?pid=MOBFZTCUTAYPJHHR&lid=LSTMOBFZTCUTAYPJHHR2ZVC1N&aid=overall&certifiedBuyer=false&sortOrder=NEGATIVE_FIRST&page=560',\n",
       " 'https://www.flipkart.com/poco-m3-power-black-64-gb/product-reviews/itmb49cc10841be2?pid=MOBFZTCUTAYPJHHR&lid=LSTMOBFZTCUTAYPJHHR2ZVC1N&aid=overall&certifiedBuyer=false&sortOrder=NEGATIVE_FIRST&page=561',\n",
       " 'https://www.flipkart.com/poco-m3-power-black-64-gb/product-reviews/itmb49cc10841be2?pid=MOBFZTCUTAYPJHHR&lid=LSTMOBFZTCUTAYPJHHR2ZVC1N&aid=overall&certifiedBuyer=false&sortOrder=NEGATIVE_FIRST&page=562',\n",
       " 'https://www.flipkart.com/poco-m3-power-black-64-gb/product-reviews/itmb49cc10841be2?pid=MOBFZTCUTAYPJHHR&lid=LSTMOBFZTCUTAYPJHHR2ZVC1N&aid=overall&certifiedBuyer=false&sortOrder=NEGATIVE_FIRST&page=563',\n",
       " 'https://www.flipkart.com/poco-m3-power-black-64-gb/product-reviews/itmb49cc10841be2?pid=MOBFZTCUTAYPJHHR&lid=LSTMOBFZTCUTAYPJHHR2ZVC1N&aid=overall&certifiedBuyer=false&sortOrder=NEGATIVE_FIRST&page=564',\n",
       " 'https://www.flipkart.com/poco-m3-power-black-64-gb/product-reviews/itmb49cc10841be2?pid=MOBFZTCUTAYPJHHR&lid=LSTMOBFZTCUTAYPJHHR2ZVC1N&aid=overall&certifiedBuyer=false&sortOrder=NEGATIVE_FIRST&page=565',\n",
       " 'https://www.flipkart.com/poco-m3-power-black-64-gb/product-reviews/itmb49cc10841be2?pid=MOBFZTCUTAYPJHHR&lid=LSTMOBFZTCUTAYPJHHR2ZVC1N&aid=overall&certifiedBuyer=false&sortOrder=NEGATIVE_FIRST&page=566',\n",
       " 'https://www.flipkart.com/poco-m3-power-black-64-gb/product-reviews/itmb49cc10841be2?pid=MOBFZTCUTAYPJHHR&lid=LSTMOBFZTCUTAYPJHHR2ZVC1N&aid=overall&certifiedBuyer=false&sortOrder=NEGATIVE_FIRST&page=567',\n",
       " 'https://www.flipkart.com/poco-m3-power-black-64-gb/product-reviews/itmb49cc10841be2?pid=MOBFZTCUTAYPJHHR&lid=LSTMOBFZTCUTAYPJHHR2ZVC1N&aid=overall&certifiedBuyer=false&sortOrder=NEGATIVE_FIRST&page=568',\n",
       " 'https://www.flipkart.com/poco-m3-power-black-64-gb/product-reviews/itmb49cc10841be2?pid=MOBFZTCUTAYPJHHR&lid=LSTMOBFZTCUTAYPJHHR2ZVC1N&aid=overall&certifiedBuyer=false&sortOrder=NEGATIVE_FIRST&page=569',\n",
       " 'https://www.flipkart.com/poco-m3-power-black-64-gb/product-reviews/itmb49cc10841be2?pid=MOBFZTCUTAYPJHHR&lid=LSTMOBFZTCUTAYPJHHR2ZVC1N&aid=overall&certifiedBuyer=false&sortOrder=NEGATIVE_FIRST&page=570',\n",
       " 'https://www.flipkart.com/poco-m3-power-black-64-gb/product-reviews/itmb49cc10841be2?pid=MOBFZTCUTAYPJHHR&lid=LSTMOBFZTCUTAYPJHHR2ZVC1N&aid=overall&certifiedBuyer=false&sortOrder=NEGATIVE_FIRST&page=571',\n",
       " 'https://www.flipkart.com/poco-m3-power-black-64-gb/product-reviews/itmb49cc10841be2?pid=MOBFZTCUTAYPJHHR&lid=LSTMOBFZTCUTAYPJHHR2ZVC1N&aid=overall&certifiedBuyer=false&sortOrder=NEGATIVE_FIRST&page=572',\n",
       " 'https://www.flipkart.com/poco-m3-power-black-64-gb/product-reviews/itmb49cc10841be2?pid=MOBFZTCUTAYPJHHR&lid=LSTMOBFZTCUTAYPJHHR2ZVC1N&aid=overall&certifiedBuyer=false&sortOrder=NEGATIVE_FIRST&page=573',\n",
       " 'https://www.flipkart.com/poco-m3-power-black-64-gb/product-reviews/itmb49cc10841be2?pid=MOBFZTCUTAYPJHHR&lid=LSTMOBFZTCUTAYPJHHR2ZVC1N&aid=overall&certifiedBuyer=false&sortOrder=NEGATIVE_FIRST&page=574',\n",
       " 'https://www.flipkart.com/poco-m3-power-black-64-gb/product-reviews/itmb49cc10841be2?pid=MOBFZTCUTAYPJHHR&lid=LSTMOBFZTCUTAYPJHHR2ZVC1N&aid=overall&certifiedBuyer=false&sortOrder=NEGATIVE_FIRST&page=575',\n",
       " 'https://www.flipkart.com/poco-m3-power-black-64-gb/product-reviews/itmb49cc10841be2?pid=MOBFZTCUTAYPJHHR&lid=LSTMOBFZTCUTAYPJHHR2ZVC1N&aid=overall&certifiedBuyer=false&sortOrder=NEGATIVE_FIRST&page=576',\n",
       " 'https://www.flipkart.com/poco-m3-power-black-64-gb/product-reviews/itmb49cc10841be2?pid=MOBFZTCUTAYPJHHR&lid=LSTMOBFZTCUTAYPJHHR2ZVC1N&aid=overall&certifiedBuyer=false&sortOrder=NEGATIVE_FIRST&page=577',\n",
       " 'https://www.flipkart.com/poco-m3-power-black-64-gb/product-reviews/itmb49cc10841be2?pid=MOBFZTCUTAYPJHHR&lid=LSTMOBFZTCUTAYPJHHR2ZVC1N&aid=overall&certifiedBuyer=false&sortOrder=NEGATIVE_FIRST&page=578',\n",
       " 'https://www.flipkart.com/poco-m3-power-black-64-gb/product-reviews/itmb49cc10841be2?pid=MOBFZTCUTAYPJHHR&lid=LSTMOBFZTCUTAYPJHHR2ZVC1N&aid=overall&certifiedBuyer=false&sortOrder=NEGATIVE_FIRST&page=579',\n",
       " 'https://www.flipkart.com/poco-m3-power-black-64-gb/product-reviews/itmb49cc10841be2?pid=MOBFZTCUTAYPJHHR&lid=LSTMOBFZTCUTAYPJHHR2ZVC1N&aid=overall&certifiedBuyer=false&sortOrder=NEGATIVE_FIRST&page=580',\n",
       " 'https://www.flipkart.com/poco-m3-power-black-64-gb/product-reviews/itmb49cc10841be2?pid=MOBFZTCUTAYPJHHR&lid=LSTMOBFZTCUTAYPJHHR2ZVC1N&aid=overall&certifiedBuyer=false&sortOrder=NEGATIVE_FIRST&page=581',\n",
       " 'https://www.flipkart.com/poco-m3-power-black-64-gb/product-reviews/itmb49cc10841be2?pid=MOBFZTCUTAYPJHHR&lid=LSTMOBFZTCUTAYPJHHR2ZVC1N&aid=overall&certifiedBuyer=false&sortOrder=NEGATIVE_FIRST&page=582',\n",
       " 'https://www.flipkart.com/poco-m3-power-black-64-gb/product-reviews/itmb49cc10841be2?pid=MOBFZTCUTAYPJHHR&lid=LSTMOBFZTCUTAYPJHHR2ZVC1N&aid=overall&certifiedBuyer=false&sortOrder=NEGATIVE_FIRST&page=583',\n",
       " 'https://www.flipkart.com/poco-m3-power-black-64-gb/product-reviews/itmb49cc10841be2?pid=MOBFZTCUTAYPJHHR&lid=LSTMOBFZTCUTAYPJHHR2ZVC1N&aid=overall&certifiedBuyer=false&sortOrder=NEGATIVE_FIRST&page=584',\n",
       " 'https://www.flipkart.com/poco-m3-power-black-64-gb/product-reviews/itmb49cc10841be2?pid=MOBFZTCUTAYPJHHR&lid=LSTMOBFZTCUTAYPJHHR2ZVC1N&aid=overall&certifiedBuyer=false&sortOrder=NEGATIVE_FIRST&page=585',\n",
       " 'https://www.flipkart.com/poco-m3-power-black-64-gb/product-reviews/itmb49cc10841be2?pid=MOBFZTCUTAYPJHHR&lid=LSTMOBFZTCUTAYPJHHR2ZVC1N&aid=overall&certifiedBuyer=false&sortOrder=NEGATIVE_FIRST&page=586',\n",
       " 'https://www.flipkart.com/poco-m3-power-black-64-gb/product-reviews/itmb49cc10841be2?pid=MOBFZTCUTAYPJHHR&lid=LSTMOBFZTCUTAYPJHHR2ZVC1N&aid=overall&certifiedBuyer=false&sortOrder=NEGATIVE_FIRST&page=587',\n",
       " 'https://www.flipkart.com/poco-m3-power-black-64-gb/product-reviews/itmb49cc10841be2?pid=MOBFZTCUTAYPJHHR&lid=LSTMOBFZTCUTAYPJHHR2ZVC1N&aid=overall&certifiedBuyer=false&sortOrder=NEGATIVE_FIRST&page=588',\n",
       " 'https://www.flipkart.com/poco-m3-power-black-64-gb/product-reviews/itmb49cc10841be2?pid=MOBFZTCUTAYPJHHR&lid=LSTMOBFZTCUTAYPJHHR2ZVC1N&aid=overall&certifiedBuyer=false&sortOrder=NEGATIVE_FIRST&page=589',\n",
       " 'https://www.flipkart.com/poco-m3-power-black-64-gb/product-reviews/itmb49cc10841be2?pid=MOBFZTCUTAYPJHHR&lid=LSTMOBFZTCUTAYPJHHR2ZVC1N&aid=overall&certifiedBuyer=false&sortOrder=NEGATIVE_FIRST&page=590',\n",
       " 'https://www.flipkart.com/poco-m3-power-black-64-gb/product-reviews/itmb49cc10841be2?pid=MOBFZTCUTAYPJHHR&lid=LSTMOBFZTCUTAYPJHHR2ZVC1N&aid=overall&certifiedBuyer=false&sortOrder=NEGATIVE_FIRST&page=591',\n",
       " 'https://www.flipkart.com/poco-m3-power-black-64-gb/product-reviews/itmb49cc10841be2?pid=MOBFZTCUTAYPJHHR&lid=LSTMOBFZTCUTAYPJHHR2ZVC1N&aid=overall&certifiedBuyer=false&sortOrder=NEGATIVE_FIRST&page=592',\n",
       " 'https://www.flipkart.com/poco-m3-power-black-64-gb/product-reviews/itmb49cc10841be2?pid=MOBFZTCUTAYPJHHR&lid=LSTMOBFZTCUTAYPJHHR2ZVC1N&aid=overall&certifiedBuyer=false&sortOrder=NEGATIVE_FIRST&page=593']"
      ]
     },
     "execution_count": 158,
     "metadata": {},
     "output_type": "execute_result"
    }
   ],
   "source": [
    "url"
   ]
  },
  {
   "cell_type": "code",
   "execution_count": 160,
   "metadata": {},
   "outputs": [
    {
     "name": "stderr",
     "output_type": "stream",
     "text": [
      "100%|████████████████████████████████████████████████████████████████████████████████| 234/234 [12:17<00:00,  3.15s/it]\n"
     ]
    }
   ],
   "source": [
    "rating=[]\n",
    "full_review=[]\n",
    "for i in tqdm(url):\n",
    "    \n",
    "    driver.get(i)\n",
    "    \n",
    "    rate= driver.find_elements_by_xpath('//div[@class=\"col _2wzgFH K0kLPL\"]/div[1]/div')\n",
    "    \n",
    "    for r in rate:\n",
    "        rating.append(r.text)\n",
    "        \n",
    "    review=driver.find_elements_by_xpath('//div[@class=\"t-ZTKy\"]')\n",
    "    for i in review:\n",
    "        full_review.append(i.text)"
   ]
  },
  {
   "cell_type": "code",
   "execution_count": 161,
   "metadata": {},
   "outputs": [],
   "source": [
    "df2=pd.DataFrame({})\n",
    "df2[\"rating\"]=rating\n",
    "df2[\"review\"]=full_review"
   ]
  },
  {
   "cell_type": "code",
   "execution_count": 162,
   "metadata": {},
   "outputs": [
    {
     "data": {
      "text/plain": [
       "4    1353\n",
       "3     985\n",
       "Name: rating, dtype: int64"
      ]
     },
     "execution_count": 162,
     "metadata": {},
     "output_type": "execute_result"
    }
   ],
   "source": [
    "df2['rating'].value_counts()"
   ]
  },
  {
   "cell_type": "code",
   "execution_count": 270,
   "metadata": {},
   "outputs": [],
   "source": [
    "new_df=pd.concat([df_new,df2])"
   ]
  },
  {
   "cell_type": "code",
   "execution_count": 171,
   "metadata": {},
   "outputs": [
    {
     "data": {
      "text/plain": [
       "5    6232\n",
       "1    4647\n",
       "4    2453\n",
       "3    2371\n",
       "2    1527\n",
       "4    1353\n",
       "3     985\n",
       "Name: rating, dtype: int64"
      ]
     },
     "execution_count": 171,
     "metadata": {},
     "output_type": "execute_result"
    }
   ],
   "source": [
    "new_df['rating'].value_counts()"
   ]
  },
  {
   "cell_type": "markdown",
   "metadata": {},
   "source": [
    "### scraping data of headphones"
   ]
  },
  {
   "cell_type": "code",
   "execution_count": 202,
   "metadata": {},
   "outputs": [],
   "source": [
    "driver.get('https://www.flipkart.com/boult-audio-probass-curve-neckband-bluetooth-headset/product-reviews/itmf17df7d09c364?pid=ACCFEZ99MFMDR8CM&lid=LSTACCFEZ99MFMDR8CMAJFROP&aid=overall&certifiedBuyer=false&sortOrder=NEGATIVE_FIRST&page=470')"
   ]
  },
  {
   "cell_type": "code",
   "execution_count": 203,
   "metadata": {},
   "outputs": [
    {
     "name": "stderr",
     "output_type": "stream",
     "text": [
      "100%|████████████████████████████████████████████████████████████████████████████████| 250/250 [09:54<00:00,  2.38s/it]\n"
     ]
    }
   ],
   "source": [
    "#scraping url from multiple pages\n",
    "urls=[] \n",
    "for j in tqdm(range(0,250)):\n",
    "    time.sleep(2)\n",
    "    try:\n",
    "        for i in driver.find_elements_by_xpath(\"//a[@class='ge-49M _2Kfbh8']\"):\n",
    "            urls.append(i.get_attribute('href'))\n",
    "    except NoSuchElementException:\n",
    "        pass\n",
    "    \n",
    "    #clicking on next button\n",
    "    try:\n",
    "        driver.find_element_by_xpath(\"//a[@class='_1LKTO3'][2]\").click()\n",
    "    except:\n",
    "        driver.find_element_by_xpath(\"//a[@class='_1LKTO3']\").click()\n"
   ]
  },
  {
   "cell_type": "code",
   "execution_count": 204,
   "metadata": {},
   "outputs": [
    {
     "data": {
      "text/plain": [
       "['https://www.flipkart.com/boult-audio-probass-curve-neckband-bluetooth-headset/product-reviews/itmf17df7d09c364?pid=ACCFEZ99MFMDR8CM&lid=LSTACCFEZ99MFMDR8CMAJFROP&aid=overall&certifiedBuyer=false&sortOrder=NEGATIVE_FIRST&page=470',\n",
       " 'https://www.flipkart.com/boult-audio-probass-curve-neckband-bluetooth-headset/product-reviews/itmf17df7d09c364?pid=ACCFEZ99MFMDR8CM&lid=LSTACCFEZ99MFMDR8CMAJFROP&aid=overall&certifiedBuyer=false&sortOrder=NEGATIVE_FIRST&page=471',\n",
       " 'https://www.flipkart.com/boult-audio-probass-curve-neckband-bluetooth-headset/product-reviews/itmf17df7d09c364?pid=ACCFEZ99MFMDR8CM&lid=LSTACCFEZ99MFMDR8CMAJFROP&aid=overall&certifiedBuyer=false&sortOrder=NEGATIVE_FIRST&page=472',\n",
       " 'https://www.flipkart.com/boult-audio-probass-curve-neckband-bluetooth-headset/product-reviews/itmf17df7d09c364?pid=ACCFEZ99MFMDR8CM&lid=LSTACCFEZ99MFMDR8CMAJFROP&aid=overall&certifiedBuyer=false&sortOrder=NEGATIVE_FIRST&page=473',\n",
       " 'https://www.flipkart.com/boult-audio-probass-curve-neckband-bluetooth-headset/product-reviews/itmf17df7d09c364?pid=ACCFEZ99MFMDR8CM&lid=LSTACCFEZ99MFMDR8CMAJFROP&aid=overall&certifiedBuyer=false&sortOrder=NEGATIVE_FIRST&page=474',\n",
       " 'https://www.flipkart.com/boult-audio-probass-curve-neckband-bluetooth-headset/product-reviews/itmf17df7d09c364?pid=ACCFEZ99MFMDR8CM&lid=LSTACCFEZ99MFMDR8CMAJFROP&aid=overall&certifiedBuyer=false&sortOrder=NEGATIVE_FIRST&page=475',\n",
       " 'https://www.flipkart.com/boult-audio-probass-curve-neckband-bluetooth-headset/product-reviews/itmf17df7d09c364?pid=ACCFEZ99MFMDR8CM&lid=LSTACCFEZ99MFMDR8CMAJFROP&aid=overall&certifiedBuyer=false&sortOrder=NEGATIVE_FIRST&page=476',\n",
       " 'https://www.flipkart.com/boult-audio-probass-curve-neckband-bluetooth-headset/product-reviews/itmf17df7d09c364?pid=ACCFEZ99MFMDR8CM&lid=LSTACCFEZ99MFMDR8CMAJFROP&aid=overall&certifiedBuyer=false&sortOrder=NEGATIVE_FIRST&page=477',\n",
       " 'https://www.flipkart.com/boult-audio-probass-curve-neckband-bluetooth-headset/product-reviews/itmf17df7d09c364?pid=ACCFEZ99MFMDR8CM&lid=LSTACCFEZ99MFMDR8CMAJFROP&aid=overall&certifiedBuyer=false&sortOrder=NEGATIVE_FIRST&page=478',\n",
       " 'https://www.flipkart.com/boult-audio-probass-curve-neckband-bluetooth-headset/product-reviews/itmf17df7d09c364?pid=ACCFEZ99MFMDR8CM&lid=LSTACCFEZ99MFMDR8CMAJFROP&aid=overall&certifiedBuyer=false&sortOrder=NEGATIVE_FIRST&page=479',\n",
       " 'https://www.flipkart.com/boult-audio-probass-curve-neckband-bluetooth-headset/product-reviews/itmf17df7d09c364?pid=ACCFEZ99MFMDR8CM&lid=LSTACCFEZ99MFMDR8CMAJFROP&aid=overall&certifiedBuyer=false&sortOrder=NEGATIVE_FIRST&page=480',\n",
       " 'https://www.flipkart.com/boult-audio-probass-curve-neckband-bluetooth-headset/product-reviews/itmf17df7d09c364?pid=ACCFEZ99MFMDR8CM&lid=LSTACCFEZ99MFMDR8CMAJFROP&aid=overall&certifiedBuyer=false&sortOrder=NEGATIVE_FIRST&page=481',\n",
       " 'https://www.flipkart.com/boult-audio-probass-curve-neckband-bluetooth-headset/product-reviews/itmf17df7d09c364?pid=ACCFEZ99MFMDR8CM&lid=LSTACCFEZ99MFMDR8CMAJFROP&aid=overall&certifiedBuyer=false&sortOrder=NEGATIVE_FIRST&page=482',\n",
       " 'https://www.flipkart.com/boult-audio-probass-curve-neckband-bluetooth-headset/product-reviews/itmf17df7d09c364?pid=ACCFEZ99MFMDR8CM&lid=LSTACCFEZ99MFMDR8CMAJFROP&aid=overall&certifiedBuyer=false&sortOrder=NEGATIVE_FIRST&page=483',\n",
       " 'https://www.flipkart.com/boult-audio-probass-curve-neckband-bluetooth-headset/product-reviews/itmf17df7d09c364?pid=ACCFEZ99MFMDR8CM&lid=LSTACCFEZ99MFMDR8CMAJFROP&aid=overall&certifiedBuyer=false&sortOrder=NEGATIVE_FIRST&page=484',\n",
       " 'https://www.flipkart.com/boult-audio-probass-curve-neckband-bluetooth-headset/product-reviews/itmf17df7d09c364?pid=ACCFEZ99MFMDR8CM&lid=LSTACCFEZ99MFMDR8CMAJFROP&aid=overall&certifiedBuyer=false&sortOrder=NEGATIVE_FIRST&page=485',\n",
       " 'https://www.flipkart.com/boult-audio-probass-curve-neckband-bluetooth-headset/product-reviews/itmf17df7d09c364?pid=ACCFEZ99MFMDR8CM&lid=LSTACCFEZ99MFMDR8CMAJFROP&aid=overall&certifiedBuyer=false&sortOrder=NEGATIVE_FIRST&page=486',\n",
       " 'https://www.flipkart.com/boult-audio-probass-curve-neckband-bluetooth-headset/product-reviews/itmf17df7d09c364?pid=ACCFEZ99MFMDR8CM&lid=LSTACCFEZ99MFMDR8CMAJFROP&aid=overall&certifiedBuyer=false&sortOrder=NEGATIVE_FIRST&page=487',\n",
       " 'https://www.flipkart.com/boult-audio-probass-curve-neckband-bluetooth-headset/product-reviews/itmf17df7d09c364?pid=ACCFEZ99MFMDR8CM&lid=LSTACCFEZ99MFMDR8CMAJFROP&aid=overall&certifiedBuyer=false&sortOrder=NEGATIVE_FIRST&page=488',\n",
       " 'https://www.flipkart.com/boult-audio-probass-curve-neckband-bluetooth-headset/product-reviews/itmf17df7d09c364?pid=ACCFEZ99MFMDR8CM&lid=LSTACCFEZ99MFMDR8CMAJFROP&aid=overall&certifiedBuyer=false&sortOrder=NEGATIVE_FIRST&page=489',\n",
       " 'https://www.flipkart.com/boult-audio-probass-curve-neckband-bluetooth-headset/product-reviews/itmf17df7d09c364?pid=ACCFEZ99MFMDR8CM&lid=LSTACCFEZ99MFMDR8CMAJFROP&aid=overall&certifiedBuyer=false&sortOrder=NEGATIVE_FIRST&page=490',\n",
       " 'https://www.flipkart.com/boult-audio-probass-curve-neckband-bluetooth-headset/product-reviews/itmf17df7d09c364?pid=ACCFEZ99MFMDR8CM&lid=LSTACCFEZ99MFMDR8CMAJFROP&aid=overall&certifiedBuyer=false&sortOrder=NEGATIVE_FIRST&page=491',\n",
       " 'https://www.flipkart.com/boult-audio-probass-curve-neckband-bluetooth-headset/product-reviews/itmf17df7d09c364?pid=ACCFEZ99MFMDR8CM&lid=LSTACCFEZ99MFMDR8CMAJFROP&aid=overall&certifiedBuyer=false&sortOrder=NEGATIVE_FIRST&page=492',\n",
       " 'https://www.flipkart.com/boult-audio-probass-curve-neckband-bluetooth-headset/product-reviews/itmf17df7d09c364?pid=ACCFEZ99MFMDR8CM&lid=LSTACCFEZ99MFMDR8CMAJFROP&aid=overall&certifiedBuyer=false&sortOrder=NEGATIVE_FIRST&page=493',\n",
       " 'https://www.flipkart.com/boult-audio-probass-curve-neckband-bluetooth-headset/product-reviews/itmf17df7d09c364?pid=ACCFEZ99MFMDR8CM&lid=LSTACCFEZ99MFMDR8CMAJFROP&aid=overall&certifiedBuyer=false&sortOrder=NEGATIVE_FIRST&page=494',\n",
       " 'https://www.flipkart.com/boult-audio-probass-curve-neckband-bluetooth-headset/product-reviews/itmf17df7d09c364?pid=ACCFEZ99MFMDR8CM&lid=LSTACCFEZ99MFMDR8CMAJFROP&aid=overall&certifiedBuyer=false&sortOrder=NEGATIVE_FIRST&page=495',\n",
       " 'https://www.flipkart.com/boult-audio-probass-curve-neckband-bluetooth-headset/product-reviews/itmf17df7d09c364?pid=ACCFEZ99MFMDR8CM&lid=LSTACCFEZ99MFMDR8CMAJFROP&aid=overall&certifiedBuyer=false&sortOrder=NEGATIVE_FIRST&page=496',\n",
       " 'https://www.flipkart.com/boult-audio-probass-curve-neckband-bluetooth-headset/product-reviews/itmf17df7d09c364?pid=ACCFEZ99MFMDR8CM&lid=LSTACCFEZ99MFMDR8CMAJFROP&aid=overall&certifiedBuyer=false&sortOrder=NEGATIVE_FIRST&page=497',\n",
       " 'https://www.flipkart.com/boult-audio-probass-curve-neckband-bluetooth-headset/product-reviews/itmf17df7d09c364?pid=ACCFEZ99MFMDR8CM&lid=LSTACCFEZ99MFMDR8CMAJFROP&aid=overall&certifiedBuyer=false&sortOrder=NEGATIVE_FIRST&page=498',\n",
       " 'https://www.flipkart.com/boult-audio-probass-curve-neckband-bluetooth-headset/product-reviews/itmf17df7d09c364?pid=ACCFEZ99MFMDR8CM&lid=LSTACCFEZ99MFMDR8CMAJFROP&aid=overall&certifiedBuyer=false&sortOrder=NEGATIVE_FIRST&page=499',\n",
       " 'https://www.flipkart.com/boult-audio-probass-curve-neckband-bluetooth-headset/product-reviews/itmf17df7d09c364?pid=ACCFEZ99MFMDR8CM&lid=LSTACCFEZ99MFMDR8CMAJFROP&aid=overall&certifiedBuyer=false&sortOrder=NEGATIVE_FIRST&page=500',\n",
       " 'https://www.flipkart.com/boult-audio-probass-curve-neckband-bluetooth-headset/product-reviews/itmf17df7d09c364?pid=ACCFEZ99MFMDR8CM&lid=LSTACCFEZ99MFMDR8CMAJFROP&aid=overall&certifiedBuyer=false&sortOrder=NEGATIVE_FIRST&page=501',\n",
       " 'https://www.flipkart.com/boult-audio-probass-curve-neckband-bluetooth-headset/product-reviews/itmf17df7d09c364?pid=ACCFEZ99MFMDR8CM&lid=LSTACCFEZ99MFMDR8CMAJFROP&aid=overall&certifiedBuyer=false&sortOrder=NEGATIVE_FIRST&page=502',\n",
       " 'https://www.flipkart.com/boult-audio-probass-curve-neckband-bluetooth-headset/product-reviews/itmf17df7d09c364?pid=ACCFEZ99MFMDR8CM&lid=LSTACCFEZ99MFMDR8CMAJFROP&aid=overall&certifiedBuyer=false&sortOrder=NEGATIVE_FIRST&page=503',\n",
       " 'https://www.flipkart.com/boult-audio-probass-curve-neckband-bluetooth-headset/product-reviews/itmf17df7d09c364?pid=ACCFEZ99MFMDR8CM&lid=LSTACCFEZ99MFMDR8CMAJFROP&aid=overall&certifiedBuyer=false&sortOrder=NEGATIVE_FIRST&page=504',\n",
       " 'https://www.flipkart.com/boult-audio-probass-curve-neckband-bluetooth-headset/product-reviews/itmf17df7d09c364?pid=ACCFEZ99MFMDR8CM&lid=LSTACCFEZ99MFMDR8CMAJFROP&aid=overall&certifiedBuyer=false&sortOrder=NEGATIVE_FIRST&page=505',\n",
       " 'https://www.flipkart.com/boult-audio-probass-curve-neckband-bluetooth-headset/product-reviews/itmf17df7d09c364?pid=ACCFEZ99MFMDR8CM&lid=LSTACCFEZ99MFMDR8CMAJFROP&aid=overall&certifiedBuyer=false&sortOrder=NEGATIVE_FIRST&page=506',\n",
       " 'https://www.flipkart.com/boult-audio-probass-curve-neckband-bluetooth-headset/product-reviews/itmf17df7d09c364?pid=ACCFEZ99MFMDR8CM&lid=LSTACCFEZ99MFMDR8CMAJFROP&aid=overall&certifiedBuyer=false&sortOrder=NEGATIVE_FIRST&page=507',\n",
       " 'https://www.flipkart.com/boult-audio-probass-curve-neckband-bluetooth-headset/product-reviews/itmf17df7d09c364?pid=ACCFEZ99MFMDR8CM&lid=LSTACCFEZ99MFMDR8CMAJFROP&aid=overall&certifiedBuyer=false&sortOrder=NEGATIVE_FIRST&page=508',\n",
       " 'https://www.flipkart.com/boult-audio-probass-curve-neckband-bluetooth-headset/product-reviews/itmf17df7d09c364?pid=ACCFEZ99MFMDR8CM&lid=LSTACCFEZ99MFMDR8CMAJFROP&aid=overall&certifiedBuyer=false&sortOrder=NEGATIVE_FIRST&page=509',\n",
       " 'https://www.flipkart.com/boult-audio-probass-curve-neckband-bluetooth-headset/product-reviews/itmf17df7d09c364?pid=ACCFEZ99MFMDR8CM&lid=LSTACCFEZ99MFMDR8CMAJFROP&aid=overall&certifiedBuyer=false&sortOrder=NEGATIVE_FIRST&page=510',\n",
       " 'https://www.flipkart.com/boult-audio-probass-curve-neckband-bluetooth-headset/product-reviews/itmf17df7d09c364?pid=ACCFEZ99MFMDR8CM&lid=LSTACCFEZ99MFMDR8CMAJFROP&aid=overall&certifiedBuyer=false&sortOrder=NEGATIVE_FIRST&page=511',\n",
       " 'https://www.flipkart.com/boult-audio-probass-curve-neckband-bluetooth-headset/product-reviews/itmf17df7d09c364?pid=ACCFEZ99MFMDR8CM&lid=LSTACCFEZ99MFMDR8CMAJFROP&aid=overall&certifiedBuyer=false&sortOrder=NEGATIVE_FIRST&page=512',\n",
       " 'https://www.flipkart.com/boult-audio-probass-curve-neckband-bluetooth-headset/product-reviews/itmf17df7d09c364?pid=ACCFEZ99MFMDR8CM&lid=LSTACCFEZ99MFMDR8CMAJFROP&aid=overall&certifiedBuyer=false&sortOrder=NEGATIVE_FIRST&page=513',\n",
       " 'https://www.flipkart.com/boult-audio-probass-curve-neckband-bluetooth-headset/product-reviews/itmf17df7d09c364?pid=ACCFEZ99MFMDR8CM&lid=LSTACCFEZ99MFMDR8CMAJFROP&aid=overall&certifiedBuyer=false&sortOrder=NEGATIVE_FIRST&page=514',\n",
       " 'https://www.flipkart.com/boult-audio-probass-curve-neckband-bluetooth-headset/product-reviews/itmf17df7d09c364?pid=ACCFEZ99MFMDR8CM&lid=LSTACCFEZ99MFMDR8CMAJFROP&aid=overall&certifiedBuyer=false&sortOrder=NEGATIVE_FIRST&page=515',\n",
       " 'https://www.flipkart.com/boult-audio-probass-curve-neckband-bluetooth-headset/product-reviews/itmf17df7d09c364?pid=ACCFEZ99MFMDR8CM&lid=LSTACCFEZ99MFMDR8CMAJFROP&aid=overall&certifiedBuyer=false&sortOrder=NEGATIVE_FIRST&page=516',\n",
       " 'https://www.flipkart.com/boult-audio-probass-curve-neckband-bluetooth-headset/product-reviews/itmf17df7d09c364?pid=ACCFEZ99MFMDR8CM&lid=LSTACCFEZ99MFMDR8CMAJFROP&aid=overall&certifiedBuyer=false&sortOrder=NEGATIVE_FIRST&page=517',\n",
       " 'https://www.flipkart.com/boult-audio-probass-curve-neckband-bluetooth-headset/product-reviews/itmf17df7d09c364?pid=ACCFEZ99MFMDR8CM&lid=LSTACCFEZ99MFMDR8CMAJFROP&aid=overall&certifiedBuyer=false&sortOrder=NEGATIVE_FIRST&page=518',\n",
       " 'https://www.flipkart.com/boult-audio-probass-curve-neckband-bluetooth-headset/product-reviews/itmf17df7d09c364?pid=ACCFEZ99MFMDR8CM&lid=LSTACCFEZ99MFMDR8CMAJFROP&aid=overall&certifiedBuyer=false&sortOrder=NEGATIVE_FIRST&page=519',\n",
       " 'https://www.flipkart.com/boult-audio-probass-curve-neckband-bluetooth-headset/product-reviews/itmf17df7d09c364?pid=ACCFEZ99MFMDR8CM&lid=LSTACCFEZ99MFMDR8CMAJFROP&aid=overall&certifiedBuyer=false&sortOrder=NEGATIVE_FIRST&page=520',\n",
       " 'https://www.flipkart.com/boult-audio-probass-curve-neckband-bluetooth-headset/product-reviews/itmf17df7d09c364?pid=ACCFEZ99MFMDR8CM&lid=LSTACCFEZ99MFMDR8CMAJFROP&aid=overall&certifiedBuyer=false&sortOrder=NEGATIVE_FIRST&page=521',\n",
       " 'https://www.flipkart.com/boult-audio-probass-curve-neckband-bluetooth-headset/product-reviews/itmf17df7d09c364?pid=ACCFEZ99MFMDR8CM&lid=LSTACCFEZ99MFMDR8CMAJFROP&aid=overall&certifiedBuyer=false&sortOrder=NEGATIVE_FIRST&page=522',\n",
       " 'https://www.flipkart.com/boult-audio-probass-curve-neckband-bluetooth-headset/product-reviews/itmf17df7d09c364?pid=ACCFEZ99MFMDR8CM&lid=LSTACCFEZ99MFMDR8CMAJFROP&aid=overall&certifiedBuyer=false&sortOrder=NEGATIVE_FIRST&page=523',\n",
       " 'https://www.flipkart.com/boult-audio-probass-curve-neckband-bluetooth-headset/product-reviews/itmf17df7d09c364?pid=ACCFEZ99MFMDR8CM&lid=LSTACCFEZ99MFMDR8CMAJFROP&aid=overall&certifiedBuyer=false&sortOrder=NEGATIVE_FIRST&page=524',\n",
       " 'https://www.flipkart.com/boult-audio-probass-curve-neckband-bluetooth-headset/product-reviews/itmf17df7d09c364?pid=ACCFEZ99MFMDR8CM&lid=LSTACCFEZ99MFMDR8CMAJFROP&aid=overall&certifiedBuyer=false&sortOrder=NEGATIVE_FIRST&page=525',\n",
       " 'https://www.flipkart.com/boult-audio-probass-curve-neckband-bluetooth-headset/product-reviews/itmf17df7d09c364?pid=ACCFEZ99MFMDR8CM&lid=LSTACCFEZ99MFMDR8CMAJFROP&aid=overall&certifiedBuyer=false&sortOrder=NEGATIVE_FIRST&page=526',\n",
       " 'https://www.flipkart.com/boult-audio-probass-curve-neckband-bluetooth-headset/product-reviews/itmf17df7d09c364?pid=ACCFEZ99MFMDR8CM&lid=LSTACCFEZ99MFMDR8CMAJFROP&aid=overall&certifiedBuyer=false&sortOrder=NEGATIVE_FIRST&page=527',\n",
       " 'https://www.flipkart.com/boult-audio-probass-curve-neckband-bluetooth-headset/product-reviews/itmf17df7d09c364?pid=ACCFEZ99MFMDR8CM&lid=LSTACCFEZ99MFMDR8CMAJFROP&aid=overall&certifiedBuyer=false&sortOrder=NEGATIVE_FIRST&page=528',\n",
       " 'https://www.flipkart.com/boult-audio-probass-curve-neckband-bluetooth-headset/product-reviews/itmf17df7d09c364?pid=ACCFEZ99MFMDR8CM&lid=LSTACCFEZ99MFMDR8CMAJFROP&aid=overall&certifiedBuyer=false&sortOrder=NEGATIVE_FIRST&page=529',\n",
       " 'https://www.flipkart.com/boult-audio-probass-curve-neckband-bluetooth-headset/product-reviews/itmf17df7d09c364?pid=ACCFEZ99MFMDR8CM&lid=LSTACCFEZ99MFMDR8CMAJFROP&aid=overall&certifiedBuyer=false&sortOrder=NEGATIVE_FIRST&page=530',\n",
       " 'https://www.flipkart.com/boult-audio-probass-curve-neckband-bluetooth-headset/product-reviews/itmf17df7d09c364?pid=ACCFEZ99MFMDR8CM&lid=LSTACCFEZ99MFMDR8CMAJFROP&aid=overall&certifiedBuyer=false&sortOrder=NEGATIVE_FIRST&page=531',\n",
       " 'https://www.flipkart.com/boult-audio-probass-curve-neckband-bluetooth-headset/product-reviews/itmf17df7d09c364?pid=ACCFEZ99MFMDR8CM&lid=LSTACCFEZ99MFMDR8CMAJFROP&aid=overall&certifiedBuyer=false&sortOrder=NEGATIVE_FIRST&page=532',\n",
       " 'https://www.flipkart.com/boult-audio-probass-curve-neckband-bluetooth-headset/product-reviews/itmf17df7d09c364?pid=ACCFEZ99MFMDR8CM&lid=LSTACCFEZ99MFMDR8CMAJFROP&aid=overall&certifiedBuyer=false&sortOrder=NEGATIVE_FIRST&page=533',\n",
       " 'https://www.flipkart.com/boult-audio-probass-curve-neckband-bluetooth-headset/product-reviews/itmf17df7d09c364?pid=ACCFEZ99MFMDR8CM&lid=LSTACCFEZ99MFMDR8CMAJFROP&aid=overall&certifiedBuyer=false&sortOrder=NEGATIVE_FIRST&page=534',\n",
       " 'https://www.flipkart.com/boult-audio-probass-curve-neckband-bluetooth-headset/product-reviews/itmf17df7d09c364?pid=ACCFEZ99MFMDR8CM&lid=LSTACCFEZ99MFMDR8CMAJFROP&aid=overall&certifiedBuyer=false&sortOrder=NEGATIVE_FIRST&page=535',\n",
       " 'https://www.flipkart.com/boult-audio-probass-curve-neckband-bluetooth-headset/product-reviews/itmf17df7d09c364?pid=ACCFEZ99MFMDR8CM&lid=LSTACCFEZ99MFMDR8CMAJFROP&aid=overall&certifiedBuyer=false&sortOrder=NEGATIVE_FIRST&page=536',\n",
       " 'https://www.flipkart.com/boult-audio-probass-curve-neckband-bluetooth-headset/product-reviews/itmf17df7d09c364?pid=ACCFEZ99MFMDR8CM&lid=LSTACCFEZ99MFMDR8CMAJFROP&aid=overall&certifiedBuyer=false&sortOrder=NEGATIVE_FIRST&page=537',\n",
       " 'https://www.flipkart.com/boult-audio-probass-curve-neckband-bluetooth-headset/product-reviews/itmf17df7d09c364?pid=ACCFEZ99MFMDR8CM&lid=LSTACCFEZ99MFMDR8CMAJFROP&aid=overall&certifiedBuyer=false&sortOrder=NEGATIVE_FIRST&page=538',\n",
       " 'https://www.flipkart.com/boult-audio-probass-curve-neckband-bluetooth-headset/product-reviews/itmf17df7d09c364?pid=ACCFEZ99MFMDR8CM&lid=LSTACCFEZ99MFMDR8CMAJFROP&aid=overall&certifiedBuyer=false&sortOrder=NEGATIVE_FIRST&page=539',\n",
       " 'https://www.flipkart.com/boult-audio-probass-curve-neckband-bluetooth-headset/product-reviews/itmf17df7d09c364?pid=ACCFEZ99MFMDR8CM&lid=LSTACCFEZ99MFMDR8CMAJFROP&aid=overall&certifiedBuyer=false&sortOrder=NEGATIVE_FIRST&page=540',\n",
       " 'https://www.flipkart.com/boult-audio-probass-curve-neckband-bluetooth-headset/product-reviews/itmf17df7d09c364?pid=ACCFEZ99MFMDR8CM&lid=LSTACCFEZ99MFMDR8CMAJFROP&aid=overall&certifiedBuyer=false&sortOrder=NEGATIVE_FIRST&page=541',\n",
       " 'https://www.flipkart.com/boult-audio-probass-curve-neckband-bluetooth-headset/product-reviews/itmf17df7d09c364?pid=ACCFEZ99MFMDR8CM&lid=LSTACCFEZ99MFMDR8CMAJFROP&aid=overall&certifiedBuyer=false&sortOrder=NEGATIVE_FIRST&page=542',\n",
       " 'https://www.flipkart.com/boult-audio-probass-curve-neckband-bluetooth-headset/product-reviews/itmf17df7d09c364?pid=ACCFEZ99MFMDR8CM&lid=LSTACCFEZ99MFMDR8CMAJFROP&aid=overall&certifiedBuyer=false&sortOrder=NEGATIVE_FIRST&page=543',\n",
       " 'https://www.flipkart.com/boult-audio-probass-curve-neckband-bluetooth-headset/product-reviews/itmf17df7d09c364?pid=ACCFEZ99MFMDR8CM&lid=LSTACCFEZ99MFMDR8CMAJFROP&aid=overall&certifiedBuyer=false&sortOrder=NEGATIVE_FIRST&page=544',\n",
       " 'https://www.flipkart.com/boult-audio-probass-curve-neckband-bluetooth-headset/product-reviews/itmf17df7d09c364?pid=ACCFEZ99MFMDR8CM&lid=LSTACCFEZ99MFMDR8CMAJFROP&aid=overall&certifiedBuyer=false&sortOrder=NEGATIVE_FIRST&page=545',\n",
       " 'https://www.flipkart.com/boult-audio-probass-curve-neckband-bluetooth-headset/product-reviews/itmf17df7d09c364?pid=ACCFEZ99MFMDR8CM&lid=LSTACCFEZ99MFMDR8CMAJFROP&aid=overall&certifiedBuyer=false&sortOrder=NEGATIVE_FIRST&page=546',\n",
       " 'https://www.flipkart.com/boult-audio-probass-curve-neckband-bluetooth-headset/product-reviews/itmf17df7d09c364?pid=ACCFEZ99MFMDR8CM&lid=LSTACCFEZ99MFMDR8CMAJFROP&aid=overall&certifiedBuyer=false&sortOrder=NEGATIVE_FIRST&page=547',\n",
       " 'https://www.flipkart.com/boult-audio-probass-curve-neckband-bluetooth-headset/product-reviews/itmf17df7d09c364?pid=ACCFEZ99MFMDR8CM&lid=LSTACCFEZ99MFMDR8CMAJFROP&aid=overall&certifiedBuyer=false&sortOrder=NEGATIVE_FIRST&page=548',\n",
       " 'https://www.flipkart.com/boult-audio-probass-curve-neckband-bluetooth-headset/product-reviews/itmf17df7d09c364?pid=ACCFEZ99MFMDR8CM&lid=LSTACCFEZ99MFMDR8CMAJFROP&aid=overall&certifiedBuyer=false&sortOrder=NEGATIVE_FIRST&page=549',\n",
       " 'https://www.flipkart.com/boult-audio-probass-curve-neckband-bluetooth-headset/product-reviews/itmf17df7d09c364?pid=ACCFEZ99MFMDR8CM&lid=LSTACCFEZ99MFMDR8CMAJFROP&aid=overall&certifiedBuyer=false&sortOrder=NEGATIVE_FIRST&page=550',\n",
       " 'https://www.flipkart.com/boult-audio-probass-curve-neckband-bluetooth-headset/product-reviews/itmf17df7d09c364?pid=ACCFEZ99MFMDR8CM&lid=LSTACCFEZ99MFMDR8CMAJFROP&aid=overall&certifiedBuyer=false&sortOrder=NEGATIVE_FIRST&page=551',\n",
       " 'https://www.flipkart.com/boult-audio-probass-curve-neckband-bluetooth-headset/product-reviews/itmf17df7d09c364?pid=ACCFEZ99MFMDR8CM&lid=LSTACCFEZ99MFMDR8CMAJFROP&aid=overall&certifiedBuyer=false&sortOrder=NEGATIVE_FIRST&page=552',\n",
       " 'https://www.flipkart.com/boult-audio-probass-curve-neckband-bluetooth-headset/product-reviews/itmf17df7d09c364?pid=ACCFEZ99MFMDR8CM&lid=LSTACCFEZ99MFMDR8CMAJFROP&aid=overall&certifiedBuyer=false&sortOrder=NEGATIVE_FIRST&page=553',\n",
       " 'https://www.flipkart.com/boult-audio-probass-curve-neckband-bluetooth-headset/product-reviews/itmf17df7d09c364?pid=ACCFEZ99MFMDR8CM&lid=LSTACCFEZ99MFMDR8CMAJFROP&aid=overall&certifiedBuyer=false&sortOrder=NEGATIVE_FIRST&page=554',\n",
       " 'https://www.flipkart.com/boult-audio-probass-curve-neckband-bluetooth-headset/product-reviews/itmf17df7d09c364?pid=ACCFEZ99MFMDR8CM&lid=LSTACCFEZ99MFMDR8CMAJFROP&aid=overall&certifiedBuyer=false&sortOrder=NEGATIVE_FIRST&page=555',\n",
       " 'https://www.flipkart.com/boult-audio-probass-curve-neckband-bluetooth-headset/product-reviews/itmf17df7d09c364?pid=ACCFEZ99MFMDR8CM&lid=LSTACCFEZ99MFMDR8CMAJFROP&aid=overall&certifiedBuyer=false&sortOrder=NEGATIVE_FIRST&page=556',\n",
       " 'https://www.flipkart.com/boult-audio-probass-curve-neckband-bluetooth-headset/product-reviews/itmf17df7d09c364?pid=ACCFEZ99MFMDR8CM&lid=LSTACCFEZ99MFMDR8CMAJFROP&aid=overall&certifiedBuyer=false&sortOrder=NEGATIVE_FIRST&page=557',\n",
       " 'https://www.flipkart.com/boult-audio-probass-curve-neckband-bluetooth-headset/product-reviews/itmf17df7d09c364?pid=ACCFEZ99MFMDR8CM&lid=LSTACCFEZ99MFMDR8CMAJFROP&aid=overall&certifiedBuyer=false&sortOrder=NEGATIVE_FIRST&page=558',\n",
       " 'https://www.flipkart.com/boult-audio-probass-curve-neckband-bluetooth-headset/product-reviews/itmf17df7d09c364?pid=ACCFEZ99MFMDR8CM&lid=LSTACCFEZ99MFMDR8CMAJFROP&aid=overall&certifiedBuyer=false&sortOrder=NEGATIVE_FIRST&page=559',\n",
       " 'https://www.flipkart.com/boult-audio-probass-curve-neckband-bluetooth-headset/product-reviews/itmf17df7d09c364?pid=ACCFEZ99MFMDR8CM&lid=LSTACCFEZ99MFMDR8CMAJFROP&aid=overall&certifiedBuyer=false&sortOrder=NEGATIVE_FIRST&page=560',\n",
       " 'https://www.flipkart.com/boult-audio-probass-curve-neckband-bluetooth-headset/product-reviews/itmf17df7d09c364?pid=ACCFEZ99MFMDR8CM&lid=LSTACCFEZ99MFMDR8CMAJFROP&aid=overall&certifiedBuyer=false&sortOrder=NEGATIVE_FIRST&page=561',\n",
       " 'https://www.flipkart.com/boult-audio-probass-curve-neckband-bluetooth-headset/product-reviews/itmf17df7d09c364?pid=ACCFEZ99MFMDR8CM&lid=LSTACCFEZ99MFMDR8CMAJFROP&aid=overall&certifiedBuyer=false&sortOrder=NEGATIVE_FIRST&page=562',\n",
       " 'https://www.flipkart.com/boult-audio-probass-curve-neckband-bluetooth-headset/product-reviews/itmf17df7d09c364?pid=ACCFEZ99MFMDR8CM&lid=LSTACCFEZ99MFMDR8CMAJFROP&aid=overall&certifiedBuyer=false&sortOrder=NEGATIVE_FIRST&page=563',\n",
       " 'https://www.flipkart.com/boult-audio-probass-curve-neckband-bluetooth-headset/product-reviews/itmf17df7d09c364?pid=ACCFEZ99MFMDR8CM&lid=LSTACCFEZ99MFMDR8CMAJFROP&aid=overall&certifiedBuyer=false&sortOrder=NEGATIVE_FIRST&page=564',\n",
       " 'https://www.flipkart.com/boult-audio-probass-curve-neckband-bluetooth-headset/product-reviews/itmf17df7d09c364?pid=ACCFEZ99MFMDR8CM&lid=LSTACCFEZ99MFMDR8CMAJFROP&aid=overall&certifiedBuyer=false&sortOrder=NEGATIVE_FIRST&page=565',\n",
       " 'https://www.flipkart.com/boult-audio-probass-curve-neckband-bluetooth-headset/product-reviews/itmf17df7d09c364?pid=ACCFEZ99MFMDR8CM&lid=LSTACCFEZ99MFMDR8CMAJFROP&aid=overall&certifiedBuyer=false&sortOrder=NEGATIVE_FIRST&page=566',\n",
       " 'https://www.flipkart.com/boult-audio-probass-curve-neckband-bluetooth-headset/product-reviews/itmf17df7d09c364?pid=ACCFEZ99MFMDR8CM&lid=LSTACCFEZ99MFMDR8CMAJFROP&aid=overall&certifiedBuyer=false&sortOrder=NEGATIVE_FIRST&page=567',\n",
       " 'https://www.flipkart.com/boult-audio-probass-curve-neckband-bluetooth-headset/product-reviews/itmf17df7d09c364?pid=ACCFEZ99MFMDR8CM&lid=LSTACCFEZ99MFMDR8CMAJFROP&aid=overall&certifiedBuyer=false&sortOrder=NEGATIVE_FIRST&page=568',\n",
       " 'https://www.flipkart.com/boult-audio-probass-curve-neckband-bluetooth-headset/product-reviews/itmf17df7d09c364?pid=ACCFEZ99MFMDR8CM&lid=LSTACCFEZ99MFMDR8CMAJFROP&aid=overall&certifiedBuyer=false&sortOrder=NEGATIVE_FIRST&page=569',\n",
       " 'https://www.flipkart.com/boult-audio-probass-curve-neckband-bluetooth-headset/product-reviews/itmf17df7d09c364?pid=ACCFEZ99MFMDR8CM&lid=LSTACCFEZ99MFMDR8CMAJFROP&aid=overall&certifiedBuyer=false&sortOrder=NEGATIVE_FIRST&page=570',\n",
       " 'https://www.flipkart.com/boult-audio-probass-curve-neckband-bluetooth-headset/product-reviews/itmf17df7d09c364?pid=ACCFEZ99MFMDR8CM&lid=LSTACCFEZ99MFMDR8CMAJFROP&aid=overall&certifiedBuyer=false&sortOrder=NEGATIVE_FIRST&page=571',\n",
       " 'https://www.flipkart.com/boult-audio-probass-curve-neckband-bluetooth-headset/product-reviews/itmf17df7d09c364?pid=ACCFEZ99MFMDR8CM&lid=LSTACCFEZ99MFMDR8CMAJFROP&aid=overall&certifiedBuyer=false&sortOrder=NEGATIVE_FIRST&page=572',\n",
       " 'https://www.flipkart.com/boult-audio-probass-curve-neckband-bluetooth-headset/product-reviews/itmf17df7d09c364?pid=ACCFEZ99MFMDR8CM&lid=LSTACCFEZ99MFMDR8CMAJFROP&aid=overall&certifiedBuyer=false&sortOrder=NEGATIVE_FIRST&page=573',\n",
       " 'https://www.flipkart.com/boult-audio-probass-curve-neckband-bluetooth-headset/product-reviews/itmf17df7d09c364?pid=ACCFEZ99MFMDR8CM&lid=LSTACCFEZ99MFMDR8CMAJFROP&aid=overall&certifiedBuyer=false&sortOrder=NEGATIVE_FIRST&page=574',\n",
       " 'https://www.flipkart.com/boult-audio-probass-curve-neckband-bluetooth-headset/product-reviews/itmf17df7d09c364?pid=ACCFEZ99MFMDR8CM&lid=LSTACCFEZ99MFMDR8CMAJFROP&aid=overall&certifiedBuyer=false&sortOrder=NEGATIVE_FIRST&page=575',\n",
       " 'https://www.flipkart.com/boult-audio-probass-curve-neckband-bluetooth-headset/product-reviews/itmf17df7d09c364?pid=ACCFEZ99MFMDR8CM&lid=LSTACCFEZ99MFMDR8CMAJFROP&aid=overall&certifiedBuyer=false&sortOrder=NEGATIVE_FIRST&page=576',\n",
       " 'https://www.flipkart.com/boult-audio-probass-curve-neckband-bluetooth-headset/product-reviews/itmf17df7d09c364?pid=ACCFEZ99MFMDR8CM&lid=LSTACCFEZ99MFMDR8CMAJFROP&aid=overall&certifiedBuyer=false&sortOrder=NEGATIVE_FIRST&page=577',\n",
       " 'https://www.flipkart.com/boult-audio-probass-curve-neckband-bluetooth-headset/product-reviews/itmf17df7d09c364?pid=ACCFEZ99MFMDR8CM&lid=LSTACCFEZ99MFMDR8CMAJFROP&aid=overall&certifiedBuyer=false&sortOrder=NEGATIVE_FIRST&page=578',\n",
       " 'https://www.flipkart.com/boult-audio-probass-curve-neckband-bluetooth-headset/product-reviews/itmf17df7d09c364?pid=ACCFEZ99MFMDR8CM&lid=LSTACCFEZ99MFMDR8CMAJFROP&aid=overall&certifiedBuyer=false&sortOrder=NEGATIVE_FIRST&page=579',\n",
       " 'https://www.flipkart.com/boult-audio-probass-curve-neckband-bluetooth-headset/product-reviews/itmf17df7d09c364?pid=ACCFEZ99MFMDR8CM&lid=LSTACCFEZ99MFMDR8CMAJFROP&aid=overall&certifiedBuyer=false&sortOrder=NEGATIVE_FIRST&page=580',\n",
       " 'https://www.flipkart.com/boult-audio-probass-curve-neckband-bluetooth-headset/product-reviews/itmf17df7d09c364?pid=ACCFEZ99MFMDR8CM&lid=LSTACCFEZ99MFMDR8CMAJFROP&aid=overall&certifiedBuyer=false&sortOrder=NEGATIVE_FIRST&page=581',\n",
       " 'https://www.flipkart.com/boult-audio-probass-curve-neckband-bluetooth-headset/product-reviews/itmf17df7d09c364?pid=ACCFEZ99MFMDR8CM&lid=LSTACCFEZ99MFMDR8CMAJFROP&aid=overall&certifiedBuyer=false&sortOrder=NEGATIVE_FIRST&page=582',\n",
       " 'https://www.flipkart.com/boult-audio-probass-curve-neckband-bluetooth-headset/product-reviews/itmf17df7d09c364?pid=ACCFEZ99MFMDR8CM&lid=LSTACCFEZ99MFMDR8CMAJFROP&aid=overall&certifiedBuyer=false&sortOrder=NEGATIVE_FIRST&page=583',\n",
       " 'https://www.flipkart.com/boult-audio-probass-curve-neckband-bluetooth-headset/product-reviews/itmf17df7d09c364?pid=ACCFEZ99MFMDR8CM&lid=LSTACCFEZ99MFMDR8CMAJFROP&aid=overall&certifiedBuyer=false&sortOrder=NEGATIVE_FIRST&page=584',\n",
       " 'https://www.flipkart.com/boult-audio-probass-curve-neckband-bluetooth-headset/product-reviews/itmf17df7d09c364?pid=ACCFEZ99MFMDR8CM&lid=LSTACCFEZ99MFMDR8CMAJFROP&aid=overall&certifiedBuyer=false&sortOrder=NEGATIVE_FIRST&page=585',\n",
       " 'https://www.flipkart.com/boult-audio-probass-curve-neckband-bluetooth-headset/product-reviews/itmf17df7d09c364?pid=ACCFEZ99MFMDR8CM&lid=LSTACCFEZ99MFMDR8CMAJFROP&aid=overall&certifiedBuyer=false&sortOrder=NEGATIVE_FIRST&page=586',\n",
       " 'https://www.flipkart.com/boult-audio-probass-curve-neckband-bluetooth-headset/product-reviews/itmf17df7d09c364?pid=ACCFEZ99MFMDR8CM&lid=LSTACCFEZ99MFMDR8CMAJFROP&aid=overall&certifiedBuyer=false&sortOrder=NEGATIVE_FIRST&page=587',\n",
       " 'https://www.flipkart.com/boult-audio-probass-curve-neckband-bluetooth-headset/product-reviews/itmf17df7d09c364?pid=ACCFEZ99MFMDR8CM&lid=LSTACCFEZ99MFMDR8CMAJFROP&aid=overall&certifiedBuyer=false&sortOrder=NEGATIVE_FIRST&page=588',\n",
       " 'https://www.flipkart.com/boult-audio-probass-curve-neckband-bluetooth-headset/product-reviews/itmf17df7d09c364?pid=ACCFEZ99MFMDR8CM&lid=LSTACCFEZ99MFMDR8CMAJFROP&aid=overall&certifiedBuyer=false&sortOrder=NEGATIVE_FIRST&page=589',\n",
       " 'https://www.flipkart.com/boult-audio-probass-curve-neckband-bluetooth-headset/product-reviews/itmf17df7d09c364?pid=ACCFEZ99MFMDR8CM&lid=LSTACCFEZ99MFMDR8CMAJFROP&aid=overall&certifiedBuyer=false&sortOrder=NEGATIVE_FIRST&page=590',\n",
       " 'https://www.flipkart.com/boult-audio-probass-curve-neckband-bluetooth-headset/product-reviews/itmf17df7d09c364?pid=ACCFEZ99MFMDR8CM&lid=LSTACCFEZ99MFMDR8CMAJFROP&aid=overall&certifiedBuyer=false&sortOrder=NEGATIVE_FIRST&page=591',\n",
       " 'https://www.flipkart.com/boult-audio-probass-curve-neckband-bluetooth-headset/product-reviews/itmf17df7d09c364?pid=ACCFEZ99MFMDR8CM&lid=LSTACCFEZ99MFMDR8CMAJFROP&aid=overall&certifiedBuyer=false&sortOrder=NEGATIVE_FIRST&page=592',\n",
       " 'https://www.flipkart.com/boult-audio-probass-curve-neckband-bluetooth-headset/product-reviews/itmf17df7d09c364?pid=ACCFEZ99MFMDR8CM&lid=LSTACCFEZ99MFMDR8CMAJFROP&aid=overall&certifiedBuyer=false&sortOrder=NEGATIVE_FIRST&page=593',\n",
       " 'https://www.flipkart.com/boult-audio-probass-curve-neckband-bluetooth-headset/product-reviews/itmf17df7d09c364?pid=ACCFEZ99MFMDR8CM&lid=LSTACCFEZ99MFMDR8CMAJFROP&aid=overall&certifiedBuyer=false&sortOrder=NEGATIVE_FIRST&page=594',\n",
       " 'https://www.flipkart.com/boult-audio-probass-curve-neckband-bluetooth-headset/product-reviews/itmf17df7d09c364?pid=ACCFEZ99MFMDR8CM&lid=LSTACCFEZ99MFMDR8CMAJFROP&aid=overall&certifiedBuyer=false&sortOrder=NEGATIVE_FIRST&page=595',\n",
       " 'https://www.flipkart.com/boult-audio-probass-curve-neckband-bluetooth-headset/product-reviews/itmf17df7d09c364?pid=ACCFEZ99MFMDR8CM&lid=LSTACCFEZ99MFMDR8CMAJFROP&aid=overall&certifiedBuyer=false&sortOrder=NEGATIVE_FIRST&page=596',\n",
       " 'https://www.flipkart.com/boult-audio-probass-curve-neckband-bluetooth-headset/product-reviews/itmf17df7d09c364?pid=ACCFEZ99MFMDR8CM&lid=LSTACCFEZ99MFMDR8CMAJFROP&aid=overall&certifiedBuyer=false&sortOrder=NEGATIVE_FIRST&page=597',\n",
       " 'https://www.flipkart.com/boult-audio-probass-curve-neckband-bluetooth-headset/product-reviews/itmf17df7d09c364?pid=ACCFEZ99MFMDR8CM&lid=LSTACCFEZ99MFMDR8CMAJFROP&aid=overall&certifiedBuyer=false&sortOrder=NEGATIVE_FIRST&page=598',\n",
       " 'https://www.flipkart.com/boult-audio-probass-curve-neckband-bluetooth-headset/product-reviews/itmf17df7d09c364?pid=ACCFEZ99MFMDR8CM&lid=LSTACCFEZ99MFMDR8CMAJFROP&aid=overall&certifiedBuyer=false&sortOrder=NEGATIVE_FIRST&page=599',\n",
       " 'https://www.flipkart.com/boult-audio-probass-curve-neckband-bluetooth-headset/product-reviews/itmf17df7d09c364?pid=ACCFEZ99MFMDR8CM&lid=LSTACCFEZ99MFMDR8CMAJFROP&aid=overall&certifiedBuyer=false&sortOrder=NEGATIVE_FIRST&page=600',\n",
       " 'https://www.flipkart.com/boult-audio-probass-curve-neckband-bluetooth-headset/product-reviews/itmf17df7d09c364?pid=ACCFEZ99MFMDR8CM&lid=LSTACCFEZ99MFMDR8CMAJFROP&aid=overall&certifiedBuyer=false&sortOrder=NEGATIVE_FIRST&page=601',\n",
       " 'https://www.flipkart.com/boult-audio-probass-curve-neckband-bluetooth-headset/product-reviews/itmf17df7d09c364?pid=ACCFEZ99MFMDR8CM&lid=LSTACCFEZ99MFMDR8CMAJFROP&aid=overall&certifiedBuyer=false&sortOrder=NEGATIVE_FIRST&page=602',\n",
       " 'https://www.flipkart.com/boult-audio-probass-curve-neckband-bluetooth-headset/product-reviews/itmf17df7d09c364?pid=ACCFEZ99MFMDR8CM&lid=LSTACCFEZ99MFMDR8CMAJFROP&aid=overall&certifiedBuyer=false&sortOrder=NEGATIVE_FIRST&page=603',\n",
       " 'https://www.flipkart.com/boult-audio-probass-curve-neckband-bluetooth-headset/product-reviews/itmf17df7d09c364?pid=ACCFEZ99MFMDR8CM&lid=LSTACCFEZ99MFMDR8CMAJFROP&aid=overall&certifiedBuyer=false&sortOrder=NEGATIVE_FIRST&page=604',\n",
       " 'https://www.flipkart.com/boult-audio-probass-curve-neckband-bluetooth-headset/product-reviews/itmf17df7d09c364?pid=ACCFEZ99MFMDR8CM&lid=LSTACCFEZ99MFMDR8CMAJFROP&aid=overall&certifiedBuyer=false&sortOrder=NEGATIVE_FIRST&page=605',\n",
       " 'https://www.flipkart.com/boult-audio-probass-curve-neckband-bluetooth-headset/product-reviews/itmf17df7d09c364?pid=ACCFEZ99MFMDR8CM&lid=LSTACCFEZ99MFMDR8CMAJFROP&aid=overall&certifiedBuyer=false&sortOrder=NEGATIVE_FIRST&page=606',\n",
       " 'https://www.flipkart.com/boult-audio-probass-curve-neckband-bluetooth-headset/product-reviews/itmf17df7d09c364?pid=ACCFEZ99MFMDR8CM&lid=LSTACCFEZ99MFMDR8CMAJFROP&aid=overall&certifiedBuyer=false&sortOrder=NEGATIVE_FIRST&page=607',\n",
       " 'https://www.flipkart.com/boult-audio-probass-curve-neckband-bluetooth-headset/product-reviews/itmf17df7d09c364?pid=ACCFEZ99MFMDR8CM&lid=LSTACCFEZ99MFMDR8CMAJFROP&aid=overall&certifiedBuyer=false&sortOrder=NEGATIVE_FIRST&page=608',\n",
       " 'https://www.flipkart.com/boult-audio-probass-curve-neckband-bluetooth-headset/product-reviews/itmf17df7d09c364?pid=ACCFEZ99MFMDR8CM&lid=LSTACCFEZ99MFMDR8CMAJFROP&aid=overall&certifiedBuyer=false&sortOrder=NEGATIVE_FIRST&page=609',\n",
       " 'https://www.flipkart.com/boult-audio-probass-curve-neckband-bluetooth-headset/product-reviews/itmf17df7d09c364?pid=ACCFEZ99MFMDR8CM&lid=LSTACCFEZ99MFMDR8CMAJFROP&aid=overall&certifiedBuyer=false&sortOrder=NEGATIVE_FIRST&page=610',\n",
       " 'https://www.flipkart.com/boult-audio-probass-curve-neckband-bluetooth-headset/product-reviews/itmf17df7d09c364?pid=ACCFEZ99MFMDR8CM&lid=LSTACCFEZ99MFMDR8CMAJFROP&aid=overall&certifiedBuyer=false&sortOrder=NEGATIVE_FIRST&page=611',\n",
       " 'https://www.flipkart.com/boult-audio-probass-curve-neckband-bluetooth-headset/product-reviews/itmf17df7d09c364?pid=ACCFEZ99MFMDR8CM&lid=LSTACCFEZ99MFMDR8CMAJFROP&aid=overall&certifiedBuyer=false&sortOrder=NEGATIVE_FIRST&page=612',\n",
       " 'https://www.flipkart.com/boult-audio-probass-curve-neckband-bluetooth-headset/product-reviews/itmf17df7d09c364?pid=ACCFEZ99MFMDR8CM&lid=LSTACCFEZ99MFMDR8CMAJFROP&aid=overall&certifiedBuyer=false&sortOrder=NEGATIVE_FIRST&page=613',\n",
       " 'https://www.flipkart.com/boult-audio-probass-curve-neckband-bluetooth-headset/product-reviews/itmf17df7d09c364?pid=ACCFEZ99MFMDR8CM&lid=LSTACCFEZ99MFMDR8CMAJFROP&aid=overall&certifiedBuyer=false&sortOrder=NEGATIVE_FIRST&page=614',\n",
       " 'https://www.flipkart.com/boult-audio-probass-curve-neckband-bluetooth-headset/product-reviews/itmf17df7d09c364?pid=ACCFEZ99MFMDR8CM&lid=LSTACCFEZ99MFMDR8CMAJFROP&aid=overall&certifiedBuyer=false&sortOrder=NEGATIVE_FIRST&page=615',\n",
       " 'https://www.flipkart.com/boult-audio-probass-curve-neckband-bluetooth-headset/product-reviews/itmf17df7d09c364?pid=ACCFEZ99MFMDR8CM&lid=LSTACCFEZ99MFMDR8CMAJFROP&aid=overall&certifiedBuyer=false&sortOrder=NEGATIVE_FIRST&page=616',\n",
       " 'https://www.flipkart.com/boult-audio-probass-curve-neckband-bluetooth-headset/product-reviews/itmf17df7d09c364?pid=ACCFEZ99MFMDR8CM&lid=LSTACCFEZ99MFMDR8CMAJFROP&aid=overall&certifiedBuyer=false&sortOrder=NEGATIVE_FIRST&page=617',\n",
       " 'https://www.flipkart.com/boult-audio-probass-curve-neckband-bluetooth-headset/product-reviews/itmf17df7d09c364?pid=ACCFEZ99MFMDR8CM&lid=LSTACCFEZ99MFMDR8CMAJFROP&aid=overall&certifiedBuyer=false&sortOrder=NEGATIVE_FIRST&page=618',\n",
       " 'https://www.flipkart.com/boult-audio-probass-curve-neckband-bluetooth-headset/product-reviews/itmf17df7d09c364?pid=ACCFEZ99MFMDR8CM&lid=LSTACCFEZ99MFMDR8CMAJFROP&aid=overall&certifiedBuyer=false&sortOrder=NEGATIVE_FIRST&page=619',\n",
       " 'https://www.flipkart.com/boult-audio-probass-curve-neckband-bluetooth-headset/product-reviews/itmf17df7d09c364?pid=ACCFEZ99MFMDR8CM&lid=LSTACCFEZ99MFMDR8CMAJFROP&aid=overall&certifiedBuyer=false&sortOrder=NEGATIVE_FIRST&page=620',\n",
       " 'https://www.flipkart.com/boult-audio-probass-curve-neckband-bluetooth-headset/product-reviews/itmf17df7d09c364?pid=ACCFEZ99MFMDR8CM&lid=LSTACCFEZ99MFMDR8CMAJFROP&aid=overall&certifiedBuyer=false&sortOrder=NEGATIVE_FIRST&page=621',\n",
       " 'https://www.flipkart.com/boult-audio-probass-curve-neckband-bluetooth-headset/product-reviews/itmf17df7d09c364?pid=ACCFEZ99MFMDR8CM&lid=LSTACCFEZ99MFMDR8CMAJFROP&aid=overall&certifiedBuyer=false&sortOrder=NEGATIVE_FIRST&page=622',\n",
       " 'https://www.flipkart.com/boult-audio-probass-curve-neckband-bluetooth-headset/product-reviews/itmf17df7d09c364?pid=ACCFEZ99MFMDR8CM&lid=LSTACCFEZ99MFMDR8CMAJFROP&aid=overall&certifiedBuyer=false&sortOrder=NEGATIVE_FIRST&page=623',\n",
       " 'https://www.flipkart.com/boult-audio-probass-curve-neckband-bluetooth-headset/product-reviews/itmf17df7d09c364?pid=ACCFEZ99MFMDR8CM&lid=LSTACCFEZ99MFMDR8CMAJFROP&aid=overall&certifiedBuyer=false&sortOrder=NEGATIVE_FIRST&page=624',\n",
       " 'https://www.flipkart.com/boult-audio-probass-curve-neckband-bluetooth-headset/product-reviews/itmf17df7d09c364?pid=ACCFEZ99MFMDR8CM&lid=LSTACCFEZ99MFMDR8CMAJFROP&aid=overall&certifiedBuyer=false&sortOrder=NEGATIVE_FIRST&page=625',\n",
       " 'https://www.flipkart.com/boult-audio-probass-curve-neckband-bluetooth-headset/product-reviews/itmf17df7d09c364?pid=ACCFEZ99MFMDR8CM&lid=LSTACCFEZ99MFMDR8CMAJFROP&aid=overall&certifiedBuyer=false&sortOrder=NEGATIVE_FIRST&page=626',\n",
       " 'https://www.flipkart.com/boult-audio-probass-curve-neckband-bluetooth-headset/product-reviews/itmf17df7d09c364?pid=ACCFEZ99MFMDR8CM&lid=LSTACCFEZ99MFMDR8CMAJFROP&aid=overall&certifiedBuyer=false&sortOrder=NEGATIVE_FIRST&page=627',\n",
       " 'https://www.flipkart.com/boult-audio-probass-curve-neckband-bluetooth-headset/product-reviews/itmf17df7d09c364?pid=ACCFEZ99MFMDR8CM&lid=LSTACCFEZ99MFMDR8CMAJFROP&aid=overall&certifiedBuyer=false&sortOrder=NEGATIVE_FIRST&page=628',\n",
       " 'https://www.flipkart.com/boult-audio-probass-curve-neckband-bluetooth-headset/product-reviews/itmf17df7d09c364?pid=ACCFEZ99MFMDR8CM&lid=LSTACCFEZ99MFMDR8CMAJFROP&aid=overall&certifiedBuyer=false&sortOrder=NEGATIVE_FIRST&page=629',\n",
       " 'https://www.flipkart.com/boult-audio-probass-curve-neckband-bluetooth-headset/product-reviews/itmf17df7d09c364?pid=ACCFEZ99MFMDR8CM&lid=LSTACCFEZ99MFMDR8CMAJFROP&aid=overall&certifiedBuyer=false&sortOrder=NEGATIVE_FIRST&page=630',\n",
       " 'https://www.flipkart.com/boult-audio-probass-curve-neckband-bluetooth-headset/product-reviews/itmf17df7d09c364?pid=ACCFEZ99MFMDR8CM&lid=LSTACCFEZ99MFMDR8CMAJFROP&aid=overall&certifiedBuyer=false&sortOrder=NEGATIVE_FIRST&page=631',\n",
       " 'https://www.flipkart.com/boult-audio-probass-curve-neckband-bluetooth-headset/product-reviews/itmf17df7d09c364?pid=ACCFEZ99MFMDR8CM&lid=LSTACCFEZ99MFMDR8CMAJFROP&aid=overall&certifiedBuyer=false&sortOrder=NEGATIVE_FIRST&page=632',\n",
       " 'https://www.flipkart.com/boult-audio-probass-curve-neckband-bluetooth-headset/product-reviews/itmf17df7d09c364?pid=ACCFEZ99MFMDR8CM&lid=LSTACCFEZ99MFMDR8CMAJFROP&aid=overall&certifiedBuyer=false&sortOrder=NEGATIVE_FIRST&page=633',\n",
       " 'https://www.flipkart.com/boult-audio-probass-curve-neckband-bluetooth-headset/product-reviews/itmf17df7d09c364?pid=ACCFEZ99MFMDR8CM&lid=LSTACCFEZ99MFMDR8CMAJFROP&aid=overall&certifiedBuyer=false&sortOrder=NEGATIVE_FIRST&page=634',\n",
       " 'https://www.flipkart.com/boult-audio-probass-curve-neckband-bluetooth-headset/product-reviews/itmf17df7d09c364?pid=ACCFEZ99MFMDR8CM&lid=LSTACCFEZ99MFMDR8CMAJFROP&aid=overall&certifiedBuyer=false&sortOrder=NEGATIVE_FIRST&page=635',\n",
       " 'https://www.flipkart.com/boult-audio-probass-curve-neckband-bluetooth-headset/product-reviews/itmf17df7d09c364?pid=ACCFEZ99MFMDR8CM&lid=LSTACCFEZ99MFMDR8CMAJFROP&aid=overall&certifiedBuyer=false&sortOrder=NEGATIVE_FIRST&page=636',\n",
       " 'https://www.flipkart.com/boult-audio-probass-curve-neckband-bluetooth-headset/product-reviews/itmf17df7d09c364?pid=ACCFEZ99MFMDR8CM&lid=LSTACCFEZ99MFMDR8CMAJFROP&aid=overall&certifiedBuyer=false&sortOrder=NEGATIVE_FIRST&page=637',\n",
       " 'https://www.flipkart.com/boult-audio-probass-curve-neckband-bluetooth-headset/product-reviews/itmf17df7d09c364?pid=ACCFEZ99MFMDR8CM&lid=LSTACCFEZ99MFMDR8CMAJFROP&aid=overall&certifiedBuyer=false&sortOrder=NEGATIVE_FIRST&page=638',\n",
       " 'https://www.flipkart.com/boult-audio-probass-curve-neckband-bluetooth-headset/product-reviews/itmf17df7d09c364?pid=ACCFEZ99MFMDR8CM&lid=LSTACCFEZ99MFMDR8CMAJFROP&aid=overall&certifiedBuyer=false&sortOrder=NEGATIVE_FIRST&page=639',\n",
       " 'https://www.flipkart.com/boult-audio-probass-curve-neckband-bluetooth-headset/product-reviews/itmf17df7d09c364?pid=ACCFEZ99MFMDR8CM&lid=LSTACCFEZ99MFMDR8CMAJFROP&aid=overall&certifiedBuyer=false&sortOrder=NEGATIVE_FIRST&page=640',\n",
       " 'https://www.flipkart.com/boult-audio-probass-curve-neckband-bluetooth-headset/product-reviews/itmf17df7d09c364?pid=ACCFEZ99MFMDR8CM&lid=LSTACCFEZ99MFMDR8CMAJFROP&aid=overall&certifiedBuyer=false&sortOrder=NEGATIVE_FIRST&page=641',\n",
       " 'https://www.flipkart.com/boult-audio-probass-curve-neckband-bluetooth-headset/product-reviews/itmf17df7d09c364?pid=ACCFEZ99MFMDR8CM&lid=LSTACCFEZ99MFMDR8CMAJFROP&aid=overall&certifiedBuyer=false&sortOrder=NEGATIVE_FIRST&page=642',\n",
       " 'https://www.flipkart.com/boult-audio-probass-curve-neckband-bluetooth-headset/product-reviews/itmf17df7d09c364?pid=ACCFEZ99MFMDR8CM&lid=LSTACCFEZ99MFMDR8CMAJFROP&aid=overall&certifiedBuyer=false&sortOrder=NEGATIVE_FIRST&page=643',\n",
       " 'https://www.flipkart.com/boult-audio-probass-curve-neckband-bluetooth-headset/product-reviews/itmf17df7d09c364?pid=ACCFEZ99MFMDR8CM&lid=LSTACCFEZ99MFMDR8CMAJFROP&aid=overall&certifiedBuyer=false&sortOrder=NEGATIVE_FIRST&page=644',\n",
       " 'https://www.flipkart.com/boult-audio-probass-curve-neckband-bluetooth-headset/product-reviews/itmf17df7d09c364?pid=ACCFEZ99MFMDR8CM&lid=LSTACCFEZ99MFMDR8CMAJFROP&aid=overall&certifiedBuyer=false&sortOrder=NEGATIVE_FIRST&page=645',\n",
       " 'https://www.flipkart.com/boult-audio-probass-curve-neckband-bluetooth-headset/product-reviews/itmf17df7d09c364?pid=ACCFEZ99MFMDR8CM&lid=LSTACCFEZ99MFMDR8CMAJFROP&aid=overall&certifiedBuyer=false&sortOrder=NEGATIVE_FIRST&page=646',\n",
       " 'https://www.flipkart.com/boult-audio-probass-curve-neckband-bluetooth-headset/product-reviews/itmf17df7d09c364?pid=ACCFEZ99MFMDR8CM&lid=LSTACCFEZ99MFMDR8CMAJFROP&aid=overall&certifiedBuyer=false&sortOrder=NEGATIVE_FIRST&page=647',\n",
       " 'https://www.flipkart.com/boult-audio-probass-curve-neckband-bluetooth-headset/product-reviews/itmf17df7d09c364?pid=ACCFEZ99MFMDR8CM&lid=LSTACCFEZ99MFMDR8CMAJFROP&aid=overall&certifiedBuyer=false&sortOrder=NEGATIVE_FIRST&page=648',\n",
       " 'https://www.flipkart.com/boult-audio-probass-curve-neckband-bluetooth-headset/product-reviews/itmf17df7d09c364?pid=ACCFEZ99MFMDR8CM&lid=LSTACCFEZ99MFMDR8CMAJFROP&aid=overall&certifiedBuyer=false&sortOrder=NEGATIVE_FIRST&page=649',\n",
       " 'https://www.flipkart.com/boult-audio-probass-curve-neckband-bluetooth-headset/product-reviews/itmf17df7d09c364?pid=ACCFEZ99MFMDR8CM&lid=LSTACCFEZ99MFMDR8CMAJFROP&aid=overall&certifiedBuyer=false&sortOrder=NEGATIVE_FIRST&page=650',\n",
       " 'https://www.flipkart.com/boult-audio-probass-curve-neckband-bluetooth-headset/product-reviews/itmf17df7d09c364?pid=ACCFEZ99MFMDR8CM&lid=LSTACCFEZ99MFMDR8CMAJFROP&aid=overall&certifiedBuyer=false&sortOrder=NEGATIVE_FIRST&page=651',\n",
       " 'https://www.flipkart.com/boult-audio-probass-curve-neckband-bluetooth-headset/product-reviews/itmf17df7d09c364?pid=ACCFEZ99MFMDR8CM&lid=LSTACCFEZ99MFMDR8CMAJFROP&aid=overall&certifiedBuyer=false&sortOrder=NEGATIVE_FIRST&page=652',\n",
       " 'https://www.flipkart.com/boult-audio-probass-curve-neckband-bluetooth-headset/product-reviews/itmf17df7d09c364?pid=ACCFEZ99MFMDR8CM&lid=LSTACCFEZ99MFMDR8CMAJFROP&aid=overall&certifiedBuyer=false&sortOrder=NEGATIVE_FIRST&page=653',\n",
       " 'https://www.flipkart.com/boult-audio-probass-curve-neckband-bluetooth-headset/product-reviews/itmf17df7d09c364?pid=ACCFEZ99MFMDR8CM&lid=LSTACCFEZ99MFMDR8CMAJFROP&aid=overall&certifiedBuyer=false&sortOrder=NEGATIVE_FIRST&page=654',\n",
       " 'https://www.flipkart.com/boult-audio-probass-curve-neckband-bluetooth-headset/product-reviews/itmf17df7d09c364?pid=ACCFEZ99MFMDR8CM&lid=LSTACCFEZ99MFMDR8CMAJFROP&aid=overall&certifiedBuyer=false&sortOrder=NEGATIVE_FIRST&page=655',\n",
       " 'https://www.flipkart.com/boult-audio-probass-curve-neckband-bluetooth-headset/product-reviews/itmf17df7d09c364?pid=ACCFEZ99MFMDR8CM&lid=LSTACCFEZ99MFMDR8CMAJFROP&aid=overall&certifiedBuyer=false&sortOrder=NEGATIVE_FIRST&page=656',\n",
       " 'https://www.flipkart.com/boult-audio-probass-curve-neckband-bluetooth-headset/product-reviews/itmf17df7d09c364?pid=ACCFEZ99MFMDR8CM&lid=LSTACCFEZ99MFMDR8CMAJFROP&aid=overall&certifiedBuyer=false&sortOrder=NEGATIVE_FIRST&page=657',\n",
       " 'https://www.flipkart.com/boult-audio-probass-curve-neckband-bluetooth-headset/product-reviews/itmf17df7d09c364?pid=ACCFEZ99MFMDR8CM&lid=LSTACCFEZ99MFMDR8CMAJFROP&aid=overall&certifiedBuyer=false&sortOrder=NEGATIVE_FIRST&page=658',\n",
       " 'https://www.flipkart.com/boult-audio-probass-curve-neckband-bluetooth-headset/product-reviews/itmf17df7d09c364?pid=ACCFEZ99MFMDR8CM&lid=LSTACCFEZ99MFMDR8CMAJFROP&aid=overall&certifiedBuyer=false&sortOrder=NEGATIVE_FIRST&page=659',\n",
       " 'https://www.flipkart.com/boult-audio-probass-curve-neckband-bluetooth-headset/product-reviews/itmf17df7d09c364?pid=ACCFEZ99MFMDR8CM&lid=LSTACCFEZ99MFMDR8CMAJFROP&aid=overall&certifiedBuyer=false&sortOrder=NEGATIVE_FIRST&page=660',\n",
       " 'https://www.flipkart.com/boult-audio-probass-curve-neckband-bluetooth-headset/product-reviews/itmf17df7d09c364?pid=ACCFEZ99MFMDR8CM&lid=LSTACCFEZ99MFMDR8CMAJFROP&aid=overall&certifiedBuyer=false&sortOrder=NEGATIVE_FIRST&page=661',\n",
       " 'https://www.flipkart.com/boult-audio-probass-curve-neckband-bluetooth-headset/product-reviews/itmf17df7d09c364?pid=ACCFEZ99MFMDR8CM&lid=LSTACCFEZ99MFMDR8CMAJFROP&aid=overall&certifiedBuyer=false&sortOrder=NEGATIVE_FIRST&page=662',\n",
       " 'https://www.flipkart.com/boult-audio-probass-curve-neckband-bluetooth-headset/product-reviews/itmf17df7d09c364?pid=ACCFEZ99MFMDR8CM&lid=LSTACCFEZ99MFMDR8CMAJFROP&aid=overall&certifiedBuyer=false&sortOrder=NEGATIVE_FIRST&page=663',\n",
       " 'https://www.flipkart.com/boult-audio-probass-curve-neckband-bluetooth-headset/product-reviews/itmf17df7d09c364?pid=ACCFEZ99MFMDR8CM&lid=LSTACCFEZ99MFMDR8CMAJFROP&aid=overall&certifiedBuyer=false&sortOrder=NEGATIVE_FIRST&page=664',\n",
       " 'https://www.flipkart.com/boult-audio-probass-curve-neckband-bluetooth-headset/product-reviews/itmf17df7d09c364?pid=ACCFEZ99MFMDR8CM&lid=LSTACCFEZ99MFMDR8CMAJFROP&aid=overall&certifiedBuyer=false&sortOrder=NEGATIVE_FIRST&page=665',\n",
       " 'https://www.flipkart.com/boult-audio-probass-curve-neckband-bluetooth-headset/product-reviews/itmf17df7d09c364?pid=ACCFEZ99MFMDR8CM&lid=LSTACCFEZ99MFMDR8CMAJFROP&aid=overall&certifiedBuyer=false&sortOrder=NEGATIVE_FIRST&page=666',\n",
       " 'https://www.flipkart.com/boult-audio-probass-curve-neckband-bluetooth-headset/product-reviews/itmf17df7d09c364?pid=ACCFEZ99MFMDR8CM&lid=LSTACCFEZ99MFMDR8CMAJFROP&aid=overall&certifiedBuyer=false&sortOrder=NEGATIVE_FIRST&page=667',\n",
       " 'https://www.flipkart.com/boult-audio-probass-curve-neckband-bluetooth-headset/product-reviews/itmf17df7d09c364?pid=ACCFEZ99MFMDR8CM&lid=LSTACCFEZ99MFMDR8CMAJFROP&aid=overall&certifiedBuyer=false&sortOrder=NEGATIVE_FIRST&page=668',\n",
       " 'https://www.flipkart.com/boult-audio-probass-curve-neckband-bluetooth-headset/product-reviews/itmf17df7d09c364?pid=ACCFEZ99MFMDR8CM&lid=LSTACCFEZ99MFMDR8CMAJFROP&aid=overall&certifiedBuyer=false&sortOrder=NEGATIVE_FIRST&page=669',\n",
       " 'https://www.flipkart.com/boult-audio-probass-curve-neckband-bluetooth-headset/product-reviews/itmf17df7d09c364?pid=ACCFEZ99MFMDR8CM&lid=LSTACCFEZ99MFMDR8CMAJFROP&aid=overall&certifiedBuyer=false&sortOrder=NEGATIVE_FIRST&page=670',\n",
       " 'https://www.flipkart.com/boult-audio-probass-curve-neckband-bluetooth-headset/product-reviews/itmf17df7d09c364?pid=ACCFEZ99MFMDR8CM&lid=LSTACCFEZ99MFMDR8CMAJFROP&aid=overall&certifiedBuyer=false&sortOrder=NEGATIVE_FIRST&page=671',\n",
       " 'https://www.flipkart.com/boult-audio-probass-curve-neckband-bluetooth-headset/product-reviews/itmf17df7d09c364?pid=ACCFEZ99MFMDR8CM&lid=LSTACCFEZ99MFMDR8CMAJFROP&aid=overall&certifiedBuyer=false&sortOrder=NEGATIVE_FIRST&page=672',\n",
       " 'https://www.flipkart.com/boult-audio-probass-curve-neckband-bluetooth-headset/product-reviews/itmf17df7d09c364?pid=ACCFEZ99MFMDR8CM&lid=LSTACCFEZ99MFMDR8CMAJFROP&aid=overall&certifiedBuyer=false&sortOrder=NEGATIVE_FIRST&page=673',\n",
       " 'https://www.flipkart.com/boult-audio-probass-curve-neckband-bluetooth-headset/product-reviews/itmf17df7d09c364?pid=ACCFEZ99MFMDR8CM&lid=LSTACCFEZ99MFMDR8CMAJFROP&aid=overall&certifiedBuyer=false&sortOrder=NEGATIVE_FIRST&page=674',\n",
       " 'https://www.flipkart.com/boult-audio-probass-curve-neckband-bluetooth-headset/product-reviews/itmf17df7d09c364?pid=ACCFEZ99MFMDR8CM&lid=LSTACCFEZ99MFMDR8CMAJFROP&aid=overall&certifiedBuyer=false&sortOrder=NEGATIVE_FIRST&page=675',\n",
       " 'https://www.flipkart.com/boult-audio-probass-curve-neckband-bluetooth-headset/product-reviews/itmf17df7d09c364?pid=ACCFEZ99MFMDR8CM&lid=LSTACCFEZ99MFMDR8CMAJFROP&aid=overall&certifiedBuyer=false&sortOrder=NEGATIVE_FIRST&page=676',\n",
       " 'https://www.flipkart.com/boult-audio-probass-curve-neckband-bluetooth-headset/product-reviews/itmf17df7d09c364?pid=ACCFEZ99MFMDR8CM&lid=LSTACCFEZ99MFMDR8CMAJFROP&aid=overall&certifiedBuyer=false&sortOrder=NEGATIVE_FIRST&page=677',\n",
       " 'https://www.flipkart.com/boult-audio-probass-curve-neckband-bluetooth-headset/product-reviews/itmf17df7d09c364?pid=ACCFEZ99MFMDR8CM&lid=LSTACCFEZ99MFMDR8CMAJFROP&aid=overall&certifiedBuyer=false&sortOrder=NEGATIVE_FIRST&page=678',\n",
       " 'https://www.flipkart.com/boult-audio-probass-curve-neckband-bluetooth-headset/product-reviews/itmf17df7d09c364?pid=ACCFEZ99MFMDR8CM&lid=LSTACCFEZ99MFMDR8CMAJFROP&aid=overall&certifiedBuyer=false&sortOrder=NEGATIVE_FIRST&page=679',\n",
       " 'https://www.flipkart.com/boult-audio-probass-curve-neckband-bluetooth-headset/product-reviews/itmf17df7d09c364?pid=ACCFEZ99MFMDR8CM&lid=LSTACCFEZ99MFMDR8CMAJFROP&aid=overall&certifiedBuyer=false&sortOrder=NEGATIVE_FIRST&page=680',\n",
       " 'https://www.flipkart.com/boult-audio-probass-curve-neckband-bluetooth-headset/product-reviews/itmf17df7d09c364?pid=ACCFEZ99MFMDR8CM&lid=LSTACCFEZ99MFMDR8CMAJFROP&aid=overall&certifiedBuyer=false&sortOrder=NEGATIVE_FIRST&page=681',\n",
       " 'https://www.flipkart.com/boult-audio-probass-curve-neckband-bluetooth-headset/product-reviews/itmf17df7d09c364?pid=ACCFEZ99MFMDR8CM&lid=LSTACCFEZ99MFMDR8CMAJFROP&aid=overall&certifiedBuyer=false&sortOrder=NEGATIVE_FIRST&page=682',\n",
       " 'https://www.flipkart.com/boult-audio-probass-curve-neckband-bluetooth-headset/product-reviews/itmf17df7d09c364?pid=ACCFEZ99MFMDR8CM&lid=LSTACCFEZ99MFMDR8CMAJFROP&aid=overall&certifiedBuyer=false&sortOrder=NEGATIVE_FIRST&page=683',\n",
       " 'https://www.flipkart.com/boult-audio-probass-curve-neckband-bluetooth-headset/product-reviews/itmf17df7d09c364?pid=ACCFEZ99MFMDR8CM&lid=LSTACCFEZ99MFMDR8CMAJFROP&aid=overall&certifiedBuyer=false&sortOrder=NEGATIVE_FIRST&page=684',\n",
       " 'https://www.flipkart.com/boult-audio-probass-curve-neckband-bluetooth-headset/product-reviews/itmf17df7d09c364?pid=ACCFEZ99MFMDR8CM&lid=LSTACCFEZ99MFMDR8CMAJFROP&aid=overall&certifiedBuyer=false&sortOrder=NEGATIVE_FIRST&page=685',\n",
       " 'https://www.flipkart.com/boult-audio-probass-curve-neckband-bluetooth-headset/product-reviews/itmf17df7d09c364?pid=ACCFEZ99MFMDR8CM&lid=LSTACCFEZ99MFMDR8CMAJFROP&aid=overall&certifiedBuyer=false&sortOrder=NEGATIVE_FIRST&page=686',\n",
       " 'https://www.flipkart.com/boult-audio-probass-curve-neckband-bluetooth-headset/product-reviews/itmf17df7d09c364?pid=ACCFEZ99MFMDR8CM&lid=LSTACCFEZ99MFMDR8CMAJFROP&aid=overall&certifiedBuyer=false&sortOrder=NEGATIVE_FIRST&page=687',\n",
       " 'https://www.flipkart.com/boult-audio-probass-curve-neckband-bluetooth-headset/product-reviews/itmf17df7d09c364?pid=ACCFEZ99MFMDR8CM&lid=LSTACCFEZ99MFMDR8CMAJFROP&aid=overall&certifiedBuyer=false&sortOrder=NEGATIVE_FIRST&page=688',\n",
       " 'https://www.flipkart.com/boult-audio-probass-curve-neckband-bluetooth-headset/product-reviews/itmf17df7d09c364?pid=ACCFEZ99MFMDR8CM&lid=LSTACCFEZ99MFMDR8CMAJFROP&aid=overall&certifiedBuyer=false&sortOrder=NEGATIVE_FIRST&page=689',\n",
       " 'https://www.flipkart.com/boult-audio-probass-curve-neckband-bluetooth-headset/product-reviews/itmf17df7d09c364?pid=ACCFEZ99MFMDR8CM&lid=LSTACCFEZ99MFMDR8CMAJFROP&aid=overall&certifiedBuyer=false&sortOrder=NEGATIVE_FIRST&page=690',\n",
       " 'https://www.flipkart.com/boult-audio-probass-curve-neckband-bluetooth-headset/product-reviews/itmf17df7d09c364?pid=ACCFEZ99MFMDR8CM&lid=LSTACCFEZ99MFMDR8CMAJFROP&aid=overall&certifiedBuyer=false&sortOrder=NEGATIVE_FIRST&page=691',\n",
       " 'https://www.flipkart.com/boult-audio-probass-curve-neckband-bluetooth-headset/product-reviews/itmf17df7d09c364?pid=ACCFEZ99MFMDR8CM&lid=LSTACCFEZ99MFMDR8CMAJFROP&aid=overall&certifiedBuyer=false&sortOrder=NEGATIVE_FIRST&page=692',\n",
       " 'https://www.flipkart.com/boult-audio-probass-curve-neckband-bluetooth-headset/product-reviews/itmf17df7d09c364?pid=ACCFEZ99MFMDR8CM&lid=LSTACCFEZ99MFMDR8CMAJFROP&aid=overall&certifiedBuyer=false&sortOrder=NEGATIVE_FIRST&page=693',\n",
       " 'https://www.flipkart.com/boult-audio-probass-curve-neckband-bluetooth-headset/product-reviews/itmf17df7d09c364?pid=ACCFEZ99MFMDR8CM&lid=LSTACCFEZ99MFMDR8CMAJFROP&aid=overall&certifiedBuyer=false&sortOrder=NEGATIVE_FIRST&page=694',\n",
       " 'https://www.flipkart.com/boult-audio-probass-curve-neckband-bluetooth-headset/product-reviews/itmf17df7d09c364?pid=ACCFEZ99MFMDR8CM&lid=LSTACCFEZ99MFMDR8CMAJFROP&aid=overall&certifiedBuyer=false&sortOrder=NEGATIVE_FIRST&page=695',\n",
       " 'https://www.flipkart.com/boult-audio-probass-curve-neckband-bluetooth-headset/product-reviews/itmf17df7d09c364?pid=ACCFEZ99MFMDR8CM&lid=LSTACCFEZ99MFMDR8CMAJFROP&aid=overall&certifiedBuyer=false&sortOrder=NEGATIVE_FIRST&page=696',\n",
       " 'https://www.flipkart.com/boult-audio-probass-curve-neckband-bluetooth-headset/product-reviews/itmf17df7d09c364?pid=ACCFEZ99MFMDR8CM&lid=LSTACCFEZ99MFMDR8CMAJFROP&aid=overall&certifiedBuyer=false&sortOrder=NEGATIVE_FIRST&page=697',\n",
       " 'https://www.flipkart.com/boult-audio-probass-curve-neckband-bluetooth-headset/product-reviews/itmf17df7d09c364?pid=ACCFEZ99MFMDR8CM&lid=LSTACCFEZ99MFMDR8CMAJFROP&aid=overall&certifiedBuyer=false&sortOrder=NEGATIVE_FIRST&page=698',\n",
       " 'https://www.flipkart.com/boult-audio-probass-curve-neckband-bluetooth-headset/product-reviews/itmf17df7d09c364?pid=ACCFEZ99MFMDR8CM&lid=LSTACCFEZ99MFMDR8CMAJFROP&aid=overall&certifiedBuyer=false&sortOrder=NEGATIVE_FIRST&page=698',\n",
       " 'https://www.flipkart.com/boult-audio-probass-curve-neckband-bluetooth-headset/product-reviews/itmf17df7d09c364?pid=ACCFEZ99MFMDR8CM&lid=LSTACCFEZ99MFMDR8CMAJFROP&aid=overall&certifiedBuyer=false&sortOrder=NEGATIVE_FIRST&page=699',\n",
       " 'https://www.flipkart.com/boult-audio-probass-curve-neckband-bluetooth-headset/product-reviews/itmf17df7d09c364?pid=ACCFEZ99MFMDR8CM&lid=LSTACCFEZ99MFMDR8CMAJFROP&aid=overall&certifiedBuyer=false&sortOrder=NEGATIVE_FIRST&page=700',\n",
       " 'https://www.flipkart.com/boult-audio-probass-curve-neckband-bluetooth-headset/product-reviews/itmf17df7d09c364?pid=ACCFEZ99MFMDR8CM&lid=LSTACCFEZ99MFMDR8CMAJFROP&aid=overall&certifiedBuyer=false&sortOrder=NEGATIVE_FIRST&page=701',\n",
       " 'https://www.flipkart.com/boult-audio-probass-curve-neckband-bluetooth-headset/product-reviews/itmf17df7d09c364?pid=ACCFEZ99MFMDR8CM&lid=LSTACCFEZ99MFMDR8CMAJFROP&aid=overall&certifiedBuyer=false&sortOrder=NEGATIVE_FIRST&page=702',\n",
       " 'https://www.flipkart.com/boult-audio-probass-curve-neckband-bluetooth-headset/product-reviews/itmf17df7d09c364?pid=ACCFEZ99MFMDR8CM&lid=LSTACCFEZ99MFMDR8CMAJFROP&aid=overall&certifiedBuyer=false&sortOrder=NEGATIVE_FIRST&page=703',\n",
       " 'https://www.flipkart.com/boult-audio-probass-curve-neckband-bluetooth-headset/product-reviews/itmf17df7d09c364?pid=ACCFEZ99MFMDR8CM&lid=LSTACCFEZ99MFMDR8CMAJFROP&aid=overall&certifiedBuyer=false&sortOrder=NEGATIVE_FIRST&page=704',\n",
       " 'https://www.flipkart.com/boult-audio-probass-curve-neckband-bluetooth-headset/product-reviews/itmf17df7d09c364?pid=ACCFEZ99MFMDR8CM&lid=LSTACCFEZ99MFMDR8CMAJFROP&aid=overall&certifiedBuyer=false&sortOrder=NEGATIVE_FIRST&page=705',\n",
       " 'https://www.flipkart.com/boult-audio-probass-curve-neckband-bluetooth-headset/product-reviews/itmf17df7d09c364?pid=ACCFEZ99MFMDR8CM&lid=LSTACCFEZ99MFMDR8CMAJFROP&aid=overall&certifiedBuyer=false&sortOrder=NEGATIVE_FIRST&page=706',\n",
       " 'https://www.flipkart.com/boult-audio-probass-curve-neckband-bluetooth-headset/product-reviews/itmf17df7d09c364?pid=ACCFEZ99MFMDR8CM&lid=LSTACCFEZ99MFMDR8CMAJFROP&aid=overall&certifiedBuyer=false&sortOrder=NEGATIVE_FIRST&page=707',\n",
       " 'https://www.flipkart.com/boult-audio-probass-curve-neckband-bluetooth-headset/product-reviews/itmf17df7d09c364?pid=ACCFEZ99MFMDR8CM&lid=LSTACCFEZ99MFMDR8CMAJFROP&aid=overall&certifiedBuyer=false&sortOrder=NEGATIVE_FIRST&page=708',\n",
       " 'https://www.flipkart.com/boult-audio-probass-curve-neckband-bluetooth-headset/product-reviews/itmf17df7d09c364?pid=ACCFEZ99MFMDR8CM&lid=LSTACCFEZ99MFMDR8CMAJFROP&aid=overall&certifiedBuyer=false&sortOrder=NEGATIVE_FIRST&page=709',\n",
       " 'https://www.flipkart.com/boult-audio-probass-curve-neckband-bluetooth-headset/product-reviews/itmf17df7d09c364?pid=ACCFEZ99MFMDR8CM&lid=LSTACCFEZ99MFMDR8CMAJFROP&aid=overall&certifiedBuyer=false&sortOrder=NEGATIVE_FIRST&page=710',\n",
       " 'https://www.flipkart.com/boult-audio-probass-curve-neckband-bluetooth-headset/product-reviews/itmf17df7d09c364?pid=ACCFEZ99MFMDR8CM&lid=LSTACCFEZ99MFMDR8CMAJFROP&aid=overall&certifiedBuyer=false&sortOrder=NEGATIVE_FIRST&page=711',\n",
       " 'https://www.flipkart.com/boult-audio-probass-curve-neckband-bluetooth-headset/product-reviews/itmf17df7d09c364?pid=ACCFEZ99MFMDR8CM&lid=LSTACCFEZ99MFMDR8CMAJFROP&aid=overall&certifiedBuyer=false&sortOrder=NEGATIVE_FIRST&page=712',\n",
       " 'https://www.flipkart.com/boult-audio-probass-curve-neckband-bluetooth-headset/product-reviews/itmf17df7d09c364?pid=ACCFEZ99MFMDR8CM&lid=LSTACCFEZ99MFMDR8CMAJFROP&aid=overall&certifiedBuyer=false&sortOrder=NEGATIVE_FIRST&page=713',\n",
       " 'https://www.flipkart.com/boult-audio-probass-curve-neckband-bluetooth-headset/product-reviews/itmf17df7d09c364?pid=ACCFEZ99MFMDR8CM&lid=LSTACCFEZ99MFMDR8CMAJFROP&aid=overall&certifiedBuyer=false&sortOrder=NEGATIVE_FIRST&page=714',\n",
       " 'https://www.flipkart.com/boult-audio-probass-curve-neckband-bluetooth-headset/product-reviews/itmf17df7d09c364?pid=ACCFEZ99MFMDR8CM&lid=LSTACCFEZ99MFMDR8CMAJFROP&aid=overall&certifiedBuyer=false&sortOrder=NEGATIVE_FIRST&page=715',\n",
       " 'https://www.flipkart.com/boult-audio-probass-curve-neckband-bluetooth-headset/product-reviews/itmf17df7d09c364?pid=ACCFEZ99MFMDR8CM&lid=LSTACCFEZ99MFMDR8CMAJFROP&aid=overall&certifiedBuyer=false&sortOrder=NEGATIVE_FIRST&page=716',\n",
       " 'https://www.flipkart.com/boult-audio-probass-curve-neckband-bluetooth-headset/product-reviews/itmf17df7d09c364?pid=ACCFEZ99MFMDR8CM&lid=LSTACCFEZ99MFMDR8CMAJFROP&aid=overall&certifiedBuyer=false&sortOrder=NEGATIVE_FIRST&page=717',\n",
       " 'https://www.flipkart.com/boult-audio-probass-curve-neckband-bluetooth-headset/product-reviews/itmf17df7d09c364?pid=ACCFEZ99MFMDR8CM&lid=LSTACCFEZ99MFMDR8CMAJFROP&aid=overall&certifiedBuyer=false&sortOrder=NEGATIVE_FIRST&page=718']"
      ]
     },
     "execution_count": 204,
     "metadata": {},
     "output_type": "execute_result"
    }
   ],
   "source": [
    "urls"
   ]
  },
  {
   "cell_type": "code",
   "execution_count": 205,
   "metadata": {},
   "outputs": [],
   "source": [
    "url = []\n",
    "for i in urls:\n",
    "    if i not in url:\n",
    "        url.append(i)"
   ]
  },
  {
   "cell_type": "code",
   "execution_count": 208,
   "metadata": {},
   "outputs": [
    {
     "name": "stderr",
     "output_type": "stream",
     "text": [
      "100%|████████████████████████████████████████████████████████████████████████████████| 249/249 [08:15<00:00,  1.99s/it]\n"
     ]
    }
   ],
   "source": [
    "rating=[]\n",
    "full_review=[]\n",
    "for i in tqdm(url):\n",
    "    \n",
    "    driver.get(i)\n",
    "    \n",
    "    rate= driver.find_elements_by_xpath('//div[@class=\"col _2wzgFH K0kLPL\"]/div[1]/div')\n",
    "    \n",
    "    for r in rate:\n",
    "        rating.append(r.text)\n",
    "        \n",
    "    review=driver.find_elements_by_xpath('//div[@class=\"t-ZTKy\"]')\n",
    "    for i in review:\n",
    "        full_review.append(i.text)"
   ]
  },
  {
   "cell_type": "code",
   "execution_count": 209,
   "metadata": {},
   "outputs": [
    {
     "data": {
      "text/plain": [
       "2480"
      ]
     },
     "execution_count": 209,
     "metadata": {},
     "output_type": "execute_result"
    }
   ],
   "source": [
    "len(rating)"
   ]
  },
  {
   "cell_type": "code",
   "execution_count": 210,
   "metadata": {},
   "outputs": [
    {
     "data": {
      "text/plain": [
       "2480"
      ]
     },
     "execution_count": 210,
     "metadata": {},
     "output_type": "execute_result"
    }
   ],
   "source": [
    "len(full_review)"
   ]
  },
  {
   "cell_type": "code",
   "execution_count": 211,
   "metadata": {},
   "outputs": [],
   "source": [
    "df3=pd.DataFrame({'rating':rating,'review':full_review})"
   ]
  },
  {
   "cell_type": "code",
   "execution_count": 271,
   "metadata": {},
   "outputs": [],
   "source": [
    "df_new=pd.concat([new_df,df3])"
   ]
  },
  {
   "cell_type": "code",
   "execution_count": 216,
   "metadata": {
    "scrolled": true
   },
   "outputs": [
    {
     "data": {
      "text/plain": [
       "5    6232\n",
       "1    4647\n",
       "4    2453\n",
       "3    2371\n",
       "3    1968\n",
       "2    1527\n",
       "2    1496\n",
       "4    1353\n",
       "5       1\n",
       "Name: rating, dtype: int64"
      ]
     },
     "execution_count": 216,
     "metadata": {},
     "output_type": "execute_result"
    }
   ],
   "source": [
    "df_new['rating'].value_counts()"
   ]
  },
  {
   "cell_type": "markdown",
   "metadata": {},
   "source": [
    "### scraping data from flipkart "
   ]
  },
  {
   "cell_type": "code",
   "execution_count": 258,
   "metadata": {},
   "outputs": [],
   "source": [
    "driver.get('https://www.flipkart.com/boult-audio-probass-curve-neckband-bluetooth-headset/product-reviews/itmf17df7d09c364?pid=ACCFEZ99MFMDR8CM&lid=LSTACCFEZ99MFMDR8CMAJFROP&aid=overall&certifiedBuyer=false&sortOrder=NEGATIVE_FIRST&page=906')"
   ]
  },
  {
   "cell_type": "code",
   "execution_count": 259,
   "metadata": {},
   "outputs": [
    {
     "name": "stderr",
     "output_type": "stream",
     "text": [
      "100%|██████████████████████████████████████████████████████████████████████████████████| 30/30 [01:10<00:00,  2.34s/it]\n"
     ]
    }
   ],
   "source": [
    "#scraping url from multiple pages\n",
    "urls=[] \n",
    "for j in tqdm(range(0,30)):\n",
    "    time.sleep(2)\n",
    "    try:\n",
    "        for i in driver.find_elements_by_xpath(\"//a[@class='ge-49M _2Kfbh8']\"):\n",
    "            urls.append(i.get_attribute('href'))\n",
    "    except NoSuchElementException:\n",
    "        pass\n",
    "    \n",
    "    #clicking on next button\n",
    "    try:\n",
    "        driver.find_element_by_xpath(\"//a[@class='_1LKTO3'][2]\").click()\n",
    "    except:\n",
    "        driver.find_element_by_xpath(\"//a[@class='_1LKTO3']\").click()\n"
   ]
  },
  {
   "cell_type": "code",
   "execution_count": 260,
   "metadata": {},
   "outputs": [
    {
     "data": {
      "text/plain": [
       "['https://www.flipkart.com/boult-audio-probass-curve-neckband-bluetooth-headset/product-reviews/itmf17df7d09c364?pid=ACCFEZ99MFMDR8CM&lid=LSTACCFEZ99MFMDR8CMAJFROP&aid=overall&certifiedBuyer=false&sortOrder=NEGATIVE_FIRST&page=906',\n",
       " 'https://www.flipkart.com/boult-audio-probass-curve-neckband-bluetooth-headset/product-reviews/itmf17df7d09c364?pid=ACCFEZ99MFMDR8CM&lid=LSTACCFEZ99MFMDR8CMAJFROP&aid=overall&certifiedBuyer=false&sortOrder=NEGATIVE_FIRST&page=906',\n",
       " 'https://www.flipkart.com/boult-audio-probass-curve-neckband-bluetooth-headset/product-reviews/itmf17df7d09c364?pid=ACCFEZ99MFMDR8CM&lid=LSTACCFEZ99MFMDR8CMAJFROP&aid=overall&certifiedBuyer=false&sortOrder=NEGATIVE_FIRST&page=907',\n",
       " 'https://www.flipkart.com/boult-audio-probass-curve-neckband-bluetooth-headset/product-reviews/itmf17df7d09c364?pid=ACCFEZ99MFMDR8CM&lid=LSTACCFEZ99MFMDR8CMAJFROP&aid=overall&certifiedBuyer=false&sortOrder=NEGATIVE_FIRST&page=908',\n",
       " 'https://www.flipkart.com/boult-audio-probass-curve-neckband-bluetooth-headset/product-reviews/itmf17df7d09c364?pid=ACCFEZ99MFMDR8CM&lid=LSTACCFEZ99MFMDR8CMAJFROP&aid=overall&certifiedBuyer=false&sortOrder=NEGATIVE_FIRST&page=908',\n",
       " 'https://www.flipkart.com/boult-audio-probass-curve-neckband-bluetooth-headset/product-reviews/itmf17df7d09c364?pid=ACCFEZ99MFMDR8CM&lid=LSTACCFEZ99MFMDR8CMAJFROP&aid=overall&certifiedBuyer=false&sortOrder=NEGATIVE_FIRST&page=909',\n",
       " 'https://www.flipkart.com/boult-audio-probass-curve-neckband-bluetooth-headset/product-reviews/itmf17df7d09c364?pid=ACCFEZ99MFMDR8CM&lid=LSTACCFEZ99MFMDR8CMAJFROP&aid=overall&certifiedBuyer=false&sortOrder=NEGATIVE_FIRST&page=910',\n",
       " 'https://www.flipkart.com/boult-audio-probass-curve-neckband-bluetooth-headset/product-reviews/itmf17df7d09c364?pid=ACCFEZ99MFMDR8CM&lid=LSTACCFEZ99MFMDR8CMAJFROP&aid=overall&certifiedBuyer=false&sortOrder=NEGATIVE_FIRST&page=911',\n",
       " 'https://www.flipkart.com/boult-audio-probass-curve-neckband-bluetooth-headset/product-reviews/itmf17df7d09c364?pid=ACCFEZ99MFMDR8CM&lid=LSTACCFEZ99MFMDR8CMAJFROP&aid=overall&certifiedBuyer=false&sortOrder=NEGATIVE_FIRST&page=912',\n",
       " 'https://www.flipkart.com/boult-audio-probass-curve-neckband-bluetooth-headset/product-reviews/itmf17df7d09c364?pid=ACCFEZ99MFMDR8CM&lid=LSTACCFEZ99MFMDR8CMAJFROP&aid=overall&certifiedBuyer=false&sortOrder=NEGATIVE_FIRST&page=913',\n",
       " 'https://www.flipkart.com/boult-audio-probass-curve-neckband-bluetooth-headset/product-reviews/itmf17df7d09c364?pid=ACCFEZ99MFMDR8CM&lid=LSTACCFEZ99MFMDR8CMAJFROP&aid=overall&certifiedBuyer=false&sortOrder=NEGATIVE_FIRST&page=914',\n",
       " 'https://www.flipkart.com/boult-audio-probass-curve-neckband-bluetooth-headset/product-reviews/itmf17df7d09c364?pid=ACCFEZ99MFMDR8CM&lid=LSTACCFEZ99MFMDR8CMAJFROP&aid=overall&certifiedBuyer=false&sortOrder=NEGATIVE_FIRST&page=915',\n",
       " 'https://www.flipkart.com/boult-audio-probass-curve-neckband-bluetooth-headset/product-reviews/itmf17df7d09c364?pid=ACCFEZ99MFMDR8CM&lid=LSTACCFEZ99MFMDR8CMAJFROP&aid=overall&certifiedBuyer=false&sortOrder=NEGATIVE_FIRST&page=916',\n",
       " 'https://www.flipkart.com/boult-audio-probass-curve-neckband-bluetooth-headset/product-reviews/itmf17df7d09c364?pid=ACCFEZ99MFMDR8CM&lid=LSTACCFEZ99MFMDR8CMAJFROP&aid=overall&certifiedBuyer=false&sortOrder=NEGATIVE_FIRST&page=917',\n",
       " 'https://www.flipkart.com/boult-audio-probass-curve-neckband-bluetooth-headset/product-reviews/itmf17df7d09c364?pid=ACCFEZ99MFMDR8CM&lid=LSTACCFEZ99MFMDR8CMAJFROP&aid=overall&certifiedBuyer=false&sortOrder=NEGATIVE_FIRST&page=918',\n",
       " 'https://www.flipkart.com/boult-audio-probass-curve-neckband-bluetooth-headset/product-reviews/itmf17df7d09c364?pid=ACCFEZ99MFMDR8CM&lid=LSTACCFEZ99MFMDR8CMAJFROP&aid=overall&certifiedBuyer=false&sortOrder=NEGATIVE_FIRST&page=919',\n",
       " 'https://www.flipkart.com/boult-audio-probass-curve-neckband-bluetooth-headset/product-reviews/itmf17df7d09c364?pid=ACCFEZ99MFMDR8CM&lid=LSTACCFEZ99MFMDR8CMAJFROP&aid=overall&certifiedBuyer=false&sortOrder=NEGATIVE_FIRST&page=920',\n",
       " 'https://www.flipkart.com/boult-audio-probass-curve-neckband-bluetooth-headset/product-reviews/itmf17df7d09c364?pid=ACCFEZ99MFMDR8CM&lid=LSTACCFEZ99MFMDR8CMAJFROP&aid=overall&certifiedBuyer=false&sortOrder=NEGATIVE_FIRST&page=921',\n",
       " 'https://www.flipkart.com/boult-audio-probass-curve-neckband-bluetooth-headset/product-reviews/itmf17df7d09c364?pid=ACCFEZ99MFMDR8CM&lid=LSTACCFEZ99MFMDR8CMAJFROP&aid=overall&certifiedBuyer=false&sortOrder=NEGATIVE_FIRST&page=922',\n",
       " 'https://www.flipkart.com/boult-audio-probass-curve-neckband-bluetooth-headset/product-reviews/itmf17df7d09c364?pid=ACCFEZ99MFMDR8CM&lid=LSTACCFEZ99MFMDR8CMAJFROP&aid=overall&certifiedBuyer=false&sortOrder=NEGATIVE_FIRST&page=923',\n",
       " 'https://www.flipkart.com/boult-audio-probass-curve-neckband-bluetooth-headset/product-reviews/itmf17df7d09c364?pid=ACCFEZ99MFMDR8CM&lid=LSTACCFEZ99MFMDR8CMAJFROP&aid=overall&certifiedBuyer=false&sortOrder=NEGATIVE_FIRST&page=924',\n",
       " 'https://www.flipkart.com/boult-audio-probass-curve-neckband-bluetooth-headset/product-reviews/itmf17df7d09c364?pid=ACCFEZ99MFMDR8CM&lid=LSTACCFEZ99MFMDR8CMAJFROP&aid=overall&certifiedBuyer=false&sortOrder=NEGATIVE_FIRST&page=925',\n",
       " 'https://www.flipkart.com/boult-audio-probass-curve-neckband-bluetooth-headset/product-reviews/itmf17df7d09c364?pid=ACCFEZ99MFMDR8CM&lid=LSTACCFEZ99MFMDR8CMAJFROP&aid=overall&certifiedBuyer=false&sortOrder=NEGATIVE_FIRST&page=926',\n",
       " 'https://www.flipkart.com/boult-audio-probass-curve-neckband-bluetooth-headset/product-reviews/itmf17df7d09c364?pid=ACCFEZ99MFMDR8CM&lid=LSTACCFEZ99MFMDR8CMAJFROP&aid=overall&certifiedBuyer=false&sortOrder=NEGATIVE_FIRST&page=927',\n",
       " 'https://www.flipkart.com/boult-audio-probass-curve-neckband-bluetooth-headset/product-reviews/itmf17df7d09c364?pid=ACCFEZ99MFMDR8CM&lid=LSTACCFEZ99MFMDR8CMAJFROP&aid=overall&certifiedBuyer=false&sortOrder=NEGATIVE_FIRST&page=928',\n",
       " 'https://www.flipkart.com/boult-audio-probass-curve-neckband-bluetooth-headset/product-reviews/itmf17df7d09c364?pid=ACCFEZ99MFMDR8CM&lid=LSTACCFEZ99MFMDR8CMAJFROP&aid=overall&certifiedBuyer=false&sortOrder=NEGATIVE_FIRST&page=928',\n",
       " 'https://www.flipkart.com/boult-audio-probass-curve-neckband-bluetooth-headset/product-reviews/itmf17df7d09c364?pid=ACCFEZ99MFMDR8CM&lid=LSTACCFEZ99MFMDR8CMAJFROP&aid=overall&certifiedBuyer=false&sortOrder=NEGATIVE_FIRST&page=929',\n",
       " 'https://www.flipkart.com/boult-audio-probass-curve-neckband-bluetooth-headset/product-reviews/itmf17df7d09c364?pid=ACCFEZ99MFMDR8CM&lid=LSTACCFEZ99MFMDR8CMAJFROP&aid=overall&certifiedBuyer=false&sortOrder=NEGATIVE_FIRST&page=930',\n",
       " 'https://www.flipkart.com/boult-audio-probass-curve-neckband-bluetooth-headset/product-reviews/itmf17df7d09c364?pid=ACCFEZ99MFMDR8CM&lid=LSTACCFEZ99MFMDR8CMAJFROP&aid=overall&certifiedBuyer=false&sortOrder=NEGATIVE_FIRST&page=931',\n",
       " 'https://www.flipkart.com/boult-audio-probass-curve-neckband-bluetooth-headset/product-reviews/itmf17df7d09c364?pid=ACCFEZ99MFMDR8CM&lid=LSTACCFEZ99MFMDR8CMAJFROP&aid=overall&certifiedBuyer=false&sortOrder=NEGATIVE_FIRST&page=932']"
      ]
     },
     "execution_count": 260,
     "metadata": {},
     "output_type": "execute_result"
    }
   ],
   "source": [
    "urls"
   ]
  },
  {
   "cell_type": "code",
   "execution_count": 261,
   "metadata": {},
   "outputs": [],
   "source": [
    "url = []\n",
    "for i in urls:\n",
    "    if i not in url:\n",
    "        url.append(i)"
   ]
  },
  {
   "cell_type": "code",
   "execution_count": 262,
   "metadata": {},
   "outputs": [
    {
     "data": {
      "text/plain": [
       "27"
      ]
     },
     "execution_count": 262,
     "metadata": {},
     "output_type": "execute_result"
    }
   ],
   "source": [
    "len(url)"
   ]
  },
  {
   "cell_type": "code",
   "execution_count": 263,
   "metadata": {},
   "outputs": [
    {
     "name": "stderr",
     "output_type": "stream",
     "text": [
      "100%|██████████████████████████████████████████████████████████████████████████████████| 27/27 [00:49<00:00,  1.82s/it]\n"
     ]
    }
   ],
   "source": [
    "rating=[]\n",
    "full_review=[]\n",
    "for i in tqdm(url):\n",
    "    \n",
    "    driver.get(i)\n",
    "    \n",
    "    rate= driver.find_elements_by_xpath('//div[@class=\"col _2wzgFH K0kLPL\"]/div[1]/div')\n",
    "    \n",
    "    for r in rate:\n",
    "        rating.append(r.text)\n",
    "        \n",
    "    review=driver.find_elements_by_xpath('//div[@class=\"t-ZTKy\"]')\n",
    "    for i in review:\n",
    "        full_review.append(i.text)"
   ]
  },
  {
   "cell_type": "code",
   "execution_count": 264,
   "metadata": {},
   "outputs": [
    {
     "data": {
      "text/plain": [
       "270"
      ]
     },
     "execution_count": 264,
     "metadata": {},
     "output_type": "execute_result"
    }
   ],
   "source": [
    "len(rating)"
   ]
  },
  {
   "cell_type": "code",
   "execution_count": 265,
   "metadata": {},
   "outputs": [
    {
     "data": {
      "text/html": [
       "<div>\n",
       "<style scoped>\n",
       "    .dataframe tbody tr th:only-of-type {\n",
       "        vertical-align: middle;\n",
       "    }\n",
       "\n",
       "    .dataframe tbody tr th {\n",
       "        vertical-align: top;\n",
       "    }\n",
       "\n",
       "    .dataframe thead th {\n",
       "        text-align: right;\n",
       "    }\n",
       "</style>\n",
       "<table border=\"1\" class=\"dataframe\">\n",
       "  <thead>\n",
       "    <tr style=\"text-align: right;\">\n",
       "      <th></th>\n",
       "      <th>rating</th>\n",
       "      <th>review</th>\n",
       "    </tr>\n",
       "  </thead>\n",
       "  <tbody>\n",
       "    <tr>\n",
       "      <th>0</th>\n",
       "      <td>4</td>\n",
       "      <td>It's really wonderful device. Bluetooth connec...</td>\n",
       "    </tr>\n",
       "    <tr>\n",
       "      <th>1</th>\n",
       "      <td>4</td>\n",
       "      <td>very nice products i like this probass curve n...</td>\n",
       "    </tr>\n",
       "    <tr>\n",
       "      <th>2</th>\n",
       "      <td>4</td>\n",
       "      <td>Best product ever ...... Best sound quality an...</td>\n",
       "    </tr>\n",
       "    <tr>\n",
       "      <th>3</th>\n",
       "      <td>4</td>\n",
       "      <td>Good deal under 1k\\nGot this one at Rs-830/- i...</td>\n",
       "    </tr>\n",
       "    <tr>\n",
       "      <th>4</th>\n",
       "      <td>4</td>\n",
       "      <td>Nice product, in this range.. good battery bac...</td>\n",
       "    </tr>\n",
       "    <tr>\n",
       "      <th>...</th>\n",
       "      <td>...</td>\n",
       "      <td>...</td>\n",
       "    </tr>\n",
       "    <tr>\n",
       "      <th>265</th>\n",
       "      <td>4</td>\n",
       "      <td>Average</td>\n",
       "    </tr>\n",
       "    <tr>\n",
       "      <th>266</th>\n",
       "      <td>4</td>\n",
       "      <td>Got in 899 ,Good</td>\n",
       "    </tr>\n",
       "    <tr>\n",
       "      <th>267</th>\n",
       "      <td>4</td>\n",
       "      <td>Bass quality is poor\\nSound is not good batter...</td>\n",
       "    </tr>\n",
       "    <tr>\n",
       "      <th>268</th>\n",
       "      <td>4</td>\n",
       "      <td>Something interesting</td>\n",
       "    </tr>\n",
       "    <tr>\n",
       "      <th>269</th>\n",
       "      <td>4</td>\n",
       "      <td>Amazing product....</td>\n",
       "    </tr>\n",
       "  </tbody>\n",
       "</table>\n",
       "<p>270 rows × 2 columns</p>\n",
       "</div>"
      ],
      "text/plain": [
       "    rating                                             review\n",
       "0        4  It's really wonderful device. Bluetooth connec...\n",
       "1        4  very nice products i like this probass curve n...\n",
       "2        4  Best product ever ...... Best sound quality an...\n",
       "3        4  Good deal under 1k\\nGot this one at Rs-830/- i...\n",
       "4        4  Nice product, in this range.. good battery bac...\n",
       "..     ...                                                ...\n",
       "265      4                                            Average\n",
       "266      4                                   Got in 899 ,Good\n",
       "267      4  Bass quality is poor\\nSound is not good batter...\n",
       "268      4                              Something interesting\n",
       "269      4                                Amazing product....\n",
       "\n",
       "[270 rows x 2 columns]"
      ]
     },
     "execution_count": 265,
     "metadata": {},
     "output_type": "execute_result"
    }
   ],
   "source": [
    "df4=pd.DataFrame({'rating':rating,'review':full_review})\n",
    "df4"
   ]
  },
  {
   "cell_type": "code",
   "execution_count": 272,
   "metadata": {},
   "outputs": [],
   "source": [
    "new_df=pd.concat([df_new,df4])"
   ]
  },
  {
   "cell_type": "code",
   "execution_count": 273,
   "metadata": {},
   "outputs": [
    {
     "data": {
      "text/plain": [
       "5.0 out of 5 stars    6263\n",
       "1.0 out of 5 stars    4649\n",
       "3                     2989\n",
       "4.0 out of 5 stars    2455\n",
       "2                     2211\n",
       "4                     1623\n",
       "3.0 out of 5 stars    1352\n",
       "2.0 out of 5 stars     813\n",
       "5                        1\n",
       "Name: rating, dtype: int64"
      ]
     },
     "execution_count": 273,
     "metadata": {},
     "output_type": "execute_result"
    }
   ],
   "source": [
    "new_df['rating'].value_counts()"
   ]
  },
  {
   "cell_type": "markdown",
   "metadata": {},
   "source": [
    "### data scraping of smarttv rating and reviews"
   ]
  },
  {
   "cell_type": "code",
   "execution_count": 278,
   "metadata": {},
   "outputs": [],
   "source": [
    "driver.get('https://www.flipkart.com/mi-4a-pro-80-cm-32-inch-hd-ready-led-smart-android-tv/product-reviews/itmfdwh5jyqhmvzg?pid=TVSG22C4DXQRVSTT&lid=LSTTVSG22C4DXQRVSTTJZD2M0&aid=overall&certifiedBuyer=false&sortOrder=NEGATIVE_FIRST&page=300')"
   ]
  },
  {
   "cell_type": "code",
   "execution_count": 279,
   "metadata": {},
   "outputs": [
    {
     "name": "stderr",
     "output_type": "stream",
     "text": [
      "100%|████████████████████████████████████████████████████████████████████████████████| 120/120 [04:43<00:00,  2.36s/it]\n"
     ]
    }
   ],
   "source": [
    "#scraping url from multiple pages\n",
    "urls=[] \n",
    "for j in tqdm(range(0,120)):\n",
    "    time.sleep(2)\n",
    "    try:\n",
    "        for i in driver.find_elements_by_xpath(\"//a[@class='ge-49M _2Kfbh8']\"):\n",
    "            urls.append(i.get_attribute('href'))\n",
    "    except NoSuchElementException:\n",
    "        pass\n",
    "    \n",
    "    #clicking on next button\n",
    "    try:\n",
    "        driver.find_element_by_xpath(\"//a[@class='_1LKTO3'][2]\").click()\n",
    "    except:\n",
    "        driver.find_element_by_xpath(\"//a[@class='_1LKTO3']\").click()\n"
   ]
  },
  {
   "cell_type": "code",
   "execution_count": 280,
   "metadata": {},
   "outputs": [
    {
     "data": {
      "text/plain": [
       "['https://www.flipkart.com/mi-4a-pro-80-cm-32-inch-hd-ready-led-smart-android-tv/product-reviews/itmfdwh5jyqhmvzg?pid=TVSG22C4DXQRVSTT&lid=LSTTVSG22C4DXQRVSTTJZD2M0&aid=overall&certifiedBuyer=false&sortOrder=NEGATIVE_FIRST&page=300',\n",
       " 'https://www.flipkart.com/mi-4a-pro-80-cm-32-inch-hd-ready-led-smart-android-tv/product-reviews/itmfdwh5jyqhmvzg?pid=TVSG22C4DXQRVSTT&lid=LSTTVSG22C4DXQRVSTTJZD2M0&aid=overall&certifiedBuyer=false&sortOrder=NEGATIVE_FIRST&page=300',\n",
       " 'https://www.flipkart.com/mi-4a-pro-80-cm-32-inch-hd-ready-led-smart-android-tv/product-reviews/itmfdwh5jyqhmvzg?pid=TVSG22C4DXQRVSTT&lid=LSTTVSG22C4DXQRVSTTJZD2M0&aid=overall&certifiedBuyer=false&sortOrder=NEGATIVE_FIRST&page=301',\n",
       " 'https://www.flipkart.com/mi-4a-pro-80-cm-32-inch-hd-ready-led-smart-android-tv/product-reviews/itmfdwh5jyqhmvzg?pid=TVSG22C4DXQRVSTT&lid=LSTTVSG22C4DXQRVSTTJZD2M0&aid=overall&certifiedBuyer=false&sortOrder=NEGATIVE_FIRST&page=302',\n",
       " 'https://www.flipkart.com/mi-4a-pro-80-cm-32-inch-hd-ready-led-smart-android-tv/product-reviews/itmfdwh5jyqhmvzg?pid=TVSG22C4DXQRVSTT&lid=LSTTVSG22C4DXQRVSTTJZD2M0&aid=overall&certifiedBuyer=false&sortOrder=NEGATIVE_FIRST&page=303',\n",
       " 'https://www.flipkart.com/mi-4a-pro-80-cm-32-inch-hd-ready-led-smart-android-tv/product-reviews/itmfdwh5jyqhmvzg?pid=TVSG22C4DXQRVSTT&lid=LSTTVSG22C4DXQRVSTTJZD2M0&aid=overall&certifiedBuyer=false&sortOrder=NEGATIVE_FIRST&page=304',\n",
       " 'https://www.flipkart.com/mi-4a-pro-80-cm-32-inch-hd-ready-led-smart-android-tv/product-reviews/itmfdwh5jyqhmvzg?pid=TVSG22C4DXQRVSTT&lid=LSTTVSG22C4DXQRVSTTJZD2M0&aid=overall&certifiedBuyer=false&sortOrder=NEGATIVE_FIRST&page=305',\n",
       " 'https://www.flipkart.com/mi-4a-pro-80-cm-32-inch-hd-ready-led-smart-android-tv/product-reviews/itmfdwh5jyqhmvzg?pid=TVSG22C4DXQRVSTT&lid=LSTTVSG22C4DXQRVSTTJZD2M0&aid=overall&certifiedBuyer=false&sortOrder=NEGATIVE_FIRST&page=306',\n",
       " 'https://www.flipkart.com/mi-4a-pro-80-cm-32-inch-hd-ready-led-smart-android-tv/product-reviews/itmfdwh5jyqhmvzg?pid=TVSG22C4DXQRVSTT&lid=LSTTVSG22C4DXQRVSTTJZD2M0&aid=overall&certifiedBuyer=false&sortOrder=NEGATIVE_FIRST&page=307',\n",
       " 'https://www.flipkart.com/mi-4a-pro-80-cm-32-inch-hd-ready-led-smart-android-tv/product-reviews/itmfdwh5jyqhmvzg?pid=TVSG22C4DXQRVSTT&lid=LSTTVSG22C4DXQRVSTTJZD2M0&aid=overall&certifiedBuyer=false&sortOrder=NEGATIVE_FIRST&page=308',\n",
       " 'https://www.flipkart.com/mi-4a-pro-80-cm-32-inch-hd-ready-led-smart-android-tv/product-reviews/itmfdwh5jyqhmvzg?pid=TVSG22C4DXQRVSTT&lid=LSTTVSG22C4DXQRVSTTJZD2M0&aid=overall&certifiedBuyer=false&sortOrder=NEGATIVE_FIRST&page=309',\n",
       " 'https://www.flipkart.com/mi-4a-pro-80-cm-32-inch-hd-ready-led-smart-android-tv/product-reviews/itmfdwh5jyqhmvzg?pid=TVSG22C4DXQRVSTT&lid=LSTTVSG22C4DXQRVSTTJZD2M0&aid=overall&certifiedBuyer=false&sortOrder=NEGATIVE_FIRST&page=310',\n",
       " 'https://www.flipkart.com/mi-4a-pro-80-cm-32-inch-hd-ready-led-smart-android-tv/product-reviews/itmfdwh5jyqhmvzg?pid=TVSG22C4DXQRVSTT&lid=LSTTVSG22C4DXQRVSTTJZD2M0&aid=overall&certifiedBuyer=false&sortOrder=NEGATIVE_FIRST&page=311',\n",
       " 'https://www.flipkart.com/mi-4a-pro-80-cm-32-inch-hd-ready-led-smart-android-tv/product-reviews/itmfdwh5jyqhmvzg?pid=TVSG22C4DXQRVSTT&lid=LSTTVSG22C4DXQRVSTTJZD2M0&aid=overall&certifiedBuyer=false&sortOrder=NEGATIVE_FIRST&page=312',\n",
       " 'https://www.flipkart.com/mi-4a-pro-80-cm-32-inch-hd-ready-led-smart-android-tv/product-reviews/itmfdwh5jyqhmvzg?pid=TVSG22C4DXQRVSTT&lid=LSTTVSG22C4DXQRVSTTJZD2M0&aid=overall&certifiedBuyer=false&sortOrder=NEGATIVE_FIRST&page=313',\n",
       " 'https://www.flipkart.com/mi-4a-pro-80-cm-32-inch-hd-ready-led-smart-android-tv/product-reviews/itmfdwh5jyqhmvzg?pid=TVSG22C4DXQRVSTT&lid=LSTTVSG22C4DXQRVSTTJZD2M0&aid=overall&certifiedBuyer=false&sortOrder=NEGATIVE_FIRST&page=314',\n",
       " 'https://www.flipkart.com/mi-4a-pro-80-cm-32-inch-hd-ready-led-smart-android-tv/product-reviews/itmfdwh5jyqhmvzg?pid=TVSG22C4DXQRVSTT&lid=LSTTVSG22C4DXQRVSTTJZD2M0&aid=overall&certifiedBuyer=false&sortOrder=NEGATIVE_FIRST&page=315',\n",
       " 'https://www.flipkart.com/mi-4a-pro-80-cm-32-inch-hd-ready-led-smart-android-tv/product-reviews/itmfdwh5jyqhmvzg?pid=TVSG22C4DXQRVSTT&lid=LSTTVSG22C4DXQRVSTTJZD2M0&aid=overall&certifiedBuyer=false&sortOrder=NEGATIVE_FIRST&page=316',\n",
       " 'https://www.flipkart.com/mi-4a-pro-80-cm-32-inch-hd-ready-led-smart-android-tv/product-reviews/itmfdwh5jyqhmvzg?pid=TVSG22C4DXQRVSTT&lid=LSTTVSG22C4DXQRVSTTJZD2M0&aid=overall&certifiedBuyer=false&sortOrder=NEGATIVE_FIRST&page=317',\n",
       " 'https://www.flipkart.com/mi-4a-pro-80-cm-32-inch-hd-ready-led-smart-android-tv/product-reviews/itmfdwh5jyqhmvzg?pid=TVSG22C4DXQRVSTT&lid=LSTTVSG22C4DXQRVSTTJZD2M0&aid=overall&certifiedBuyer=false&sortOrder=NEGATIVE_FIRST&page=318',\n",
       " 'https://www.flipkart.com/mi-4a-pro-80-cm-32-inch-hd-ready-led-smart-android-tv/product-reviews/itmfdwh5jyqhmvzg?pid=TVSG22C4DXQRVSTT&lid=LSTTVSG22C4DXQRVSTTJZD2M0&aid=overall&certifiedBuyer=false&sortOrder=NEGATIVE_FIRST&page=319',\n",
       " 'https://www.flipkart.com/mi-4a-pro-80-cm-32-inch-hd-ready-led-smart-android-tv/product-reviews/itmfdwh5jyqhmvzg?pid=TVSG22C4DXQRVSTT&lid=LSTTVSG22C4DXQRVSTTJZD2M0&aid=overall&certifiedBuyer=false&sortOrder=NEGATIVE_FIRST&page=320',\n",
       " 'https://www.flipkart.com/mi-4a-pro-80-cm-32-inch-hd-ready-led-smart-android-tv/product-reviews/itmfdwh5jyqhmvzg?pid=TVSG22C4DXQRVSTT&lid=LSTTVSG22C4DXQRVSTTJZD2M0&aid=overall&certifiedBuyer=false&sortOrder=NEGATIVE_FIRST&page=321',\n",
       " 'https://www.flipkart.com/mi-4a-pro-80-cm-32-inch-hd-ready-led-smart-android-tv/product-reviews/itmfdwh5jyqhmvzg?pid=TVSG22C4DXQRVSTT&lid=LSTTVSG22C4DXQRVSTTJZD2M0&aid=overall&certifiedBuyer=false&sortOrder=NEGATIVE_FIRST&page=322',\n",
       " 'https://www.flipkart.com/mi-4a-pro-80-cm-32-inch-hd-ready-led-smart-android-tv/product-reviews/itmfdwh5jyqhmvzg?pid=TVSG22C4DXQRVSTT&lid=LSTTVSG22C4DXQRVSTTJZD2M0&aid=overall&certifiedBuyer=false&sortOrder=NEGATIVE_FIRST&page=323',\n",
       " 'https://www.flipkart.com/mi-4a-pro-80-cm-32-inch-hd-ready-led-smart-android-tv/product-reviews/itmfdwh5jyqhmvzg?pid=TVSG22C4DXQRVSTT&lid=LSTTVSG22C4DXQRVSTTJZD2M0&aid=overall&certifiedBuyer=false&sortOrder=NEGATIVE_FIRST&page=324',\n",
       " 'https://www.flipkart.com/mi-4a-pro-80-cm-32-inch-hd-ready-led-smart-android-tv/product-reviews/itmfdwh5jyqhmvzg?pid=TVSG22C4DXQRVSTT&lid=LSTTVSG22C4DXQRVSTTJZD2M0&aid=overall&certifiedBuyer=false&sortOrder=NEGATIVE_FIRST&page=325',\n",
       " 'https://www.flipkart.com/mi-4a-pro-80-cm-32-inch-hd-ready-led-smart-android-tv/product-reviews/itmfdwh5jyqhmvzg?pid=TVSG22C4DXQRVSTT&lid=LSTTVSG22C4DXQRVSTTJZD2M0&aid=overall&certifiedBuyer=false&sortOrder=NEGATIVE_FIRST&page=326',\n",
       " 'https://www.flipkart.com/mi-4a-pro-80-cm-32-inch-hd-ready-led-smart-android-tv/product-reviews/itmfdwh5jyqhmvzg?pid=TVSG22C4DXQRVSTT&lid=LSTTVSG22C4DXQRVSTTJZD2M0&aid=overall&certifiedBuyer=false&sortOrder=NEGATIVE_FIRST&page=327',\n",
       " 'https://www.flipkart.com/mi-4a-pro-80-cm-32-inch-hd-ready-led-smart-android-tv/product-reviews/itmfdwh5jyqhmvzg?pid=TVSG22C4DXQRVSTT&lid=LSTTVSG22C4DXQRVSTTJZD2M0&aid=overall&certifiedBuyer=false&sortOrder=NEGATIVE_FIRST&page=328',\n",
       " 'https://www.flipkart.com/mi-4a-pro-80-cm-32-inch-hd-ready-led-smart-android-tv/product-reviews/itmfdwh5jyqhmvzg?pid=TVSG22C4DXQRVSTT&lid=LSTTVSG22C4DXQRVSTTJZD2M0&aid=overall&certifiedBuyer=false&sortOrder=NEGATIVE_FIRST&page=329',\n",
       " 'https://www.flipkart.com/mi-4a-pro-80-cm-32-inch-hd-ready-led-smart-android-tv/product-reviews/itmfdwh5jyqhmvzg?pid=TVSG22C4DXQRVSTT&lid=LSTTVSG22C4DXQRVSTTJZD2M0&aid=overall&certifiedBuyer=false&sortOrder=NEGATIVE_FIRST&page=330',\n",
       " 'https://www.flipkart.com/mi-4a-pro-80-cm-32-inch-hd-ready-led-smart-android-tv/product-reviews/itmfdwh5jyqhmvzg?pid=TVSG22C4DXQRVSTT&lid=LSTTVSG22C4DXQRVSTTJZD2M0&aid=overall&certifiedBuyer=false&sortOrder=NEGATIVE_FIRST&page=331',\n",
       " 'https://www.flipkart.com/mi-4a-pro-80-cm-32-inch-hd-ready-led-smart-android-tv/product-reviews/itmfdwh5jyqhmvzg?pid=TVSG22C4DXQRVSTT&lid=LSTTVSG22C4DXQRVSTTJZD2M0&aid=overall&certifiedBuyer=false&sortOrder=NEGATIVE_FIRST&page=332',\n",
       " 'https://www.flipkart.com/mi-4a-pro-80-cm-32-inch-hd-ready-led-smart-android-tv/product-reviews/itmfdwh5jyqhmvzg?pid=TVSG22C4DXQRVSTT&lid=LSTTVSG22C4DXQRVSTTJZD2M0&aid=overall&certifiedBuyer=false&sortOrder=NEGATIVE_FIRST&page=333',\n",
       " 'https://www.flipkart.com/mi-4a-pro-80-cm-32-inch-hd-ready-led-smart-android-tv/product-reviews/itmfdwh5jyqhmvzg?pid=TVSG22C4DXQRVSTT&lid=LSTTVSG22C4DXQRVSTTJZD2M0&aid=overall&certifiedBuyer=false&sortOrder=NEGATIVE_FIRST&page=334',\n",
       " 'https://www.flipkart.com/mi-4a-pro-80-cm-32-inch-hd-ready-led-smart-android-tv/product-reviews/itmfdwh5jyqhmvzg?pid=TVSG22C4DXQRVSTT&lid=LSTTVSG22C4DXQRVSTTJZD2M0&aid=overall&certifiedBuyer=false&sortOrder=NEGATIVE_FIRST&page=335',\n",
       " 'https://www.flipkart.com/mi-4a-pro-80-cm-32-inch-hd-ready-led-smart-android-tv/product-reviews/itmfdwh5jyqhmvzg?pid=TVSG22C4DXQRVSTT&lid=LSTTVSG22C4DXQRVSTTJZD2M0&aid=overall&certifiedBuyer=false&sortOrder=NEGATIVE_FIRST&page=336',\n",
       " 'https://www.flipkart.com/mi-4a-pro-80-cm-32-inch-hd-ready-led-smart-android-tv/product-reviews/itmfdwh5jyqhmvzg?pid=TVSG22C4DXQRVSTT&lid=LSTTVSG22C4DXQRVSTTJZD2M0&aid=overall&certifiedBuyer=false&sortOrder=NEGATIVE_FIRST&page=337',\n",
       " 'https://www.flipkart.com/mi-4a-pro-80-cm-32-inch-hd-ready-led-smart-android-tv/product-reviews/itmfdwh5jyqhmvzg?pid=TVSG22C4DXQRVSTT&lid=LSTTVSG22C4DXQRVSTTJZD2M0&aid=overall&certifiedBuyer=false&sortOrder=NEGATIVE_FIRST&page=338',\n",
       " 'https://www.flipkart.com/mi-4a-pro-80-cm-32-inch-hd-ready-led-smart-android-tv/product-reviews/itmfdwh5jyqhmvzg?pid=TVSG22C4DXQRVSTT&lid=LSTTVSG22C4DXQRVSTTJZD2M0&aid=overall&certifiedBuyer=false&sortOrder=NEGATIVE_FIRST&page=339',\n",
       " 'https://www.flipkart.com/mi-4a-pro-80-cm-32-inch-hd-ready-led-smart-android-tv/product-reviews/itmfdwh5jyqhmvzg?pid=TVSG22C4DXQRVSTT&lid=LSTTVSG22C4DXQRVSTTJZD2M0&aid=overall&certifiedBuyer=false&sortOrder=NEGATIVE_FIRST&page=340',\n",
       " 'https://www.flipkart.com/mi-4a-pro-80-cm-32-inch-hd-ready-led-smart-android-tv/product-reviews/itmfdwh5jyqhmvzg?pid=TVSG22C4DXQRVSTT&lid=LSTTVSG22C4DXQRVSTTJZD2M0&aid=overall&certifiedBuyer=false&sortOrder=NEGATIVE_FIRST&page=341',\n",
       " 'https://www.flipkart.com/mi-4a-pro-80-cm-32-inch-hd-ready-led-smart-android-tv/product-reviews/itmfdwh5jyqhmvzg?pid=TVSG22C4DXQRVSTT&lid=LSTTVSG22C4DXQRVSTTJZD2M0&aid=overall&certifiedBuyer=false&sortOrder=NEGATIVE_FIRST&page=342',\n",
       " 'https://www.flipkart.com/mi-4a-pro-80-cm-32-inch-hd-ready-led-smart-android-tv/product-reviews/itmfdwh5jyqhmvzg?pid=TVSG22C4DXQRVSTT&lid=LSTTVSG22C4DXQRVSTTJZD2M0&aid=overall&certifiedBuyer=false&sortOrder=NEGATIVE_FIRST&page=343',\n",
       " 'https://www.flipkart.com/mi-4a-pro-80-cm-32-inch-hd-ready-led-smart-android-tv/product-reviews/itmfdwh5jyqhmvzg?pid=TVSG22C4DXQRVSTT&lid=LSTTVSG22C4DXQRVSTTJZD2M0&aid=overall&certifiedBuyer=false&sortOrder=NEGATIVE_FIRST&page=344',\n",
       " 'https://www.flipkart.com/mi-4a-pro-80-cm-32-inch-hd-ready-led-smart-android-tv/product-reviews/itmfdwh5jyqhmvzg?pid=TVSG22C4DXQRVSTT&lid=LSTTVSG22C4DXQRVSTTJZD2M0&aid=overall&certifiedBuyer=false&sortOrder=NEGATIVE_FIRST&page=345',\n",
       " 'https://www.flipkart.com/mi-4a-pro-80-cm-32-inch-hd-ready-led-smart-android-tv/product-reviews/itmfdwh5jyqhmvzg?pid=TVSG22C4DXQRVSTT&lid=LSTTVSG22C4DXQRVSTTJZD2M0&aid=overall&certifiedBuyer=false&sortOrder=NEGATIVE_FIRST&page=346',\n",
       " 'https://www.flipkart.com/mi-4a-pro-80-cm-32-inch-hd-ready-led-smart-android-tv/product-reviews/itmfdwh5jyqhmvzg?pid=TVSG22C4DXQRVSTT&lid=LSTTVSG22C4DXQRVSTTJZD2M0&aid=overall&certifiedBuyer=false&sortOrder=NEGATIVE_FIRST&page=347',\n",
       " 'https://www.flipkart.com/mi-4a-pro-80-cm-32-inch-hd-ready-led-smart-android-tv/product-reviews/itmfdwh5jyqhmvzg?pid=TVSG22C4DXQRVSTT&lid=LSTTVSG22C4DXQRVSTTJZD2M0&aid=overall&certifiedBuyer=false&sortOrder=NEGATIVE_FIRST&page=348',\n",
       " 'https://www.flipkart.com/mi-4a-pro-80-cm-32-inch-hd-ready-led-smart-android-tv/product-reviews/itmfdwh5jyqhmvzg?pid=TVSG22C4DXQRVSTT&lid=LSTTVSG22C4DXQRVSTTJZD2M0&aid=overall&certifiedBuyer=false&sortOrder=NEGATIVE_FIRST&page=349',\n",
       " 'https://www.flipkart.com/mi-4a-pro-80-cm-32-inch-hd-ready-led-smart-android-tv/product-reviews/itmfdwh5jyqhmvzg?pid=TVSG22C4DXQRVSTT&lid=LSTTVSG22C4DXQRVSTTJZD2M0&aid=overall&certifiedBuyer=false&sortOrder=NEGATIVE_FIRST&page=350',\n",
       " 'https://www.flipkart.com/mi-4a-pro-80-cm-32-inch-hd-ready-led-smart-android-tv/product-reviews/itmfdwh5jyqhmvzg?pid=TVSG22C4DXQRVSTT&lid=LSTTVSG22C4DXQRVSTTJZD2M0&aid=overall&certifiedBuyer=false&sortOrder=NEGATIVE_FIRST&page=351',\n",
       " 'https://www.flipkart.com/mi-4a-pro-80-cm-32-inch-hd-ready-led-smart-android-tv/product-reviews/itmfdwh5jyqhmvzg?pid=TVSG22C4DXQRVSTT&lid=LSTTVSG22C4DXQRVSTTJZD2M0&aid=overall&certifiedBuyer=false&sortOrder=NEGATIVE_FIRST&page=352',\n",
       " 'https://www.flipkart.com/mi-4a-pro-80-cm-32-inch-hd-ready-led-smart-android-tv/product-reviews/itmfdwh5jyqhmvzg?pid=TVSG22C4DXQRVSTT&lid=LSTTVSG22C4DXQRVSTTJZD2M0&aid=overall&certifiedBuyer=false&sortOrder=NEGATIVE_FIRST&page=352',\n",
       " 'https://www.flipkart.com/mi-4a-pro-80-cm-32-inch-hd-ready-led-smart-android-tv/product-reviews/itmfdwh5jyqhmvzg?pid=TVSG22C4DXQRVSTT&lid=LSTTVSG22C4DXQRVSTTJZD2M0&aid=overall&certifiedBuyer=false&sortOrder=NEGATIVE_FIRST&page=353',\n",
       " 'https://www.flipkart.com/mi-4a-pro-80-cm-32-inch-hd-ready-led-smart-android-tv/product-reviews/itmfdwh5jyqhmvzg?pid=TVSG22C4DXQRVSTT&lid=LSTTVSG22C4DXQRVSTTJZD2M0&aid=overall&certifiedBuyer=false&sortOrder=NEGATIVE_FIRST&page=354',\n",
       " 'https://www.flipkart.com/mi-4a-pro-80-cm-32-inch-hd-ready-led-smart-android-tv/product-reviews/itmfdwh5jyqhmvzg?pid=TVSG22C4DXQRVSTT&lid=LSTTVSG22C4DXQRVSTTJZD2M0&aid=overall&certifiedBuyer=false&sortOrder=NEGATIVE_FIRST&page=355',\n",
       " 'https://www.flipkart.com/mi-4a-pro-80-cm-32-inch-hd-ready-led-smart-android-tv/product-reviews/itmfdwh5jyqhmvzg?pid=TVSG22C4DXQRVSTT&lid=LSTTVSG22C4DXQRVSTTJZD2M0&aid=overall&certifiedBuyer=false&sortOrder=NEGATIVE_FIRST&page=356',\n",
       " 'https://www.flipkart.com/mi-4a-pro-80-cm-32-inch-hd-ready-led-smart-android-tv/product-reviews/itmfdwh5jyqhmvzg?pid=TVSG22C4DXQRVSTT&lid=LSTTVSG22C4DXQRVSTTJZD2M0&aid=overall&certifiedBuyer=false&sortOrder=NEGATIVE_FIRST&page=357',\n",
       " 'https://www.flipkart.com/mi-4a-pro-80-cm-32-inch-hd-ready-led-smart-android-tv/product-reviews/itmfdwh5jyqhmvzg?pid=TVSG22C4DXQRVSTT&lid=LSTTVSG22C4DXQRVSTTJZD2M0&aid=overall&certifiedBuyer=false&sortOrder=NEGATIVE_FIRST&page=358',\n",
       " 'https://www.flipkart.com/mi-4a-pro-80-cm-32-inch-hd-ready-led-smart-android-tv/product-reviews/itmfdwh5jyqhmvzg?pid=TVSG22C4DXQRVSTT&lid=LSTTVSG22C4DXQRVSTTJZD2M0&aid=overall&certifiedBuyer=false&sortOrder=NEGATIVE_FIRST&page=359',\n",
       " 'https://www.flipkart.com/mi-4a-pro-80-cm-32-inch-hd-ready-led-smart-android-tv/product-reviews/itmfdwh5jyqhmvzg?pid=TVSG22C4DXQRVSTT&lid=LSTTVSG22C4DXQRVSTTJZD2M0&aid=overall&certifiedBuyer=false&sortOrder=NEGATIVE_FIRST&page=360',\n",
       " 'https://www.flipkart.com/mi-4a-pro-80-cm-32-inch-hd-ready-led-smart-android-tv/product-reviews/itmfdwh5jyqhmvzg?pid=TVSG22C4DXQRVSTT&lid=LSTTVSG22C4DXQRVSTTJZD2M0&aid=overall&certifiedBuyer=false&sortOrder=NEGATIVE_FIRST&page=361',\n",
       " 'https://www.flipkart.com/mi-4a-pro-80-cm-32-inch-hd-ready-led-smart-android-tv/product-reviews/itmfdwh5jyqhmvzg?pid=TVSG22C4DXQRVSTT&lid=LSTTVSG22C4DXQRVSTTJZD2M0&aid=overall&certifiedBuyer=false&sortOrder=NEGATIVE_FIRST&page=362',\n",
       " 'https://www.flipkart.com/mi-4a-pro-80-cm-32-inch-hd-ready-led-smart-android-tv/product-reviews/itmfdwh5jyqhmvzg?pid=TVSG22C4DXQRVSTT&lid=LSTTVSG22C4DXQRVSTTJZD2M0&aid=overall&certifiedBuyer=false&sortOrder=NEGATIVE_FIRST&page=363',\n",
       " 'https://www.flipkart.com/mi-4a-pro-80-cm-32-inch-hd-ready-led-smart-android-tv/product-reviews/itmfdwh5jyqhmvzg?pid=TVSG22C4DXQRVSTT&lid=LSTTVSG22C4DXQRVSTTJZD2M0&aid=overall&certifiedBuyer=false&sortOrder=NEGATIVE_FIRST&page=364',\n",
       " 'https://www.flipkart.com/mi-4a-pro-80-cm-32-inch-hd-ready-led-smart-android-tv/product-reviews/itmfdwh5jyqhmvzg?pid=TVSG22C4DXQRVSTT&lid=LSTTVSG22C4DXQRVSTTJZD2M0&aid=overall&certifiedBuyer=false&sortOrder=NEGATIVE_FIRST&page=365',\n",
       " 'https://www.flipkart.com/mi-4a-pro-80-cm-32-inch-hd-ready-led-smart-android-tv/product-reviews/itmfdwh5jyqhmvzg?pid=TVSG22C4DXQRVSTT&lid=LSTTVSG22C4DXQRVSTTJZD2M0&aid=overall&certifiedBuyer=false&sortOrder=NEGATIVE_FIRST&page=366',\n",
       " 'https://www.flipkart.com/mi-4a-pro-80-cm-32-inch-hd-ready-led-smart-android-tv/product-reviews/itmfdwh5jyqhmvzg?pid=TVSG22C4DXQRVSTT&lid=LSTTVSG22C4DXQRVSTTJZD2M0&aid=overall&certifiedBuyer=false&sortOrder=NEGATIVE_FIRST&page=367',\n",
       " 'https://www.flipkart.com/mi-4a-pro-80-cm-32-inch-hd-ready-led-smart-android-tv/product-reviews/itmfdwh5jyqhmvzg?pid=TVSG22C4DXQRVSTT&lid=LSTTVSG22C4DXQRVSTTJZD2M0&aid=overall&certifiedBuyer=false&sortOrder=NEGATIVE_FIRST&page=368',\n",
       " 'https://www.flipkart.com/mi-4a-pro-80-cm-32-inch-hd-ready-led-smart-android-tv/product-reviews/itmfdwh5jyqhmvzg?pid=TVSG22C4DXQRVSTT&lid=LSTTVSG22C4DXQRVSTTJZD2M0&aid=overall&certifiedBuyer=false&sortOrder=NEGATIVE_FIRST&page=369',\n",
       " 'https://www.flipkart.com/mi-4a-pro-80-cm-32-inch-hd-ready-led-smart-android-tv/product-reviews/itmfdwh5jyqhmvzg?pid=TVSG22C4DXQRVSTT&lid=LSTTVSG22C4DXQRVSTTJZD2M0&aid=overall&certifiedBuyer=false&sortOrder=NEGATIVE_FIRST&page=370',\n",
       " 'https://www.flipkart.com/mi-4a-pro-80-cm-32-inch-hd-ready-led-smart-android-tv/product-reviews/itmfdwh5jyqhmvzg?pid=TVSG22C4DXQRVSTT&lid=LSTTVSG22C4DXQRVSTTJZD2M0&aid=overall&certifiedBuyer=false&sortOrder=NEGATIVE_FIRST&page=371',\n",
       " 'https://www.flipkart.com/mi-4a-pro-80-cm-32-inch-hd-ready-led-smart-android-tv/product-reviews/itmfdwh5jyqhmvzg?pid=TVSG22C4DXQRVSTT&lid=LSTTVSG22C4DXQRVSTTJZD2M0&aid=overall&certifiedBuyer=false&sortOrder=NEGATIVE_FIRST&page=372',\n",
       " 'https://www.flipkart.com/mi-4a-pro-80-cm-32-inch-hd-ready-led-smart-android-tv/product-reviews/itmfdwh5jyqhmvzg?pid=TVSG22C4DXQRVSTT&lid=LSTTVSG22C4DXQRVSTTJZD2M0&aid=overall&certifiedBuyer=false&sortOrder=NEGATIVE_FIRST&page=373',\n",
       " 'https://www.flipkart.com/mi-4a-pro-80-cm-32-inch-hd-ready-led-smart-android-tv/product-reviews/itmfdwh5jyqhmvzg?pid=TVSG22C4DXQRVSTT&lid=LSTTVSG22C4DXQRVSTTJZD2M0&aid=overall&certifiedBuyer=false&sortOrder=NEGATIVE_FIRST&page=374',\n",
       " 'https://www.flipkart.com/mi-4a-pro-80-cm-32-inch-hd-ready-led-smart-android-tv/product-reviews/itmfdwh5jyqhmvzg?pid=TVSG22C4DXQRVSTT&lid=LSTTVSG22C4DXQRVSTTJZD2M0&aid=overall&certifiedBuyer=false&sortOrder=NEGATIVE_FIRST&page=375',\n",
       " 'https://www.flipkart.com/mi-4a-pro-80-cm-32-inch-hd-ready-led-smart-android-tv/product-reviews/itmfdwh5jyqhmvzg?pid=TVSG22C4DXQRVSTT&lid=LSTTVSG22C4DXQRVSTTJZD2M0&aid=overall&certifiedBuyer=false&sortOrder=NEGATIVE_FIRST&page=376',\n",
       " 'https://www.flipkart.com/mi-4a-pro-80-cm-32-inch-hd-ready-led-smart-android-tv/product-reviews/itmfdwh5jyqhmvzg?pid=TVSG22C4DXQRVSTT&lid=LSTTVSG22C4DXQRVSTTJZD2M0&aid=overall&certifiedBuyer=false&sortOrder=NEGATIVE_FIRST&page=377',\n",
       " 'https://www.flipkart.com/mi-4a-pro-80-cm-32-inch-hd-ready-led-smart-android-tv/product-reviews/itmfdwh5jyqhmvzg?pid=TVSG22C4DXQRVSTT&lid=LSTTVSG22C4DXQRVSTTJZD2M0&aid=overall&certifiedBuyer=false&sortOrder=NEGATIVE_FIRST&page=378',\n",
       " 'https://www.flipkart.com/mi-4a-pro-80-cm-32-inch-hd-ready-led-smart-android-tv/product-reviews/itmfdwh5jyqhmvzg?pid=TVSG22C4DXQRVSTT&lid=LSTTVSG22C4DXQRVSTTJZD2M0&aid=overall&certifiedBuyer=false&sortOrder=NEGATIVE_FIRST&page=379',\n",
       " 'https://www.flipkart.com/mi-4a-pro-80-cm-32-inch-hd-ready-led-smart-android-tv/product-reviews/itmfdwh5jyqhmvzg?pid=TVSG22C4DXQRVSTT&lid=LSTTVSG22C4DXQRVSTTJZD2M0&aid=overall&certifiedBuyer=false&sortOrder=NEGATIVE_FIRST&page=380',\n",
       " 'https://www.flipkart.com/mi-4a-pro-80-cm-32-inch-hd-ready-led-smart-android-tv/product-reviews/itmfdwh5jyqhmvzg?pid=TVSG22C4DXQRVSTT&lid=LSTTVSG22C4DXQRVSTTJZD2M0&aid=overall&certifiedBuyer=false&sortOrder=NEGATIVE_FIRST&page=381',\n",
       " 'https://www.flipkart.com/mi-4a-pro-80-cm-32-inch-hd-ready-led-smart-android-tv/product-reviews/itmfdwh5jyqhmvzg?pid=TVSG22C4DXQRVSTT&lid=LSTTVSG22C4DXQRVSTTJZD2M0&aid=overall&certifiedBuyer=false&sortOrder=NEGATIVE_FIRST&page=382',\n",
       " 'https://www.flipkart.com/mi-4a-pro-80-cm-32-inch-hd-ready-led-smart-android-tv/product-reviews/itmfdwh5jyqhmvzg?pid=TVSG22C4DXQRVSTT&lid=LSTTVSG22C4DXQRVSTTJZD2M0&aid=overall&certifiedBuyer=false&sortOrder=NEGATIVE_FIRST&page=383',\n",
       " 'https://www.flipkart.com/mi-4a-pro-80-cm-32-inch-hd-ready-led-smart-android-tv/product-reviews/itmfdwh5jyqhmvzg?pid=TVSG22C4DXQRVSTT&lid=LSTTVSG22C4DXQRVSTTJZD2M0&aid=overall&certifiedBuyer=false&sortOrder=NEGATIVE_FIRST&page=384',\n",
       " 'https://www.flipkart.com/mi-4a-pro-80-cm-32-inch-hd-ready-led-smart-android-tv/product-reviews/itmfdwh5jyqhmvzg?pid=TVSG22C4DXQRVSTT&lid=LSTTVSG22C4DXQRVSTTJZD2M0&aid=overall&certifiedBuyer=false&sortOrder=NEGATIVE_FIRST&page=385',\n",
       " 'https://www.flipkart.com/mi-4a-pro-80-cm-32-inch-hd-ready-led-smart-android-tv/product-reviews/itmfdwh5jyqhmvzg?pid=TVSG22C4DXQRVSTT&lid=LSTTVSG22C4DXQRVSTTJZD2M0&aid=overall&certifiedBuyer=false&sortOrder=NEGATIVE_FIRST&page=386',\n",
       " 'https://www.flipkart.com/mi-4a-pro-80-cm-32-inch-hd-ready-led-smart-android-tv/product-reviews/itmfdwh5jyqhmvzg?pid=TVSG22C4DXQRVSTT&lid=LSTTVSG22C4DXQRVSTTJZD2M0&aid=overall&certifiedBuyer=false&sortOrder=NEGATIVE_FIRST&page=387',\n",
       " 'https://www.flipkart.com/mi-4a-pro-80-cm-32-inch-hd-ready-led-smart-android-tv/product-reviews/itmfdwh5jyqhmvzg?pid=TVSG22C4DXQRVSTT&lid=LSTTVSG22C4DXQRVSTTJZD2M0&aid=overall&certifiedBuyer=false&sortOrder=NEGATIVE_FIRST&page=388',\n",
       " 'https://www.flipkart.com/mi-4a-pro-80-cm-32-inch-hd-ready-led-smart-android-tv/product-reviews/itmfdwh5jyqhmvzg?pid=TVSG22C4DXQRVSTT&lid=LSTTVSG22C4DXQRVSTTJZD2M0&aid=overall&certifiedBuyer=false&sortOrder=NEGATIVE_FIRST&page=389',\n",
       " 'https://www.flipkart.com/mi-4a-pro-80-cm-32-inch-hd-ready-led-smart-android-tv/product-reviews/itmfdwh5jyqhmvzg?pid=TVSG22C4DXQRVSTT&lid=LSTTVSG22C4DXQRVSTTJZD2M0&aid=overall&certifiedBuyer=false&sortOrder=NEGATIVE_FIRST&page=390',\n",
       " 'https://www.flipkart.com/mi-4a-pro-80-cm-32-inch-hd-ready-led-smart-android-tv/product-reviews/itmfdwh5jyqhmvzg?pid=TVSG22C4DXQRVSTT&lid=LSTTVSG22C4DXQRVSTTJZD2M0&aid=overall&certifiedBuyer=false&sortOrder=NEGATIVE_FIRST&page=391',\n",
       " 'https://www.flipkart.com/mi-4a-pro-80-cm-32-inch-hd-ready-led-smart-android-tv/product-reviews/itmfdwh5jyqhmvzg?pid=TVSG22C4DXQRVSTT&lid=LSTTVSG22C4DXQRVSTTJZD2M0&aid=overall&certifiedBuyer=false&sortOrder=NEGATIVE_FIRST&page=392',\n",
       " 'https://www.flipkart.com/mi-4a-pro-80-cm-32-inch-hd-ready-led-smart-android-tv/product-reviews/itmfdwh5jyqhmvzg?pid=TVSG22C4DXQRVSTT&lid=LSTTVSG22C4DXQRVSTTJZD2M0&aid=overall&certifiedBuyer=false&sortOrder=NEGATIVE_FIRST&page=393',\n",
       " 'https://www.flipkart.com/mi-4a-pro-80-cm-32-inch-hd-ready-led-smart-android-tv/product-reviews/itmfdwh5jyqhmvzg?pid=TVSG22C4DXQRVSTT&lid=LSTTVSG22C4DXQRVSTTJZD2M0&aid=overall&certifiedBuyer=false&sortOrder=NEGATIVE_FIRST&page=394',\n",
       " 'https://www.flipkart.com/mi-4a-pro-80-cm-32-inch-hd-ready-led-smart-android-tv/product-reviews/itmfdwh5jyqhmvzg?pid=TVSG22C4DXQRVSTT&lid=LSTTVSG22C4DXQRVSTTJZD2M0&aid=overall&certifiedBuyer=false&sortOrder=NEGATIVE_FIRST&page=395',\n",
       " 'https://www.flipkart.com/mi-4a-pro-80-cm-32-inch-hd-ready-led-smart-android-tv/product-reviews/itmfdwh5jyqhmvzg?pid=TVSG22C4DXQRVSTT&lid=LSTTVSG22C4DXQRVSTTJZD2M0&aid=overall&certifiedBuyer=false&sortOrder=NEGATIVE_FIRST&page=396',\n",
       " 'https://www.flipkart.com/mi-4a-pro-80-cm-32-inch-hd-ready-led-smart-android-tv/product-reviews/itmfdwh5jyqhmvzg?pid=TVSG22C4DXQRVSTT&lid=LSTTVSG22C4DXQRVSTTJZD2M0&aid=overall&certifiedBuyer=false&sortOrder=NEGATIVE_FIRST&page=397',\n",
       " 'https://www.flipkart.com/mi-4a-pro-80-cm-32-inch-hd-ready-led-smart-android-tv/product-reviews/itmfdwh5jyqhmvzg?pid=TVSG22C4DXQRVSTT&lid=LSTTVSG22C4DXQRVSTTJZD2M0&aid=overall&certifiedBuyer=false&sortOrder=NEGATIVE_FIRST&page=398',\n",
       " 'https://www.flipkart.com/mi-4a-pro-80-cm-32-inch-hd-ready-led-smart-android-tv/product-reviews/itmfdwh5jyqhmvzg?pid=TVSG22C4DXQRVSTT&lid=LSTTVSG22C4DXQRVSTTJZD2M0&aid=overall&certifiedBuyer=false&sortOrder=NEGATIVE_FIRST&page=399',\n",
       " 'https://www.flipkart.com/mi-4a-pro-80-cm-32-inch-hd-ready-led-smart-android-tv/product-reviews/itmfdwh5jyqhmvzg?pid=TVSG22C4DXQRVSTT&lid=LSTTVSG22C4DXQRVSTTJZD2M0&aid=overall&certifiedBuyer=false&sortOrder=NEGATIVE_FIRST&page=400',\n",
       " 'https://www.flipkart.com/mi-4a-pro-80-cm-32-inch-hd-ready-led-smart-android-tv/product-reviews/itmfdwh5jyqhmvzg?pid=TVSG22C4DXQRVSTT&lid=LSTTVSG22C4DXQRVSTTJZD2M0&aid=overall&certifiedBuyer=false&sortOrder=NEGATIVE_FIRST&page=401',\n",
       " 'https://www.flipkart.com/mi-4a-pro-80-cm-32-inch-hd-ready-led-smart-android-tv/product-reviews/itmfdwh5jyqhmvzg?pid=TVSG22C4DXQRVSTT&lid=LSTTVSG22C4DXQRVSTTJZD2M0&aid=overall&certifiedBuyer=false&sortOrder=NEGATIVE_FIRST&page=402',\n",
       " 'https://www.flipkart.com/mi-4a-pro-80-cm-32-inch-hd-ready-led-smart-android-tv/product-reviews/itmfdwh5jyqhmvzg?pid=TVSG22C4DXQRVSTT&lid=LSTTVSG22C4DXQRVSTTJZD2M0&aid=overall&certifiedBuyer=false&sortOrder=NEGATIVE_FIRST&page=403',\n",
       " 'https://www.flipkart.com/mi-4a-pro-80-cm-32-inch-hd-ready-led-smart-android-tv/product-reviews/itmfdwh5jyqhmvzg?pid=TVSG22C4DXQRVSTT&lid=LSTTVSG22C4DXQRVSTTJZD2M0&aid=overall&certifiedBuyer=false&sortOrder=NEGATIVE_FIRST&page=404',\n",
       " 'https://www.flipkart.com/mi-4a-pro-80-cm-32-inch-hd-ready-led-smart-android-tv/product-reviews/itmfdwh5jyqhmvzg?pid=TVSG22C4DXQRVSTT&lid=LSTTVSG22C4DXQRVSTTJZD2M0&aid=overall&certifiedBuyer=false&sortOrder=NEGATIVE_FIRST&page=405',\n",
       " 'https://www.flipkart.com/mi-4a-pro-80-cm-32-inch-hd-ready-led-smart-android-tv/product-reviews/itmfdwh5jyqhmvzg?pid=TVSG22C4DXQRVSTT&lid=LSTTVSG22C4DXQRVSTTJZD2M0&aid=overall&certifiedBuyer=false&sortOrder=NEGATIVE_FIRST&page=406',\n",
       " 'https://www.flipkart.com/mi-4a-pro-80-cm-32-inch-hd-ready-led-smart-android-tv/product-reviews/itmfdwh5jyqhmvzg?pid=TVSG22C4DXQRVSTT&lid=LSTTVSG22C4DXQRVSTTJZD2M0&aid=overall&certifiedBuyer=false&sortOrder=NEGATIVE_FIRST&page=407',\n",
       " 'https://www.flipkart.com/mi-4a-pro-80-cm-32-inch-hd-ready-led-smart-android-tv/product-reviews/itmfdwh5jyqhmvzg?pid=TVSG22C4DXQRVSTT&lid=LSTTVSG22C4DXQRVSTTJZD2M0&aid=overall&certifiedBuyer=false&sortOrder=NEGATIVE_FIRST&page=408',\n",
       " 'https://www.flipkart.com/mi-4a-pro-80-cm-32-inch-hd-ready-led-smart-android-tv/product-reviews/itmfdwh5jyqhmvzg?pid=TVSG22C4DXQRVSTT&lid=LSTTVSG22C4DXQRVSTTJZD2M0&aid=overall&certifiedBuyer=false&sortOrder=NEGATIVE_FIRST&page=409',\n",
       " 'https://www.flipkart.com/mi-4a-pro-80-cm-32-inch-hd-ready-led-smart-android-tv/product-reviews/itmfdwh5jyqhmvzg?pid=TVSG22C4DXQRVSTT&lid=LSTTVSG22C4DXQRVSTTJZD2M0&aid=overall&certifiedBuyer=false&sortOrder=NEGATIVE_FIRST&page=410',\n",
       " 'https://www.flipkart.com/mi-4a-pro-80-cm-32-inch-hd-ready-led-smart-android-tv/product-reviews/itmfdwh5jyqhmvzg?pid=TVSG22C4DXQRVSTT&lid=LSTTVSG22C4DXQRVSTTJZD2M0&aid=overall&certifiedBuyer=false&sortOrder=NEGATIVE_FIRST&page=411',\n",
       " 'https://www.flipkart.com/mi-4a-pro-80-cm-32-inch-hd-ready-led-smart-android-tv/product-reviews/itmfdwh5jyqhmvzg?pid=TVSG22C4DXQRVSTT&lid=LSTTVSG22C4DXQRVSTTJZD2M0&aid=overall&certifiedBuyer=false&sortOrder=NEGATIVE_FIRST&page=412',\n",
       " 'https://www.flipkart.com/mi-4a-pro-80-cm-32-inch-hd-ready-led-smart-android-tv/product-reviews/itmfdwh5jyqhmvzg?pid=TVSG22C4DXQRVSTT&lid=LSTTVSG22C4DXQRVSTTJZD2M0&aid=overall&certifiedBuyer=false&sortOrder=NEGATIVE_FIRST&page=413',\n",
       " 'https://www.flipkart.com/mi-4a-pro-80-cm-32-inch-hd-ready-led-smart-android-tv/product-reviews/itmfdwh5jyqhmvzg?pid=TVSG22C4DXQRVSTT&lid=LSTTVSG22C4DXQRVSTTJZD2M0&aid=overall&certifiedBuyer=false&sortOrder=NEGATIVE_FIRST&page=414',\n",
       " 'https://www.flipkart.com/mi-4a-pro-80-cm-32-inch-hd-ready-led-smart-android-tv/product-reviews/itmfdwh5jyqhmvzg?pid=TVSG22C4DXQRVSTT&lid=LSTTVSG22C4DXQRVSTTJZD2M0&aid=overall&certifiedBuyer=false&sortOrder=NEGATIVE_FIRST&page=415',\n",
       " 'https://www.flipkart.com/mi-4a-pro-80-cm-32-inch-hd-ready-led-smart-android-tv/product-reviews/itmfdwh5jyqhmvzg?pid=TVSG22C4DXQRVSTT&lid=LSTTVSG22C4DXQRVSTTJZD2M0&aid=overall&certifiedBuyer=false&sortOrder=NEGATIVE_FIRST&page=416',\n",
       " 'https://www.flipkart.com/mi-4a-pro-80-cm-32-inch-hd-ready-led-smart-android-tv/product-reviews/itmfdwh5jyqhmvzg?pid=TVSG22C4DXQRVSTT&lid=LSTTVSG22C4DXQRVSTTJZD2M0&aid=overall&certifiedBuyer=false&sortOrder=NEGATIVE_FIRST&page=417']"
      ]
     },
     "execution_count": 280,
     "metadata": {},
     "output_type": "execute_result"
    }
   ],
   "source": [
    "urls"
   ]
  },
  {
   "cell_type": "code",
   "execution_count": 281,
   "metadata": {},
   "outputs": [],
   "source": [
    "url = []\n",
    "for i in urls:\n",
    "    if i not in url:\n",
    "        url.append(i)"
   ]
  },
  {
   "cell_type": "code",
   "execution_count": 282,
   "metadata": {},
   "outputs": [
    {
     "data": {
      "text/plain": [
       "118"
      ]
     },
     "execution_count": 282,
     "metadata": {},
     "output_type": "execute_result"
    }
   ],
   "source": [
    "len(url)"
   ]
  },
  {
   "cell_type": "code",
   "execution_count": 283,
   "metadata": {},
   "outputs": [
    {
     "name": "stderr",
     "output_type": "stream",
     "text": [
      "100%|████████████████████████████████████████████████████████████████████████████████| 118/118 [02:47<00:00,  1.42s/it]\n"
     ]
    }
   ],
   "source": [
    "rating=[]\n",
    "full_review=[]\n",
    "for i in tqdm(url):\n",
    "    \n",
    "    driver.get(i)\n",
    "    \n",
    "    rate= driver.find_elements_by_xpath('//div[@class=\"col _2wzgFH K0kLPL\"]/div[1]/div')\n",
    "    \n",
    "    for r in rate:\n",
    "        rating.append(r.text)\n",
    "        \n",
    "    review=driver.find_elements_by_xpath('//div[@class=\"t-ZTKy\"]')\n",
    "    for i in review:\n",
    "        full_review.append(i.text)"
   ]
  },
  {
   "cell_type": "code",
   "execution_count": 285,
   "metadata": {},
   "outputs": [
    {
     "data": {
      "text/html": [
       "<div>\n",
       "<style scoped>\n",
       "    .dataframe tbody tr th:only-of-type {\n",
       "        vertical-align: middle;\n",
       "    }\n",
       "\n",
       "    .dataframe tbody tr th {\n",
       "        vertical-align: top;\n",
       "    }\n",
       "\n",
       "    .dataframe thead th {\n",
       "        text-align: right;\n",
       "    }\n",
       "</style>\n",
       "<table border=\"1\" class=\"dataframe\">\n",
       "  <thead>\n",
       "    <tr style=\"text-align: right;\">\n",
       "      <th></th>\n",
       "      <th>rating</th>\n",
       "      <th>review</th>\n",
       "    </tr>\n",
       "  </thead>\n",
       "  <tbody>\n",
       "    <tr>\n",
       "      <th>0</th>\n",
       "      <td>2</td>\n",
       "      <td>Tv display is bad</td>\n",
       "    </tr>\n",
       "    <tr>\n",
       "      <th>1</th>\n",
       "      <td>2</td>\n",
       "      <td>Very bed product</td>\n",
       "    </tr>\n",
       "    <tr>\n",
       "      <th>2</th>\n",
       "      <td>2</td>\n",
       "      <td>TECHNICAN took a photo of the bill even though...</td>\n",
       "    </tr>\n",
       "    <tr>\n",
       "      <th>3</th>\n",
       "      <td>2</td>\n",
       "      <td>Worst tv it's turning red on corner and it's s...</td>\n",
       "    </tr>\n",
       "    <tr>\n",
       "      <th>4</th>\n",
       "      <td>2</td>\n",
       "      <td>Installation too much time</td>\n",
       "    </tr>\n",
       "    <tr>\n",
       "      <th>...</th>\n",
       "      <td>...</td>\n",
       "      <td>...</td>\n",
       "    </tr>\n",
       "    <tr>\n",
       "      <th>1175</th>\n",
       "      <td>3</td>\n",
       "      <td>The tv looks great and have amazing features. ...</td>\n",
       "    </tr>\n",
       "    <tr>\n",
       "      <th>1176</th>\n",
       "      <td>3</td>\n",
       "      <td>The TV reached me in good condition and delive...</td>\n",
       "    </tr>\n",
       "    <tr>\n",
       "      <th>1177</th>\n",
       "      <td>3</td>\n",
       "      <td>honest comment...\\n1) Pictures are dull as com...</td>\n",
       "    </tr>\n",
       "    <tr>\n",
       "      <th>1178</th>\n",
       "      <td>3</td>\n",
       "      <td>this is the best tv i ever had,very good price...</td>\n",
       "    </tr>\n",
       "    <tr>\n",
       "      <th>1179</th>\n",
       "      <td>3</td>\n",
       "      <td>Feature rich on paper but not smart enough as ...</td>\n",
       "    </tr>\n",
       "  </tbody>\n",
       "</table>\n",
       "<p>1180 rows × 2 columns</p>\n",
       "</div>"
      ],
      "text/plain": [
       "     rating                                             review\n",
       "0         2                                  Tv display is bad\n",
       "1         2                                   Very bed product\n",
       "2         2  TECHNICAN took a photo of the bill even though...\n",
       "3         2  Worst tv it's turning red on corner and it's s...\n",
       "4         2                         Installation too much time\n",
       "...     ...                                                ...\n",
       "1175      3  The tv looks great and have amazing features. ...\n",
       "1176      3  The TV reached me in good condition and delive...\n",
       "1177      3  honest comment...\\n1) Pictures are dull as com...\n",
       "1178      3  this is the best tv i ever had,very good price...\n",
       "1179      3  Feature rich on paper but not smart enough as ...\n",
       "\n",
       "[1180 rows x 2 columns]"
      ]
     },
     "execution_count": 285,
     "metadata": {},
     "output_type": "execute_result"
    }
   ],
   "source": [
    "df5=pd.DataFrame({\"rating\":rating,\"review\":full_review})\n",
    "df5"
   ]
  },
  {
   "cell_type": "code",
   "execution_count": 287,
   "metadata": {},
   "outputs": [
    {
     "data": {
      "text/plain": [
       "2    1073\n",
       "3     107\n",
       "Name: rating, dtype: int64"
      ]
     },
     "execution_count": 287,
     "metadata": {},
     "output_type": "execute_result"
    }
   ],
   "source": [
    "df5['rating'].value_counts()"
   ]
  },
  {
   "cell_type": "code",
   "execution_count": 288,
   "metadata": {},
   "outputs": [],
   "source": [
    "data=pd.concat([new_df,df5])"
   ]
  },
  {
   "cell_type": "code",
   "execution_count": 291,
   "metadata": {},
   "outputs": [
    {
     "data": {
      "text/plain": [
       "5.0 out of 5 stars    6263\n",
       "1.0 out of 5 stars    4649\n",
       "2                     3284\n",
       "3                     3096\n",
       "4.0 out of 5 stars    2455\n",
       "4                     1623\n",
       "3.0 out of 5 stars    1352\n",
       "2.0 out of 5 stars     813\n",
       "5                        1\n",
       "Name: rating, dtype: int64"
      ]
     },
     "execution_count": 291,
     "metadata": {},
     "output_type": "execute_result"
    }
   ],
   "source": [
    "data['rating'].value_counts()"
   ]
  },
  {
   "cell_type": "code",
   "execution_count": 294,
   "metadata": {},
   "outputs": [],
   "source": [
    "data['rating']=data['rating'].map({\"1.0 out of 5 stars\":1,\"2.0 out of 5 stars\":2,\"3.0 out of 5 stars\":3,\n",
    "                                      \"4.0 out of 5 stars\":4,\"5.0 out of 5 stars\":5,\"5\":5,\"4\":4,\"3\":3,\"2\":2})"
   ]
  },
  {
   "cell_type": "code",
   "execution_count": 295,
   "metadata": {
    "scrolled": true
   },
   "outputs": [
    {
     "data": {
      "text/plain": [
       "5    6264\n",
       "1    4649\n",
       "3    4448\n",
       "2    4097\n",
       "4    4078\n",
       "Name: rating, dtype: int64"
      ]
     },
     "execution_count": 295,
     "metadata": {},
     "output_type": "execute_result"
    }
   ],
   "source": [
    "data['rating'].value_counts()"
   ]
  },
  {
   "cell_type": "code",
   "execution_count": 296,
   "metadata": {},
   "outputs": [],
   "source": [
    "data.to_csv('scrape_data.csv')"
   ]
  },
  {
   "cell_type": "code",
   "execution_count": null,
   "metadata": {},
   "outputs": [],
   "source": []
  },
  {
   "cell_type": "code",
   "execution_count": 297,
   "metadata": {},
   "outputs": [],
   "source": [
    "driver.close()"
   ]
  },
  {
   "cell_type": "code",
   "execution_count": null,
   "metadata": {},
   "outputs": [],
   "source": []
  },
  {
   "cell_type": "code",
   "execution_count": null,
   "metadata": {},
   "outputs": [],
   "source": []
  }
 ],
 "metadata": {
  "kernelspec": {
   "display_name": "Python 3",
   "language": "python",
   "name": "python3"
  },
  "language_info": {
   "codemirror_mode": {
    "name": "ipython",
    "version": 3
   },
   "file_extension": ".py",
   "mimetype": "text/x-python",
   "name": "python",
   "nbconvert_exporter": "python",
   "pygments_lexer": "ipython3",
   "version": "3.8.5"
  }
 },
 "nbformat": 4,
 "nbformat_minor": 4
}
